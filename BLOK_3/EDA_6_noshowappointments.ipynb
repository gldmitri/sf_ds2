{
  "cells": [
    {
      "cell_type": "markdown",
      "metadata": {
        "id": "aUAqi67vLzhL"
      },
      "source": [
        "# Импорт библиотек"
      ]
    },
    {
      "cell_type": "code",
      "execution_count": 1,
      "metadata": {
        "id": "lXinfUuSL6Og"
      },
      "outputs": [],
      "source": [
        "import pandas as pd \n",
        "\n",
        "import matplotlib.pyplot as plt\n",
        "%matplotlib inline"
      ]
    },
    {
      "cell_type": "markdown",
      "metadata": {
        "id": "y3290WaEMCCM"
      },
      "source": [
        "# Загрузка данных"
      ]
    },
    {
      "cell_type": "code",
      "execution_count": 2,
      "metadata": {
        "id": "VbAf186tLgqb"
      },
      "outputs": [],
      "source": [
        "df = pd.read_csv('C:\\\\Users\\\\Glavatskih-DE\\\\Downloads\\\\PY_kurs\\\\CSV\\\\med_archive.zip')    # ./KaggleV2-May-2016.csv"
      ]
    },
    {
      "cell_type": "markdown",
      "metadata": {
        "id": "CbSItK55MhHO"
      },
      "source": [
        "# Разведочный анализ данных"
      ]
    },
    {
      "cell_type": "code",
      "execution_count": null,
      "metadata": {
        "colab": {
          "base_uri": "https://localhost:8080/"
        },
        "id": "byqz3x6DMk63",
        "outputId": "231cbfc1-b316-4ff3-b949-4598bdc17d3c"
      },
      "outputs": [
        {
          "name": "stdout",
          "output_type": "stream",
          "text": [
            "<class 'pandas.core.frame.DataFrame'>\n",
            "RangeIndex: 110527 entries, 0 to 110526\n",
            "Data columns (total 14 columns):\n",
            " #   Column          Non-Null Count   Dtype  \n",
            "---  ------          --------------   -----  \n",
            " 0   PatientId       110527 non-null  float64\n",
            " 1   AppointmentID   110527 non-null  int64  \n",
            " 2   Gender          110527 non-null  object \n",
            " 3   ScheduledDay    110527 non-null  object \n",
            " 4   AppointmentDay  110527 non-null  object \n",
            " 5   Age             110527 non-null  int64  \n",
            " 6   Neighbourhood   110527 non-null  object \n",
            " 7   Scholarship     110527 non-null  int64  \n",
            " 8   Hipertension    110527 non-null  int64  \n",
            " 9   Diabetes        110527 non-null  int64  \n",
            " 10  Alcoholism      110527 non-null  int64  \n",
            " 11  Handcap         110527 non-null  int64  \n",
            " 12  SMS_received    110527 non-null  int64  \n",
            " 13  No-show         110527 non-null  object \n",
            "dtypes: float64(1), int64(8), object(5)\n",
            "memory usage: 11.8+ MB\n"
          ]
        }
      ],
      "source": [
        "df.info()"
      ]
    },
    {
      "cell_type": "markdown",
      "metadata": {
        "id": "7-aazemYM-Vl"
      },
      "source": [
        "## Анализ целевой переменной"
      ]
    },
    {
      "cell_type": "markdown",
      "metadata": {
        "id": "lFZC8lEyNBuU"
      },
      "source": [
        "*Каково соотношение людей, которые пропускают приемы, к тем, кто этого не делает?*"
      ]
    },
    {
      "cell_type": "code",
      "execution_count": 3,
      "metadata": {
        "colab": {
          "base_uri": "https://localhost:8080/",
          "height": 281
        },
        "id": "12ZjGZ0TMnk2",
        "outputId": "9eb67907-0892-4ced-fff6-a03f473848c1"
      },
      "outputs": [
        {
          "data": {
            "image/png": "[encoded data removed]",
            "text/plain": [
              "<Figure size 800x400 with 1 Axes>"
            ]
          },
          "metadata": {},
          "output_type": "display_data"
        }
      ],
      "source": [
        "plt.figure(figsize=(8,4))\n",
        "df['No-show'].hist()\n",
        "plt.title('Соотношение людей, которые пропускают приемы, к тем, кто этого не делает');"
      ]
    },
    {
      "cell_type": "code",
      "execution_count": 4,
      "metadata": {
        "colab": {
          "base_uri": "https://localhost:8080/"
        },
        "id": "YMIdOMMlM2Nj",
        "outputId": "345ac524-5dc5-494d-8690-a9d24bf6afaf"
      },
      "outputs": [
        {
          "data": {
            "text/plain": [
              "No     0.798067\n",
              "Yes    0.201933\n",
              "Name: No-show, dtype: float64"
            ]
          },
          "execution_count": 4,
          "metadata": {},
          "output_type": "execute_result"
        }
      ],
      "source": [
        "df['No-show'].value_counts(True)"
      ]
    },
    {
      "cell_type": "markdown",
      "metadata": {
        "id": "i0_mDi5PNK3F"
      },
      "source": [
        "*Кто не появляется чаще — мужчины или женщины?*"
      ]
    },
    {
      "cell_type": "code",
      "execution_count": 5,
      "metadata": {
        "colab": {
          "base_uri": "https://localhost:8080/"
        },
        "id": "HfaaoU_hNNc0",
        "outputId": "8ad1c8c7-8a05-465a-c045-effde695277a"
      },
      "outputs": [
        {
          "data": {
            "text/plain": [
              "F    0.653882\n",
              "M    0.346118\n",
              "Name: Gender, dtype: float64"
            ]
          },
          "execution_count": 5,
          "metadata": {},
          "output_type": "execute_result"
        }
      ],
      "source": [
        "df[df['No-show']=='Yes']['Gender'].value_counts(True)"
      ]
    },
    {
      "cell_type": "markdown",
      "metadata": {
        "id": "T-ZVTCNqREyf"
      },
      "source": [
        "# Предобработка данных"
      ]
    },
    {
      "cell_type": "markdown",
      "metadata": {
        "id": "-MTeSfLtRNCY"
      },
      "source": [
        "**Кодировка категориальных признаков**"
      ]
    },
    {
      "cell_type": "code",
      "execution_count": 6,
      "metadata": {
        "id": "V57puJtWRI7J"
      },
      "outputs": [],
      "source": [
        "categorical_columns_names = ['Gender', 'Neighbourhood']"
      ]
    },
    {
      "cell_type": "code",
      "execution_count": 7,
      "metadata": {
        "colab": {
          "base_uri": "https://localhost:8080/"
        },
        "id": "DYOwj0IrRJkR",
        "outputId": "74da030c-2ca5-4175-c72f-2a26fe9a2df9"
      },
      "outputs": [],
      "source": [
        "encoded_columns = pd.get_dummies(df, columns = categorical_columns_names)"
      ]
    },
    {
      "cell_type": "markdown",
      "metadata": {
        "id": "0CDTkCZURkyh"
      },
      "source": [
        "**Обработка пропусков в данных**"
      ]
    },
    {
      "cell_type": "code",
      "execution_count": 8,
      "metadata": {
        "colab": {
          "base_uri": "https://localhost:8080/"
        },
        "id": "FJApkB5qRnLC",
        "outputId": "6b9f72b8-e10d-4050-cd94-35afbacba01f"
      },
      "outputs": [
        {
          "data": {
            "text/plain": [
              "PatientId         0\n",
              "AppointmentID     0\n",
              "Gender            0\n",
              "ScheduledDay      0\n",
              "AppointmentDay    0\n",
              "Age               0\n",
              "Neighbourhood     0\n",
              "Scholarship       0\n",
              "Hipertension      0\n",
              "Diabetes          0\n",
              "Alcoholism        0\n",
              "Handcap           0\n",
              "SMS_received      0\n",
              "No-show           0\n",
              "dtype: int64"
            ]
          },
          "execution_count": 8,
          "metadata": {},
          "output_type": "execute_result"
        }
      ],
      "source": [
        "df.isnull().sum()"
      ]
    },
    {
      "cell_type": "markdown",
      "metadata": {
        "id": "7pYZHfoGRzEc"
      },
      "source": [
        "Нам повезло — в нашем наборе данных нет нулевых значений."
      ]
    },
    {
      "cell_type": "code",
      "execution_count": 9,
      "metadata": {
        "id": "YDWVxW4sRpLD"
      },
      "outputs": [],
      "source": [
        "import logging"
      ]
    },
    {
      "cell_type": "code",
      "execution_count": 13,
      "metadata": {},
      "outputs": [
        {
          "name": "stderr",
          "output_type": "stream",
          "text": [
            "DEBUG:root:This is a debug message\n",
            "INFO:root:This is an informational message\n",
            "WARNING:root:This message is a warning\n",
            "ERROR:root:This is an error message\n",
            "CRITICAL:root:This is a critical message\n"
          ]
        }
      ],
      "source": [
        "logging.debug('This is a debug message')\n",
        "logging.info('This is an informational message')\n",
        "logging.warning('This message is a warning')\n",
        "logging.error('This is an error message')\n",
        "logging.critical('This is a critical message')"
      ]
    },
    {
      "cell_type": "code",
      "execution_count": 11,
      "metadata": {},
      "outputs": [
        {
          "data": {
            "text/plain": [
              "<module 'logging' from 'c:\\\\Users\\\\Glavatskih-DE\\\\AppData\\\\Local\\\\Programs\\\\Python\\\\Python310\\\\lib\\\\logging\\\\__init__.py'>"
            ]
          },
          "execution_count": 11,
          "metadata": {},
          "output_type": "execute_result"
        }
      ],
      "source": [
        "from importlib import reload\n",
        "import logging\n",
        "reload(logging)"
      ]
    },
    {
      "cell_type": "code",
      "execution_count": 12,
      "metadata": {},
      "outputs": [],
      "source": [
        "logging.basicConfig(level=logging.DEBUG)"
      ]
    },
    {
      "cell_type": "code",
      "execution_count": 14,
      "metadata": {},
      "outputs": [
        {
          "data": {
            "text/plain": [
              "<FileHandler C:\\Users\\Glavatskih-DE\\Downloads\\PY_kurs\\CSV\\log_file.log (NOTSET)>"
            ]
          },
          "execution_count": 14,
          "metadata": {},
          "output_type": "execute_result"
        }
      ],
      "source": [
        "logging.FileHandler('C:\\\\Users\\\\Glavatskih-DE\\\\Downloads\\\\PY_kurs\\\\CSV\\\\log_file.log')"
      ]
    },
    {
      "cell_type": "code",
      "execution_count": 15,
      "metadata": {},
      "outputs": [
        {
          "name": "stderr",
          "output_type": "stream",
          "text": [
            "INFO: 2023-04-03 17:58:43,992: Check\n"
          ]
        }
      ],
      "source": [
        "from importlib import reload\n",
        "import logging\n",
        "reload(logging)\n",
        " \n",
        "logging.basicConfig(\n",
        "    format=\"%(levelname)s: %(asctime)s: %(message)s\",\n",
        "    level=logging.DEBUG\n",
        ")\n",
        "logging.info('Check')"
      ]
    },
    {
      "cell_type": "code",
      "execution_count": 16,
      "metadata": {},
      "outputs": [],
      "source": [
        "import os.path\n",
        "\n",
        "# Функция для создания лог-файла и записи в него информации\n",
        "def get_logger(path, file):\n",
        "  \"\"\"[Создает лог-файл для логирования в него]\n",
        "  Аргументы:\n",
        "      path {string} -- путь к директории\n",
        "      file {string} -- имя файла\n",
        "   Возвращает:\n",
        "      [obj] -- [логер]\n",
        "  \"\"\"\n",
        "  # проверяем, существует ли файл\n",
        "  log_file = os.path.join(path, file)\n",
        " \n",
        "  #если  файла нет, создаем его\n",
        "  if not os.path.isfile(log_file):\n",
        "      open(log_file, \"w+\").close()\n",
        "  \n",
        "  # поменяем формат логирования\n",
        "  file_logging_format = \"%(levelname)s: %(asctime)s: %(message)s\"\n",
        "  \n",
        "  # конфигурируем лог-файл\n",
        "  logging.basicConfig(level=logging.INFO, \n",
        "  format = file_logging_format)\n",
        "  logger = logging.getLogger()\n",
        "  \n",
        "  # создадим хэнлдер для записи лога в файл\n",
        "  handler = logging.FileHandler(log_file)\n",
        "  \n",
        "  # установим уровень логирования\n",
        "  handler.setLevel(logging.INFO)\n",
        "  \n",
        "  # создадим формат логирования, используя file_logging_format\n",
        "  formatter = logging.Formatter(file_logging_format)\n",
        "  handler.setFormatter(formatter)\n",
        "  \n",
        "  # добавим хэндлер лог-файлу\n",
        "  logger.addHandler(handler)\n",
        "  return logger"
      ]
    },
    {
      "cell_type": "code",
      "execution_count": 17,
      "metadata": {},
      "outputs": [
        {
          "name": "stderr",
          "output_type": "stream",
          "text": [
            "INFO: 2023-04-03 18:02:04,271: Data\n",
            "INFO: 2023-04-03 18:02:04,273: Data shape (110527, 14)\n",
            "INFO: 2023-04-03 18:02:04,290: Percentage of women: 0.653882342398853\n",
            "INFO: 2023-04-03 18:02:04,305: Percentage of men: 0.346117657601147\n"
          ]
        }
      ],
      "source": [
        "# создаем лог-файл\n",
        "logger = get_logger(path=\"C:\\\\Users\\\\Glavatskih-DE\\\\Downloads\\\\PY_kurs\\\\CSV\", file=\"data.logs\")\n",
        "\n",
        "logger.info(\"Data\")\n",
        "\n",
        "logger.info(\"Data shape {}\".format(df.shape))\n",
        "\n",
        "logger.info(\"Percentage of women: {}\".format(df[df['No-show']=='Yes']['Gender'].value_counts(True)[0]))\n",
        "\n",
        "logger.info(\"Percentage of men: {}\".format(df[df['No-show']=='Yes']['Gender'].value_counts(True)[1]))"
      ]
    },
    {
      "cell_type": "code",
      "execution_count": 18,
      "metadata": {},
      "outputs": [
        {
          "name": "stderr",
          "output_type": "stream",
          "text": [
            "ERROR: 2023-04-03 18:03:19,250: Data shape is incorrect!\n"
          ]
        }
      ],
      "source": [
        "if df.shape != (110526,14):\n",
        " logger.error('Data shape is incorrect!')"
      ]
    },
    {
      "cell_type": "code",
      "execution_count": null,
      "metadata": {},
      "outputs": [
        {
          "name": "stderr",
          "output_type": "stream",
          "text": [
            "DEBUG: 2023-04-03 18:32:27,250: No INI file found: []\n",
            "DEBUG: 2023-04-03 18:32:27,253: No INI file found: ['./.comet.config']\n",
            "DEBUG: 2023-04-03 18:32:27,259: No INI file found: ['/content/drive/MyDrive/.comet.config']\n",
            "DEBUG: 2023-04-03 18:32:27,263: No INI file found: ['~/.comet.config']\n",
            "DEBUG: 2023-04-03 18:32:27,264: Looking up key: hide_api_key, namespace: ['comet', 'logging']\n",
            "DEBUG: 2023-04-03 18:32:27,265: Searching <ConfigOSEnv> for COMET_LOGGING_HIDE_API_KEY\n",
            "DEBUG: 2023-04-03 18:32:27,266: Searching <ConfigEnvFileEnv: None> for COMET_LOGGING_HIDE_API_KEY\n",
            "DEBUG: 2023-04-03 18:32:27,267: Searching <ConfigDictEnv: {}> for COMET_LOGGING_HIDE_API_KEY\n",
            "DEBUG: 2023-04-03 18:32:27,267: Found nothing--returning NO_VALUE\n",
            "DEBUG: 2023-04-03 18:32:27,270: No INI file found: []\n",
            "DEBUG: 2023-04-03 18:32:27,273: No INI file found: ['./.comet.config']\n",
            "DEBUG: 2023-04-03 18:32:27,276: No INI file found: ['/content/drive/MyDrive/.comet.config']\n",
            "DEBUG: 2023-04-03 18:32:27,278: No INI file found: ['~/.comet.config']\n",
            "DEBUG: 2023-04-03 18:32:27,279: Looking up key: display_summary, namespace: ['comet']\n",
            "DEBUG: 2023-04-03 18:32:27,280: Searching <ConfigOSEnv> for COMET_DISPLAY_SUMMARY\n",
            "DEBUG: 2023-04-03 18:32:27,281: Searching <ConfigEnvFileEnv: None> for COMET_DISPLAY_SUMMARY\n",
            "DEBUG: 2023-04-03 18:32:27,282: Searching <ConfigDictEnv: {}> for COMET_DISPLAY_SUMMARY\n",
            "DEBUG: 2023-04-03 18:32:27,284: Found nothing--returning NO_VALUE\n",
            "DEBUG: 2023-04-03 18:32:27,284: Looking up key: display_summary_level, namespace: ['comet']\n",
            "DEBUG: 2023-04-03 18:32:27,286: Searching <ConfigOSEnv> for COMET_DISPLAY_SUMMARY_LEVEL\n",
            "DEBUG: 2023-04-03 18:32:27,288: Searching <ConfigEnvFileEnv: None> for COMET_DISPLAY_SUMMARY_LEVEL\n",
            "DEBUG: 2023-04-03 18:32:27,290: Searching <ConfigDictEnv: {}> for COMET_DISPLAY_SUMMARY_LEVEL\n",
            "DEBUG: 2023-04-03 18:32:27,292: Found nothing--returning NO_VALUE\n",
            "DEBUG: 2023-04-03 18:32:27,292: Looking up key: code, namespace: ['comet', 'auto_log']\n",
            "DEBUG: 2023-04-03 18:32:27,294: Searching <ConfigOSEnv> for COMET_AUTO_LOG_CODE\n",
            "DEBUG: 2023-04-03 18:32:27,294: Searching <ConfigEnvFileEnv: None> for COMET_AUTO_LOG_CODE\n",
            "DEBUG: 2023-04-03 18:32:27,295: Searching <ConfigDictEnv: {}> for COMET_AUTO_LOG_CODE\n",
            "DEBUG: 2023-04-03 18:32:27,296: Found nothing--returning NO_VALUE\n",
            "DEBUG: 2023-04-03 18:32:27,297: Looking up key: graph, namespace: ['comet', 'auto_log']\n",
            "DEBUG: 2023-04-03 18:32:27,298: Searching <ConfigOSEnv> for COMET_AUTO_LOG_GRAPH\n",
            "DEBUG: 2023-04-03 18:32:27,299: Searching <ConfigEnvFileEnv: None> for COMET_AUTO_LOG_GRAPH\n",
            "DEBUG: 2023-04-03 18:32:27,300: Searching <ConfigDictEnv: {}> for COMET_AUTO_LOG_GRAPH\n",
            "DEBUG: 2023-04-03 18:32:27,302: Found nothing--returning NO_VALUE\n",
            "DEBUG: 2023-04-03 18:32:27,305: Looking up key: parameters, namespace: ['comet', 'auto_log']\n",
            "DEBUG: 2023-04-03 18:32:27,305: Searching <ConfigOSEnv> for COMET_AUTO_LOG_PARAMETERS\n",
            "DEBUG: 2023-04-03 18:32:27,306: Searching <ConfigEnvFileEnv: None> for COMET_AUTO_LOG_PARAMETERS\n",
            "DEBUG: 2023-04-03 18:32:27,308: Searching <ConfigDictEnv: {}> for COMET_AUTO_LOG_PARAMETERS\n",
            "DEBUG: 2023-04-03 18:32:27,309: Found nothing--returning NO_VALUE\n",
            "DEBUG: 2023-04-03 18:32:27,310: Looking up key: metrics, namespace: ['comet', 'auto_log']\n",
            "DEBUG: 2023-04-03 18:32:27,312: Searching <ConfigOSEnv> for COMET_AUTO_LOG_METRICS\n",
            "DEBUG: 2023-04-03 18:32:27,312: Searching <ConfigEnvFileEnv: None> for COMET_AUTO_LOG_METRICS\n",
            "DEBUG: 2023-04-03 18:32:27,313: Searching <ConfigDictEnv: {}> for COMET_AUTO_LOG_METRICS\n",
            "DEBUG: 2023-04-03 18:32:27,313: Found nothing--returning NO_VALUE\n",
            "DEBUG: 2023-04-03 18:32:27,315: Looking up key: cli_arguments, namespace: ['comet', 'auto_log']\n",
            "DEBUG: 2023-04-03 18:32:27,316: Searching <ConfigOSEnv> for COMET_AUTO_LOG_CLI_ARGUMENTS\n",
            "DEBUG: 2023-04-03 18:32:27,317: Searching <ConfigEnvFileEnv: None> for COMET_AUTO_LOG_CLI_ARGUMENTS\n",
            "DEBUG: 2023-04-03 18:32:27,319: Searching <ConfigDictEnv: {}> for COMET_AUTO_LOG_CLI_ARGUMENTS\n",
            "DEBUG: 2023-04-03 18:32:27,321: Found nothing--returning NO_VALUE\n",
            "DEBUG: 2023-04-03 18:32:27,322: Looking up key: env_details, namespace: ['comet', 'auto_log']\n",
            "DEBUG: 2023-04-03 18:32:27,323: Searching <ConfigOSEnv> for COMET_AUTO_LOG_ENV_DETAILS\n",
            "DEBUG: 2023-04-03 18:32:27,324: Searching <ConfigEnvFileEnv: None> for COMET_AUTO_LOG_ENV_DETAILS\n",
            "DEBUG: 2023-04-03 18:32:27,324: Searching <ConfigDictEnv: {}> for COMET_AUTO_LOG_ENV_DETAILS\n",
            "DEBUG: 2023-04-03 18:32:27,325: Found nothing--returning NO_VALUE\n",
            "DEBUG: 2023-04-03 18:32:27,326: Looking up key: git_metadata, namespace: ['comet', 'auto_log']\n",
            "DEBUG: 2023-04-03 18:32:27,328: Searching <ConfigOSEnv> for COMET_AUTO_LOG_GIT_METADATA\n",
            "DEBUG: 2023-04-03 18:32:27,328: Searching <ConfigEnvFileEnv: None> for COMET_AUTO_LOG_GIT_METADATA\n",
            "DEBUG: 2023-04-03 18:32:27,330: Searching <ConfigDictEnv: {}> for COMET_AUTO_LOG_GIT_METADATA\n",
            "DEBUG: 2023-04-03 18:32:27,332: Found nothing--returning NO_VALUE\n",
            "DEBUG: 2023-04-03 18:32:27,332: Looking up key: git_patch, namespace: ['comet', 'auto_log']\n",
            "DEBUG: 2023-04-03 18:32:27,333: Searching <ConfigOSEnv> for COMET_AUTO_LOG_GIT_PATCH\n",
            "DEBUG: 2023-04-03 18:32:27,334: Searching <ConfigEnvFileEnv: None> for COMET_AUTO_LOG_GIT_PATCH\n",
            "DEBUG: 2023-04-03 18:32:27,336: Searching <ConfigDictEnv: {}> for COMET_AUTO_LOG_GIT_PATCH\n",
            "DEBUG: 2023-04-03 18:32:27,338: Found nothing--returning NO_VALUE\n",
            "DEBUG: 2023-04-03 18:32:27,339: Looking up key: disable, namespace: ['comet', 'auto_log']\n",
            "DEBUG: 2023-04-03 18:32:27,340: Searching <ConfigOSEnv> for COMET_AUTO_LOG_DISABLE\n",
            "DEBUG: 2023-04-03 18:32:27,342: Searching <ConfigEnvFileEnv: None> for COMET_AUTO_LOG_DISABLE\n",
            "DEBUG: 2023-04-03 18:32:27,343: Searching <ConfigDictEnv: {}> for COMET_AUTO_LOG_DISABLE\n",
            "DEBUG: 2023-04-03 18:32:27,344: Found nothing--returning NO_VALUE\n",
            "DEBUG: 2023-04-03 18:32:27,346: Looking up key: env_gpu, namespace: ['comet', 'auto_log']\n",
            "DEBUG: 2023-04-03 18:32:27,348: Searching <ConfigOSEnv> for COMET_AUTO_LOG_ENV_GPU\n",
            "DEBUG: 2023-04-03 18:32:27,349: Searching <ConfigEnvFileEnv: None> for COMET_AUTO_LOG_ENV_GPU\n",
            "DEBUG: 2023-04-03 18:32:27,350: Searching <ConfigDictEnv: {}> for COMET_AUTO_LOG_ENV_GPU\n",
            "DEBUG: 2023-04-03 18:32:27,351: Found nothing--returning NO_VALUE\n",
            "DEBUG: 2023-04-03 18:32:27,352: Looking up key: env_host, namespace: ['comet', 'auto_log']\n",
            "DEBUG: 2023-04-03 18:32:27,357: Searching <ConfigOSEnv> for COMET_AUTO_LOG_ENV_HOST\n",
            "DEBUG: 2023-04-03 18:32:27,360: Searching <ConfigEnvFileEnv: None> for COMET_AUTO_LOG_ENV_HOST\n",
            "DEBUG: 2023-04-03 18:32:27,361: Searching <ConfigDictEnv: {}> for COMET_AUTO_LOG_ENV_HOST\n",
            "DEBUG: 2023-04-03 18:32:27,362: Found nothing--returning NO_VALUE\n",
            "DEBUG: 2023-04-03 18:32:27,363: Looking up key: env_cpu, namespace: ['comet', 'auto_log']\n",
            "DEBUG: 2023-04-03 18:32:27,364: Searching <ConfigOSEnv> for COMET_AUTO_LOG_ENV_CPU\n",
            "DEBUG: 2023-04-03 18:32:27,365: Searching <ConfigEnvFileEnv: None> for COMET_AUTO_LOG_ENV_CPU\n",
            "DEBUG: 2023-04-03 18:32:27,368: Searching <ConfigDictEnv: {}> for COMET_AUTO_LOG_ENV_CPU\n",
            "DEBUG: 2023-04-03 18:32:27,369: Found nothing--returning NO_VALUE\n",
            "DEBUG: 2023-04-03 18:32:27,371: Looking up key: co2, namespace: ['comet', 'auto_log']\n",
            "DEBUG: 2023-04-03 18:32:27,375: Searching <ConfigOSEnv> for COMET_AUTO_LOG_CO2\n",
            "DEBUG: 2023-04-03 18:32:27,377: Searching <ConfigEnvFileEnv: None> for COMET_AUTO_LOG_CO2\n",
            "DEBUG: 2023-04-03 18:32:27,377: Searching <ConfigDictEnv: {}> for COMET_AUTO_LOG_CO2\n",
            "DEBUG: 2023-04-03 18:32:27,380: Found nothing--returning NO_VALUE\n",
            "DEBUG: 2023-04-03 18:32:27,380: Looking up key: histogram_tensorboard, namespace: ['comet', 'auto_log']\n",
            "DEBUG: 2023-04-03 18:32:27,381: Searching <ConfigOSEnv> for COMET_AUTO_LOG_HISTOGRAM_TENSORBOARD\n",
            "DEBUG: 2023-04-03 18:32:27,382: Searching <ConfigEnvFileEnv: None> for COMET_AUTO_LOG_HISTOGRAM_TENSORBOARD\n",
            "DEBUG: 2023-04-03 18:32:27,382: Searching <ConfigDictEnv: {}> for COMET_AUTO_LOG_HISTOGRAM_TENSORBOARD\n",
            "DEBUG: 2023-04-03 18:32:27,383: Found nothing--returning NO_VALUE\n",
            "DEBUG: 2023-04-03 18:32:27,386: Looking up key: weights, namespace: ['comet', 'auto_log']\n",
            "DEBUG: 2023-04-03 18:32:27,388: Searching <ConfigOSEnv> for COMET_AUTO_LOG_WEIGHTS\n",
            "DEBUG: 2023-04-03 18:32:27,389: Searching <ConfigEnvFileEnv: None> for COMET_AUTO_LOG_WEIGHTS\n",
            "DEBUG: 2023-04-03 18:32:27,390: Searching <ConfigDictEnv: {}> for COMET_AUTO_LOG_WEIGHTS\n",
            "DEBUG: 2023-04-03 18:32:27,391: Found nothing--returning NO_VALUE\n",
            "DEBUG: 2023-04-03 18:32:27,392: Looking up key: histogram_weights, namespace: ['comet', 'auto_log']\n",
            "DEBUG: 2023-04-03 18:32:27,393: Searching <ConfigOSEnv> for COMET_AUTO_LOG_HISTOGRAM_WEIGHTS\n",
            "DEBUG: 2023-04-03 18:32:27,394: Searching <ConfigEnvFileEnv: None> for COMET_AUTO_LOG_HISTOGRAM_WEIGHTS\n",
            "DEBUG: 2023-04-03 18:32:27,395: Searching <ConfigDictEnv: {}> for COMET_AUTO_LOG_HISTOGRAM_WEIGHTS\n",
            "DEBUG: 2023-04-03 18:32:27,396: Found nothing--returning NO_VALUE\n",
            "DEBUG: 2023-04-03 18:32:27,397: Looking up key: weights, namespace: ['comet', 'auto_log']\n",
            "DEBUG: 2023-04-03 18:32:27,398: Searching <ConfigOSEnv> for COMET_AUTO_LOG_WEIGHTS\n",
            "DEBUG: 2023-04-03 18:32:27,400: Searching <ConfigEnvFileEnv: None> for COMET_AUTO_LOG_WEIGHTS\n",
            "DEBUG: 2023-04-03 18:32:27,401: Searching <ConfigDictEnv: {}> for COMET_AUTO_LOG_WEIGHTS\n",
            "DEBUG: 2023-04-03 18:32:27,406: Found nothing--returning NO_VALUE\n",
            "DEBUG: 2023-04-03 18:32:27,408: Looking up key: histogram_gradients, namespace: ['comet', 'auto_log']\n",
            "DEBUG: 2023-04-03 18:32:27,409: Searching <ConfigOSEnv> for COMET_AUTO_LOG_HISTOGRAM_GRADIENTS\n",
            "DEBUG: 2023-04-03 18:32:27,410: Searching <ConfigEnvFileEnv: None> for COMET_AUTO_LOG_HISTOGRAM_GRADIENTS\n",
            "DEBUG: 2023-04-03 18:32:27,410: Searching <ConfigDictEnv: {}> for COMET_AUTO_LOG_HISTOGRAM_GRADIENTS\n",
            "DEBUG: 2023-04-03 18:32:27,413: Found nothing--returning NO_VALUE\n",
            "DEBUG: 2023-04-03 18:32:27,414: Looking up key: histogram_activations, namespace: ['comet', 'auto_log']\n",
            "DEBUG: 2023-04-03 18:32:27,414: Searching <ConfigOSEnv> for COMET_AUTO_LOG_HISTOGRAM_ACTIVATIONS\n",
            "DEBUG: 2023-04-03 18:32:27,416: Searching <ConfigEnvFileEnv: None> for COMET_AUTO_LOG_HISTOGRAM_ACTIVATIONS\n",
            "DEBUG: 2023-04-03 18:32:27,416: Searching <ConfigDictEnv: {}> for COMET_AUTO_LOG_HISTOGRAM_ACTIVATIONS\n",
            "DEBUG: 2023-04-03 18:32:27,418: Found nothing--returning NO_VALUE\n",
            "DEBUG: 2023-04-03 18:32:27,423: Looking up key: metric_step_rate, namespace: ['comet', 'auto_log']\n",
            "DEBUG: 2023-04-03 18:32:27,424: Searching <ConfigOSEnv> for COMET_AUTO_LOG_METRIC_STEP_RATE\n",
            "DEBUG: 2023-04-03 18:32:27,425: Searching <ConfigEnvFileEnv: None> for COMET_AUTO_LOG_METRIC_STEP_RATE\n",
            "DEBUG: 2023-04-03 18:32:27,426: Searching <ConfigDictEnv: {}> for COMET_AUTO_LOG_METRIC_STEP_RATE\n",
            "DEBUG: 2023-04-03 18:32:27,426: Found nothing--returning NO_VALUE\n",
            "DEBUG: 2023-04-03 18:32:27,427: Looking up key: histogram_epoch_rate, namespace: ['comet', 'auto_log']\n",
            "DEBUG: 2023-04-03 18:32:27,428: Searching <ConfigOSEnv> for COMET_AUTO_LOG_HISTOGRAM_EPOCH_RATE\n",
            "DEBUG: 2023-04-03 18:32:27,428: Searching <ConfigEnvFileEnv: None> for COMET_AUTO_LOG_HISTOGRAM_EPOCH_RATE\n",
            "DEBUG: 2023-04-03 18:32:27,430: Searching <ConfigDictEnv: {}> for COMET_AUTO_LOG_HISTOGRAM_EPOCH_RATE\n",
            "DEBUG: 2023-04-03 18:32:27,431: Found nothing--returning NO_VALUE\n",
            "DEBUG: 2023-04-03 18:32:27,432: Looking up key: output_logger, namespace: ['comet', 'auto_log']\n",
            "DEBUG: 2023-04-03 18:32:27,432: Searching <ConfigOSEnv> for COMET_AUTO_LOG_OUTPUT_LOGGER\n",
            "DEBUG: 2023-04-03 18:32:27,433: Searching <ConfigEnvFileEnv: None> for COMET_AUTO_LOG_OUTPUT_LOGGER\n",
            "DEBUG: 2023-04-03 18:32:27,435: Searching <ConfigDictEnv: {}> for COMET_AUTO_LOG_OUTPUT_LOGGER\n",
            "DEBUG: 2023-04-03 18:32:27,438: Found nothing--returning NO_VALUE\n",
            "DEBUG: 2023-04-03 18:32:27,439: Looking up key: others_ignore, namespace: ['comet', 'logging']\n",
            "DEBUG: 2023-04-03 18:32:27,440: Searching <ConfigOSEnv> for COMET_LOGGING_OTHERS_IGNORE\n",
            "DEBUG: 2023-04-03 18:32:27,441: Searching <ConfigEnvFileEnv: None> for COMET_LOGGING_OTHERS_IGNORE\n",
            "DEBUG: 2023-04-03 18:32:27,442: Searching <ConfigDictEnv: {}> for COMET_LOGGING_OTHERS_IGNORE\n",
            "DEBUG: 2023-04-03 18:32:27,443: Found nothing--returning NO_VALUE\n",
            "DEBUG: 2023-04-03 18:32:27,444: Looking up key: metrics_ignore, namespace: ['comet', 'logging']\n",
            "DEBUG: 2023-04-03 18:32:27,445: Searching <ConfigOSEnv> for COMET_LOGGING_METRICS_IGNORE\n",
            "DEBUG: 2023-04-03 18:32:27,448: Searching <ConfigEnvFileEnv: None> for COMET_LOGGING_METRICS_IGNORE\n",
            "DEBUG: 2023-04-03 18:32:27,448: Searching <ConfigDictEnv: {}> for COMET_LOGGING_METRICS_IGNORE\n",
            "DEBUG: 2023-04-03 18:32:27,449: Found nothing--returning NO_VALUE\n",
            "DEBUG: 2023-04-03 18:32:27,450: Looking up key: parameters_ignore, namespace: ['comet', 'logging']\n",
            "DEBUG: 2023-04-03 18:32:27,453: Searching <ConfigOSEnv> for COMET_LOGGING_PARAMETERS_IGNORE\n",
            "DEBUG: 2023-04-03 18:32:27,455: Searching <ConfigEnvFileEnv: None> for COMET_LOGGING_PARAMETERS_IGNORE\n",
            "DEBUG: 2023-04-03 18:32:27,455: Searching <ConfigDictEnv: {}> for COMET_LOGGING_PARAMETERS_IGNORE\n",
            "DEBUG: 2023-04-03 18:32:27,456: Found nothing--returning NO_VALUE\n",
            "DEBUG: 2023-04-03 18:32:27,457: Looking up key: experiment_key, namespace: ['comet']\n",
            "DEBUG: 2023-04-03 18:32:27,458: Searching <ConfigOSEnv> for COMET_EXPERIMENT_KEY\n",
            "DEBUG: 2023-04-03 18:32:27,459: Searching <ConfigEnvFileEnv: None> for COMET_EXPERIMENT_KEY\n",
            "DEBUG: 2023-04-03 18:32:27,460: Searching <ConfigDictEnv: {}> for COMET_EXPERIMENT_KEY\n",
            "DEBUG: 2023-04-03 18:32:27,461: Found nothing--returning NO_VALUE\n",
            "COMET WARNING: As you are running in a Jupyter environment, you will need to call `experiment.end()` when finished to ensure all metrics and code are logged before exiting.\n",
            "DEBUG: 2023-04-03 18:32:27,478: Looking up key: check_tls_certificate, namespace: ['comet', 'internal']\n",
            "DEBUG: 2023-04-03 18:32:27,478: Searching <ConfigOSEnv> for COMET_INTERNAL_CHECK_TLS_CERTIFICATE\n",
            "DEBUG: 2023-04-03 18:32:27,479: Searching <ConfigEnvFileEnv: None> for COMET_INTERNAL_CHECK_TLS_CERTIFICATE\n",
            "DEBUG: 2023-04-03 18:32:27,480: Searching <ConfigDictEnv: {}> for COMET_INTERNAL_CHECK_TLS_CERTIFICATE\n",
            "DEBUG: 2023-04-03 18:32:27,505: Found nothing--returning NO_VALUE\n",
            "DEBUG: 2023-04-03 18:32:27,506: Looking up key: url_override, namespace: ['comet']\n",
            "DEBUG: 2023-04-03 18:32:27,507: Searching <ConfigOSEnv> for COMET_URL_OVERRIDE\n",
            "DEBUG: 2023-04-03 18:32:27,509: Searching <ConfigEnvFileEnv: None> for COMET_URL_OVERRIDE\n",
            "DEBUG: 2023-04-03 18:32:27,510: Searching <ConfigDictEnv: {}> for COMET_URL_OVERRIDE\n",
            "DEBUG: 2023-04-03 18:32:27,511: Found nothing--returning NO_VALUE\n",
            "DEBUG: 2023-04-03 18:32:27,512: Looking up key: http, namespace: ['comet', 'timeout']\n",
            "DEBUG: 2023-04-03 18:32:27,513: Searching <ConfigOSEnv> for COMET_TIMEOUT_HTTP\n",
            "DEBUG: 2023-04-03 18:32:27,536: Searching <ConfigEnvFileEnv: None> for COMET_TIMEOUT_HTTP\n",
            "DEBUG: 2023-04-03 18:32:27,537: Searching <ConfigDictEnv: {}> for COMET_TIMEOUT_HTTP\n",
            "DEBUG: 2023-04-03 18:32:27,539: Found nothing--returning NO_VALUE\n",
            "DEBUG: 2023-04-03 18:32:27,540: No INI file found: []\n",
            "DEBUG: 2023-04-03 18:32:27,541: No INI file found: ['./.comet.config']\n",
            "DEBUG: 2023-04-03 18:32:27,543: No INI file found: ['/content/drive/MyDrive/.comet.config']\n",
            "DEBUG: 2023-04-03 18:32:27,544: No INI file found: ['~/.comet.config']\n",
            "DEBUG: 2023-04-03 18:32:27,548: No INI file found: []\n",
            "DEBUG: 2023-04-03 18:32:27,550: No INI file found: ['./.comet.config']\n",
            "DEBUG: 2023-04-03 18:32:27,552: No INI file found: ['/content/drive/MyDrive/.comet.config']\n",
            "DEBUG: 2023-04-03 18:32:27,554: No INI file found: ['~/.comet.config']\n",
            "DEBUG: 2023-04-03 18:32:27,555: Looking up key: name, namespace: ['comet', 'allow_header']\n",
            "DEBUG: 2023-04-03 18:32:27,556: Searching <ConfigOSEnv> for COMET_ALLOW_HEADER_NAME\n",
            "DEBUG: 2023-04-03 18:32:27,557: Searching <ConfigEnvFileEnv: None> for COMET_ALLOW_HEADER_NAME\n",
            "DEBUG: 2023-04-03 18:32:27,558: Searching <ConfigDictEnv: {}> for COMET_ALLOW_HEADER_NAME\n",
            "DEBUG: 2023-04-03 18:32:27,560: Found nothing--returning NO_VALUE\n",
            "DEBUG: 2023-04-03 18:32:27,561: Looking up key: value, namespace: ['comet', 'allow_header']\n",
            "DEBUG: 2023-04-03 18:32:27,562: Searching <ConfigOSEnv> for COMET_ALLOW_HEADER_VALUE\n",
            "DEBUG: 2023-04-03 18:32:27,563: Searching <ConfigEnvFileEnv: None> for COMET_ALLOW_HEADER_VALUE\n",
            "DEBUG: 2023-04-03 18:32:27,563: Searching <ConfigDictEnv: {}> for COMET_ALLOW_HEADER_VALUE\n",
            "DEBUG: 2023-04-03 18:32:27,564: Found nothing--returning NO_VALUE\n",
            "DEBUG: 2023-04-03 18:32:27,575: No INI file found: []\n",
            "DEBUG: 2023-04-03 18:32:27,576: No INI file found: ['./.comet.config']\n",
            "DEBUG: 2023-04-03 18:32:27,577: No INI file found: ['/content/drive/MyDrive/.comet.config']\n",
            "DEBUG: 2023-04-03 18:32:27,578: No INI file found: ['~/.comet.config']\n",
            "DEBUG: 2023-04-03 18:32:27,579: Looking up key: name, namespace: ['comet', 'allow_header']\n",
            "DEBUG: 2023-04-03 18:32:27,579: Searching <ConfigOSEnv> for COMET_ALLOW_HEADER_NAME\n",
            "DEBUG: 2023-04-03 18:32:27,580: Searching <ConfigEnvFileEnv: None> for COMET_ALLOW_HEADER_NAME\n",
            "DEBUG: 2023-04-03 18:32:27,581: Searching <ConfigDictEnv: {}> for COMET_ALLOW_HEADER_NAME\n",
            "DEBUG: 2023-04-03 18:32:27,591: Found nothing--returning NO_VALUE\n",
            "DEBUG: 2023-04-03 18:32:27,599: Looking up key: value, namespace: ['comet', 'allow_header']\n",
            "DEBUG: 2023-04-03 18:32:27,601: Searching <ConfigOSEnv> for COMET_ALLOW_HEADER_VALUE\n",
            "DEBUG: 2023-04-03 18:32:27,604: Searching <ConfigEnvFileEnv: None> for COMET_ALLOW_HEADER_VALUE\n",
            "DEBUG: 2023-04-03 18:32:27,609: Searching <ConfigDictEnv: {}> for COMET_ALLOW_HEADER_VALUE\n",
            "DEBUG: 2023-04-03 18:32:27,615: Found nothing--returning NO_VALUE\n",
            "DEBUG: 2023-04-03 18:32:27,617: No INI file found: []\n",
            "DEBUG: 2023-04-03 18:32:27,618: No INI file found: ['./.comet.config']\n",
            "DEBUG: 2023-04-03 18:32:27,624: No INI file found: ['/content/drive/MyDrive/.comet.config']\n",
            "DEBUG: 2023-04-03 18:32:27,626: No INI file found: ['~/.comet.config']\n",
            "DEBUG: 2023-04-03 18:32:27,631: Looking up key: url_override, namespace: ['comet']\n",
            "DEBUG: 2023-04-03 18:32:27,633: Searching <ConfigOSEnv> for COMET_URL_OVERRIDE\n",
            "DEBUG: 2023-04-03 18:32:27,634: Searching <ConfigEnvFileEnv: None> for COMET_URL_OVERRIDE\n",
            "DEBUG: 2023-04-03 18:32:27,637: Searching <ConfigDictEnv: {}> for COMET_URL_OVERRIDE\n",
            "DEBUG: 2023-04-03 18:32:27,643: Found nothing--returning NO_VALUE\n",
            "DEBUG: 2023-04-03 18:32:27,649: Looking up key: api, namespace: ['comet', 'timeout']\n",
            "DEBUG: 2023-04-03 18:32:27,651: Searching <ConfigOSEnv> for COMET_TIMEOUT_API\n",
            "DEBUG: 2023-04-03 18:32:27,653: Searching <ConfigEnvFileEnv: None> for COMET_TIMEOUT_API\n",
            "DEBUG: 2023-04-03 18:32:27,654: Searching <ConfigDictEnv: {}> for COMET_TIMEOUT_API\n",
            "DEBUG: 2023-04-03 18:32:27,658: Found nothing--returning NO_VALUE\n",
            "DEBUG: 2023-04-03 18:32:27,659: Looking up key: check_tls_certificate, namespace: ['comet', 'internal']\n",
            "DEBUG: 2023-04-03 18:32:27,660: Searching <ConfigOSEnv> for COMET_INTERNAL_CHECK_TLS_CERTIFICATE\n",
            "DEBUG: 2023-04-03 18:32:27,661: Searching <ConfigEnvFileEnv: None> for COMET_INTERNAL_CHECK_TLS_CERTIFICATE\n",
            "DEBUG: 2023-04-03 18:32:27,662: Searching <ConfigDictEnv: {}> for COMET_INTERNAL_CHECK_TLS_CERTIFICATE\n",
            "DEBUG: 2023-04-03 18:32:27,662: Found nothing--returning NO_VALUE\n",
            "DEBUG: 2023-04-03 18:32:27,667: No INI file found: []\n",
            "DEBUG: 2023-04-03 18:32:27,668: No INI file found: ['./.comet.config']\n",
            "DEBUG: 2023-04-03 18:32:27,669: No INI file found: ['/content/drive/MyDrive/.comet.config']\n",
            "DEBUG: 2023-04-03 18:32:27,671: No INI file found: ['~/.comet.config']\n",
            "DEBUG: 2023-04-03 18:32:27,671: Looking up key: name, namespace: ['comet', 'allow_header']\n",
            "DEBUG: 2023-04-03 18:32:27,672: Searching <ConfigOSEnv> for COMET_ALLOW_HEADER_NAME\n",
            "DEBUG: 2023-04-03 18:32:27,673: Searching <ConfigEnvFileEnv: None> for COMET_ALLOW_HEADER_NAME\n",
            "DEBUG: 2023-04-03 18:32:27,673: Searching <ConfigDictEnv: {}> for COMET_ALLOW_HEADER_NAME\n",
            "DEBUG: 2023-04-03 18:32:27,674: Found nothing--returning NO_VALUE\n",
            "DEBUG: 2023-04-03 18:32:27,675: Looking up key: value, namespace: ['comet', 'allow_header']\n",
            "DEBUG: 2023-04-03 18:32:27,676: Searching <ConfigOSEnv> for COMET_ALLOW_HEADER_VALUE\n",
            "DEBUG: 2023-04-03 18:32:27,677: Searching <ConfigEnvFileEnv: None> for COMET_ALLOW_HEADER_VALUE\n",
            "DEBUG: 2023-04-03 18:32:27,678: Searching <ConfigDictEnv: {}> for COMET_ALLOW_HEADER_VALUE\n",
            "DEBUG: 2023-04-03 18:32:27,679: Found nothing--returning NO_VALUE\n",
            "DEBUG: 2023-04-03 18:32:27,683: No INI file found: []\n",
            "DEBUG: 2023-04-03 18:32:27,684: No INI file found: ['./.comet.config']\n",
            "DEBUG: 2023-04-03 18:32:27,686: No INI file found: ['/content/drive/MyDrive/.comet.config']\n",
            "DEBUG: 2023-04-03 18:32:27,687: No INI file found: ['~/.comet.config']\n",
            "DEBUG: 2023-04-03 18:32:27,688: Looking up key: name, namespace: ['comet', 'allow_header']\n",
            "DEBUG: 2023-04-03 18:32:27,688: Searching <ConfigOSEnv> for COMET_ALLOW_HEADER_NAME\n",
            "DEBUG: 2023-04-03 18:32:27,689: Searching <ConfigEnvFileEnv: None> for COMET_ALLOW_HEADER_NAME\n",
            "DEBUG: 2023-04-03 18:32:27,690: Searching <ConfigDictEnv: {}> for COMET_ALLOW_HEADER_NAME\n",
            "DEBUG: 2023-04-03 18:32:27,690: Found nothing--returning NO_VALUE\n",
            "DEBUG: 2023-04-03 18:32:27,691: Looking up key: value, namespace: ['comet', 'allow_header']\n",
            "DEBUG: 2023-04-03 18:32:27,691: Searching <ConfigOSEnv> for COMET_ALLOW_HEADER_VALUE\n",
            "DEBUG: 2023-04-03 18:32:27,692: Searching <ConfigEnvFileEnv: None> for COMET_ALLOW_HEADER_VALUE\n",
            "DEBUG: 2023-04-03 18:32:27,693: Searching <ConfigDictEnv: {}> for COMET_ALLOW_HEADER_VALUE\n",
            "DEBUG: 2023-04-03 18:32:27,693: Found nothing--returning NO_VALUE\n",
            "DEBUG: 2023-04-03 18:32:27,694: Looking up key: rest_v2_minimal_backend_version, namespace: ['comet']\n",
            "DEBUG: 2023-04-03 18:32:27,695: Searching <ConfigOSEnv> for COMET_REST_V2_MINIMAL_BACKEND_VERSION\n",
            "DEBUG: 2023-04-03 18:32:27,696: Searching <ConfigEnvFileEnv: None> for COMET_REST_V2_MINIMAL_BACKEND_VERSION\n",
            "DEBUG: 2023-04-03 18:32:27,697: Searching <ConfigDictEnv: {}> for COMET_REST_V2_MINIMAL_BACKEND_VERSION\n",
            "DEBUG: 2023-04-03 18:32:27,698: Found nothing--returning NO_VALUE\n",
            "DEBUG: 2023-04-03 18:32:27,701: Starting new HTTPS connection (1): www.comet.com:443\n",
            "DEBUG: 2023-04-03 18:32:28,263: https://www.comet.com:443 \"GET /clientlib/isAlive/ver HTTP/1.1\" 200 81\n",
            "DEBUG: 2023-04-03 18:32:28,268: Starting new HTTPS connection (1): www.comet.com:443\n",
            "DEBUG: 2023-04-03 18:32:28,924: https://www.comet.com:443 \"POST /clientlib/logger/add/run HTTP/1.1\" 200 None\n",
            "DEBUG: 2023-04-03 18:32:28,933: Looking up key: sentry_dsn, namespace: ['comet', 'internal']\n",
            "DEBUG: 2023-04-03 18:32:28,935: Searching <ConfigOSEnv> for COMET_INTERNAL_SENTRY_DSN\n",
            "DEBUG: 2023-04-03 18:32:28,936: Searching <ConfigEnvFileEnv: None> for COMET_INTERNAL_SENTRY_DSN\n",
            "DEBUG: 2023-04-03 18:32:28,939: Searching <ConfigDictEnv: {'COMET_OVERRIDE_FEATURE_ACADEMIC': True, 'COMET_OVERRIDE_FEATURE_ARTIFACTS': True, 'COMET_OVERRIDE_FEATURE_ASSET-STORAGE': True, 'COMET_OVERRIDE_FEATURE_BILLING-REDESIGN': True, 'COMET_OVERRIDE_FEATURE_BREAK-DOWN-BY': False, 'COMET_OVERRIDE_FEATURE_CLOSEST-HOVER-MODE': True, 'COMET_OVERRIDE_FEATURE_CONFUSION-MATRIX': True, 'COMET_OVERRIDE_FEATURE_CUSTOM-CHARTS': True, 'COMET_OVERRIDE_FEATURE_DASHBOARD-CHARTS': True, 'COMET_OVERRIDE_FEATURE_DASHBOARD_TEMPLATES': True, 'COMET_OVERRIDE_FEATURE_DATA-PANEL': True, 'COMET_OVERRIDE_FEATURE_DBS-MODEL-PRODUCTION-MONITORING': False, 'COMET_OVERRIDE_FEATURE_DISABLE-TABLE-ROW-EXPAND': False, 'COMET_OVERRIDE_FEATURE_GIT-REPRODUCE': True, 'COMET_OVERRIDE_FEATURE_GROUP-BY-ENDPOINT': True, 'COMET_OVERRIDE_FEATURE_GROUPING': True, 'COMET_OVERRIDE_FEATURE_MODEL-APPROVAL-PROCESS': True, 'COMET_OVERRIDE_FEATURE_MODEL-PRODUCTION-MONITORING': False, 'COMET_OVERRIDE_FEATURE_MODEL-PRODUCTION-MONITORING-ACCURACY-METRICS-TAB': True, 'COMET_OVERRIDE_FEATURE_MODEL-PRODUCTION-MONITORING-ALERTS': True, 'COMET_OVERRIDE_FEATURE_MODEL-PRODUCTION-MONITORING-CUSTOM-TRANSFORMATIONS': True, 'COMET_OVERRIDE_FEATURE_MODEL-PRODUCTION-MONITORING-DEBUGGER': True, 'COMET_OVERRIDE_FEATURE_MODEL-PRODUCTION-MONITORING-INTERNAL': False, 'COMET_OVERRIDE_FEATURE_MODEL-PRODUCTION-MONITORING-MODELS-PIPELINE': False, 'COMET_OVERRIDE_FEATURE_MODEL-PRODUCTION-MONITORING-SEGMENTS': True, 'COMET_OVERRIDE_FEATURE_MODEL-PRODUCTION-MONITORING-SEGMENTS-NEW-PANEL': False, 'COMET_OVERRIDE_FEATURE_MODEL-REGISTRY-CARD-DETAILS-V2': True, 'COMET_OVERRIDE_FEATURE_MODEL-REGISTRY-STAGES-TO-TAGS': True, 'COMET_OVERRIDE_FEATURE_MODEL-REGISTRY-STREAMLINE': True, 'COMET_OVERRIDE_FEATURE_NEW-ONBOARDING': True, 'COMET_OVERRIDE_FEATURE_NEW-WORDPRESS-SITE': True, 'COMET_OVERRIDE_FEATURE_NIMROD-TEST': True, 'COMET_OVERRIDE_FEATURE_OLD_TEAMS': True, 'COMET_OVERRIDE_FEATURE_PAYMENTS': True, 'COMET_OVERRIDE_FEATURE_PLOTLY-CHARTS': True, 'COMET_OVERRIDE_FEATURE_PUBLIC-PANELS': True, 'COMET_OVERRIDE_FEATURE_PYTHON-PANELS': True, 'COMET_OVERRIDE_FEATURE_QUERY-FILTER': True, 'COMET_OVERRIDE_FEATURE_QUERY-URL-PARSER': False, 'COMET_OVERRIDE_FEATURE_REACT_HEADER_ICON_OVERRIDE': False, 'COMET_OVERRIDE_FEATURE_REPRODUCE-NOTEBOOKS': True, 'COMET_OVERRIDE_FEATURE_SDK_ANNOUNCEMENT': True, 'COMET_OVERRIDE_FEATURE_SDK_GIT_PATCH': True, 'COMET_OVERRIDE_FEATURE_SDK_GPU_MONITOR': True, 'COMET_OVERRIDE_FEATURE_SDK_HTTP_LOGGING': False, 'COMET_OVERRIDE_FEATURE_SDK_LOG_ENV_VARIABLES': False, 'COMET_OVERRIDE_FEATURE_SDK_METRICS_HTTP_BATCHING': False, 'COMET_OVERRIDE_FEATURE_SDK_USE_HTTP_MESSAGES': True, 'COMET_OVERRIDE_FEATURE_SERVICE-ACCOUNTS': True, 'COMET_OVERRIDE_FEATURE_SYSTEM-METRICS': True, 'COMET_OVERRIDE_FEATURE_SYSTEM-METRICS-GPU': True, 'COMET_OVERRIDE_FEATURE_TAGS': True, 'COMET_OVERRIDE_FEATURE_TEST-FT-ENV-CHECK': True, 'COMET_OVERRIDE_FEATURE_TEXT-TAB': True, 'COMET_OVERRIDE_FEATURE_USE_HTTP_MESSAGES': True}> for COMET_INTERNAL_SENTRY_DSN\n",
            "DEBUG: 2023-04-03 18:32:28,941: Found nothing--returning NO_VALUE\n",
            "DEBUG: 2023-04-03 18:32:28,942: Looking up key: enable, namespace: ['comet', 'error_tracking']\n",
            "DEBUG: 2023-04-03 18:32:28,943: Searching <ConfigOSEnv> for COMET_ERROR_TRACKING_ENABLE\n",
            "DEBUG: 2023-04-03 18:32:28,944: Searching <ConfigEnvFileEnv: None> for COMET_ERROR_TRACKING_ENABLE\n",
            "DEBUG: 2023-04-03 18:32:28,945: Searching <ConfigDictEnv: {'COMET_OVERRIDE_FEATURE_ACADEMIC': True, 'COMET_OVERRIDE_FEATURE_ARTIFACTS': True, 'COMET_OVERRIDE_FEATURE_ASSET-STORAGE': True, 'COMET_OVERRIDE_FEATURE_BILLING-REDESIGN': True, 'COMET_OVERRIDE_FEATURE_BREAK-DOWN-BY': False, 'COMET_OVERRIDE_FEATURE_CLOSEST-HOVER-MODE': True, 'COMET_OVERRIDE_FEATURE_CONFUSION-MATRIX': True, 'COMET_OVERRIDE_FEATURE_CUSTOM-CHARTS': True, 'COMET_OVERRIDE_FEATURE_DASHBOARD-CHARTS': True, 'COMET_OVERRIDE_FEATURE_DASHBOARD_TEMPLATES': True, 'COMET_OVERRIDE_FEATURE_DATA-PANEL': True, 'COMET_OVERRIDE_FEATURE_DBS-MODEL-PRODUCTION-MONITORING': False, 'COMET_OVERRIDE_FEATURE_DISABLE-TABLE-ROW-EXPAND': False, 'COMET_OVERRIDE_FEATURE_GIT-REPRODUCE': True, 'COMET_OVERRIDE_FEATURE_GROUP-BY-ENDPOINT': True, 'COMET_OVERRIDE_FEATURE_GROUPING': True, 'COMET_OVERRIDE_FEATURE_MODEL-APPROVAL-PROCESS': True, 'COMET_OVERRIDE_FEATURE_MODEL-PRODUCTION-MONITORING': False, 'COMET_OVERRIDE_FEATURE_MODEL-PRODUCTION-MONITORING-ACCURACY-METRICS-TAB': True, 'COMET_OVERRIDE_FEATURE_MODEL-PRODUCTION-MONITORING-ALERTS': True, 'COMET_OVERRIDE_FEATURE_MODEL-PRODUCTION-MONITORING-CUSTOM-TRANSFORMATIONS': True, 'COMET_OVERRIDE_FEATURE_MODEL-PRODUCTION-MONITORING-DEBUGGER': True, 'COMET_OVERRIDE_FEATURE_MODEL-PRODUCTION-MONITORING-INTERNAL': False, 'COMET_OVERRIDE_FEATURE_MODEL-PRODUCTION-MONITORING-MODELS-PIPELINE': False, 'COMET_OVERRIDE_FEATURE_MODEL-PRODUCTION-MONITORING-SEGMENTS': True, 'COMET_OVERRIDE_FEATURE_MODEL-PRODUCTION-MONITORING-SEGMENTS-NEW-PANEL': False, 'COMET_OVERRIDE_FEATURE_MODEL-REGISTRY-CARD-DETAILS-V2': True, 'COMET_OVERRIDE_FEATURE_MODEL-REGISTRY-STAGES-TO-TAGS': True, 'COMET_OVERRIDE_FEATURE_MODEL-REGISTRY-STREAMLINE': True, 'COMET_OVERRIDE_FEATURE_NEW-ONBOARDING': True, 'COMET_OVERRIDE_FEATURE_NEW-WORDPRESS-SITE': True, 'COMET_OVERRIDE_FEATURE_NIMROD-TEST': True, 'COMET_OVERRIDE_FEATURE_OLD_TEAMS': True, 'COMET_OVERRIDE_FEATURE_PAYMENTS': True, 'COMET_OVERRIDE_FEATURE_PLOTLY-CHARTS': True, 'COMET_OVERRIDE_FEATURE_PUBLIC-PANELS': True, 'COMET_OVERRIDE_FEATURE_PYTHON-PANELS': True, 'COMET_OVERRIDE_FEATURE_QUERY-FILTER': True, 'COMET_OVERRIDE_FEATURE_QUERY-URL-PARSER': False, 'COMET_OVERRIDE_FEATURE_REACT_HEADER_ICON_OVERRIDE': False, 'COMET_OVERRIDE_FEATURE_REPRODUCE-NOTEBOOKS': True, 'COMET_OVERRIDE_FEATURE_SDK_ANNOUNCEMENT': True, 'COMET_OVERRIDE_FEATURE_SDK_GIT_PATCH': True, 'COMET_OVERRIDE_FEATURE_SDK_GPU_MONITOR': True, 'COMET_OVERRIDE_FEATURE_SDK_HTTP_LOGGING': False, 'COMET_OVERRIDE_FEATURE_SDK_LOG_ENV_VARIABLES': False, 'COMET_OVERRIDE_FEATURE_SDK_METRICS_HTTP_BATCHING': False, 'COMET_OVERRIDE_FEATURE_SDK_USE_HTTP_MESSAGES': True, 'COMET_OVERRIDE_FEATURE_SERVICE-ACCOUNTS': True, 'COMET_OVERRIDE_FEATURE_SYSTEM-METRICS': True, 'COMET_OVERRIDE_FEATURE_SYSTEM-METRICS-GPU': True, 'COMET_OVERRIDE_FEATURE_TAGS': True, 'COMET_OVERRIDE_FEATURE_TEST-FT-ENV-CHECK': True, 'COMET_OVERRIDE_FEATURE_TEXT-TAB': True, 'COMET_OVERRIDE_FEATURE_USE_HTTP_MESSAGES': True}> for COMET_ERROR_TRACKING_ENABLE\n",
            "DEBUG: 2023-04-03 18:32:28,946: Found nothing--returning NO_VALUE\n",
            "DEBUG: 2023-04-03 18:32:28,947: Looking up key: sdk_http_logging, namespace: ['comet', 'override_feature']\n",
            "DEBUG: 2023-04-03 18:32:28,948: Searching <ConfigOSEnv> for COMET_OVERRIDE_FEATURE_SDK_HTTP_LOGGING\n",
            "DEBUG: 2023-04-03 18:32:28,949: Searching <ConfigEnvFileEnv: None> for COMET_OVERRIDE_FEATURE_SDK_HTTP_LOGGING\n",
            "DEBUG: 2023-04-03 18:32:28,950: Searching <ConfigDictEnv: {'COMET_OVERRIDE_FEATURE_ACADEMIC': True, 'COMET_OVERRIDE_FEATURE_ARTIFACTS': True, 'COMET_OVERRIDE_FEATURE_ASSET-STORAGE': True, 'COMET_OVERRIDE_FEATURE_BILLING-REDESIGN': True, 'COMET_OVERRIDE_FEATURE_BREAK-DOWN-BY': False, 'COMET_OVERRIDE_FEATURE_CLOSEST-HOVER-MODE': True, 'COMET_OVERRIDE_FEATURE_CONFUSION-MATRIX': True, 'COMET_OVERRIDE_FEATURE_CUSTOM-CHARTS': True, 'COMET_OVERRIDE_FEATURE_DASHBOARD-CHARTS': True, 'COMET_OVERRIDE_FEATURE_DASHBOARD_TEMPLATES': True, 'COMET_OVERRIDE_FEATURE_DATA-PANEL': True, 'COMET_OVERRIDE_FEATURE_DBS-MODEL-PRODUCTION-MONITORING': False, 'COMET_OVERRIDE_FEATURE_DISABLE-TABLE-ROW-EXPAND': False, 'COMET_OVERRIDE_FEATURE_GIT-REPRODUCE': True, 'COMET_OVERRIDE_FEATURE_GROUP-BY-ENDPOINT': True, 'COMET_OVERRIDE_FEATURE_GROUPING': True, 'COMET_OVERRIDE_FEATURE_MODEL-APPROVAL-PROCESS': True, 'COMET_OVERRIDE_FEATURE_MODEL-PRODUCTION-MONITORING': False, 'COMET_OVERRIDE_FEATURE_MODEL-PRODUCTION-MONITORING-ACCURACY-METRICS-TAB': True, 'COMET_OVERRIDE_FEATURE_MODEL-PRODUCTION-MONITORING-ALERTS': True, 'COMET_OVERRIDE_FEATURE_MODEL-PRODUCTION-MONITORING-CUSTOM-TRANSFORMATIONS': True, 'COMET_OVERRIDE_FEATURE_MODEL-PRODUCTION-MONITORING-DEBUGGER': True, 'COMET_OVERRIDE_FEATURE_MODEL-PRODUCTION-MONITORING-INTERNAL': False, 'COMET_OVERRIDE_FEATURE_MODEL-PRODUCTION-MONITORING-MODELS-PIPELINE': False, 'COMET_OVERRIDE_FEATURE_MODEL-PRODUCTION-MONITORING-SEGMENTS': True, 'COMET_OVERRIDE_FEATURE_MODEL-PRODUCTION-MONITORING-SEGMENTS-NEW-PANEL': False, 'COMET_OVERRIDE_FEATURE_MODEL-REGISTRY-CARD-DETAILS-V2': True, 'COMET_OVERRIDE_FEATURE_MODEL-REGISTRY-STAGES-TO-TAGS': True, 'COMET_OVERRIDE_FEATURE_MODEL-REGISTRY-STREAMLINE': True, 'COMET_OVERRIDE_FEATURE_NEW-ONBOARDING': True, 'COMET_OVERRIDE_FEATURE_NEW-WORDPRESS-SITE': True, 'COMET_OVERRIDE_FEATURE_NIMROD-TEST': True, 'COMET_OVERRIDE_FEATURE_OLD_TEAMS': True, 'COMET_OVERRIDE_FEATURE_PAYMENTS': True, 'COMET_OVERRIDE_FEATURE_PLOTLY-CHARTS': True, 'COMET_OVERRIDE_FEATURE_PUBLIC-PANELS': True, 'COMET_OVERRIDE_FEATURE_PYTHON-PANELS': True, 'COMET_OVERRIDE_FEATURE_QUERY-FILTER': True, 'COMET_OVERRIDE_FEATURE_QUERY-URL-PARSER': False, 'COMET_OVERRIDE_FEATURE_REACT_HEADER_ICON_OVERRIDE': False, 'COMET_OVERRIDE_FEATURE_REPRODUCE-NOTEBOOKS': True, 'COMET_OVERRIDE_FEATURE_SDK_ANNOUNCEMENT': True, 'COMET_OVERRIDE_FEATURE_SDK_GIT_PATCH': True, 'COMET_OVERRIDE_FEATURE_SDK_GPU_MONITOR': True, 'COMET_OVERRIDE_FEATURE_SDK_HTTP_LOGGING': False, 'COMET_OVERRIDE_FEATURE_SDK_LOG_ENV_VARIABLES': False, 'COMET_OVERRIDE_FEATURE_SDK_METRICS_HTTP_BATCHING': False, 'COMET_OVERRIDE_FEATURE_SDK_USE_HTTP_MESSAGES': True, 'COMET_OVERRIDE_FEATURE_SERVICE-ACCOUNTS': True, 'COMET_OVERRIDE_FEATURE_SYSTEM-METRICS': True, 'COMET_OVERRIDE_FEATURE_SYSTEM-METRICS-GPU': True, 'COMET_OVERRIDE_FEATURE_TAGS': True, 'COMET_OVERRIDE_FEATURE_TEST-FT-ENV-CHECK': True, 'COMET_OVERRIDE_FEATURE_TEXT-TAB': True, 'COMET_OVERRIDE_FEATURE_USE_HTTP_MESSAGES': True}> for COMET_OVERRIDE_FEATURE_SDK_HTTP_LOGGING\n",
            "DEBUG: 2023-04-03 18:32:28,951: Returning raw: False, parsed: False\n",
            "DEBUG: 2023-04-03 18:32:28,952: Looking up key: ws_url_override, namespace: ['comet']\n",
            "DEBUG: 2023-04-03 18:32:28,953: Searching <ConfigOSEnv> for COMET_WS_URL_OVERRIDE\n",
            "DEBUG: 2023-04-03 18:32:28,954: Searching <ConfigEnvFileEnv: None> for COMET_WS_URL_OVERRIDE\n",
            "DEBUG: 2023-04-03 18:32:28,956: Searching <ConfigDictEnv: {'COMET_OVERRIDE_FEATURE_ACADEMIC': True, 'COMET_OVERRIDE_FEATURE_ARTIFACTS': True, 'COMET_OVERRIDE_FEATURE_ASSET-STORAGE': True, 'COMET_OVERRIDE_FEATURE_BILLING-REDESIGN': True, 'COMET_OVERRIDE_FEATURE_BREAK-DOWN-BY': False, 'COMET_OVERRIDE_FEATURE_CLOSEST-HOVER-MODE': True, 'COMET_OVERRIDE_FEATURE_CONFUSION-MATRIX': True, 'COMET_OVERRIDE_FEATURE_CUSTOM-CHARTS': True, 'COMET_OVERRIDE_FEATURE_DASHBOARD-CHARTS': True, 'COMET_OVERRIDE_FEATURE_DASHBOARD_TEMPLATES': True, 'COMET_OVERRIDE_FEATURE_DATA-PANEL': True, 'COMET_OVERRIDE_FEATURE_DBS-MODEL-PRODUCTION-MONITORING': False, 'COMET_OVERRIDE_FEATURE_DISABLE-TABLE-ROW-EXPAND': False, 'COMET_OVERRIDE_FEATURE_GIT-REPRODUCE': True, 'COMET_OVERRIDE_FEATURE_GROUP-BY-ENDPOINT': True, 'COMET_OVERRIDE_FEATURE_GROUPING': True, 'COMET_OVERRIDE_FEATURE_MODEL-APPROVAL-PROCESS': True, 'COMET_OVERRIDE_FEATURE_MODEL-PRODUCTION-MONITORING': False, 'COMET_OVERRIDE_FEATURE_MODEL-PRODUCTION-MONITORING-ACCURACY-METRICS-TAB': True, 'COMET_OVERRIDE_FEATURE_MODEL-PRODUCTION-MONITORING-ALERTS': True, 'COMET_OVERRIDE_FEATURE_MODEL-PRODUCTION-MONITORING-CUSTOM-TRANSFORMATIONS': True, 'COMET_OVERRIDE_FEATURE_MODEL-PRODUCTION-MONITORING-DEBUGGER': True, 'COMET_OVERRIDE_FEATURE_MODEL-PRODUCTION-MONITORING-INTERNAL': False, 'COMET_OVERRIDE_FEATURE_MODEL-PRODUCTION-MONITORING-MODELS-PIPELINE': False, 'COMET_OVERRIDE_FEATURE_MODEL-PRODUCTION-MONITORING-SEGMENTS': True, 'COMET_OVERRIDE_FEATURE_MODEL-PRODUCTION-MONITORING-SEGMENTS-NEW-PANEL': False, 'COMET_OVERRIDE_FEATURE_MODEL-REGISTRY-CARD-DETAILS-V2': True, 'COMET_OVERRIDE_FEATURE_MODEL-REGISTRY-STAGES-TO-TAGS': True, 'COMET_OVERRIDE_FEATURE_MODEL-REGISTRY-STREAMLINE': True, 'COMET_OVERRIDE_FEATURE_NEW-ONBOARDING': True, 'COMET_OVERRIDE_FEATURE_NEW-WORDPRESS-SITE': True, 'COMET_OVERRIDE_FEATURE_NIMROD-TEST': True, 'COMET_OVERRIDE_FEATURE_OLD_TEAMS': True, 'COMET_OVERRIDE_FEATURE_PAYMENTS': True, 'COMET_OVERRIDE_FEATURE_PLOTLY-CHARTS': True, 'COMET_OVERRIDE_FEATURE_PUBLIC-PANELS': True, 'COMET_OVERRIDE_FEATURE_PYTHON-PANELS': True, 'COMET_OVERRIDE_FEATURE_QUERY-FILTER': True, 'COMET_OVERRIDE_FEATURE_QUERY-URL-PARSER': False, 'COMET_OVERRIDE_FEATURE_REACT_HEADER_ICON_OVERRIDE': False, 'COMET_OVERRIDE_FEATURE_REPRODUCE-NOTEBOOKS': True, 'COMET_OVERRIDE_FEATURE_SDK_ANNOUNCEMENT': True, 'COMET_OVERRIDE_FEATURE_SDK_GIT_PATCH': True, 'COMET_OVERRIDE_FEATURE_SDK_GPU_MONITOR': True, 'COMET_OVERRIDE_FEATURE_SDK_HTTP_LOGGING': False, 'COMET_OVERRIDE_FEATURE_SDK_LOG_ENV_VARIABLES': False, 'COMET_OVERRIDE_FEATURE_SDK_METRICS_HTTP_BATCHING': False, 'COMET_OVERRIDE_FEATURE_SDK_USE_HTTP_MESSAGES': True, 'COMET_OVERRIDE_FEATURE_SERVICE-ACCOUNTS': True, 'COMET_OVERRIDE_FEATURE_SYSTEM-METRICS': True, 'COMET_OVERRIDE_FEATURE_SYSTEM-METRICS-GPU': True, 'COMET_OVERRIDE_FEATURE_TAGS': True, 'COMET_OVERRIDE_FEATURE_TEST-FT-ENV-CHECK': True, 'COMET_OVERRIDE_FEATURE_TEXT-TAB': True, 'COMET_OVERRIDE_FEATURE_USE_HTTP_MESSAGES': True}> for COMET_WS_URL_OVERRIDE\n",
            "DEBUG: 2023-04-03 18:32:28,957: Found nothing--returning NO_VALUE\n",
            "DEBUG: 2023-04-03 18:32:28,958: Looking up key: sdk_use_http_messages, namespace: ['comet', 'override_feature']\n",
            "DEBUG: 2023-04-03 18:32:28,959: Searching <ConfigOSEnv> for COMET_OVERRIDE_FEATURE_SDK_USE_HTTP_MESSAGES\n",
            "DEBUG: 2023-04-03 18:32:28,961: Searching <ConfigEnvFileEnv: None> for COMET_OVERRIDE_FEATURE_SDK_USE_HTTP_MESSAGES\n",
            "DEBUG: 2023-04-03 18:32:28,963: Searching <ConfigDictEnv: {'COMET_OVERRIDE_FEATURE_ACADEMIC': True, 'COMET_OVERRIDE_FEATURE_ARTIFACTS': True, 'COMET_OVERRIDE_FEATURE_ASSET-STORAGE': True, 'COMET_OVERRIDE_FEATURE_BILLING-REDESIGN': True, 'COMET_OVERRIDE_FEATURE_BREAK-DOWN-BY': False, 'COMET_OVERRIDE_FEATURE_CLOSEST-HOVER-MODE': True, 'COMET_OVERRIDE_FEATURE_CONFUSION-MATRIX': True, 'COMET_OVERRIDE_FEATURE_CUSTOM-CHARTS': True, 'COMET_OVERRIDE_FEATURE_DASHBOARD-CHARTS': True, 'COMET_OVERRIDE_FEATURE_DASHBOARD_TEMPLATES': True, 'COMET_OVERRIDE_FEATURE_DATA-PANEL': True, 'COMET_OVERRIDE_FEATURE_DBS-MODEL-PRODUCTION-MONITORING': False, 'COMET_OVERRIDE_FEATURE_DISABLE-TABLE-ROW-EXPAND': False, 'COMET_OVERRIDE_FEATURE_GIT-REPRODUCE': True, 'COMET_OVERRIDE_FEATURE_GROUP-BY-ENDPOINT': True, 'COMET_OVERRIDE_FEATURE_GROUPING': True, 'COMET_OVERRIDE_FEATURE_MODEL-APPROVAL-PROCESS': True, 'COMET_OVERRIDE_FEATURE_MODEL-PRODUCTION-MONITORING': False, 'COMET_OVERRIDE_FEATURE_MODEL-PRODUCTION-MONITORING-ACCURACY-METRICS-TAB': True, 'COMET_OVERRIDE_FEATURE_MODEL-PRODUCTION-MONITORING-ALERTS': True, 'COMET_OVERRIDE_FEATURE_MODEL-PRODUCTION-MONITORING-CUSTOM-TRANSFORMATIONS': True, 'COMET_OVERRIDE_FEATURE_MODEL-PRODUCTION-MONITORING-DEBUGGER': True, 'COMET_OVERRIDE_FEATURE_MODEL-PRODUCTION-MONITORING-INTERNAL': False, 'COMET_OVERRIDE_FEATURE_MODEL-PRODUCTION-MONITORING-MODELS-PIPELINE': False, 'COMET_OVERRIDE_FEATURE_MODEL-PRODUCTION-MONITORING-SEGMENTS': True, 'COMET_OVERRIDE_FEATURE_MODEL-PRODUCTION-MONITORING-SEGMENTS-NEW-PANEL': False, 'COMET_OVERRIDE_FEATURE_MODEL-REGISTRY-CARD-DETAILS-V2': True, 'COMET_OVERRIDE_FEATURE_MODEL-REGISTRY-STAGES-TO-TAGS': True, 'COMET_OVERRIDE_FEATURE_MODEL-REGISTRY-STREAMLINE': True, 'COMET_OVERRIDE_FEATURE_NEW-ONBOARDING': True, 'COMET_OVERRIDE_FEATURE_NEW-WORDPRESS-SITE': True, 'COMET_OVERRIDE_FEATURE_NIMROD-TEST': True, 'COMET_OVERRIDE_FEATURE_OLD_TEAMS': True, 'COMET_OVERRIDE_FEATURE_PAYMENTS': True, 'COMET_OVERRIDE_FEATURE_PLOTLY-CHARTS': True, 'COMET_OVERRIDE_FEATURE_PUBLIC-PANELS': True, 'COMET_OVERRIDE_FEATURE_PYTHON-PANELS': True, 'COMET_OVERRIDE_FEATURE_QUERY-FILTER': True, 'COMET_OVERRIDE_FEATURE_QUERY-URL-PARSER': False, 'COMET_OVERRIDE_FEATURE_REACT_HEADER_ICON_OVERRIDE': False, 'COMET_OVERRIDE_FEATURE_REPRODUCE-NOTEBOOKS': True, 'COMET_OVERRIDE_FEATURE_SDK_ANNOUNCEMENT': True, 'COMET_OVERRIDE_FEATURE_SDK_GIT_PATCH': True, 'COMET_OVERRIDE_FEATURE_SDK_GPU_MONITOR': True, 'COMET_OVERRIDE_FEATURE_SDK_HTTP_LOGGING': False, 'COMET_OVERRIDE_FEATURE_SDK_LOG_ENV_VARIABLES': False, 'COMET_OVERRIDE_FEATURE_SDK_METRICS_HTTP_BATCHING': False, 'COMET_OVERRIDE_FEATURE_SDK_USE_HTTP_MESSAGES': True, 'COMET_OVERRIDE_FEATURE_SERVICE-ACCOUNTS': True, 'COMET_OVERRIDE_FEATURE_SYSTEM-METRICS': True, 'COMET_OVERRIDE_FEATURE_SYSTEM-METRICS-GPU': True, 'COMET_OVERRIDE_FEATURE_TAGS': True, 'COMET_OVERRIDE_FEATURE_TEST-FT-ENV-CHECK': True, 'COMET_OVERRIDE_FEATURE_TEXT-TAB': True, 'COMET_OVERRIDE_FEATURE_USE_HTTP_MESSAGES': True}> for COMET_OVERRIDE_FEATURE_SDK_USE_HTTP_MESSAGES\n",
            "DEBUG: 2023-04-03 18:32:28,964: Returning raw: True, parsed: True\n",
            "DEBUG: 2023-04-03 18:32:28,965: Looking up key: file_upload_worker_ratio, namespace: ['comet', 'internal']\n",
            "DEBUG: 2023-04-03 18:32:28,965: Searching <ConfigOSEnv> for COMET_INTERNAL_FILE_UPLOAD_WORKER_RATIO\n",
            "DEBUG: 2023-04-03 18:32:28,966: Searching <ConfigEnvFileEnv: None> for COMET_INTERNAL_FILE_UPLOAD_WORKER_RATIO\n",
            "DEBUG: 2023-04-03 18:32:28,967: Searching <ConfigDictEnv: {'COMET_OVERRIDE_FEATURE_ACADEMIC': True, 'COMET_OVERRIDE_FEATURE_ARTIFACTS': True, 'COMET_OVERRIDE_FEATURE_ASSET-STORAGE': True, 'COMET_OVERRIDE_FEATURE_BILLING-REDESIGN': True, 'COMET_OVERRIDE_FEATURE_BREAK-DOWN-BY': False, 'COMET_OVERRIDE_FEATURE_CLOSEST-HOVER-MODE': True, 'COMET_OVERRIDE_FEATURE_CONFUSION-MATRIX': True, 'COMET_OVERRIDE_FEATURE_CUSTOM-CHARTS': True, 'COMET_OVERRIDE_FEATURE_DASHBOARD-CHARTS': True, 'COMET_OVERRIDE_FEATURE_DASHBOARD_TEMPLATES': True, 'COMET_OVERRIDE_FEATURE_DATA-PANEL': True, 'COMET_OVERRIDE_FEATURE_DBS-MODEL-PRODUCTION-MONITORING': False, 'COMET_OVERRIDE_FEATURE_DISABLE-TABLE-ROW-EXPAND': False, 'COMET_OVERRIDE_FEATURE_GIT-REPRODUCE': True, 'COMET_OVERRIDE_FEATURE_GROUP-BY-ENDPOINT': True, 'COMET_OVERRIDE_FEATURE_GROUPING': True, 'COMET_OVERRIDE_FEATURE_MODEL-APPROVAL-PROCESS': True, 'COMET_OVERRIDE_FEATURE_MODEL-PRODUCTION-MONITORING': False, 'COMET_OVERRIDE_FEATURE_MODEL-PRODUCTION-MONITORING-ACCURACY-METRICS-TAB': True, 'COMET_OVERRIDE_FEATURE_MODEL-PRODUCTION-MONITORING-ALERTS': True, 'COMET_OVERRIDE_FEATURE_MODEL-PRODUCTION-MONITORING-CUSTOM-TRANSFORMATIONS': True, 'COMET_OVERRIDE_FEATURE_MODEL-PRODUCTION-MONITORING-DEBUGGER': True, 'COMET_OVERRIDE_FEATURE_MODEL-PRODUCTION-MONITORING-INTERNAL': False, 'COMET_OVERRIDE_FEATURE_MODEL-PRODUCTION-MONITORING-MODELS-PIPELINE': False, 'COMET_OVERRIDE_FEATURE_MODEL-PRODUCTION-MONITORING-SEGMENTS': True, 'COMET_OVERRIDE_FEATURE_MODEL-PRODUCTION-MONITORING-SEGMENTS-NEW-PANEL': False, 'COMET_OVERRIDE_FEATURE_MODEL-REGISTRY-CARD-DETAILS-V2': True, 'COMET_OVERRIDE_FEATURE_MODEL-REGISTRY-STAGES-TO-TAGS': True, 'COMET_OVERRIDE_FEATURE_MODEL-REGISTRY-STREAMLINE': True, 'COMET_OVERRIDE_FEATURE_NEW-ONBOARDING': True, 'COMET_OVERRIDE_FEATURE_NEW-WORDPRESS-SITE': True, 'COMET_OVERRIDE_FEATURE_NIMROD-TEST': True, 'COMET_OVERRIDE_FEATURE_OLD_TEAMS': True, 'COMET_OVERRIDE_FEATURE_PAYMENTS': True, 'COMET_OVERRIDE_FEATURE_PLOTLY-CHARTS': True, 'COMET_OVERRIDE_FEATURE_PUBLIC-PANELS': True, 'COMET_OVERRIDE_FEATURE_PYTHON-PANELS': True, 'COMET_OVERRIDE_FEATURE_QUERY-FILTER': True, 'COMET_OVERRIDE_FEATURE_QUERY-URL-PARSER': False, 'COMET_OVERRIDE_FEATURE_REACT_HEADER_ICON_OVERRIDE': False, 'COMET_OVERRIDE_FEATURE_REPRODUCE-NOTEBOOKS': True, 'COMET_OVERRIDE_FEATURE_SDK_ANNOUNCEMENT': True, 'COMET_OVERRIDE_FEATURE_SDK_GIT_PATCH': True, 'COMET_OVERRIDE_FEATURE_SDK_GPU_MONITOR': True, 'COMET_OVERRIDE_FEATURE_SDK_HTTP_LOGGING': False, 'COMET_OVERRIDE_FEATURE_SDK_LOG_ENV_VARIABLES': False, 'COMET_OVERRIDE_FEATURE_SDK_METRICS_HTTP_BATCHING': False, 'COMET_OVERRIDE_FEATURE_SDK_USE_HTTP_MESSAGES': True, 'COMET_OVERRIDE_FEATURE_SERVICE-ACCOUNTS': True, 'COMET_OVERRIDE_FEATURE_SYSTEM-METRICS': True, 'COMET_OVERRIDE_FEATURE_SYSTEM-METRICS-GPU': True, 'COMET_OVERRIDE_FEATURE_TAGS': True, 'COMET_OVERRIDE_FEATURE_TEST-FT-ENV-CHECK': True, 'COMET_OVERRIDE_FEATURE_TEXT-TAB': True, 'COMET_OVERRIDE_FEATURE_USE_HTTP_MESSAGES': True}> for COMET_INTERNAL_FILE_UPLOAD_WORKER_RATIO\n",
            "DEBUG: 2023-04-03 18:32:28,968: Found nothing--returning NO_VALUE\n",
            "DEBUG: 2023-04-03 18:32:28,968: Looking up key: worker_count, namespace: ['comet', 'internal']\n",
            "DEBUG: 2023-04-03 18:32:28,969: Searching <ConfigOSEnv> for COMET_INTERNAL_WORKER_COUNT\n",
            "DEBUG: 2023-04-03 18:32:28,974: Searching <ConfigEnvFileEnv: None> for COMET_INTERNAL_WORKER_COUNT\n",
            "DEBUG: 2023-04-03 18:32:28,977: Searching <ConfigDictEnv: {'COMET_OVERRIDE_FEATURE_ACADEMIC': True, 'COMET_OVERRIDE_FEATURE_ARTIFACTS': True, 'COMET_OVERRIDE_FEATURE_ASSET-STORAGE': True, 'COMET_OVERRIDE_FEATURE_BILLING-REDESIGN': True, 'COMET_OVERRIDE_FEATURE_BREAK-DOWN-BY': False, 'COMET_OVERRIDE_FEATURE_CLOSEST-HOVER-MODE': True, 'COMET_OVERRIDE_FEATURE_CONFUSION-MATRIX': True, 'COMET_OVERRIDE_FEATURE_CUSTOM-CHARTS': True, 'COMET_OVERRIDE_FEATURE_DASHBOARD-CHARTS': True, 'COMET_OVERRIDE_FEATURE_DASHBOARD_TEMPLATES': True, 'COMET_OVERRIDE_FEATURE_DATA-PANEL': True, 'COMET_OVERRIDE_FEATURE_DBS-MODEL-PRODUCTION-MONITORING': False, 'COMET_OVERRIDE_FEATURE_DISABLE-TABLE-ROW-EXPAND': False, 'COMET_OVERRIDE_FEATURE_GIT-REPRODUCE': True, 'COMET_OVERRIDE_FEATURE_GROUP-BY-ENDPOINT': True, 'COMET_OVERRIDE_FEATURE_GROUPING': True, 'COMET_OVERRIDE_FEATURE_MODEL-APPROVAL-PROCESS': True, 'COMET_OVERRIDE_FEATURE_MODEL-PRODUCTION-MONITORING': False, 'COMET_OVERRIDE_FEATURE_MODEL-PRODUCTION-MONITORING-ACCURACY-METRICS-TAB': True, 'COMET_OVERRIDE_FEATURE_MODEL-PRODUCTION-MONITORING-ALERTS': True, 'COMET_OVERRIDE_FEATURE_MODEL-PRODUCTION-MONITORING-CUSTOM-TRANSFORMATIONS': True, 'COMET_OVERRIDE_FEATURE_MODEL-PRODUCTION-MONITORING-DEBUGGER': True, 'COMET_OVERRIDE_FEATURE_MODEL-PRODUCTION-MONITORING-INTERNAL': False, 'COMET_OVERRIDE_FEATURE_MODEL-PRODUCTION-MONITORING-MODELS-PIPELINE': False, 'COMET_OVERRIDE_FEATURE_MODEL-PRODUCTION-MONITORING-SEGMENTS': True, 'COMET_OVERRIDE_FEATURE_MODEL-PRODUCTION-MONITORING-SEGMENTS-NEW-PANEL': False, 'COMET_OVERRIDE_FEATURE_MODEL-REGISTRY-CARD-DETAILS-V2': True, 'COMET_OVERRIDE_FEATURE_MODEL-REGISTRY-STAGES-TO-TAGS': True, 'COMET_OVERRIDE_FEATURE_MODEL-REGISTRY-STREAMLINE': True, 'COMET_OVERRIDE_FEATURE_NEW-ONBOARDING': True, 'COMET_OVERRIDE_FEATURE_NEW-WORDPRESS-SITE': True, 'COMET_OVERRIDE_FEATURE_NIMROD-TEST': True, 'COMET_OVERRIDE_FEATURE_OLD_TEAMS': True, 'COMET_OVERRIDE_FEATURE_PAYMENTS': True, 'COMET_OVERRIDE_FEATURE_PLOTLY-CHARTS': True, 'COMET_OVERRIDE_FEATURE_PUBLIC-PANELS': True, 'COMET_OVERRIDE_FEATURE_PYTHON-PANELS': True, 'COMET_OVERRIDE_FEATURE_QUERY-FILTER': True, 'COMET_OVERRIDE_FEATURE_QUERY-URL-PARSER': False, 'COMET_OVERRIDE_FEATURE_REACT_HEADER_ICON_OVERRIDE': False, 'COMET_OVERRIDE_FEATURE_REPRODUCE-NOTEBOOKS': True, 'COMET_OVERRIDE_FEATURE_SDK_ANNOUNCEMENT': True, 'COMET_OVERRIDE_FEATURE_SDK_GIT_PATCH': True, 'COMET_OVERRIDE_FEATURE_SDK_GPU_MONITOR': True, 'COMET_OVERRIDE_FEATURE_SDK_HTTP_LOGGING': False, 'COMET_OVERRIDE_FEATURE_SDK_LOG_ENV_VARIABLES': False, 'COMET_OVERRIDE_FEATURE_SDK_METRICS_HTTP_BATCHING': False, 'COMET_OVERRIDE_FEATURE_SDK_USE_HTTP_MESSAGES': True, 'COMET_OVERRIDE_FEATURE_SERVICE-ACCOUNTS': True, 'COMET_OVERRIDE_FEATURE_SYSTEM-METRICS': True, 'COMET_OVERRIDE_FEATURE_SYSTEM-METRICS-GPU': True, 'COMET_OVERRIDE_FEATURE_TAGS': True, 'COMET_OVERRIDE_FEATURE_TEST-FT-ENV-CHECK': True, 'COMET_OVERRIDE_FEATURE_TEXT-TAB': True, 'COMET_OVERRIDE_FEATURE_USE_HTTP_MESSAGES': True}> for COMET_INTERNAL_WORKER_COUNT\n",
            "DEBUG: 2023-04-03 18:32:28,979: Found nothing--returning NO_VALUE\n",
            "DEBUG: 2023-04-03 18:32:28,980: Looking up key: cleaning, namespace: ['comet', 'timeout']\n",
            "DEBUG: 2023-04-03 18:32:28,982: Searching <ConfigOSEnv> for COMET_TIMEOUT_CLEANING\n",
            "DEBUG: 2023-04-03 18:32:28,983: Searching <ConfigEnvFileEnv: None> for COMET_TIMEOUT_CLEANING\n",
            "DEBUG: 2023-04-03 18:32:28,984: Searching <ConfigDictEnv: {'COMET_OVERRIDE_FEATURE_ACADEMIC': True, 'COMET_OVERRIDE_FEATURE_ARTIFACTS': True, 'COMET_OVERRIDE_FEATURE_ASSET-STORAGE': True, 'COMET_OVERRIDE_FEATURE_BILLING-REDESIGN': True, 'COMET_OVERRIDE_FEATURE_BREAK-DOWN-BY': False, 'COMET_OVERRIDE_FEATURE_CLOSEST-HOVER-MODE': True, 'COMET_OVERRIDE_FEATURE_CONFUSION-MATRIX': True, 'COMET_OVERRIDE_FEATURE_CUSTOM-CHARTS': True, 'COMET_OVERRIDE_FEATURE_DASHBOARD-CHARTS': True, 'COMET_OVERRIDE_FEATURE_DASHBOARD_TEMPLATES': True, 'COMET_OVERRIDE_FEATURE_DATA-PANEL': True, 'COMET_OVERRIDE_FEATURE_DBS-MODEL-PRODUCTION-MONITORING': False, 'COMET_OVERRIDE_FEATURE_DISABLE-TABLE-ROW-EXPAND': False, 'COMET_OVERRIDE_FEATURE_GIT-REPRODUCE': True, 'COMET_OVERRIDE_FEATURE_GROUP-BY-ENDPOINT': True, 'COMET_OVERRIDE_FEATURE_GROUPING': True, 'COMET_OVERRIDE_FEATURE_MODEL-APPROVAL-PROCESS': True, 'COMET_OVERRIDE_FEATURE_MODEL-PRODUCTION-MONITORING': False, 'COMET_OVERRIDE_FEATURE_MODEL-PRODUCTION-MONITORING-ACCURACY-METRICS-TAB': True, 'COMET_OVERRIDE_FEATURE_MODEL-PRODUCTION-MONITORING-ALERTS': True, 'COMET_OVERRIDE_FEATURE_MODEL-PRODUCTION-MONITORING-CUSTOM-TRANSFORMATIONS': True, 'COMET_OVERRIDE_FEATURE_MODEL-PRODUCTION-MONITORING-DEBUGGER': True, 'COMET_OVERRIDE_FEATURE_MODEL-PRODUCTION-MONITORING-INTERNAL': False, 'COMET_OVERRIDE_FEATURE_MODEL-PRODUCTION-MONITORING-MODELS-PIPELINE': False, 'COMET_OVERRIDE_FEATURE_MODEL-PRODUCTION-MONITORING-SEGMENTS': True, 'COMET_OVERRIDE_FEATURE_MODEL-PRODUCTION-MONITORING-SEGMENTS-NEW-PANEL': False, 'COMET_OVERRIDE_FEATURE_MODEL-REGISTRY-CARD-DETAILS-V2': True, 'COMET_OVERRIDE_FEATURE_MODEL-REGISTRY-STAGES-TO-TAGS': True, 'COMET_OVERRIDE_FEATURE_MODEL-REGISTRY-STREAMLINE': True, 'COMET_OVERRIDE_FEATURE_NEW-ONBOARDING': True, 'COMET_OVERRIDE_FEATURE_NEW-WORDPRESS-SITE': True, 'COMET_OVERRIDE_FEATURE_NIMROD-TEST': True, 'COMET_OVERRIDE_FEATURE_OLD_TEAMS': True, 'COMET_OVERRIDE_FEATURE_PAYMENTS': True, 'COMET_OVERRIDE_FEATURE_PLOTLY-CHARTS': True, 'COMET_OVERRIDE_FEATURE_PUBLIC-PANELS': True, 'COMET_OVERRIDE_FEATURE_PYTHON-PANELS': True, 'COMET_OVERRIDE_FEATURE_QUERY-FILTER': True, 'COMET_OVERRIDE_FEATURE_QUERY-URL-PARSER': False, 'COMET_OVERRIDE_FEATURE_REACT_HEADER_ICON_OVERRIDE': False, 'COMET_OVERRIDE_FEATURE_REPRODUCE-NOTEBOOKS': True, 'COMET_OVERRIDE_FEATURE_SDK_ANNOUNCEMENT': True, 'COMET_OVERRIDE_FEATURE_SDK_GIT_PATCH': True, 'COMET_OVERRIDE_FEATURE_SDK_GPU_MONITOR': True, 'COMET_OVERRIDE_FEATURE_SDK_HTTP_LOGGING': False, 'COMET_OVERRIDE_FEATURE_SDK_LOG_ENV_VARIABLES': False, 'COMET_OVERRIDE_FEATURE_SDK_METRICS_HTTP_BATCHING': False, 'COMET_OVERRIDE_FEATURE_SDK_USE_HTTP_MESSAGES': True, 'COMET_OVERRIDE_FEATURE_SERVICE-ACCOUNTS': True, 'COMET_OVERRIDE_FEATURE_SYSTEM-METRICS': True, 'COMET_OVERRIDE_FEATURE_SYSTEM-METRICS-GPU': True, 'COMET_OVERRIDE_FEATURE_TAGS': True, 'COMET_OVERRIDE_FEATURE_TEST-FT-ENV-CHECK': True, 'COMET_OVERRIDE_FEATURE_TEXT-TAB': True, 'COMET_OVERRIDE_FEATURE_USE_HTTP_MESSAGES': True}> for COMET_TIMEOUT_CLEANING\n",
            "DEBUG: 2023-04-03 18:32:28,985: Found nothing--returning NO_VALUE\n",
            "DEBUG: 2023-04-03 18:32:28,987: Looking up key: upload, namespace: ['comet', 'timeout']\n",
            "DEBUG: 2023-04-03 18:32:28,991: Searching <ConfigOSEnv> for COMET_TIMEOUT_UPLOAD\n",
            "DEBUG: 2023-04-03 18:32:28,995: Searching <ConfigEnvFileEnv: None> for COMET_TIMEOUT_UPLOAD\n",
            "DEBUG: 2023-04-03 18:32:28,996: Searching <ConfigDictEnv: {'COMET_OVERRIDE_FEATURE_ACADEMIC': True, 'COMET_OVERRIDE_FEATURE_ARTIFACTS': True, 'COMET_OVERRIDE_FEATURE_ASSET-STORAGE': True, 'COMET_OVERRIDE_FEATURE_BILLING-REDESIGN': True, 'COMET_OVERRIDE_FEATURE_BREAK-DOWN-BY': False, 'COMET_OVERRIDE_FEATURE_CLOSEST-HOVER-MODE': True, 'COMET_OVERRIDE_FEATURE_CONFUSION-MATRIX': True, 'COMET_OVERRIDE_FEATURE_CUSTOM-CHARTS': True, 'COMET_OVERRIDE_FEATURE_DASHBOARD-CHARTS': True, 'COMET_OVERRIDE_FEATURE_DASHBOARD_TEMPLATES': True, 'COMET_OVERRIDE_FEATURE_DATA-PANEL': True, 'COMET_OVERRIDE_FEATURE_DBS-MODEL-PRODUCTION-MONITORING': False, 'COMET_OVERRIDE_FEATURE_DISABLE-TABLE-ROW-EXPAND': False, 'COMET_OVERRIDE_FEATURE_GIT-REPRODUCE': True, 'COMET_OVERRIDE_FEATURE_GROUP-BY-ENDPOINT': True, 'COMET_OVERRIDE_FEATURE_GROUPING': True, 'COMET_OVERRIDE_FEATURE_MODEL-APPROVAL-PROCESS': True, 'COMET_OVERRIDE_FEATURE_MODEL-PRODUCTION-MONITORING': False, 'COMET_OVERRIDE_FEATURE_MODEL-PRODUCTION-MONITORING-ACCURACY-METRICS-TAB': True, 'COMET_OVERRIDE_FEATURE_MODEL-PRODUCTION-MONITORING-ALERTS': True, 'COMET_OVERRIDE_FEATURE_MODEL-PRODUCTION-MONITORING-CUSTOM-TRANSFORMATIONS': True, 'COMET_OVERRIDE_FEATURE_MODEL-PRODUCTION-MONITORING-DEBUGGER': True, 'COMET_OVERRIDE_FEATURE_MODEL-PRODUCTION-MONITORING-INTERNAL': False, 'COMET_OVERRIDE_FEATURE_MODEL-PRODUCTION-MONITORING-MODELS-PIPELINE': False, 'COMET_OVERRIDE_FEATURE_MODEL-PRODUCTION-MONITORING-SEGMENTS': True, 'COMET_OVERRIDE_FEATURE_MODEL-PRODUCTION-MONITORING-SEGMENTS-NEW-PANEL': False, 'COMET_OVERRIDE_FEATURE_MODEL-REGISTRY-CARD-DETAILS-V2': True, 'COMET_OVERRIDE_FEATURE_MODEL-REGISTRY-STAGES-TO-TAGS': True, 'COMET_OVERRIDE_FEATURE_MODEL-REGISTRY-STREAMLINE': True, 'COMET_OVERRIDE_FEATURE_NEW-ONBOARDING': True, 'COMET_OVERRIDE_FEATURE_NEW-WORDPRESS-SITE': True, 'COMET_OVERRIDE_FEATURE_NIMROD-TEST': True, 'COMET_OVERRIDE_FEATURE_OLD_TEAMS': True, 'COMET_OVERRIDE_FEATURE_PAYMENTS': True, 'COMET_OVERRIDE_FEATURE_PLOTLY-CHARTS': True, 'COMET_OVERRIDE_FEATURE_PUBLIC-PANELS': True, 'COMET_OVERRIDE_FEATURE_PYTHON-PANELS': True, 'COMET_OVERRIDE_FEATURE_QUERY-FILTER': True, 'COMET_OVERRIDE_FEATURE_QUERY-URL-PARSER': False, 'COMET_OVERRIDE_FEATURE_REACT_HEADER_ICON_OVERRIDE': False, 'COMET_OVERRIDE_FEATURE_REPRODUCE-NOTEBOOKS': True, 'COMET_OVERRIDE_FEATURE_SDK_ANNOUNCEMENT': True, 'COMET_OVERRIDE_FEATURE_SDK_GIT_PATCH': True, 'COMET_OVERRIDE_FEATURE_SDK_GPU_MONITOR': True, 'COMET_OVERRIDE_FEATURE_SDK_HTTP_LOGGING': False, 'COMET_OVERRIDE_FEATURE_SDK_LOG_ENV_VARIABLES': False, 'COMET_OVERRIDE_FEATURE_SDK_METRICS_HTTP_BATCHING': False, 'COMET_OVERRIDE_FEATURE_SDK_USE_HTTP_MESSAGES': True, 'COMET_OVERRIDE_FEATURE_SERVICE-ACCOUNTS': True, 'COMET_OVERRIDE_FEATURE_SYSTEM-METRICS': True, 'COMET_OVERRIDE_FEATURE_SYSTEM-METRICS-GPU': True, 'COMET_OVERRIDE_FEATURE_TAGS': True, 'COMET_OVERRIDE_FEATURE_TEST-FT-ENV-CHECK': True, 'COMET_OVERRIDE_FEATURE_TEXT-TAB': True, 'COMET_OVERRIDE_FEATURE_USE_HTTP_MESSAGES': True}> for COMET_TIMEOUT_UPLOAD\n",
            "DEBUG: 2023-04-03 18:32:28,996: Found nothing--returning NO_VALUE\n",
            "DEBUG: 2023-04-03 18:32:28,997: Looking up key: file_upload, namespace: ['comet', 'timeout']\n",
            "DEBUG: 2023-04-03 18:32:29,000: Searching <ConfigOSEnv> for COMET_TIMEOUT_FILE_UPLOAD\n",
            "DEBUG: 2023-04-03 18:32:29,002: Searching <ConfigEnvFileEnv: None> for COMET_TIMEOUT_FILE_UPLOAD\n",
            "DEBUG: 2023-04-03 18:32:29,003: Searching <ConfigDictEnv: {'COMET_OVERRIDE_FEATURE_ACADEMIC': True, 'COMET_OVERRIDE_FEATURE_ARTIFACTS': True, 'COMET_OVERRIDE_FEATURE_ASSET-STORAGE': True, 'COMET_OVERRIDE_FEATURE_BILLING-REDESIGN': True, 'COMET_OVERRIDE_FEATURE_BREAK-DOWN-BY': False, 'COMET_OVERRIDE_FEATURE_CLOSEST-HOVER-MODE': True, 'COMET_OVERRIDE_FEATURE_CONFUSION-MATRIX': True, 'COMET_OVERRIDE_FEATURE_CUSTOM-CHARTS': True, 'COMET_OVERRIDE_FEATURE_DASHBOARD-CHARTS': True, 'COMET_OVERRIDE_FEATURE_DASHBOARD_TEMPLATES': True, 'COMET_OVERRIDE_FEATURE_DATA-PANEL': True, 'COMET_OVERRIDE_FEATURE_DBS-MODEL-PRODUCTION-MONITORING': False, 'COMET_OVERRIDE_FEATURE_DISABLE-TABLE-ROW-EXPAND': False, 'COMET_OVERRIDE_FEATURE_GIT-REPRODUCE': True, 'COMET_OVERRIDE_FEATURE_GROUP-BY-ENDPOINT': True, 'COMET_OVERRIDE_FEATURE_GROUPING': True, 'COMET_OVERRIDE_FEATURE_MODEL-APPROVAL-PROCESS': True, 'COMET_OVERRIDE_FEATURE_MODEL-PRODUCTION-MONITORING': False, 'COMET_OVERRIDE_FEATURE_MODEL-PRODUCTION-MONITORING-ACCURACY-METRICS-TAB': True, 'COMET_OVERRIDE_FEATURE_MODEL-PRODUCTION-MONITORING-ALERTS': True, 'COMET_OVERRIDE_FEATURE_MODEL-PRODUCTION-MONITORING-CUSTOM-TRANSFORMATIONS': True, 'COMET_OVERRIDE_FEATURE_MODEL-PRODUCTION-MONITORING-DEBUGGER': True, 'COMET_OVERRIDE_FEATURE_MODEL-PRODUCTION-MONITORING-INTERNAL': False, 'COMET_OVERRIDE_FEATURE_MODEL-PRODUCTION-MONITORING-MODELS-PIPELINE': False, 'COMET_OVERRIDE_FEATURE_MODEL-PRODUCTION-MONITORING-SEGMENTS': True, 'COMET_OVERRIDE_FEATURE_MODEL-PRODUCTION-MONITORING-SEGMENTS-NEW-PANEL': False, 'COMET_OVERRIDE_FEATURE_MODEL-REGISTRY-CARD-DETAILS-V2': True, 'COMET_OVERRIDE_FEATURE_MODEL-REGISTRY-STAGES-TO-TAGS': True, 'COMET_OVERRIDE_FEATURE_MODEL-REGISTRY-STREAMLINE': True, 'COMET_OVERRIDE_FEATURE_NEW-ONBOARDING': True, 'COMET_OVERRIDE_FEATURE_NEW-WORDPRESS-SITE': True, 'COMET_OVERRIDE_FEATURE_NIMROD-TEST': True, 'COMET_OVERRIDE_FEATURE_OLD_TEAMS': True, 'COMET_OVERRIDE_FEATURE_PAYMENTS': True, 'COMET_OVERRIDE_FEATURE_PLOTLY-CHARTS': True, 'COMET_OVERRIDE_FEATURE_PUBLIC-PANELS': True, 'COMET_OVERRIDE_FEATURE_PYTHON-PANELS': True, 'COMET_OVERRIDE_FEATURE_QUERY-FILTER': True, 'COMET_OVERRIDE_FEATURE_QUERY-URL-PARSER': False, 'COMET_OVERRIDE_FEATURE_REACT_HEADER_ICON_OVERRIDE': False, 'COMET_OVERRIDE_FEATURE_REPRODUCE-NOTEBOOKS': True, 'COMET_OVERRIDE_FEATURE_SDK_ANNOUNCEMENT': True, 'COMET_OVERRIDE_FEATURE_SDK_GIT_PATCH': True, 'COMET_OVERRIDE_FEATURE_SDK_GPU_MONITOR': True, 'COMET_OVERRIDE_FEATURE_SDK_HTTP_LOGGING': False, 'COMET_OVERRIDE_FEATURE_SDK_LOG_ENV_VARIABLES': False, 'COMET_OVERRIDE_FEATURE_SDK_METRICS_HTTP_BATCHING': False, 'COMET_OVERRIDE_FEATURE_SDK_USE_HTTP_MESSAGES': True, 'COMET_OVERRIDE_FEATURE_SERVICE-ACCOUNTS': True, 'COMET_OVERRIDE_FEATURE_SYSTEM-METRICS': True, 'COMET_OVERRIDE_FEATURE_SYSTEM-METRICS-GPU': True, 'COMET_OVERRIDE_FEATURE_TAGS': True, 'COMET_OVERRIDE_FEATURE_TEST-FT-ENV-CHECK': True, 'COMET_OVERRIDE_FEATURE_TEXT-TAB': True, 'COMET_OVERRIDE_FEATURE_USE_HTTP_MESSAGES': True}> for COMET_TIMEOUT_FILE_UPLOAD\n",
            "DEBUG: 2023-04-03 18:32:29,007: Found nothing--returning NO_VALUE\n",
            "DEBUG: 2023-04-03 18:32:29,009: Looking up key: use_compression, namespace: ['comet', 'message_batch']\n",
            "DEBUG: 2023-04-03 18:32:29,010: Searching <ConfigOSEnv> for COMET_MESSAGE_BATCH_USE_COMPRESSION\n",
            "DEBUG: 2023-04-03 18:32:29,011: Searching <ConfigEnvFileEnv: None> for COMET_MESSAGE_BATCH_USE_COMPRESSION\n",
            "DEBUG: 2023-04-03 18:32:29,012: Searching <ConfigDictEnv: {'COMET_OVERRIDE_FEATURE_ACADEMIC': True, 'COMET_OVERRIDE_FEATURE_ARTIFACTS': True, 'COMET_OVERRIDE_FEATURE_ASSET-STORAGE': True, 'COMET_OVERRIDE_FEATURE_BILLING-REDESIGN': True, 'COMET_OVERRIDE_FEATURE_BREAK-DOWN-BY': False, 'COMET_OVERRIDE_FEATURE_CLOSEST-HOVER-MODE': True, 'COMET_OVERRIDE_FEATURE_CONFUSION-MATRIX': True, 'COMET_OVERRIDE_FEATURE_CUSTOM-CHARTS': True, 'COMET_OVERRIDE_FEATURE_DASHBOARD-CHARTS': True, 'COMET_OVERRIDE_FEATURE_DASHBOARD_TEMPLATES': True, 'COMET_OVERRIDE_FEATURE_DATA-PANEL': True, 'COMET_OVERRIDE_FEATURE_DBS-MODEL-PRODUCTION-MONITORING': False, 'COMET_OVERRIDE_FEATURE_DISABLE-TABLE-ROW-EXPAND': False, 'COMET_OVERRIDE_FEATURE_GIT-REPRODUCE': True, 'COMET_OVERRIDE_FEATURE_GROUP-BY-ENDPOINT': True, 'COMET_OVERRIDE_FEATURE_GROUPING': True, 'COMET_OVERRIDE_FEATURE_MODEL-APPROVAL-PROCESS': True, 'COMET_OVERRIDE_FEATURE_MODEL-PRODUCTION-MONITORING': False, 'COMET_OVERRIDE_FEATURE_MODEL-PRODUCTION-MONITORING-ACCURACY-METRICS-TAB': True, 'COMET_OVERRIDE_FEATURE_MODEL-PRODUCTION-MONITORING-ALERTS': True, 'COMET_OVERRIDE_FEATURE_MODEL-PRODUCTION-MONITORING-CUSTOM-TRANSFORMATIONS': True, 'COMET_OVERRIDE_FEATURE_MODEL-PRODUCTION-MONITORING-DEBUGGER': True, 'COMET_OVERRIDE_FEATURE_MODEL-PRODUCTION-MONITORING-INTERNAL': False, 'COMET_OVERRIDE_FEATURE_MODEL-PRODUCTION-MONITORING-MODELS-PIPELINE': False, 'COMET_OVERRIDE_FEATURE_MODEL-PRODUCTION-MONITORING-SEGMENTS': True, 'COMET_OVERRIDE_FEATURE_MODEL-PRODUCTION-MONITORING-SEGMENTS-NEW-PANEL': False, 'COMET_OVERRIDE_FEATURE_MODEL-REGISTRY-CARD-DETAILS-V2': True, 'COMET_OVERRIDE_FEATURE_MODEL-REGISTRY-STAGES-TO-TAGS': True, 'COMET_OVERRIDE_FEATURE_MODEL-REGISTRY-STREAMLINE': True, 'COMET_OVERRIDE_FEATURE_NEW-ONBOARDING': True, 'COMET_OVERRIDE_FEATURE_NEW-WORDPRESS-SITE': True, 'COMET_OVERRIDE_FEATURE_NIMROD-TEST': True, 'COMET_OVERRIDE_FEATURE_OLD_TEAMS': True, 'COMET_OVERRIDE_FEATURE_PAYMENTS': True, 'COMET_OVERRIDE_FEATURE_PLOTLY-CHARTS': True, 'COMET_OVERRIDE_FEATURE_PUBLIC-PANELS': True, 'COMET_OVERRIDE_FEATURE_PYTHON-PANELS': True, 'COMET_OVERRIDE_FEATURE_QUERY-FILTER': True, 'COMET_OVERRIDE_FEATURE_QUERY-URL-PARSER': False, 'COMET_OVERRIDE_FEATURE_REACT_HEADER_ICON_OVERRIDE': False, 'COMET_OVERRIDE_FEATURE_REPRODUCE-NOTEBOOKS': True, 'COMET_OVERRIDE_FEATURE_SDK_ANNOUNCEMENT': True, 'COMET_OVERRIDE_FEATURE_SDK_GIT_PATCH': True, 'COMET_OVERRIDE_FEATURE_SDK_GPU_MONITOR': True, 'COMET_OVERRIDE_FEATURE_SDK_HTTP_LOGGING': False, 'COMET_OVERRIDE_FEATURE_SDK_LOG_ENV_VARIABLES': False, 'COMET_OVERRIDE_FEATURE_SDK_METRICS_HTTP_BATCHING': False, 'COMET_OVERRIDE_FEATURE_SDK_USE_HTTP_MESSAGES': True, 'COMET_OVERRIDE_FEATURE_SERVICE-ACCOUNTS': True, 'COMET_OVERRIDE_FEATURE_SYSTEM-METRICS': True, 'COMET_OVERRIDE_FEATURE_SYSTEM-METRICS-GPU': True, 'COMET_OVERRIDE_FEATURE_TAGS': True, 'COMET_OVERRIDE_FEATURE_TEST-FT-ENV-CHECK': True, 'COMET_OVERRIDE_FEATURE_TEXT-TAB': True, 'COMET_OVERRIDE_FEATURE_USE_HTTP_MESSAGES': True}> for COMET_MESSAGE_BATCH_USE_COMPRESSION\n",
            "DEBUG: 2023-04-03 18:32:29,013: Found nothing--returning NO_VALUE\n",
            "DEBUG: 2023-04-03 18:32:29,014: Looking up key: metric_interval, namespace: ['comet', 'message_batch']\n",
            "DEBUG: 2023-04-03 18:32:29,015: Searching <ConfigOSEnv> for COMET_MESSAGE_BATCH_METRIC_INTERVAL\n",
            "DEBUG: 2023-04-03 18:32:29,017: Searching <ConfigEnvFileEnv: None> for COMET_MESSAGE_BATCH_METRIC_INTERVAL\n",
            "DEBUG: 2023-04-03 18:32:29,018: Searching <ConfigDictEnv: {'COMET_OVERRIDE_FEATURE_ACADEMIC': True, 'COMET_OVERRIDE_FEATURE_ARTIFACTS': True, 'COMET_OVERRIDE_FEATURE_ASSET-STORAGE': True, 'COMET_OVERRIDE_FEATURE_BILLING-REDESIGN': True, 'COMET_OVERRIDE_FEATURE_BREAK-DOWN-BY': False, 'COMET_OVERRIDE_FEATURE_CLOSEST-HOVER-MODE': True, 'COMET_OVERRIDE_FEATURE_CONFUSION-MATRIX': True, 'COMET_OVERRIDE_FEATURE_CUSTOM-CHARTS': True, 'COMET_OVERRIDE_FEATURE_DASHBOARD-CHARTS': True, 'COMET_OVERRIDE_FEATURE_DASHBOARD_TEMPLATES': True, 'COMET_OVERRIDE_FEATURE_DATA-PANEL': True, 'COMET_OVERRIDE_FEATURE_DBS-MODEL-PRODUCTION-MONITORING': False, 'COMET_OVERRIDE_FEATURE_DISABLE-TABLE-ROW-EXPAND': False, 'COMET_OVERRIDE_FEATURE_GIT-REPRODUCE': True, 'COMET_OVERRIDE_FEATURE_GROUP-BY-ENDPOINT': True, 'COMET_OVERRIDE_FEATURE_GROUPING': True, 'COMET_OVERRIDE_FEATURE_MODEL-APPROVAL-PROCESS': True, 'COMET_OVERRIDE_FEATURE_MODEL-PRODUCTION-MONITORING': False, 'COMET_OVERRIDE_FEATURE_MODEL-PRODUCTION-MONITORING-ACCURACY-METRICS-TAB': True, 'COMET_OVERRIDE_FEATURE_MODEL-PRODUCTION-MONITORING-ALERTS': True, 'COMET_OVERRIDE_FEATURE_MODEL-PRODUCTION-MONITORING-CUSTOM-TRANSFORMATIONS': True, 'COMET_OVERRIDE_FEATURE_MODEL-PRODUCTION-MONITORING-DEBUGGER': True, 'COMET_OVERRIDE_FEATURE_MODEL-PRODUCTION-MONITORING-INTERNAL': False, 'COMET_OVERRIDE_FEATURE_MODEL-PRODUCTION-MONITORING-MODELS-PIPELINE': False, 'COMET_OVERRIDE_FEATURE_MODEL-PRODUCTION-MONITORING-SEGMENTS': True, 'COMET_OVERRIDE_FEATURE_MODEL-PRODUCTION-MONITORING-SEGMENTS-NEW-PANEL': False, 'COMET_OVERRIDE_FEATURE_MODEL-REGISTRY-CARD-DETAILS-V2': True, 'COMET_OVERRIDE_FEATURE_MODEL-REGISTRY-STAGES-TO-TAGS': True, 'COMET_OVERRIDE_FEATURE_MODEL-REGISTRY-STREAMLINE': True, 'COMET_OVERRIDE_FEATURE_NEW-ONBOARDING': True, 'COMET_OVERRIDE_FEATURE_NEW-WORDPRESS-SITE': True, 'COMET_OVERRIDE_FEATURE_NIMROD-TEST': True, 'COMET_OVERRIDE_FEATURE_OLD_TEAMS': True, 'COMET_OVERRIDE_FEATURE_PAYMENTS': True, 'COMET_OVERRIDE_FEATURE_PLOTLY-CHARTS': True, 'COMET_OVERRIDE_FEATURE_PUBLIC-PANELS': True, 'COMET_OVERRIDE_FEATURE_PYTHON-PANELS': True, 'COMET_OVERRIDE_FEATURE_QUERY-FILTER': True, 'COMET_OVERRIDE_FEATURE_QUERY-URL-PARSER': False, 'COMET_OVERRIDE_FEATURE_REACT_HEADER_ICON_OVERRIDE': False, 'COMET_OVERRIDE_FEATURE_REPRODUCE-NOTEBOOKS': True, 'COMET_OVERRIDE_FEATURE_SDK_ANNOUNCEMENT': True, 'COMET_OVERRIDE_FEATURE_SDK_GIT_PATCH': True, 'COMET_OVERRIDE_FEATURE_SDK_GPU_MONITOR': True, 'COMET_OVERRIDE_FEATURE_SDK_HTTP_LOGGING': False, 'COMET_OVERRIDE_FEATURE_SDK_LOG_ENV_VARIABLES': False, 'COMET_OVERRIDE_FEATURE_SDK_METRICS_HTTP_BATCHING': False, 'COMET_OVERRIDE_FEATURE_SDK_USE_HTTP_MESSAGES': True, 'COMET_OVERRIDE_FEATURE_SERVICE-ACCOUNTS': True, 'COMET_OVERRIDE_FEATURE_SYSTEM-METRICS': True, 'COMET_OVERRIDE_FEATURE_SYSTEM-METRICS-GPU': True, 'COMET_OVERRIDE_FEATURE_TAGS': True, 'COMET_OVERRIDE_FEATURE_TEST-FT-ENV-CHECK': True, 'COMET_OVERRIDE_FEATURE_TEXT-TAB': True, 'COMET_OVERRIDE_FEATURE_USE_HTTP_MESSAGES': True}> for COMET_MESSAGE_BATCH_METRIC_INTERVAL\n",
            "DEBUG: 2023-04-03 18:32:29,018: Found nothing--returning NO_VALUE\n",
            "DEBUG: 2023-04-03 18:32:29,020: Looking up key: metric_max_size, namespace: ['comet', 'message_batch']\n",
            "DEBUG: 2023-04-03 18:32:29,026: Searching <ConfigOSEnv> for COMET_MESSAGE_BATCH_METRIC_MAX_SIZE\n",
            "DEBUG: 2023-04-03 18:32:29,027: Searching <ConfigEnvFileEnv: None> for COMET_MESSAGE_BATCH_METRIC_MAX_SIZE\n",
            "DEBUG: 2023-04-03 18:32:29,028: Searching <ConfigDictEnv: {'COMET_OVERRIDE_FEATURE_ACADEMIC': True, 'COMET_OVERRIDE_FEATURE_ARTIFACTS': True, 'COMET_OVERRIDE_FEATURE_ASSET-STORAGE': True, 'COMET_OVERRIDE_FEATURE_BILLING-REDESIGN': True, 'COMET_OVERRIDE_FEATURE_BREAK-DOWN-BY': False, 'COMET_OVERRIDE_FEATURE_CLOSEST-HOVER-MODE': True, 'COMET_OVERRIDE_FEATURE_CONFUSION-MATRIX': True, 'COMET_OVERRIDE_FEATURE_CUSTOM-CHARTS': True, 'COMET_OVERRIDE_FEATURE_DASHBOARD-CHARTS': True, 'COMET_OVERRIDE_FEATURE_DASHBOARD_TEMPLATES': True, 'COMET_OVERRIDE_FEATURE_DATA-PANEL': True, 'COMET_OVERRIDE_FEATURE_DBS-MODEL-PRODUCTION-MONITORING': False, 'COMET_OVERRIDE_FEATURE_DISABLE-TABLE-ROW-EXPAND': False, 'COMET_OVERRIDE_FEATURE_GIT-REPRODUCE': True, 'COMET_OVERRIDE_FEATURE_GROUP-BY-ENDPOINT': True, 'COMET_OVERRIDE_FEATURE_GROUPING': True, 'COMET_OVERRIDE_FEATURE_MODEL-APPROVAL-PROCESS': True, 'COMET_OVERRIDE_FEATURE_MODEL-PRODUCTION-MONITORING': False, 'COMET_OVERRIDE_FEATURE_MODEL-PRODUCTION-MONITORING-ACCURACY-METRICS-TAB': True, 'COMET_OVERRIDE_FEATURE_MODEL-PRODUCTION-MONITORING-ALERTS': True, 'COMET_OVERRIDE_FEATURE_MODEL-PRODUCTION-MONITORING-CUSTOM-TRANSFORMATIONS': True, 'COMET_OVERRIDE_FEATURE_MODEL-PRODUCTION-MONITORING-DEBUGGER': True, 'COMET_OVERRIDE_FEATURE_MODEL-PRODUCTION-MONITORING-INTERNAL': False, 'COMET_OVERRIDE_FEATURE_MODEL-PRODUCTION-MONITORING-MODELS-PIPELINE': False, 'COMET_OVERRIDE_FEATURE_MODEL-PRODUCTION-MONITORING-SEGMENTS': True, 'COMET_OVERRIDE_FEATURE_MODEL-PRODUCTION-MONITORING-SEGMENTS-NEW-PANEL': False, 'COMET_OVERRIDE_FEATURE_MODEL-REGISTRY-CARD-DETAILS-V2': True, 'COMET_OVERRIDE_FEATURE_MODEL-REGISTRY-STAGES-TO-TAGS': True, 'COMET_OVERRIDE_FEATURE_MODEL-REGISTRY-STREAMLINE': True, 'COMET_OVERRIDE_FEATURE_NEW-ONBOARDING': True, 'COMET_OVERRIDE_FEATURE_NEW-WORDPRESS-SITE': True, 'COMET_OVERRIDE_FEATURE_NIMROD-TEST': True, 'COMET_OVERRIDE_FEATURE_OLD_TEAMS': True, 'COMET_OVERRIDE_FEATURE_PAYMENTS': True, 'COMET_OVERRIDE_FEATURE_PLOTLY-CHARTS': True, 'COMET_OVERRIDE_FEATURE_PUBLIC-PANELS': True, 'COMET_OVERRIDE_FEATURE_PYTHON-PANELS': True, 'COMET_OVERRIDE_FEATURE_QUERY-FILTER': True, 'COMET_OVERRIDE_FEATURE_QUERY-URL-PARSER': False, 'COMET_OVERRIDE_FEATURE_REACT_HEADER_ICON_OVERRIDE': False, 'COMET_OVERRIDE_FEATURE_REPRODUCE-NOTEBOOKS': True, 'COMET_OVERRIDE_FEATURE_SDK_ANNOUNCEMENT': True, 'COMET_OVERRIDE_FEATURE_SDK_GIT_PATCH': True, 'COMET_OVERRIDE_FEATURE_SDK_GPU_MONITOR': True, 'COMET_OVERRIDE_FEATURE_SDK_HTTP_LOGGING': False, 'COMET_OVERRIDE_FEATURE_SDK_LOG_ENV_VARIABLES': False, 'COMET_OVERRIDE_FEATURE_SDK_METRICS_HTTP_BATCHING': False, 'COMET_OVERRIDE_FEATURE_SDK_USE_HTTP_MESSAGES': True, 'COMET_OVERRIDE_FEATURE_SERVICE-ACCOUNTS': True, 'COMET_OVERRIDE_FEATURE_SYSTEM-METRICS': True, 'COMET_OVERRIDE_FEATURE_SYSTEM-METRICS-GPU': True, 'COMET_OVERRIDE_FEATURE_TAGS': True, 'COMET_OVERRIDE_FEATURE_TEST-FT-ENV-CHECK': True, 'COMET_OVERRIDE_FEATURE_TEXT-TAB': True, 'COMET_OVERRIDE_FEATURE_USE_HTTP_MESSAGES': True}> for COMET_MESSAGE_BATCH_METRIC_MAX_SIZE\n",
            "DEBUG: 2023-04-03 18:32:29,030: Found nothing--returning NO_VALUE\n",
            "DEBUG: 2023-04-03 18:32:29,031: Looking up key: parameters_interval, namespace: ['comet', 'message_batch']\n",
            "DEBUG: 2023-04-03 18:32:29,032: Searching <ConfigOSEnv> for COMET_MESSAGE_BATCH_PARAMETERS_INTERVAL\n",
            "DEBUG: 2023-04-03 18:32:29,032: Searching <ConfigEnvFileEnv: None> for COMET_MESSAGE_BATCH_PARAMETERS_INTERVAL\n",
            "DEBUG: 2023-04-03 18:32:29,033: Searching <ConfigDictEnv: {'COMET_OVERRIDE_FEATURE_ACADEMIC': True, 'COMET_OVERRIDE_FEATURE_ARTIFACTS': True, 'COMET_OVERRIDE_FEATURE_ASSET-STORAGE': True, 'COMET_OVERRIDE_FEATURE_BILLING-REDESIGN': True, 'COMET_OVERRIDE_FEATURE_BREAK-DOWN-BY': False, 'COMET_OVERRIDE_FEATURE_CLOSEST-HOVER-MODE': True, 'COMET_OVERRIDE_FEATURE_CONFUSION-MATRIX': True, 'COMET_OVERRIDE_FEATURE_CUSTOM-CHARTS': True, 'COMET_OVERRIDE_FEATURE_DASHBOARD-CHARTS': True, 'COMET_OVERRIDE_FEATURE_DASHBOARD_TEMPLATES': True, 'COMET_OVERRIDE_FEATURE_DATA-PANEL': True, 'COMET_OVERRIDE_FEATURE_DBS-MODEL-PRODUCTION-MONITORING': False, 'COMET_OVERRIDE_FEATURE_DISABLE-TABLE-ROW-EXPAND': False, 'COMET_OVERRIDE_FEATURE_GIT-REPRODUCE': True, 'COMET_OVERRIDE_FEATURE_GROUP-BY-ENDPOINT': True, 'COMET_OVERRIDE_FEATURE_GROUPING': True, 'COMET_OVERRIDE_FEATURE_MODEL-APPROVAL-PROCESS': True, 'COMET_OVERRIDE_FEATURE_MODEL-PRODUCTION-MONITORING': False, 'COMET_OVERRIDE_FEATURE_MODEL-PRODUCTION-MONITORING-ACCURACY-METRICS-TAB': True, 'COMET_OVERRIDE_FEATURE_MODEL-PRODUCTION-MONITORING-ALERTS': True, 'COMET_OVERRIDE_FEATURE_MODEL-PRODUCTION-MONITORING-CUSTOM-TRANSFORMATIONS': True, 'COMET_OVERRIDE_FEATURE_MODEL-PRODUCTION-MONITORING-DEBUGGER': True, 'COMET_OVERRIDE_FEATURE_MODEL-PRODUCTION-MONITORING-INTERNAL': False, 'COMET_OVERRIDE_FEATURE_MODEL-PRODUCTION-MONITORING-MODELS-PIPELINE': False, 'COMET_OVERRIDE_FEATURE_MODEL-PRODUCTION-MONITORING-SEGMENTS': True, 'COMET_OVERRIDE_FEATURE_MODEL-PRODUCTION-MONITORING-SEGMENTS-NEW-PANEL': False, 'COMET_OVERRIDE_FEATURE_MODEL-REGISTRY-CARD-DETAILS-V2': True, 'COMET_OVERRIDE_FEATURE_MODEL-REGISTRY-STAGES-TO-TAGS': True, 'COMET_OVERRIDE_FEATURE_MODEL-REGISTRY-STREAMLINE': True, 'COMET_OVERRIDE_FEATURE_NEW-ONBOARDING': True, 'COMET_OVERRIDE_FEATURE_NEW-WORDPRESS-SITE': True, 'COMET_OVERRIDE_FEATURE_NIMROD-TEST': True, 'COMET_OVERRIDE_FEATURE_OLD_TEAMS': True, 'COMET_OVERRIDE_FEATURE_PAYMENTS': True, 'COMET_OVERRIDE_FEATURE_PLOTLY-CHARTS': True, 'COMET_OVERRIDE_FEATURE_PUBLIC-PANELS': True, 'COMET_OVERRIDE_FEATURE_PYTHON-PANELS': True, 'COMET_OVERRIDE_FEATURE_QUERY-FILTER': True, 'COMET_OVERRIDE_FEATURE_QUERY-URL-PARSER': False, 'COMET_OVERRIDE_FEATURE_REACT_HEADER_ICON_OVERRIDE': False, 'COMET_OVERRIDE_FEATURE_REPRODUCE-NOTEBOOKS': True, 'COMET_OVERRIDE_FEATURE_SDK_ANNOUNCEMENT': True, 'COMET_OVERRIDE_FEATURE_SDK_GIT_PATCH': True, 'COMET_OVERRIDE_FEATURE_SDK_GPU_MONITOR': True, 'COMET_OVERRIDE_FEATURE_SDK_HTTP_LOGGING': False, 'COMET_OVERRIDE_FEATURE_SDK_LOG_ENV_VARIABLES': False, 'COMET_OVERRIDE_FEATURE_SDK_METRICS_HTTP_BATCHING': False, 'COMET_OVERRIDE_FEATURE_SDK_USE_HTTP_MESSAGES': True, 'COMET_OVERRIDE_FEATURE_SERVICE-ACCOUNTS': True, 'COMET_OVERRIDE_FEATURE_SYSTEM-METRICS': True, 'COMET_OVERRIDE_FEATURE_SYSTEM-METRICS-GPU': True, 'COMET_OVERRIDE_FEATURE_TAGS': True, 'COMET_OVERRIDE_FEATURE_TEST-FT-ENV-CHECK': True, 'COMET_OVERRIDE_FEATURE_TEXT-TAB': True, 'COMET_OVERRIDE_FEATURE_USE_HTTP_MESSAGES': True}> for COMET_MESSAGE_BATCH_PARAMETERS_INTERVAL\n",
            "DEBUG: 2023-04-03 18:32:29,034: Found nothing--returning NO_VALUE\n",
            "DEBUG: 2023-04-03 18:32:29,034: Looking up key: stdout_interval, namespace: ['comet', 'message_batch']\n",
            "DEBUG: 2023-04-03 18:32:29,035: Searching <ConfigOSEnv> for COMET_MESSAGE_BATCH_STDOUT_INTERVAL\n",
            "DEBUG: 2023-04-03 18:32:29,036: Searching <ConfigEnvFileEnv: None> for COMET_MESSAGE_BATCH_STDOUT_INTERVAL\n",
            "DEBUG: 2023-04-03 18:32:29,037: Searching <ConfigDictEnv: {'COMET_OVERRIDE_FEATURE_ACADEMIC': True, 'COMET_OVERRIDE_FEATURE_ARTIFACTS': True, 'COMET_OVERRIDE_FEATURE_ASSET-STORAGE': True, 'COMET_OVERRIDE_FEATURE_BILLING-REDESIGN': True, 'COMET_OVERRIDE_FEATURE_BREAK-DOWN-BY': False, 'COMET_OVERRIDE_FEATURE_CLOSEST-HOVER-MODE': True, 'COMET_OVERRIDE_FEATURE_CONFUSION-MATRIX': True, 'COMET_OVERRIDE_FEATURE_CUSTOM-CHARTS': True, 'COMET_OVERRIDE_FEATURE_DASHBOARD-CHARTS': True, 'COMET_OVERRIDE_FEATURE_DASHBOARD_TEMPLATES': True, 'COMET_OVERRIDE_FEATURE_DATA-PANEL': True, 'COMET_OVERRIDE_FEATURE_DBS-MODEL-PRODUCTION-MONITORING': False, 'COMET_OVERRIDE_FEATURE_DISABLE-TABLE-ROW-EXPAND': False, 'COMET_OVERRIDE_FEATURE_GIT-REPRODUCE': True, 'COMET_OVERRIDE_FEATURE_GROUP-BY-ENDPOINT': True, 'COMET_OVERRIDE_FEATURE_GROUPING': True, 'COMET_OVERRIDE_FEATURE_MODEL-APPROVAL-PROCESS': True, 'COMET_OVERRIDE_FEATURE_MODEL-PRODUCTION-MONITORING': False, 'COMET_OVERRIDE_FEATURE_MODEL-PRODUCTION-MONITORING-ACCURACY-METRICS-TAB': True, 'COMET_OVERRIDE_FEATURE_MODEL-PRODUCTION-MONITORING-ALERTS': True, 'COMET_OVERRIDE_FEATURE_MODEL-PRODUCTION-MONITORING-CUSTOM-TRANSFORMATIONS': True, 'COMET_OVERRIDE_FEATURE_MODEL-PRODUCTION-MONITORING-DEBUGGER': True, 'COMET_OVERRIDE_FEATURE_MODEL-PRODUCTION-MONITORING-INTERNAL': False, 'COMET_OVERRIDE_FEATURE_MODEL-PRODUCTION-MONITORING-MODELS-PIPELINE': False, 'COMET_OVERRIDE_FEATURE_MODEL-PRODUCTION-MONITORING-SEGMENTS': True, 'COMET_OVERRIDE_FEATURE_MODEL-PRODUCTION-MONITORING-SEGMENTS-NEW-PANEL': False, 'COMET_OVERRIDE_FEATURE_MODEL-REGISTRY-CARD-DETAILS-V2': True, 'COMET_OVERRIDE_FEATURE_MODEL-REGISTRY-STAGES-TO-TAGS': True, 'COMET_OVERRIDE_FEATURE_MODEL-REGISTRY-STREAMLINE': True, 'COMET_OVERRIDE_FEATURE_NEW-ONBOARDING': True, 'COMET_OVERRIDE_FEATURE_NEW-WORDPRESS-SITE': True, 'COMET_OVERRIDE_FEATURE_NIMROD-TEST': True, 'COMET_OVERRIDE_FEATURE_OLD_TEAMS': True, 'COMET_OVERRIDE_FEATURE_PAYMENTS': True, 'COMET_OVERRIDE_FEATURE_PLOTLY-CHARTS': True, 'COMET_OVERRIDE_FEATURE_PUBLIC-PANELS': True, 'COMET_OVERRIDE_FEATURE_PYTHON-PANELS': True, 'COMET_OVERRIDE_FEATURE_QUERY-FILTER': True, 'COMET_OVERRIDE_FEATURE_QUERY-URL-PARSER': False, 'COMET_OVERRIDE_FEATURE_REACT_HEADER_ICON_OVERRIDE': False, 'COMET_OVERRIDE_FEATURE_REPRODUCE-NOTEBOOKS': True, 'COMET_OVERRIDE_FEATURE_SDK_ANNOUNCEMENT': True, 'COMET_OVERRIDE_FEATURE_SDK_GIT_PATCH': True, 'COMET_OVERRIDE_FEATURE_SDK_GPU_MONITOR': True, 'COMET_OVERRIDE_FEATURE_SDK_HTTP_LOGGING': False, 'COMET_OVERRIDE_FEATURE_SDK_LOG_ENV_VARIABLES': False, 'COMET_OVERRIDE_FEATURE_SDK_METRICS_HTTP_BATCHING': False, 'COMET_OVERRIDE_FEATURE_SDK_USE_HTTP_MESSAGES': True, 'COMET_OVERRIDE_FEATURE_SERVICE-ACCOUNTS': True, 'COMET_OVERRIDE_FEATURE_SYSTEM-METRICS': True, 'COMET_OVERRIDE_FEATURE_SYSTEM-METRICS-GPU': True, 'COMET_OVERRIDE_FEATURE_TAGS': True, 'COMET_OVERRIDE_FEATURE_TEST-FT-ENV-CHECK': True, 'COMET_OVERRIDE_FEATURE_TEXT-TAB': True, 'COMET_OVERRIDE_FEATURE_USE_HTTP_MESSAGES': True}> for COMET_MESSAGE_BATCH_STDOUT_INTERVAL\n",
            "DEBUG: 2023-04-03 18:32:29,041: Found nothing--returning NO_VALUE\n",
            "DEBUG: 2023-04-03 18:32:29,042: Looking up key: stdout_max_size, namespace: ['comet', 'message_batch']\n",
            "DEBUG: 2023-04-03 18:32:29,043: Searching <ConfigOSEnv> for COMET_MESSAGE_BATCH_STDOUT_MAX_SIZE\n",
            "DEBUG: 2023-04-03 18:32:29,044: Searching <ConfigEnvFileEnv: None> for COMET_MESSAGE_BATCH_STDOUT_MAX_SIZE\n",
            "DEBUG: 2023-04-03 18:32:29,045: Searching <ConfigDictEnv: {'COMET_OVERRIDE_FEATURE_ACADEMIC': True, 'COMET_OVERRIDE_FEATURE_ARTIFACTS': True, 'COMET_OVERRIDE_FEATURE_ASSET-STORAGE': True, 'COMET_OVERRIDE_FEATURE_BILLING-REDESIGN': True, 'COMET_OVERRIDE_FEATURE_BREAK-DOWN-BY': False, 'COMET_OVERRIDE_FEATURE_CLOSEST-HOVER-MODE': True, 'COMET_OVERRIDE_FEATURE_CONFUSION-MATRIX': True, 'COMET_OVERRIDE_FEATURE_CUSTOM-CHARTS': True, 'COMET_OVERRIDE_FEATURE_DASHBOARD-CHARTS': True, 'COMET_OVERRIDE_FEATURE_DASHBOARD_TEMPLATES': True, 'COMET_OVERRIDE_FEATURE_DATA-PANEL': True, 'COMET_OVERRIDE_FEATURE_DBS-MODEL-PRODUCTION-MONITORING': False, 'COMET_OVERRIDE_FEATURE_DISABLE-TABLE-ROW-EXPAND': False, 'COMET_OVERRIDE_FEATURE_GIT-REPRODUCE': True, 'COMET_OVERRIDE_FEATURE_GROUP-BY-ENDPOINT': True, 'COMET_OVERRIDE_FEATURE_GROUPING': True, 'COMET_OVERRIDE_FEATURE_MODEL-APPROVAL-PROCESS': True, 'COMET_OVERRIDE_FEATURE_MODEL-PRODUCTION-MONITORING': False, 'COMET_OVERRIDE_FEATURE_MODEL-PRODUCTION-MONITORING-ACCURACY-METRICS-TAB': True, 'COMET_OVERRIDE_FEATURE_MODEL-PRODUCTION-MONITORING-ALERTS': True, 'COMET_OVERRIDE_FEATURE_MODEL-PRODUCTION-MONITORING-CUSTOM-TRANSFORMATIONS': True, 'COMET_OVERRIDE_FEATURE_MODEL-PRODUCTION-MONITORING-DEBUGGER': True, 'COMET_OVERRIDE_FEATURE_MODEL-PRODUCTION-MONITORING-INTERNAL': False, 'COMET_OVERRIDE_FEATURE_MODEL-PRODUCTION-MONITORING-MODELS-PIPELINE': False, 'COMET_OVERRIDE_FEATURE_MODEL-PRODUCTION-MONITORING-SEGMENTS': True, 'COMET_OVERRIDE_FEATURE_MODEL-PRODUCTION-MONITORING-SEGMENTS-NEW-PANEL': False, 'COMET_OVERRIDE_FEATURE_MODEL-REGISTRY-CARD-DETAILS-V2': True, 'COMET_OVERRIDE_FEATURE_MODEL-REGISTRY-STAGES-TO-TAGS': True, 'COMET_OVERRIDE_FEATURE_MODEL-REGISTRY-STREAMLINE': True, 'COMET_OVERRIDE_FEATURE_NEW-ONBOARDING': True, 'COMET_OVERRIDE_FEATURE_NEW-WORDPRESS-SITE': True, 'COMET_OVERRIDE_FEATURE_NIMROD-TEST': True, 'COMET_OVERRIDE_FEATURE_OLD_TEAMS': True, 'COMET_OVERRIDE_FEATURE_PAYMENTS': True, 'COMET_OVERRIDE_FEATURE_PLOTLY-CHARTS': True, 'COMET_OVERRIDE_FEATURE_PUBLIC-PANELS': True, 'COMET_OVERRIDE_FEATURE_PYTHON-PANELS': True, 'COMET_OVERRIDE_FEATURE_QUERY-FILTER': True, 'COMET_OVERRIDE_FEATURE_QUERY-URL-PARSER': False, 'COMET_OVERRIDE_FEATURE_REACT_HEADER_ICON_OVERRIDE': False, 'COMET_OVERRIDE_FEATURE_REPRODUCE-NOTEBOOKS': True, 'COMET_OVERRIDE_FEATURE_SDK_ANNOUNCEMENT': True, 'COMET_OVERRIDE_FEATURE_SDK_GIT_PATCH': True, 'COMET_OVERRIDE_FEATURE_SDK_GPU_MONITOR': True, 'COMET_OVERRIDE_FEATURE_SDK_HTTP_LOGGING': False, 'COMET_OVERRIDE_FEATURE_SDK_LOG_ENV_VARIABLES': False, 'COMET_OVERRIDE_FEATURE_SDK_METRICS_HTTP_BATCHING': False, 'COMET_OVERRIDE_FEATURE_SDK_USE_HTTP_MESSAGES': True, 'COMET_OVERRIDE_FEATURE_SERVICE-ACCOUNTS': True, 'COMET_OVERRIDE_FEATURE_SYSTEM-METRICS': True, 'COMET_OVERRIDE_FEATURE_SYSTEM-METRICS-GPU': True, 'COMET_OVERRIDE_FEATURE_TAGS': True, 'COMET_OVERRIDE_FEATURE_TEST-FT-ENV-CHECK': True, 'COMET_OVERRIDE_FEATURE_TEXT-TAB': True, 'COMET_OVERRIDE_FEATURE_USE_HTTP_MESSAGES': True}> for COMET_MESSAGE_BATCH_STDOUT_MAX_SIZE\n",
            "DEBUG: 2023-04-03 18:32:29,046: Found nothing--returning NO_VALUE\n",
            "DEBUG: 2023-04-03 18:32:29,112: Looking up key: connection_check_interval, namespace: ['comet', 'fallback_streamer']\n",
            "DEBUG: 2023-04-03 18:32:29,116: Searching <ConfigOSEnv> for COMET_FALLBACK_STREAMER_CONNECTION_CHECK_INTERVAL\n",
            "DEBUG: 2023-04-03 18:32:29,117: Searching <ConfigEnvFileEnv: None> for COMET_FALLBACK_STREAMER_CONNECTION_CHECK_INTERVAL\n",
            "DEBUG: 2023-04-03 18:32:29,118: Searching <ConfigDictEnv: {'COMET_OVERRIDE_FEATURE_ACADEMIC': True, 'COMET_OVERRIDE_FEATURE_ARTIFACTS': True, 'COMET_OVERRIDE_FEATURE_ASSET-STORAGE': True, 'COMET_OVERRIDE_FEATURE_BILLING-REDESIGN': True, 'COMET_OVERRIDE_FEATURE_BREAK-DOWN-BY': False, 'COMET_OVERRIDE_FEATURE_CLOSEST-HOVER-MODE': True, 'COMET_OVERRIDE_FEATURE_CONFUSION-MATRIX': True, 'COMET_OVERRIDE_FEATURE_CUSTOM-CHARTS': True, 'COMET_OVERRIDE_FEATURE_DASHBOARD-CHARTS': True, 'COMET_OVERRIDE_FEATURE_DASHBOARD_TEMPLATES': True, 'COMET_OVERRIDE_FEATURE_DATA-PANEL': True, 'COMET_OVERRIDE_FEATURE_DBS-MODEL-PRODUCTION-MONITORING': False, 'COMET_OVERRIDE_FEATURE_DISABLE-TABLE-ROW-EXPAND': False, 'COMET_OVERRIDE_FEATURE_GIT-REPRODUCE': True, 'COMET_OVERRIDE_FEATURE_GROUP-BY-ENDPOINT': True, 'COMET_OVERRIDE_FEATURE_GROUPING': True, 'COMET_OVERRIDE_FEATURE_MODEL-APPROVAL-PROCESS': True, 'COMET_OVERRIDE_FEATURE_MODEL-PRODUCTION-MONITORING': False, 'COMET_OVERRIDE_FEATURE_MODEL-PRODUCTION-MONITORING-ACCURACY-METRICS-TAB': True, 'COMET_OVERRIDE_FEATURE_MODEL-PRODUCTION-MONITORING-ALERTS': True, 'COMET_OVERRIDE_FEATURE_MODEL-PRODUCTION-MONITORING-CUSTOM-TRANSFORMATIONS': True, 'COMET_OVERRIDE_FEATURE_MODEL-PRODUCTION-MONITORING-DEBUGGER': True, 'COMET_OVERRIDE_FEATURE_MODEL-PRODUCTION-MONITORING-INTERNAL': False, 'COMET_OVERRIDE_FEATURE_MODEL-PRODUCTION-MONITORING-MODELS-PIPELINE': False, 'COMET_OVERRIDE_FEATURE_MODEL-PRODUCTION-MONITORING-SEGMENTS': True, 'COMET_OVERRIDE_FEATURE_MODEL-PRODUCTION-MONITORING-SEGMENTS-NEW-PANEL': False, 'COMET_OVERRIDE_FEATURE_MODEL-REGISTRY-CARD-DETAILS-V2': True, 'COMET_OVERRIDE_FEATURE_MODEL-REGISTRY-STAGES-TO-TAGS': True, 'COMET_OVERRIDE_FEATURE_MODEL-REGISTRY-STREAMLINE': True, 'COMET_OVERRIDE_FEATURE_NEW-ONBOARDING': True, 'COMET_OVERRIDE_FEATURE_NEW-WORDPRESS-SITE': True, 'COMET_OVERRIDE_FEATURE_NIMROD-TEST': True, 'COMET_OVERRIDE_FEATURE_OLD_TEAMS': True, 'COMET_OVERRIDE_FEATURE_PAYMENTS': True, 'COMET_OVERRIDE_FEATURE_PLOTLY-CHARTS': True, 'COMET_OVERRIDE_FEATURE_PUBLIC-PANELS': True, 'COMET_OVERRIDE_FEATURE_PYTHON-PANELS': True, 'COMET_OVERRIDE_FEATURE_QUERY-FILTER': True, 'COMET_OVERRIDE_FEATURE_QUERY-URL-PARSER': False, 'COMET_OVERRIDE_FEATURE_REACT_HEADER_ICON_OVERRIDE': False, 'COMET_OVERRIDE_FEATURE_REPRODUCE-NOTEBOOKS': True, 'COMET_OVERRIDE_FEATURE_SDK_ANNOUNCEMENT': True, 'COMET_OVERRIDE_FEATURE_SDK_GIT_PATCH': True, 'COMET_OVERRIDE_FEATURE_SDK_GPU_MONITOR': True, 'COMET_OVERRIDE_FEATURE_SDK_HTTP_LOGGING': False, 'COMET_OVERRIDE_FEATURE_SDK_LOG_ENV_VARIABLES': False, 'COMET_OVERRIDE_FEATURE_SDK_METRICS_HTTP_BATCHING': False, 'COMET_OVERRIDE_FEATURE_SDK_USE_HTTP_MESSAGES': True, 'COMET_OVERRIDE_FEATURE_SERVICE-ACCOUNTS': True, 'COMET_OVERRIDE_FEATURE_SYSTEM-METRICS': True, 'COMET_OVERRIDE_FEATURE_SYSTEM-METRICS-GPU': True, 'COMET_OVERRIDE_FEATURE_TAGS': True, 'COMET_OVERRIDE_FEATURE_TEST-FT-ENV-CHECK': True, 'COMET_OVERRIDE_FEATURE_TEXT-TAB': True, 'COMET_OVERRIDE_FEATURE_USE_HTTP_MESSAGES': True}> for COMET_FALLBACK_STREAMER_CONNECTION_CHECK_INTERVAL\n",
            "DEBUG: 2023-04-03 18:32:29,120: Found nothing--returning NO_VALUE\n",
            "DEBUG: 2023-04-03 18:32:29,125: Looking up key: max_connection_check_failures, namespace: ['comet', 'fallback_streamer']\n",
            "DEBUG: 2023-04-03 18:32:29,127: Searching <ConfigOSEnv> for COMET_FALLBACK_STREAMER_MAX_CONNECTION_CHECK_FAILURES\n",
            "DEBUG: 2023-04-03 18:32:29,130: Searching <ConfigEnvFileEnv: None> for COMET_FALLBACK_STREAMER_MAX_CONNECTION_CHECK_FAILURES\n",
            "DEBUG: 2023-04-03 18:32:29,135: Searching <ConfigDictEnv: {'COMET_OVERRIDE_FEATURE_ACADEMIC': True, 'COMET_OVERRIDE_FEATURE_ARTIFACTS': True, 'COMET_OVERRIDE_FEATURE_ASSET-STORAGE': True, 'COMET_OVERRIDE_FEATURE_BILLING-REDESIGN': True, 'COMET_OVERRIDE_FEATURE_BREAK-DOWN-BY': False, 'COMET_OVERRIDE_FEATURE_CLOSEST-HOVER-MODE': True, 'COMET_OVERRIDE_FEATURE_CONFUSION-MATRIX': True, 'COMET_OVERRIDE_FEATURE_CUSTOM-CHARTS': True, 'COMET_OVERRIDE_FEATURE_DASHBOARD-CHARTS': True, 'COMET_OVERRIDE_FEATURE_DASHBOARD_TEMPLATES': True, 'COMET_OVERRIDE_FEATURE_DATA-PANEL': True, 'COMET_OVERRIDE_FEATURE_DBS-MODEL-PRODUCTION-MONITORING': False, 'COMET_OVERRIDE_FEATURE_DISABLE-TABLE-ROW-EXPAND': False, 'COMET_OVERRIDE_FEATURE_GIT-REPRODUCE': True, 'COMET_OVERRIDE_FEATURE_GROUP-BY-ENDPOINT': True, 'COMET_OVERRIDE_FEATURE_GROUPING': True, 'COMET_OVERRIDE_FEATURE_MODEL-APPROVAL-PROCESS': True, 'COMET_OVERRIDE_FEATURE_MODEL-PRODUCTION-MONITORING': False, 'COMET_OVERRIDE_FEATURE_MODEL-PRODUCTION-MONITORING-ACCURACY-METRICS-TAB': True, 'COMET_OVERRIDE_FEATURE_MODEL-PRODUCTION-MONITORING-ALERTS': True, 'COMET_OVERRIDE_FEATURE_MODEL-PRODUCTION-MONITORING-CUSTOM-TRANSFORMATIONS': True, 'COMET_OVERRIDE_FEATURE_MODEL-PRODUCTION-MONITORING-DEBUGGER': True, 'COMET_OVERRIDE_FEATURE_MODEL-PRODUCTION-MONITORING-INTERNAL': False, 'COMET_OVERRIDE_FEATURE_MODEL-PRODUCTION-MONITORING-MODELS-PIPELINE': False, 'COMET_OVERRIDE_FEATURE_MODEL-PRODUCTION-MONITORING-SEGMENTS': True, 'COMET_OVERRIDE_FEATURE_MODEL-PRODUCTION-MONITORING-SEGMENTS-NEW-PANEL': False, 'COMET_OVERRIDE_FEATURE_MODEL-REGISTRY-CARD-DETAILS-V2': True, 'COMET_OVERRIDE_FEATURE_MODEL-REGISTRY-STAGES-TO-TAGS': True, 'COMET_OVERRIDE_FEATURE_MODEL-REGISTRY-STREAMLINE': True, 'COMET_OVERRIDE_FEATURE_NEW-ONBOARDING': True, 'COMET_OVERRIDE_FEATURE_NEW-WORDPRESS-SITE': True, 'COMET_OVERRIDE_FEATURE_NIMROD-TEST': True, 'COMET_OVERRIDE_FEATURE_OLD_TEAMS': True, 'COMET_OVERRIDE_FEATURE_PAYMENTS': True, 'COMET_OVERRIDE_FEATURE_PLOTLY-CHARTS': True, 'COMET_OVERRIDE_FEATURE_PUBLIC-PANELS': True, 'COMET_OVERRIDE_FEATURE_PYTHON-PANELS': True, 'COMET_OVERRIDE_FEATURE_QUERY-FILTER': True, 'COMET_OVERRIDE_FEATURE_QUERY-URL-PARSER': False, 'COMET_OVERRIDE_FEATURE_REACT_HEADER_ICON_OVERRIDE': False, 'COMET_OVERRIDE_FEATURE_REPRODUCE-NOTEBOOKS': True, 'COMET_OVERRIDE_FEATURE_SDK_ANNOUNCEMENT': True, 'COMET_OVERRIDE_FEATURE_SDK_GIT_PATCH': True, 'COMET_OVERRIDE_FEATURE_SDK_GPU_MONITOR': True, 'COMET_OVERRIDE_FEATURE_SDK_HTTP_LOGGING': False, 'COMET_OVERRIDE_FEATURE_SDK_LOG_ENV_VARIABLES': False, 'COMET_OVERRIDE_FEATURE_SDK_METRICS_HTTP_BATCHING': False, 'COMET_OVERRIDE_FEATURE_SDK_USE_HTTP_MESSAGES': True, 'COMET_OVERRIDE_FEATURE_SERVICE-ACCOUNTS': True, 'COMET_OVERRIDE_FEATURE_SYSTEM-METRICS': True, 'COMET_OVERRIDE_FEATURE_SYSTEM-METRICS-GPU': True, 'COMET_OVERRIDE_FEATURE_TAGS': True, 'COMET_OVERRIDE_FEATURE_TEST-FT-ENV-CHECK': True, 'COMET_OVERRIDE_FEATURE_TEXT-TAB': True, 'COMET_OVERRIDE_FEATURE_USE_HTTP_MESSAGES': True}> for COMET_FALLBACK_STREAMER_MAX_CONNECTION_CHECK_FAILURES\n",
            "DEBUG: 2023-04-03 18:32:29,136: Found nothing--returning NO_VALUE\n",
            "DEBUG: 2023-04-03 18:32:29,142: Looking up key: fallback_to_offline_min_backend_version, namespace: ['comet', 'fallback_streamer']\n",
            "DEBUG: 2023-04-03 18:32:29,144: Searching <ConfigOSEnv> for COMET_FALLBACK_STREAMER_FALLBACK_TO_OFFLINE_MIN_BACKEND_VERSION\n",
            "DEBUG: 2023-04-03 18:32:29,148: Searching <ConfigEnvFileEnv: None> for COMET_FALLBACK_STREAMER_FALLBACK_TO_OFFLINE_MIN_BACKEND_VERSION\n",
            "DEBUG: 2023-04-03 18:32:29,151: Searching <ConfigDictEnv: {'COMET_OVERRIDE_FEATURE_ACADEMIC': True, 'COMET_OVERRIDE_FEATURE_ARTIFACTS': True, 'COMET_OVERRIDE_FEATURE_ASSET-STORAGE': True, 'COMET_OVERRIDE_FEATURE_BILLING-REDESIGN': True, 'COMET_OVERRIDE_FEATURE_BREAK-DOWN-BY': False, 'COMET_OVERRIDE_FEATURE_CLOSEST-HOVER-MODE': True, 'COMET_OVERRIDE_FEATURE_CONFUSION-MATRIX': True, 'COMET_OVERRIDE_FEATURE_CUSTOM-CHARTS': True, 'COMET_OVERRIDE_FEATURE_DASHBOARD-CHARTS': True, 'COMET_OVERRIDE_FEATURE_DASHBOARD_TEMPLATES': True, 'COMET_OVERRIDE_FEATURE_DATA-PANEL': True, 'COMET_OVERRIDE_FEATURE_DBS-MODEL-PRODUCTION-MONITORING': False, 'COMET_OVERRIDE_FEATURE_DISABLE-TABLE-ROW-EXPAND': False, 'COMET_OVERRIDE_FEATURE_GIT-REPRODUCE': True, 'COMET_OVERRIDE_FEATURE_GROUP-BY-ENDPOINT': True, 'COMET_OVERRIDE_FEATURE_GROUPING': True, 'COMET_OVERRIDE_FEATURE_MODEL-APPROVAL-PROCESS': True, 'COMET_OVERRIDE_FEATURE_MODEL-PRODUCTION-MONITORING': False, 'COMET_OVERRIDE_FEATURE_MODEL-PRODUCTION-MONITORING-ACCURACY-METRICS-TAB': True, 'COMET_OVERRIDE_FEATURE_MODEL-PRODUCTION-MONITORING-ALERTS': True, 'COMET_OVERRIDE_FEATURE_MODEL-PRODUCTION-MONITORING-CUSTOM-TRANSFORMATIONS': True, 'COMET_OVERRIDE_FEATURE_MODEL-PRODUCTION-MONITORING-DEBUGGER': True, 'COMET_OVERRIDE_FEATURE_MODEL-PRODUCTION-MONITORING-INTERNAL': False, 'COMET_OVERRIDE_FEATURE_MODEL-PRODUCTION-MONITORING-MODELS-PIPELINE': False, 'COMET_OVERRIDE_FEATURE_MODEL-PRODUCTION-MONITORING-SEGMENTS': True, 'COMET_OVERRIDE_FEATURE_MODEL-PRODUCTION-MONITORING-SEGMENTS-NEW-PANEL': False, 'COMET_OVERRIDE_FEATURE_MODEL-REGISTRY-CARD-DETAILS-V2': True, 'COMET_OVERRIDE_FEATURE_MODEL-REGISTRY-STAGES-TO-TAGS': True, 'COMET_OVERRIDE_FEATURE_MODEL-REGISTRY-STREAMLINE': True, 'COMET_OVERRIDE_FEATURE_NEW-ONBOARDING': True, 'COMET_OVERRIDE_FEATURE_NEW-WORDPRESS-SITE': True, 'COMET_OVERRIDE_FEATURE_NIMROD-TEST': True, 'COMET_OVERRIDE_FEATURE_OLD_TEAMS': True, 'COMET_OVERRIDE_FEATURE_PAYMENTS': True, 'COMET_OVERRIDE_FEATURE_PLOTLY-CHARTS': True, 'COMET_OVERRIDE_FEATURE_PUBLIC-PANELS': True, 'COMET_OVERRIDE_FEATURE_PYTHON-PANELS': True, 'COMET_OVERRIDE_FEATURE_QUERY-FILTER': True, 'COMET_OVERRIDE_FEATURE_QUERY-URL-PARSER': False, 'COMET_OVERRIDE_FEATURE_REACT_HEADER_ICON_OVERRIDE': False, 'COMET_OVERRIDE_FEATURE_REPRODUCE-NOTEBOOKS': True, 'COMET_OVERRIDE_FEATURE_SDK_ANNOUNCEMENT': True, 'COMET_OVERRIDE_FEATURE_SDK_GIT_PATCH': True, 'COMET_OVERRIDE_FEATURE_SDK_GPU_MONITOR': True, 'COMET_OVERRIDE_FEATURE_SDK_HTTP_LOGGING': False, 'COMET_OVERRIDE_FEATURE_SDK_LOG_ENV_VARIABLES': False, 'COMET_OVERRIDE_FEATURE_SDK_METRICS_HTTP_BATCHING': False, 'COMET_OVERRIDE_FEATURE_SDK_USE_HTTP_MESSAGES': True, 'COMET_OVERRIDE_FEATURE_SERVICE-ACCOUNTS': True, 'COMET_OVERRIDE_FEATURE_SYSTEM-METRICS': True, 'COMET_OVERRIDE_FEATURE_SYSTEM-METRICS-GPU': True, 'COMET_OVERRIDE_FEATURE_TAGS': True, 'COMET_OVERRIDE_FEATURE_TEST-FT-ENV-CHECK': True, 'COMET_OVERRIDE_FEATURE_TEXT-TAB': True, 'COMET_OVERRIDE_FEATURE_USE_HTTP_MESSAGES': True}> for COMET_FALLBACK_STREAMER_FALLBACK_TO_OFFLINE_MIN_BACKEND_VERSION\n",
            "DEBUG: 2023-04-03 18:32:29,152: Found nothing--returning NO_VALUE\n",
            "DEBUG: 2023-04-03 18:32:29,153: Looking up key: keep_offline_zip, namespace: ['comet', 'fallback_streamer']\n",
            "DEBUG: 2023-04-03 18:32:29,157: Searching <ConfigOSEnv> for COMET_FALLBACK_STREAMER_KEEP_OFFLINE_ZIP\n",
            "DEBUG: 2023-04-03 18:32:29,161: Searching <ConfigEnvFileEnv: None> for COMET_FALLBACK_STREAMER_KEEP_OFFLINE_ZIP\n",
            "DEBUG: 2023-04-03 18:32:29,162: Searching <ConfigDictEnv: {'COMET_OVERRIDE_FEATURE_ACADEMIC': True, 'COMET_OVERRIDE_FEATURE_ARTIFACTS': True, 'COMET_OVERRIDE_FEATURE_ASSET-STORAGE': True, 'COMET_OVERRIDE_FEATURE_BILLING-REDESIGN': True, 'COMET_OVERRIDE_FEATURE_BREAK-DOWN-BY': False, 'COMET_OVERRIDE_FEATURE_CLOSEST-HOVER-MODE': True, 'COMET_OVERRIDE_FEATURE_CONFUSION-MATRIX': True, 'COMET_OVERRIDE_FEATURE_CUSTOM-CHARTS': True, 'COMET_OVERRIDE_FEATURE_DASHBOARD-CHARTS': True, 'COMET_OVERRIDE_FEATURE_DASHBOARD_TEMPLATES': True, 'COMET_OVERRIDE_FEATURE_DATA-PANEL': True, 'COMET_OVERRIDE_FEATURE_DBS-MODEL-PRODUCTION-MONITORING': False, 'COMET_OVERRIDE_FEATURE_DISABLE-TABLE-ROW-EXPAND': False, 'COMET_OVERRIDE_FEATURE_GIT-REPRODUCE': True, 'COMET_OVERRIDE_FEATURE_GROUP-BY-ENDPOINT': True, 'COMET_OVERRIDE_FEATURE_GROUPING': True, 'COMET_OVERRIDE_FEATURE_MODEL-APPROVAL-PROCESS': True, 'COMET_OVERRIDE_FEATURE_MODEL-PRODUCTION-MONITORING': False, 'COMET_OVERRIDE_FEATURE_MODEL-PRODUCTION-MONITORING-ACCURACY-METRICS-TAB': True, 'COMET_OVERRIDE_FEATURE_MODEL-PRODUCTION-MONITORING-ALERTS': True, 'COMET_OVERRIDE_FEATURE_MODEL-PRODUCTION-MONITORING-CUSTOM-TRANSFORMATIONS': True, 'COMET_OVERRIDE_FEATURE_MODEL-PRODUCTION-MONITORING-DEBUGGER': True, 'COMET_OVERRIDE_FEATURE_MODEL-PRODUCTION-MONITORING-INTERNAL': False, 'COMET_OVERRIDE_FEATURE_MODEL-PRODUCTION-MONITORING-MODELS-PIPELINE': False, 'COMET_OVERRIDE_FEATURE_MODEL-PRODUCTION-MONITORING-SEGMENTS': True, 'COMET_OVERRIDE_FEATURE_MODEL-PRODUCTION-MONITORING-SEGMENTS-NEW-PANEL': False, 'COMET_OVERRIDE_FEATURE_MODEL-REGISTRY-CARD-DETAILS-V2': True, 'COMET_OVERRIDE_FEATURE_MODEL-REGISTRY-STAGES-TO-TAGS': True, 'COMET_OVERRIDE_FEATURE_MODEL-REGISTRY-STREAMLINE': True, 'COMET_OVERRIDE_FEATURE_NEW-ONBOARDING': True, 'COMET_OVERRIDE_FEATURE_NEW-WORDPRESS-SITE': True, 'COMET_OVERRIDE_FEATURE_NIMROD-TEST': True, 'COMET_OVERRIDE_FEATURE_OLD_TEAMS': True, 'COMET_OVERRIDE_FEATURE_PAYMENTS': True, 'COMET_OVERRIDE_FEATURE_PLOTLY-CHARTS': True, 'COMET_OVERRIDE_FEATURE_PUBLIC-PANELS': True, 'COMET_OVERRIDE_FEATURE_PYTHON-PANELS': True, 'COMET_OVERRIDE_FEATURE_QUERY-FILTER': True, 'COMET_OVERRIDE_FEATURE_QUERY-URL-PARSER': False, 'COMET_OVERRIDE_FEATURE_REACT_HEADER_ICON_OVERRIDE': False, 'COMET_OVERRIDE_FEATURE_REPRODUCE-NOTEBOOKS': True, 'COMET_OVERRIDE_FEATURE_SDK_ANNOUNCEMENT': True, 'COMET_OVERRIDE_FEATURE_SDK_GIT_PATCH': True, 'COMET_OVERRIDE_FEATURE_SDK_GPU_MONITOR': True, 'COMET_OVERRIDE_FEATURE_SDK_HTTP_LOGGING': False, 'COMET_OVERRIDE_FEATURE_SDK_LOG_ENV_VARIABLES': False, 'COMET_OVERRIDE_FEATURE_SDK_METRICS_HTTP_BATCHING': False, 'COMET_OVERRIDE_FEATURE_SDK_USE_HTTP_MESSAGES': True, 'COMET_OVERRIDE_FEATURE_SERVICE-ACCOUNTS': True, 'COMET_OVERRIDE_FEATURE_SYSTEM-METRICS': True, 'COMET_OVERRIDE_FEATURE_SYSTEM-METRICS-GPU': True, 'COMET_OVERRIDE_FEATURE_TAGS': True, 'COMET_OVERRIDE_FEATURE_TEST-FT-ENV-CHECK': True, 'COMET_OVERRIDE_FEATURE_TEXT-TAB': True, 'COMET_OVERRIDE_FEATURE_USE_HTTP_MESSAGES': True}> for COMET_FALLBACK_STREAMER_KEEP_OFFLINE_ZIP\n",
            "DEBUG: 2023-04-03 18:32:29,164: Found nothing--returning NO_VALUE\n",
            "DEBUG: 2023-04-03 18:32:29,173: Starting new HTTPS connection (1): www.comet.com:443\n",
            "DEBUG: 2023-04-03 18:32:29,341: https://www.comet.com:443 \"POST /clientlib/status-report/update HTTP/1.1\" 200 159\n",
            "DEBUG: 2023-04-03 18:32:29,345: Looking up key: parameters_interval, namespace: ['comet', 'message_batch']\n",
            "DEBUG: 2023-04-03 18:32:29,346: Searching <ConfigOSEnv> for COMET_MESSAGE_BATCH_PARAMETERS_INTERVAL\n",
            "DEBUG: 2023-04-03 18:32:29,346: Searching <ConfigEnvFileEnv: None> for COMET_MESSAGE_BATCH_PARAMETERS_INTERVAL\n",
            "DEBUG: 2023-04-03 18:32:29,347: Searching <ConfigDictEnv: {}> for COMET_MESSAGE_BATCH_PARAMETERS_INTERVAL\n",
            "DEBUG: 2023-04-03 18:32:29,348: Found nothing--returning NO_VALUE\n",
            "DEBUG: 2023-04-03 18:32:29,361: Starting new HTTP connection (1): 169.254.169.254:80\n",
            "DEBUG: 2023-04-03 18:32:29,519: https://www.comet.com:443 \"POST /api/rest/v2/write/experiment/file-path HTTP/1.1\" 200 55\n",
            "DEBUG: 2023-04-03 18:32:29,685: https://www.comet.com:443 \"POST /clientlib/rest/v2/write/experiment/system-details HTTP/1.1\" 200 55\n",
            "DEBUG: 2023-04-03 18:32:29,730: https://www.comet.com:443 \"GET /clientlib/health/ping HTTP/1.1\" 200 67\n",
            "DEBUG: 2023-04-03 18:32:30,376: Starting new HTTP connection (1): 169.254.169.254:80\n",
            "DEBUG: 2023-04-03 18:32:31,392: Starting new HTTP connection (1): 169.254.169.254:80\n",
            "DEBUG: 2023-04-03 18:32:32,407: Looking up key: env_blacklist, namespace: ['comet', 'logging']\n",
            "DEBUG: 2023-04-03 18:32:32,409: Searching <ConfigOSEnv> for COMET_LOGGING_ENV_BLACKLIST\n",
            "DEBUG: 2023-04-03 18:32:32,410: Searching <ConfigEnvFileEnv: None> for COMET_LOGGING_ENV_BLACKLIST\n",
            "DEBUG: 2023-04-03 18:32:32,410: Searching <ConfigDictEnv: {'COMET_OVERRIDE_FEATURE_ACADEMIC': True, 'COMET_OVERRIDE_FEATURE_ARTIFACTS': True, 'COMET_OVERRIDE_FEATURE_ASSET-STORAGE': True, 'COMET_OVERRIDE_FEATURE_BILLING-REDESIGN': True, 'COMET_OVERRIDE_FEATURE_BREAK-DOWN-BY': False, 'COMET_OVERRIDE_FEATURE_CLOSEST-HOVER-MODE': True, 'COMET_OVERRIDE_FEATURE_CONFUSION-MATRIX': True, 'COMET_OVERRIDE_FEATURE_CUSTOM-CHARTS': True, 'COMET_OVERRIDE_FEATURE_DASHBOARD-CHARTS': True, 'COMET_OVERRIDE_FEATURE_DASHBOARD_TEMPLATES': True, 'COMET_OVERRIDE_FEATURE_DATA-PANEL': True, 'COMET_OVERRIDE_FEATURE_DBS-MODEL-PRODUCTION-MONITORING': False, 'COMET_OVERRIDE_FEATURE_DISABLE-TABLE-ROW-EXPAND': False, 'COMET_OVERRIDE_FEATURE_GIT-REPRODUCE': True, 'COMET_OVERRIDE_FEATURE_GROUP-BY-ENDPOINT': True, 'COMET_OVERRIDE_FEATURE_GROUPING': True, 'COMET_OVERRIDE_FEATURE_MODEL-APPROVAL-PROCESS': True, 'COMET_OVERRIDE_FEATURE_MODEL-PRODUCTION-MONITORING': False, 'COMET_OVERRIDE_FEATURE_MODEL-PRODUCTION-MONITORING-ACCURACY-METRICS-TAB': True, 'COMET_OVERRIDE_FEATURE_MODEL-PRODUCTION-MONITORING-ALERTS': True, 'COMET_OVERRIDE_FEATURE_MODEL-PRODUCTION-MONITORING-CUSTOM-TRANSFORMATIONS': True, 'COMET_OVERRIDE_FEATURE_MODEL-PRODUCTION-MONITORING-DEBUGGER': True, 'COMET_OVERRIDE_FEATURE_MODEL-PRODUCTION-MONITORING-INTERNAL': False, 'COMET_OVERRIDE_FEATURE_MODEL-PRODUCTION-MONITORING-MODELS-PIPELINE': False, 'COMET_OVERRIDE_FEATURE_MODEL-PRODUCTION-MONITORING-SEGMENTS': True, 'COMET_OVERRIDE_FEATURE_MODEL-PRODUCTION-MONITORING-SEGMENTS-NEW-PANEL': False, 'COMET_OVERRIDE_FEATURE_MODEL-REGISTRY-CARD-DETAILS-V2': True, 'COMET_OVERRIDE_FEATURE_MODEL-REGISTRY-STAGES-TO-TAGS': True, 'COMET_OVERRIDE_FEATURE_MODEL-REGISTRY-STREAMLINE': True, 'COMET_OVERRIDE_FEATURE_NEW-ONBOARDING': True, 'COMET_OVERRIDE_FEATURE_NEW-WORDPRESS-SITE': True, 'COMET_OVERRIDE_FEATURE_NIMROD-TEST': True, 'COMET_OVERRIDE_FEATURE_OLD_TEAMS': True, 'COMET_OVERRIDE_FEATURE_PAYMENTS': True, 'COMET_OVERRIDE_FEATURE_PLOTLY-CHARTS': True, 'COMET_OVERRIDE_FEATURE_PUBLIC-PANELS': True, 'COMET_OVERRIDE_FEATURE_PYTHON-PANELS': True, 'COMET_OVERRIDE_FEATURE_QUERY-FILTER': True, 'COMET_OVERRIDE_FEATURE_QUERY-URL-PARSER': False, 'COMET_OVERRIDE_FEATURE_REACT_HEADER_ICON_OVERRIDE': False, 'COMET_OVERRIDE_FEATURE_REPRODUCE-NOTEBOOKS': True, 'COMET_OVERRIDE_FEATURE_SDK_ANNOUNCEMENT': True, 'COMET_OVERRIDE_FEATURE_SDK_GIT_PATCH': True, 'COMET_OVERRIDE_FEATURE_SDK_GPU_MONITOR': True, 'COMET_OVERRIDE_FEATURE_SDK_HTTP_LOGGING': False, 'COMET_OVERRIDE_FEATURE_SDK_LOG_ENV_VARIABLES': False, 'COMET_OVERRIDE_FEATURE_SDK_METRICS_HTTP_BATCHING': False, 'COMET_OVERRIDE_FEATURE_SDK_USE_HTTP_MESSAGES': True, 'COMET_OVERRIDE_FEATURE_SERVICE-ACCOUNTS': True, 'COMET_OVERRIDE_FEATURE_SYSTEM-METRICS': True, 'COMET_OVERRIDE_FEATURE_SYSTEM-METRICS-GPU': True, 'COMET_OVERRIDE_FEATURE_TAGS': True, 'COMET_OVERRIDE_FEATURE_TEST-FT-ENV-CHECK': True, 'COMET_OVERRIDE_FEATURE_TEXT-TAB': True, 'COMET_OVERRIDE_FEATURE_USE_HTTP_MESSAGES': True}> for COMET_LOGGING_ENV_BLACKLIST\n",
            "DEBUG: 2023-04-03 18:32:32,411: Found nothing--returning NO_VALUE\n",
            "DEBUG: 2023-04-03 18:32:32,412: Looking up key: sdk_log_env_variables, namespace: ['comet', 'override_feature']\n",
            "DEBUG: 2023-04-03 18:32:32,413: Searching <ConfigOSEnv> for COMET_OVERRIDE_FEATURE_SDK_LOG_ENV_VARIABLES\n",
            "DEBUG: 2023-04-03 18:32:32,414: Searching <ConfigEnvFileEnv: None> for COMET_OVERRIDE_FEATURE_SDK_LOG_ENV_VARIABLES\n",
            "DEBUG: 2023-04-03 18:32:32,415: Searching <ConfigDictEnv: {'COMET_OVERRIDE_FEATURE_ACADEMIC': True, 'COMET_OVERRIDE_FEATURE_ARTIFACTS': True, 'COMET_OVERRIDE_FEATURE_ASSET-STORAGE': True, 'COMET_OVERRIDE_FEATURE_BILLING-REDESIGN': True, 'COMET_OVERRIDE_FEATURE_BREAK-DOWN-BY': False, 'COMET_OVERRIDE_FEATURE_CLOSEST-HOVER-MODE': True, 'COMET_OVERRIDE_FEATURE_CONFUSION-MATRIX': True, 'COMET_OVERRIDE_FEATURE_CUSTOM-CHARTS': True, 'COMET_OVERRIDE_FEATURE_DASHBOARD-CHARTS': True, 'COMET_OVERRIDE_FEATURE_DASHBOARD_TEMPLATES': True, 'COMET_OVERRIDE_FEATURE_DATA-PANEL': True, 'COMET_OVERRIDE_FEATURE_DBS-MODEL-PRODUCTION-MONITORING': False, 'COMET_OVERRIDE_FEATURE_DISABLE-TABLE-ROW-EXPAND': False, 'COMET_OVERRIDE_FEATURE_GIT-REPRODUCE': True, 'COMET_OVERRIDE_FEATURE_GROUP-BY-ENDPOINT': True, 'COMET_OVERRIDE_FEATURE_GROUPING': True, 'COMET_OVERRIDE_FEATURE_MODEL-APPROVAL-PROCESS': True, 'COMET_OVERRIDE_FEATURE_MODEL-PRODUCTION-MONITORING': False, 'COMET_OVERRIDE_FEATURE_MODEL-PRODUCTION-MONITORING-ACCURACY-METRICS-TAB': True, 'COMET_OVERRIDE_FEATURE_MODEL-PRODUCTION-MONITORING-ALERTS': True, 'COMET_OVERRIDE_FEATURE_MODEL-PRODUCTION-MONITORING-CUSTOM-TRANSFORMATIONS': True, 'COMET_OVERRIDE_FEATURE_MODEL-PRODUCTION-MONITORING-DEBUGGER': True, 'COMET_OVERRIDE_FEATURE_MODEL-PRODUCTION-MONITORING-INTERNAL': False, 'COMET_OVERRIDE_FEATURE_MODEL-PRODUCTION-MONITORING-MODELS-PIPELINE': False, 'COMET_OVERRIDE_FEATURE_MODEL-PRODUCTION-MONITORING-SEGMENTS': True, 'COMET_OVERRIDE_FEATURE_MODEL-PRODUCTION-MONITORING-SEGMENTS-NEW-PANEL': False, 'COMET_OVERRIDE_FEATURE_MODEL-REGISTRY-CARD-DETAILS-V2': True, 'COMET_OVERRIDE_FEATURE_MODEL-REGISTRY-STAGES-TO-TAGS': True, 'COMET_OVERRIDE_FEATURE_MODEL-REGISTRY-STREAMLINE': True, 'COMET_OVERRIDE_FEATURE_NEW-ONBOARDING': True, 'COMET_OVERRIDE_FEATURE_NEW-WORDPRESS-SITE': True, 'COMET_OVERRIDE_FEATURE_NIMROD-TEST': True, 'COMET_OVERRIDE_FEATURE_OLD_TEAMS': True, 'COMET_OVERRIDE_FEATURE_PAYMENTS': True, 'COMET_OVERRIDE_FEATURE_PLOTLY-CHARTS': True, 'COMET_OVERRIDE_FEATURE_PUBLIC-PANELS': True, 'COMET_OVERRIDE_FEATURE_PYTHON-PANELS': True, 'COMET_OVERRIDE_FEATURE_QUERY-FILTER': True, 'COMET_OVERRIDE_FEATURE_QUERY-URL-PARSER': False, 'COMET_OVERRIDE_FEATURE_REACT_HEADER_ICON_OVERRIDE': False, 'COMET_OVERRIDE_FEATURE_REPRODUCE-NOTEBOOKS': True, 'COMET_OVERRIDE_FEATURE_SDK_ANNOUNCEMENT': True, 'COMET_OVERRIDE_FEATURE_SDK_GIT_PATCH': True, 'COMET_OVERRIDE_FEATURE_SDK_GPU_MONITOR': True, 'COMET_OVERRIDE_FEATURE_SDK_HTTP_LOGGING': False, 'COMET_OVERRIDE_FEATURE_SDK_LOG_ENV_VARIABLES': False, 'COMET_OVERRIDE_FEATURE_SDK_METRICS_HTTP_BATCHING': False, 'COMET_OVERRIDE_FEATURE_SDK_USE_HTTP_MESSAGES': True, 'COMET_OVERRIDE_FEATURE_SERVICE-ACCOUNTS': True, 'COMET_OVERRIDE_FEATURE_SYSTEM-METRICS': True, 'COMET_OVERRIDE_FEATURE_SYSTEM-METRICS-GPU': True, 'COMET_OVERRIDE_FEATURE_TAGS': True, 'COMET_OVERRIDE_FEATURE_TEST-FT-ENV-CHECK': True, 'COMET_OVERRIDE_FEATURE_TEXT-TAB': True, 'COMET_OVERRIDE_FEATURE_USE_HTTP_MESSAGES': True}> for COMET_OVERRIDE_FEATURE_SDK_LOG_ENV_VARIABLES\n",
            "DEBUG: 2023-04-03 18:32:32,417: Returning raw: False, parsed: False\n",
            "DEBUG: 2023-04-03 18:32:32,417: No INI file found: []\n",
            "DEBUG: 2023-04-03 18:32:32,419: No INI file found: ['./.comet.config']\n",
            "DEBUG: 2023-04-03 18:32:32,420: No INI file found: ['/content/drive/MyDrive/.comet.config']\n",
            "DEBUG: 2023-04-03 18:32:32,422: No INI file found: ['~/.comet.config']\n",
            "DEBUG: 2023-04-03 18:32:32,423: Looking up key: url_override, namespace: ['comet']\n",
            "DEBUG: 2023-04-03 18:32:32,426: Searching <ConfigOSEnv> for COMET_URL_OVERRIDE\n",
            "DEBUG: 2023-04-03 18:32:32,426: Searching <ConfigEnvFileEnv: None> for COMET_URL_OVERRIDE\n",
            "DEBUG: 2023-04-03 18:32:32,427: Searching <ConfigDictEnv: {}> for COMET_URL_OVERRIDE\n",
            "DEBUG: 2023-04-03 18:32:32,428: Found nothing--returning NO_VALUE\n",
            "DEBUG: 2023-04-03 18:32:32,511: Looking up key: reporting, namespace: ['comet', 'internal']\n",
            "DEBUG: 2023-04-03 18:32:32,512: Searching <ConfigOSEnv> for COMET_INTERNAL_REPORTING\n",
            "DEBUG: 2023-04-03 18:32:32,512: Searching <ConfigEnvFileEnv: None> for COMET_INTERNAL_REPORTING\n",
            "DEBUG: 2023-04-03 18:32:32,513: Searching <ConfigDictEnv: {}> for COMET_INTERNAL_REPORTING\n",
            "DEBUG: 2023-04-03 18:32:32,514: Found nothing--returning NO_VALUE\n",
            "DEBUG: 2023-04-03 18:32:32,619: Looking up key: git_directory, namespace: ['comet']\n",
            "DEBUG: 2023-04-03 18:32:32,626: Searching <ConfigOSEnv> for COMET_GIT_DIRECTORY\n",
            "DEBUG: 2023-04-03 18:32:32,632: Searching <ConfigEnvFileEnv: None> for COMET_GIT_DIRECTORY\n",
            "DEBUG: 2023-04-03 18:32:32,634: Searching <ConfigDictEnv: {'COMET_OVERRIDE_FEATURE_ACADEMIC': True, 'COMET_OVERRIDE_FEATURE_ARTIFACTS': True, 'COMET_OVERRIDE_FEATURE_ASSET-STORAGE': True, 'COMET_OVERRIDE_FEATURE_BILLING-REDESIGN': True, 'COMET_OVERRIDE_FEATURE_BREAK-DOWN-BY': False, 'COMET_OVERRIDE_FEATURE_CLOSEST-HOVER-MODE': True, 'COMET_OVERRIDE_FEATURE_CONFUSION-MATRIX': True, 'COMET_OVERRIDE_FEATURE_CUSTOM-CHARTS': True, 'COMET_OVERRIDE_FEATURE_DASHBOARD-CHARTS': True, 'COMET_OVERRIDE_FEATURE_DASHBOARD_TEMPLATES': True, 'COMET_OVERRIDE_FEATURE_DATA-PANEL': True, 'COMET_OVERRIDE_FEATURE_DBS-MODEL-PRODUCTION-MONITORING': False, 'COMET_OVERRIDE_FEATURE_DISABLE-TABLE-ROW-EXPAND': False, 'COMET_OVERRIDE_FEATURE_GIT-REPRODUCE': True, 'COMET_OVERRIDE_FEATURE_GROUP-BY-ENDPOINT': True, 'COMET_OVERRIDE_FEATURE_GROUPING': True, 'COMET_OVERRIDE_FEATURE_MODEL-APPROVAL-PROCESS': True, 'COMET_OVERRIDE_FEATURE_MODEL-PRODUCTION-MONITORING': False, 'COMET_OVERRIDE_FEATURE_MODEL-PRODUCTION-MONITORING-ACCURACY-METRICS-TAB': True, 'COMET_OVERRIDE_FEATURE_MODEL-PRODUCTION-MONITORING-ALERTS': True, 'COMET_OVERRIDE_FEATURE_MODEL-PRODUCTION-MONITORING-CUSTOM-TRANSFORMATIONS': True, 'COMET_OVERRIDE_FEATURE_MODEL-PRODUCTION-MONITORING-DEBUGGER': True, 'COMET_OVERRIDE_FEATURE_MODEL-PRODUCTION-MONITORING-INTERNAL': False, 'COMET_OVERRIDE_FEATURE_MODEL-PRODUCTION-MONITORING-MODELS-PIPELINE': False, 'COMET_OVERRIDE_FEATURE_MODEL-PRODUCTION-MONITORING-SEGMENTS': True, 'COMET_OVERRIDE_FEATURE_MODEL-PRODUCTION-MONITORING-SEGMENTS-NEW-PANEL': False, 'COMET_OVERRIDE_FEATURE_MODEL-REGISTRY-CARD-DETAILS-V2': True, 'COMET_OVERRIDE_FEATURE_MODEL-REGISTRY-STAGES-TO-TAGS': True, 'COMET_OVERRIDE_FEATURE_MODEL-REGISTRY-STREAMLINE': True, 'COMET_OVERRIDE_FEATURE_NEW-ONBOARDING': True, 'COMET_OVERRIDE_FEATURE_NEW-WORDPRESS-SITE': True, 'COMET_OVERRIDE_FEATURE_NIMROD-TEST': True, 'COMET_OVERRIDE_FEATURE_OLD_TEAMS': True, 'COMET_OVERRIDE_FEATURE_PAYMENTS': True, 'COMET_OVERRIDE_FEATURE_PLOTLY-CHARTS': True, 'COMET_OVERRIDE_FEATURE_PUBLIC-PANELS': True, 'COMET_OVERRIDE_FEATURE_PYTHON-PANELS': True, 'COMET_OVERRIDE_FEATURE_QUERY-FILTER': True, 'COMET_OVERRIDE_FEATURE_QUERY-URL-PARSER': False, 'COMET_OVERRIDE_FEATURE_REACT_HEADER_ICON_OVERRIDE': False, 'COMET_OVERRIDE_FEATURE_REPRODUCE-NOTEBOOKS': True, 'COMET_OVERRIDE_FEATURE_SDK_ANNOUNCEMENT': True, 'COMET_OVERRIDE_FEATURE_SDK_GIT_PATCH': True, 'COMET_OVERRIDE_FEATURE_SDK_GPU_MONITOR': True, 'COMET_OVERRIDE_FEATURE_SDK_HTTP_LOGGING': False, 'COMET_OVERRIDE_FEATURE_SDK_LOG_ENV_VARIABLES': False, 'COMET_OVERRIDE_FEATURE_SDK_METRICS_HTTP_BATCHING': False, 'COMET_OVERRIDE_FEATURE_SDK_USE_HTTP_MESSAGES': True, 'COMET_OVERRIDE_FEATURE_SERVICE-ACCOUNTS': True, 'COMET_OVERRIDE_FEATURE_SYSTEM-METRICS': True, 'COMET_OVERRIDE_FEATURE_SYSTEM-METRICS-GPU': True, 'COMET_OVERRIDE_FEATURE_TAGS': True, 'COMET_OVERRIDE_FEATURE_TEST-FT-ENV-CHECK': True, 'COMET_OVERRIDE_FEATURE_TEXT-TAB': True, 'COMET_OVERRIDE_FEATURE_USE_HTTP_MESSAGES': True}> for COMET_GIT_DIRECTORY\n",
            "DEBUG: 2023-04-03 18:32:32,635: Found nothing--returning NO_VALUE\n",
            "DEBUG: 2023-04-03 18:32:32,649: https://www.comet.com:443 \"POST /clientlib/notify/event HTTP/1.1\" 200 57\n",
            "DEBUG: 2023-04-03 18:32:32,651: Looking up key: reporting, namespace: ['comet', 'internal']\n",
            "DEBUG: 2023-04-03 18:32:32,652: Searching <ConfigOSEnv> for COMET_INTERNAL_REPORTING\n",
            "DEBUG: 2023-04-03 18:32:32,652: Searching <ConfigEnvFileEnv: None> for COMET_INTERNAL_REPORTING\n",
            "DEBUG: 2023-04-03 18:32:32,655: Searching <ConfigDictEnv: {}> for COMET_INTERNAL_REPORTING\n",
            "DEBUG: 2023-04-03 18:32:32,658: Found nothing--returning NO_VALUE\n",
            "DEBUG: 2023-04-03 18:32:32,665: https://www.comet.com:443 \"POST /clientlib/rest/v2/write/experiment/system-details HTTP/1.1\" 200 55\n",
            "DEBUG: 2023-04-03 18:32:32,801: https://www.comet.com:443 \"POST /clientlib/notify/event HTTP/1.1\" 200 57\n",
            "COMET INFO: Experiment is live on comet.com https://www.comet.com/gldmitri/med-appointment/eac118f9e6e3428b9aaf7e7734b867b3\n",
            "\n",
            "DEBUG: 2023-04-03 18:32:32,821: https://www.comet.com:443 \"POST /clientlib/batch/logger/experiment/parameter HTTP/1.1\" 200 55\n",
            "DEBUG: 2023-04-03 18:32:33,446: Looking up key: distributed_node_identifier, namespace: ['comet']\n",
            "DEBUG: 2023-04-03 18:32:33,450: Searching <ConfigOSEnv> for COMET_DISTRIBUTED_NODE_IDENTIFIER\n"
          ]
        },
        {
          "name": "stderr",
          "output_type": "stream",
          "text": [
            "DEBUG: 2023-04-03 18:32:33,452: Searching <ConfigEnvFileEnv: None> for COMET_DISTRIBUTED_NODE_IDENTIFIER\n",
            "DEBUG: 2023-04-03 18:32:33,454: Searching <ConfigDictEnv: {'COMET_OVERRIDE_FEATURE_ACADEMIC': True, 'COMET_OVERRIDE_FEATURE_ARTIFACTS': True, 'COMET_OVERRIDE_FEATURE_ASSET-STORAGE': True, 'COMET_OVERRIDE_FEATURE_BILLING-REDESIGN': True, 'COMET_OVERRIDE_FEATURE_BREAK-DOWN-BY': False, 'COMET_OVERRIDE_FEATURE_CLOSEST-HOVER-MODE': True, 'COMET_OVERRIDE_FEATURE_CONFUSION-MATRIX': True, 'COMET_OVERRIDE_FEATURE_CUSTOM-CHARTS': True, 'COMET_OVERRIDE_FEATURE_DASHBOARD-CHARTS': True, 'COMET_OVERRIDE_FEATURE_DASHBOARD_TEMPLATES': True, 'COMET_OVERRIDE_FEATURE_DATA-PANEL': True, 'COMET_OVERRIDE_FEATURE_DBS-MODEL-PRODUCTION-MONITORING': False, 'COMET_OVERRIDE_FEATURE_DISABLE-TABLE-ROW-EXPAND': False, 'COMET_OVERRIDE_FEATURE_GIT-REPRODUCE': True, 'COMET_OVERRIDE_FEATURE_GROUP-BY-ENDPOINT': True, 'COMET_OVERRIDE_FEATURE_GROUPING': True, 'COMET_OVERRIDE_FEATURE_MODEL-APPROVAL-PROCESS': True, 'COMET_OVERRIDE_FEATURE_MODEL-PRODUCTION-MONITORING': False, 'COMET_OVERRIDE_FEATURE_MODEL-PRODUCTION-MONITORING-ACCURACY-METRICS-TAB': True, 'COMET_OVERRIDE_FEATURE_MODEL-PRODUCTION-MONITORING-ALERTS': True, 'COMET_OVERRIDE_FEATURE_MODEL-PRODUCTION-MONITORING-CUSTOM-TRANSFORMATIONS': True, 'COMET_OVERRIDE_FEATURE_MODEL-PRODUCTION-MONITORING-DEBUGGER': True, 'COMET_OVERRIDE_FEATURE_MODEL-PRODUCTION-MONITORING-INTERNAL': False, 'COMET_OVERRIDE_FEATURE_MODEL-PRODUCTION-MONITORING-MODELS-PIPELINE': False, 'COMET_OVERRIDE_FEATURE_MODEL-PRODUCTION-MONITORING-SEGMENTS': True, 'COMET_OVERRIDE_FEATURE_MODEL-PRODUCTION-MONITORING-SEGMENTS-NEW-PANEL': False, 'COMET_OVERRIDE_FEATURE_MODEL-REGISTRY-CARD-DETAILS-V2': True, 'COMET_OVERRIDE_FEATURE_MODEL-REGISTRY-STAGES-TO-TAGS': True, 'COMET_OVERRIDE_FEATURE_MODEL-REGISTRY-STREAMLINE': True, 'COMET_OVERRIDE_FEATURE_NEW-ONBOARDING': True, 'COMET_OVERRIDE_FEATURE_NEW-WORDPRESS-SITE': True, 'COMET_OVERRIDE_FEATURE_NIMROD-TEST': True, 'COMET_OVERRIDE_FEATURE_OLD_TEAMS': True, 'COMET_OVERRIDE_FEATURE_PAYMENTS': True, 'COMET_OVERRIDE_FEATURE_PLOTLY-CHARTS': True, 'COMET_OVERRIDE_FEATURE_PUBLIC-PANELS': True, 'COMET_OVERRIDE_FEATURE_PYTHON-PANELS': True, 'COMET_OVERRIDE_FEATURE_QUERY-FILTER': True, 'COMET_OVERRIDE_FEATURE_QUERY-URL-PARSER': False, 'COMET_OVERRIDE_FEATURE_REACT_HEADER_ICON_OVERRIDE': False, 'COMET_OVERRIDE_FEATURE_REPRODUCE-NOTEBOOKS': True, 'COMET_OVERRIDE_FEATURE_SDK_ANNOUNCEMENT': True, 'COMET_OVERRIDE_FEATURE_SDK_GIT_PATCH': True, 'COMET_OVERRIDE_FEATURE_SDK_GPU_MONITOR': True, 'COMET_OVERRIDE_FEATURE_SDK_HTTP_LOGGING': False, 'COMET_OVERRIDE_FEATURE_SDK_LOG_ENV_VARIABLES': False, 'COMET_OVERRIDE_FEATURE_SDK_METRICS_HTTP_BATCHING': False, 'COMET_OVERRIDE_FEATURE_SDK_USE_HTTP_MESSAGES': True, 'COMET_OVERRIDE_FEATURE_SERVICE-ACCOUNTS': True, 'COMET_OVERRIDE_FEATURE_SYSTEM-METRICS': True, 'COMET_OVERRIDE_FEATURE_SYSTEM-METRICS-GPU': True, 'COMET_OVERRIDE_FEATURE_TAGS': True, 'COMET_OVERRIDE_FEATURE_TEST-FT-ENV-CHECK': True, 'COMET_OVERRIDE_FEATURE_TEXT-TAB': True, 'COMET_OVERRIDE_FEATURE_USE_HTTP_MESSAGES': True}> for COMET_DISTRIBUTED_NODE_IDENTIFIER\n",
            "DEBUG: 2023-04-03 18:32:33,455: Found nothing--returning NO_VALUE\n",
            "DEBUG: 2023-04-03 18:32:33,600: https://www.comet.com:443 \"POST /api/rest/v2/write/experiment/git/metadata HTTP/1.1\" 200 55\n",
            "DEBUG: 2023-04-03 18:32:33,759: https://www.comet.com:443 \"POST /clientlib/rest/v2/write/experiment/output HTTP/1.1\" 200 55\n",
            "DEBUG: 2023-04-03 18:32:33,910: https://www.comet.com:443 \"POST /clientlib/batch/logger/experiment/metric HTTP/1.1\" 200 55\n",
            "DEBUG: 2023-04-03 18:32:39,343: https://www.comet.com:443 \"POST /clientlib/status-report/update HTTP/1.1\" 200 159\n",
            "DEBUG: 2023-04-03 18:32:39,348: Looking up key: parameters_interval, namespace: ['comet', 'message_batch']\n",
            "DEBUG: 2023-04-03 18:32:39,349: Searching <ConfigOSEnv> for COMET_MESSAGE_BATCH_PARAMETERS_INTERVAL\n",
            "DEBUG: 2023-04-03 18:32:39,350: Searching <ConfigEnvFileEnv: None> for COMET_MESSAGE_BATCH_PARAMETERS_INTERVAL\n",
            "DEBUG: 2023-04-03 18:32:39,351: Searching <ConfigDictEnv: {}> for COMET_MESSAGE_BATCH_PARAMETERS_INTERVAL\n",
            "DEBUG: 2023-04-03 18:32:39,352: Found nothing--returning NO_VALUE\n",
            "DEBUG: 2023-04-03 18:32:44,079: https://www.comet.com:443 \"POST /clientlib/batch/logger/experiment/metric HTTP/1.1\" 200 55\n",
            "DEBUG: 2023-04-03 18:32:45,005: https://www.comet.com:443 \"GET /clientlib/health/ping HTTP/1.1\" 200 67\n"
          ]
        }
      ],
      "source": [
        "from comet_ml import Experiment\n",
        "\n",
        "# Создайте эксперимент с помощью вашего API ключа\n",
        "experiment = Experiment(\n",
        "    api_key=\"rRoIUGaiEg75BUbtQgThgxhNJ\",\n",
        "    project_name=\"med-appointment\",\n",
        "    workspace=\"gldmitri\",\n",
        ")"
      ]
    },
    {
      "cell_type": "code",
      "execution_count": null,
      "metadata": {},
      "outputs": [
        {
          "data": {
            "text/plain": [
              "<comet_ml._online.Experiment at 0x27dc05fff40>"
            ]
          },
          "execution_count": 25,
          "metadata": {},
          "output_type": "execute_result"
        },
        {
          "name": "stderr",
          "output_type": "stream",
          "text": [
            "DEBUG: 2023-04-03 18:34:00,784: https://www.comet.com:443 \"POST /clientlib/status-report/update HTTP/1.1\" 200 159\n",
            "DEBUG: 2023-04-03 18:34:00,792: Looking up key: parameters_interval, namespace: ['comet', 'message_batch']\n",
            "DEBUG: 2023-04-03 18:34:00,797: Searching <ConfigOSEnv> for COMET_MESSAGE_BATCH_PARAMETERS_INTERVAL\n",
            "DEBUG: 2023-04-03 18:34:00,799: Searching <ConfigEnvFileEnv: None> for COMET_MESSAGE_BATCH_PARAMETERS_INTERVAL\n",
            "DEBUG: 2023-04-03 18:34:00,801: Searching <ConfigDictEnv: {}> for COMET_MESSAGE_BATCH_PARAMETERS_INTERVAL\n",
            "DEBUG: 2023-04-03 18:34:00,802: Found nothing--returning NO_VALUE\n",
            "DEBUG: 2023-04-03 18:34:01,355: https://www.comet.com:443 \"GET /clientlib/health/ping HTTP/1.1\" 200 67\n",
            "DEBUG: 2023-04-03 18:34:10,964: https://www.comet.com:443 \"POST /clientlib/status-report/update HTTP/1.1\" 200 159\n",
            "DEBUG: 2023-04-03 18:34:10,966: Looking up key: parameters_interval, namespace: ['comet', 'message_batch']\n",
            "DEBUG: 2023-04-03 18:34:10,968: Searching <ConfigOSEnv> for COMET_MESSAGE_BATCH_PARAMETERS_INTERVAL\n",
            "DEBUG: 2023-04-03 18:34:10,969: Searching <ConfigEnvFileEnv: None> for COMET_MESSAGE_BATCH_PARAMETERS_INTERVAL\n",
            "DEBUG: 2023-04-03 18:34:10,970: Searching <ConfigDictEnv: {}> for COMET_MESSAGE_BATCH_PARAMETERS_INTERVAL\n",
            "DEBUG: 2023-04-03 18:34:10,971: Found nothing--returning NO_VALUE\n",
            "DEBUG: 2023-04-03 18:34:16,657: https://www.comet.com:443 \"GET /clientlib/health/ping HTTP/1.1\" 200 67\n",
            "DEBUG: 2023-04-03 18:34:21,137: https://www.comet.com:443 \"POST /clientlib/status-report/update HTTP/1.1\" 200 159\n",
            "DEBUG: 2023-04-03 18:34:21,148: Looking up key: parameters_interval, namespace: ['comet', 'message_batch']\n",
            "DEBUG: 2023-04-03 18:34:21,151: Searching <ConfigOSEnv> for COMET_MESSAGE_BATCH_PARAMETERS_INTERVAL\n",
            "DEBUG: 2023-04-03 18:34:21,153: Searching <ConfigEnvFileEnv: None> for COMET_MESSAGE_BATCH_PARAMETERS_INTERVAL\n",
            "DEBUG: 2023-04-03 18:34:21,155: Searching <ConfigDictEnv: {}> for COMET_MESSAGE_BATCH_PARAMETERS_INTERVAL\n",
            "DEBUG: 2023-04-03 18:34:21,156: Found nothing--returning NO_VALUE\n",
            "DEBUG: 2023-04-03 18:34:31,328: https://www.comet.com:443 \"POST /clientlib/status-report/update HTTP/1.1\" 200 159\n",
            "DEBUG: 2023-04-03 18:34:31,341: Looking up key: parameters_interval, namespace: ['comet', 'message_batch']\n",
            "DEBUG: 2023-04-03 18:34:31,347: Searching <ConfigOSEnv> for COMET_MESSAGE_BATCH_PARAMETERS_INTERVAL\n",
            "DEBUG: 2023-04-03 18:34:31,350: Searching <ConfigEnvFileEnv: None> for COMET_MESSAGE_BATCH_PARAMETERS_INTERVAL\n",
            "DEBUG: 2023-04-03 18:34:31,353: Searching <ConfigDictEnv: {}> for COMET_MESSAGE_BATCH_PARAMETERS_INTERVAL\n",
            "DEBUG: 2023-04-03 18:34:31,355: Found nothing--returning NO_VALUE\n",
            "DEBUG: 2023-04-03 18:34:31,928: https://www.comet.com:443 \"GET /clientlib/health/ping HTTP/1.1\" 200 67\n",
            "DEBUG: 2023-04-03 18:34:35,251: Looking up key: distributed_node_identifier, namespace: ['comet']\n",
            "DEBUG: 2023-04-03 18:34:35,253: Searching <ConfigOSEnv> for COMET_DISTRIBUTED_NODE_IDENTIFIER\n",
            "DEBUG: 2023-04-03 18:34:35,254: Searching <ConfigEnvFileEnv: None> for COMET_DISTRIBUTED_NODE_IDENTIFIER\n",
            "DEBUG: 2023-04-03 18:34:35,255: Searching <ConfigDictEnv: {'COMET_OVERRIDE_FEATURE_ACADEMIC': True, 'COMET_OVERRIDE_FEATURE_ARTIFACTS': True, 'COMET_OVERRIDE_FEATURE_ASSET-STORAGE': True, 'COMET_OVERRIDE_FEATURE_BILLING-REDESIGN': True, 'COMET_OVERRIDE_FEATURE_BREAK-DOWN-BY': False, 'COMET_OVERRIDE_FEATURE_CLOSEST-HOVER-MODE': True, 'COMET_OVERRIDE_FEATURE_CONFUSION-MATRIX': True, 'COMET_OVERRIDE_FEATURE_CUSTOM-CHARTS': True, 'COMET_OVERRIDE_FEATURE_DASHBOARD-CHARTS': True, 'COMET_OVERRIDE_FEATURE_DASHBOARD_TEMPLATES': True, 'COMET_OVERRIDE_FEATURE_DATA-PANEL': True, 'COMET_OVERRIDE_FEATURE_DBS-MODEL-PRODUCTION-MONITORING': False, 'COMET_OVERRIDE_FEATURE_DISABLE-TABLE-ROW-EXPAND': False, 'COMET_OVERRIDE_FEATURE_GIT-REPRODUCE': True, 'COMET_OVERRIDE_FEATURE_GROUP-BY-ENDPOINT': True, 'COMET_OVERRIDE_FEATURE_GROUPING': True, 'COMET_OVERRIDE_FEATURE_MODEL-APPROVAL-PROCESS': True, 'COMET_OVERRIDE_FEATURE_MODEL-PRODUCTION-MONITORING': False, 'COMET_OVERRIDE_FEATURE_MODEL-PRODUCTION-MONITORING-ACCURACY-METRICS-TAB': True, 'COMET_OVERRIDE_FEATURE_MODEL-PRODUCTION-MONITORING-ALERTS': True, 'COMET_OVERRIDE_FEATURE_MODEL-PRODUCTION-MONITORING-CUSTOM-TRANSFORMATIONS': True, 'COMET_OVERRIDE_FEATURE_MODEL-PRODUCTION-MONITORING-DEBUGGER': True, 'COMET_OVERRIDE_FEATURE_MODEL-PRODUCTION-MONITORING-INTERNAL': False, 'COMET_OVERRIDE_FEATURE_MODEL-PRODUCTION-MONITORING-MODELS-PIPELINE': False, 'COMET_OVERRIDE_FEATURE_MODEL-PRODUCTION-MONITORING-SEGMENTS': True, 'COMET_OVERRIDE_FEATURE_MODEL-PRODUCTION-MONITORING-SEGMENTS-NEW-PANEL': False, 'COMET_OVERRIDE_FEATURE_MODEL-REGISTRY-CARD-DETAILS-V2': True, 'COMET_OVERRIDE_FEATURE_MODEL-REGISTRY-STAGES-TO-TAGS': True, 'COMET_OVERRIDE_FEATURE_MODEL-REGISTRY-STREAMLINE': True, 'COMET_OVERRIDE_FEATURE_NEW-ONBOARDING': True, 'COMET_OVERRIDE_FEATURE_NEW-WORDPRESS-SITE': True, 'COMET_OVERRIDE_FEATURE_NIMROD-TEST': True, 'COMET_OVERRIDE_FEATURE_OLD_TEAMS': True, 'COMET_OVERRIDE_FEATURE_PAYMENTS': True, 'COMET_OVERRIDE_FEATURE_PLOTLY-CHARTS': True, 'COMET_OVERRIDE_FEATURE_PUBLIC-PANELS': True, 'COMET_OVERRIDE_FEATURE_PYTHON-PANELS': True, 'COMET_OVERRIDE_FEATURE_QUERY-FILTER': True, 'COMET_OVERRIDE_FEATURE_QUERY-URL-PARSER': False, 'COMET_OVERRIDE_FEATURE_REACT_HEADER_ICON_OVERRIDE': False, 'COMET_OVERRIDE_FEATURE_REPRODUCE-NOTEBOOKS': True, 'COMET_OVERRIDE_FEATURE_SDK_ANNOUNCEMENT': True, 'COMET_OVERRIDE_FEATURE_SDK_GIT_PATCH': True, 'COMET_OVERRIDE_FEATURE_SDK_GPU_MONITOR': True, 'COMET_OVERRIDE_FEATURE_SDK_HTTP_LOGGING': False, 'COMET_OVERRIDE_FEATURE_SDK_LOG_ENV_VARIABLES': False, 'COMET_OVERRIDE_FEATURE_SDK_METRICS_HTTP_BATCHING': False, 'COMET_OVERRIDE_FEATURE_SDK_USE_HTTP_MESSAGES': True, 'COMET_OVERRIDE_FEATURE_SERVICE-ACCOUNTS': True, 'COMET_OVERRIDE_FEATURE_SYSTEM-METRICS': True, 'COMET_OVERRIDE_FEATURE_SYSTEM-METRICS-GPU': True, 'COMET_OVERRIDE_FEATURE_TAGS': True, 'COMET_OVERRIDE_FEATURE_TEST-FT-ENV-CHECK': True, 'COMET_OVERRIDE_FEATURE_TEXT-TAB': True, 'COMET_OVERRIDE_FEATURE_USE_HTTP_MESSAGES': True}> for COMET_DISTRIBUTED_NODE_IDENTIFIER\n",
            "DEBUG: 2023-04-03 18:34:35,256: Found nothing--returning NO_VALUE\n",
            "DEBUG: 2023-04-03 18:34:35,412: https://www.comet.com:443 \"POST /clientlib/batch/logger/experiment/metric HTTP/1.1\" 200 55\n",
            "DEBUG: 2023-04-03 18:34:41,532: https://www.comet.com:443 \"POST /clientlib/status-report/update HTTP/1.1\" 200 159\n",
            "DEBUG: 2023-04-03 18:34:41,535: Looking up key: parameters_interval, namespace: ['comet', 'message_batch']\n",
            "DEBUG: 2023-04-03 18:34:41,536: Searching <ConfigOSEnv> for COMET_MESSAGE_BATCH_PARAMETERS_INTERVAL\n",
            "DEBUG: 2023-04-03 18:34:41,536: Searching <ConfigEnvFileEnv: None> for COMET_MESSAGE_BATCH_PARAMETERS_INTERVAL\n",
            "DEBUG: 2023-04-03 18:34:41,537: Searching <ConfigDictEnv: {}> for COMET_MESSAGE_BATCH_PARAMETERS_INTERVAL\n",
            "DEBUG: 2023-04-03 18:34:41,538: Found nothing--returning NO_VALUE\n",
            "DEBUG: 2023-04-03 18:34:45,571: https://www.comet.com:443 \"POST /clientlib/batch/logger/experiment/metric HTTP/1.1\" 200 55\n",
            "DEBUG: 2023-04-03 18:34:47,243: https://www.comet.com:443 \"GET /clientlib/health/ping HTTP/1.1\" 200 67\n",
            "DEBUG: 2023-04-03 18:34:51,711: https://www.comet.com:443 \"POST /clientlib/status-report/update HTTP/1.1\" 200 159\n",
            "DEBUG: 2023-04-03 18:34:51,722: Looking up key: parameters_interval, namespace: ['comet', 'message_batch']\n",
            "DEBUG: 2023-04-03 18:34:51,726: Searching <ConfigOSEnv> for COMET_MESSAGE_BATCH_PARAMETERS_INTERVAL\n",
            "DEBUG: 2023-04-03 18:34:51,729: Searching <ConfigEnvFileEnv: None> for COMET_MESSAGE_BATCH_PARAMETERS_INTERVAL\n",
            "DEBUG: 2023-04-03 18:34:51,732: Searching <ConfigDictEnv: {}> for COMET_MESSAGE_BATCH_PARAMETERS_INTERVAL\n",
            "DEBUG: 2023-04-03 18:34:51,736: Found nothing--returning NO_VALUE\n",
            "DEBUG: 2023-04-03 18:35:01,920: https://www.comet.com:443 \"POST /clientlib/status-report/update HTTP/1.1\" 200 159\n",
            "DEBUG: 2023-04-03 18:35:01,921: Looking up key: parameters_interval, namespace: ['comet', 'message_batch']\n",
            "DEBUG: 2023-04-03 18:35:01,922: Searching <ConfigOSEnv> for COMET_MESSAGE_BATCH_PARAMETERS_INTERVAL\n",
            "DEBUG: 2023-04-03 18:35:01,922: Searching <ConfigEnvFileEnv: None> for COMET_MESSAGE_BATCH_PARAMETERS_INTERVAL\n",
            "DEBUG: 2023-04-03 18:35:01,923: Searching <ConfigDictEnv: {}> for COMET_MESSAGE_BATCH_PARAMETERS_INTERVAL\n",
            "DEBUG: 2023-04-03 18:35:01,924: Found nothing--returning NO_VALUE\n",
            "DEBUG: 2023-04-03 18:35:02,550: https://www.comet.com:443 \"GET /clientlib/health/ping HTTP/1.1\" 200 67\n",
            "DEBUG: 2023-04-03 18:35:12,085: https://www.comet.com:443 \"POST /clientlib/status-report/update HTTP/1.1\" 200 159\n",
            "DEBUG: 2023-04-03 18:35:12,088: Looking up key: parameters_interval, namespace: ['comet', 'message_batch']\n",
            "DEBUG: 2023-04-03 18:35:12,090: Searching <ConfigOSEnv> for COMET_MESSAGE_BATCH_PARAMETERS_INTERVAL\n",
            "DEBUG: 2023-04-03 18:35:12,091: Searching <ConfigEnvFileEnv: None> for COMET_MESSAGE_BATCH_PARAMETERS_INTERVAL\n",
            "DEBUG: 2023-04-03 18:35:12,092: Searching <ConfigDictEnv: {}> for COMET_MESSAGE_BATCH_PARAMETERS_INTERVAL\n",
            "DEBUG: 2023-04-03 18:35:12,093: Found nothing--returning NO_VALUE\n",
            "DEBUG: 2023-04-03 18:35:17,848: https://www.comet.com:443 \"GET /clientlib/health/ping HTTP/1.1\" 200 67\n",
            "DEBUG: 2023-04-03 18:35:22,264: https://www.comet.com:443 \"POST /clientlib/status-report/update HTTP/1.1\" 200 159\n",
            "DEBUG: 2023-04-03 18:35:22,277: Looking up key: parameters_interval, namespace: ['comet', 'message_batch']\n",
            "DEBUG: 2023-04-03 18:35:22,281: Searching <ConfigOSEnv> for COMET_MESSAGE_BATCH_PARAMETERS_INTERVAL\n",
            "DEBUG: 2023-04-03 18:35:22,285: Searching <ConfigEnvFileEnv: None> for COMET_MESSAGE_BATCH_PARAMETERS_INTERVAL\n",
            "DEBUG: 2023-04-03 18:35:22,288: Searching <ConfigDictEnv: {}> for COMET_MESSAGE_BATCH_PARAMETERS_INTERVAL\n",
            "DEBUG: 2023-04-03 18:35:22,291: Found nothing--returning NO_VALUE\n",
            "DEBUG: 2023-04-03 18:35:32,460: https://www.comet.com:443 \"POST /clientlib/status-report/update HTTP/1.1\" 200 159\n",
            "DEBUG: 2023-04-03 18:35:32,465: Looking up key: parameters_interval, namespace: ['comet', 'message_batch']\n",
            "DEBUG: 2023-04-03 18:35:32,467: Searching <ConfigOSEnv> for COMET_MESSAGE_BATCH_PARAMETERS_INTERVAL\n",
            "DEBUG: 2023-04-03 18:35:32,469: Searching <ConfigEnvFileEnv: None> for COMET_MESSAGE_BATCH_PARAMETERS_INTERVAL\n",
            "DEBUG: 2023-04-03 18:35:32,472: Searching <ConfigDictEnv: {}> for COMET_MESSAGE_BATCH_PARAMETERS_INTERVAL\n",
            "DEBUG: 2023-04-03 18:35:32,475: Found nothing--returning NO_VALUE\n",
            "DEBUG: 2023-04-03 18:35:33,147: https://www.comet.com:443 \"GET /clientlib/health/ping HTTP/1.1\" 200 67\n",
            "DEBUG: 2023-04-03 18:35:36,191: Looking up key: distributed_node_identifier, namespace: ['comet']\n",
            "DEBUG: 2023-04-03 18:35:36,197: Searching <ConfigOSEnv> for COMET_DISTRIBUTED_NODE_IDENTIFIER\n",
            "DEBUG: 2023-04-03 18:35:36,200: Searching <ConfigEnvFileEnv: None> for COMET_DISTRIBUTED_NODE_IDENTIFIER\n",
            "DEBUG: 2023-04-03 18:35:36,203: Searching <ConfigDictEnv: {'COMET_OVERRIDE_FEATURE_ACADEMIC': True, 'COMET_OVERRIDE_FEATURE_ARTIFACTS': True, 'COMET_OVERRIDE_FEATURE_ASSET-STORAGE': True, 'COMET_OVERRIDE_FEATURE_BILLING-REDESIGN': True, 'COMET_OVERRIDE_FEATURE_BREAK-DOWN-BY': False, 'COMET_OVERRIDE_FEATURE_CLOSEST-HOVER-MODE': True, 'COMET_OVERRIDE_FEATURE_CONFUSION-MATRIX': True, 'COMET_OVERRIDE_FEATURE_CUSTOM-CHARTS': True, 'COMET_OVERRIDE_FEATURE_DASHBOARD-CHARTS': True, 'COMET_OVERRIDE_FEATURE_DASHBOARD_TEMPLATES': True, 'COMET_OVERRIDE_FEATURE_DATA-PANEL': True, 'COMET_OVERRIDE_FEATURE_DBS-MODEL-PRODUCTION-MONITORING': False, 'COMET_OVERRIDE_FEATURE_DISABLE-TABLE-ROW-EXPAND': False, 'COMET_OVERRIDE_FEATURE_GIT-REPRODUCE': True, 'COMET_OVERRIDE_FEATURE_GROUP-BY-ENDPOINT': True, 'COMET_OVERRIDE_FEATURE_GROUPING': True, 'COMET_OVERRIDE_FEATURE_MODEL-APPROVAL-PROCESS': True, 'COMET_OVERRIDE_FEATURE_MODEL-PRODUCTION-MONITORING': False, 'COMET_OVERRIDE_FEATURE_MODEL-PRODUCTION-MONITORING-ACCURACY-METRICS-TAB': True, 'COMET_OVERRIDE_FEATURE_MODEL-PRODUCTION-MONITORING-ALERTS': True, 'COMET_OVERRIDE_FEATURE_MODEL-PRODUCTION-MONITORING-CUSTOM-TRANSFORMATIONS': True, 'COMET_OVERRIDE_FEATURE_MODEL-PRODUCTION-MONITORING-DEBUGGER': True, 'COMET_OVERRIDE_FEATURE_MODEL-PRODUCTION-MONITORING-INTERNAL': False, 'COMET_OVERRIDE_FEATURE_MODEL-PRODUCTION-MONITORING-MODELS-PIPELINE': False, 'COMET_OVERRIDE_FEATURE_MODEL-PRODUCTION-MONITORING-SEGMENTS': True, 'COMET_OVERRIDE_FEATURE_MODEL-PRODUCTION-MONITORING-SEGMENTS-NEW-PANEL': False, 'COMET_OVERRIDE_FEATURE_MODEL-REGISTRY-CARD-DETAILS-V2': True, 'COMET_OVERRIDE_FEATURE_MODEL-REGISTRY-STAGES-TO-TAGS': True, 'COMET_OVERRIDE_FEATURE_MODEL-REGISTRY-STREAMLINE': True, 'COMET_OVERRIDE_FEATURE_NEW-ONBOARDING': True, 'COMET_OVERRIDE_FEATURE_NEW-WORDPRESS-SITE': True, 'COMET_OVERRIDE_FEATURE_NIMROD-TEST': True, 'COMET_OVERRIDE_FEATURE_OLD_TEAMS': True, 'COMET_OVERRIDE_FEATURE_PAYMENTS': True, 'COMET_OVERRIDE_FEATURE_PLOTLY-CHARTS': True, 'COMET_OVERRIDE_FEATURE_PUBLIC-PANELS': True, 'COMET_OVERRIDE_FEATURE_PYTHON-PANELS': True, 'COMET_OVERRIDE_FEATURE_QUERY-FILTER': True, 'COMET_OVERRIDE_FEATURE_QUERY-URL-PARSER': False, 'COMET_OVERRIDE_FEATURE_REACT_HEADER_ICON_OVERRIDE': False, 'COMET_OVERRIDE_FEATURE_REPRODUCE-NOTEBOOKS': True, 'COMET_OVERRIDE_FEATURE_SDK_ANNOUNCEMENT': True, 'COMET_OVERRIDE_FEATURE_SDK_GIT_PATCH': True, 'COMET_OVERRIDE_FEATURE_SDK_GPU_MONITOR': True, 'COMET_OVERRIDE_FEATURE_SDK_HTTP_LOGGING': False, 'COMET_OVERRIDE_FEATURE_SDK_LOG_ENV_VARIABLES': False, 'COMET_OVERRIDE_FEATURE_SDK_METRICS_HTTP_BATCHING': False, 'COMET_OVERRIDE_FEATURE_SDK_USE_HTTP_MESSAGES': True, 'COMET_OVERRIDE_FEATURE_SERVICE-ACCOUNTS': True, 'COMET_OVERRIDE_FEATURE_SYSTEM-METRICS': True, 'COMET_OVERRIDE_FEATURE_SYSTEM-METRICS-GPU': True, 'COMET_OVERRIDE_FEATURE_TAGS': True, 'COMET_OVERRIDE_FEATURE_TEST-FT-ENV-CHECK': True, 'COMET_OVERRIDE_FEATURE_TEXT-TAB': True, 'COMET_OVERRIDE_FEATURE_USE_HTTP_MESSAGES': True}> for COMET_DISTRIBUTED_NODE_IDENTIFIER\n",
            "DEBUG: 2023-04-03 18:35:36,206: Found nothing--returning NO_VALUE\n",
            "DEBUG: 2023-04-03 18:35:36,366: https://www.comet.com:443 \"POST /clientlib/batch/logger/experiment/metric HTTP/1.1\" 200 55\n",
            "DEBUG: 2023-04-03 18:35:42,649: https://www.comet.com:443 \"POST /clientlib/status-report/update HTTP/1.1\" 200 159\n",
            "DEBUG: 2023-04-03 18:35:42,662: Looking up key: parameters_interval, namespace: ['comet', 'message_batch']\n",
            "DEBUG: 2023-04-03 18:35:42,669: Searching <ConfigOSEnv> for COMET_MESSAGE_BATCH_PARAMETERS_INTERVAL\n",
            "DEBUG: 2023-04-03 18:35:42,673: Searching <ConfigEnvFileEnv: None> for COMET_MESSAGE_BATCH_PARAMETERS_INTERVAL\n",
            "DEBUG: 2023-04-03 18:35:42,676: Searching <ConfigDictEnv: {}> for COMET_MESSAGE_BATCH_PARAMETERS_INTERVAL\n",
            "DEBUG: 2023-04-03 18:35:42,680: Found nothing--returning NO_VALUE\n",
            "DEBUG: 2023-04-03 18:35:46,518: https://www.comet.com:443 \"POST /clientlib/batch/logger/experiment/metric HTTP/1.1\" 200 55\n",
            "DEBUG: 2023-04-03 18:35:48,431: https://www.comet.com:443 \"GET /clientlib/health/ping HTTP/1.1\" 200 67\n",
            "DEBUG: 2023-04-03 18:35:52,860: https://www.comet.com:443 \"POST /clientlib/status-report/update HTTP/1.1\" 200 159\n",
            "DEBUG: 2023-04-03 18:35:52,868: Looking up key: parameters_interval, namespace: ['comet', 'message_batch']\n",
            "DEBUG: 2023-04-03 18:35:52,872: Searching <ConfigOSEnv> for COMET_MESSAGE_BATCH_PARAMETERS_INTERVAL\n",
            "DEBUG: 2023-04-03 18:35:52,875: Searching <ConfigEnvFileEnv: None> for COMET_MESSAGE_BATCH_PARAMETERS_INTERVAL\n",
            "DEBUG: 2023-04-03 18:35:52,877: Searching <ConfigDictEnv: {}> for COMET_MESSAGE_BATCH_PARAMETERS_INTERVAL\n",
            "DEBUG: 2023-04-03 18:35:52,880: Found nothing--returning NO_VALUE\n",
            "DEBUG: 2023-04-03 18:36:03,035: https://www.comet.com:443 \"POST /clientlib/status-report/update HTTP/1.1\" 200 159\n",
            "DEBUG: 2023-04-03 18:36:03,038: Looking up key: parameters_interval, namespace: ['comet', 'message_batch']\n",
            "DEBUG: 2023-04-03 18:36:03,040: Searching <ConfigOSEnv> for COMET_MESSAGE_BATCH_PARAMETERS_INTERVAL\n",
            "DEBUG: 2023-04-03 18:36:03,041: Searching <ConfigEnvFileEnv: None> for COMET_MESSAGE_BATCH_PARAMETERS_INTERVAL\n",
            "DEBUG: 2023-04-03 18:36:03,042: Searching <ConfigDictEnv: {}> for COMET_MESSAGE_BATCH_PARAMETERS_INTERVAL\n",
            "DEBUG: 2023-04-03 18:36:03,042: Found nothing--returning NO_VALUE\n",
            "DEBUG: 2023-04-03 18:36:03,713: https://www.comet.com:443 \"GET /clientlib/health/ping HTTP/1.1\" 200 67\n",
            "DEBUG: 2023-04-03 18:36:13,217: https://www.comet.com:443 \"POST /clientlib/status-report/update HTTP/1.1\" 200 159\n",
            "DEBUG: 2023-04-03 18:36:13,220: Looking up key: parameters_interval, namespace: ['comet', 'message_batch']\n",
            "DEBUG: 2023-04-03 18:36:13,222: Searching <ConfigOSEnv> for COMET_MESSAGE_BATCH_PARAMETERS_INTERVAL\n",
            "DEBUG: 2023-04-03 18:36:13,224: Searching <ConfigEnvFileEnv: None> for COMET_MESSAGE_BATCH_PARAMETERS_INTERVAL\n",
            "DEBUG: 2023-04-03 18:36:13,225: Searching <ConfigDictEnv: {}> for COMET_MESSAGE_BATCH_PARAMETERS_INTERVAL\n",
            "DEBUG: 2023-04-03 18:36:13,226: Found nothing--returning NO_VALUE\n"
          ]
        }
      ],
      "source": [
        "experiment"
      ]
    },
    {
      "cell_type": "code",
      "execution_count": null,
      "metadata": {},
      "outputs": [
        {
          "data": {
            "text/plain": [
              "{'web': 'https://www.comet.com/api/asset/download?assetId=00a8e87585694673b90400a2a98ababc&experimentKey=eac118f9e6e3428b9aaf7e7734b867b3',\n",
              " 'api': 'https://www.comet.com/api/rest/v2/experiment/asset/get-asset?assetId=00a8e87585694673b90400a2a98ababc&experimentKey=eac118f9e6e3428b9aaf7e7734b867b3',\n",
              " 'assetId': '00a8e87585694673b90400a2a98ababc'}"
            ]
          },
          "execution_count": 26,
          "metadata": {},
          "output_type": "execute_result"
        },
        {
          "name": "stderr",
          "output_type": "stream",
          "text": [
            "DEBUG: 2023-04-03 18:37:09,611: No INI file found: []\n",
            "DEBUG: 2023-04-03 18:37:09,618: No INI file found: ['./.comet.config']\n"
          ]
        },
        {
          "name": "stderr",
          "output_type": "stream",
          "text": [
            "DEBUG: 2023-04-03 18:37:09,619: No INI file found: ['/content/drive/MyDrive/.comet.config']\n",
            "DEBUG: 2023-04-03 18:37:09,625: No INI file found: ['~/.comet.config']\n",
            "DEBUG: 2023-04-03 18:37:09,626: Looking up key: name, namespace: ['comet', 'allow_header']\n",
            "DEBUG: 2023-04-03 18:37:09,627: Searching <ConfigOSEnv> for COMET_ALLOW_HEADER_NAME\n",
            "DEBUG: 2023-04-03 18:37:09,629: Searching <ConfigEnvFileEnv: None> for COMET_ALLOW_HEADER_NAME\n",
            "DEBUG: 2023-04-03 18:37:09,630: Searching <ConfigDictEnv: {}> for COMET_ALLOW_HEADER_NAME\n",
            "DEBUG: 2023-04-03 18:37:09,631: Found nothing--returning NO_VALUE\n",
            "DEBUG: 2023-04-03 18:37:09,632: Looking up key: value, namespace: ['comet', 'allow_header']\n",
            "DEBUG: 2023-04-03 18:37:09,632: Searching <ConfigOSEnv> for COMET_ALLOW_HEADER_VALUE\n",
            "DEBUG: 2023-04-03 18:37:09,633: Searching <ConfigEnvFileEnv: None> for COMET_ALLOW_HEADER_VALUE\n",
            "DEBUG: 2023-04-03 18:37:09,634: Searching <ConfigDictEnv: {}> for COMET_ALLOW_HEADER_VALUE\n",
            "DEBUG: 2023-04-03 18:37:09,635: Found nothing--returning NO_VALUE\n",
            "DEBUG: 2023-04-03 18:37:09,642: Starting new HTTPS connection (1): www.comet.com:443\n",
            "DEBUG: 2023-04-03 18:37:10,199: https://www.comet.com:443 \"POST /clientlib/asset/upload?experimentId=eac118f9e6e3428b9aaf7e7734b867b3&projectId=1aa199d7c0f04f45913c4af969e98d1d&apiKey=rRoIUGaiEg75BUbtQgThgxhNJ&assetId=00a8e87585694673b90400a2a98ababc&fileName=auto-generated-in-the-backend&overwrite=False&runId=M26notsJesd4GFZXcPbQsKBaw&type=text-sample HTTP/1.1\" 200 208\n",
            "DEBUG: 2023-04-03 18:37:14,330: https://www.comet.com:443 \"POST /clientlib/status-report/update HTTP/1.1\" 200 159\n",
            "DEBUG: 2023-04-03 18:37:14,337: Looking up key: parameters_interval, namespace: ['comet', 'message_batch']\n",
            "DEBUG: 2023-04-03 18:37:14,342: Searching <ConfigOSEnv> for COMET_MESSAGE_BATCH_PARAMETERS_INTERVAL\n",
            "DEBUG: 2023-04-03 18:37:14,344: Searching <ConfigEnvFileEnv: None> for COMET_MESSAGE_BATCH_PARAMETERS_INTERVAL\n",
            "DEBUG: 2023-04-03 18:37:14,348: Searching <ConfigDictEnv: {}> for COMET_MESSAGE_BATCH_PARAMETERS_INTERVAL\n",
            "DEBUG: 2023-04-03 18:37:14,351: Found nothing--returning NO_VALUE\n",
            "DEBUG: 2023-04-03 18:37:20,093: https://www.comet.com:443 \"GET /clientlib/health/ping HTTP/1.1\" 200 67\n",
            "DEBUG: 2023-04-03 18:37:24,533: https://www.comet.com:443 \"POST /clientlib/status-report/update HTTP/1.1\" 200 159\n",
            "DEBUG: 2023-04-03 18:37:24,539: Looking up key: parameters_interval, namespace: ['comet', 'message_batch']\n",
            "DEBUG: 2023-04-03 18:37:24,541: Searching <ConfigOSEnv> for COMET_MESSAGE_BATCH_PARAMETERS_INTERVAL\n",
            "DEBUG: 2023-04-03 18:37:24,543: Searching <ConfigEnvFileEnv: None> for COMET_MESSAGE_BATCH_PARAMETERS_INTERVAL\n",
            "DEBUG: 2023-04-03 18:37:24,545: Searching <ConfigDictEnv: {}> for COMET_MESSAGE_BATCH_PARAMETERS_INTERVAL\n",
            "DEBUG: 2023-04-03 18:37:24,547: Found nothing--returning NO_VALUE\n",
            "DEBUG: 2023-04-03 18:37:34,720: https://www.comet.com:443 \"POST /clientlib/status-report/update HTTP/1.1\" 200 159\n",
            "DEBUG: 2023-04-03 18:37:34,721: Looking up key: parameters_interval, namespace: ['comet', 'message_batch']\n",
            "DEBUG: 2023-04-03 18:37:34,723: Searching <ConfigOSEnv> for COMET_MESSAGE_BATCH_PARAMETERS_INTERVAL\n",
            "DEBUG: 2023-04-03 18:37:34,724: Searching <ConfigEnvFileEnv: None> for COMET_MESSAGE_BATCH_PARAMETERS_INTERVAL\n",
            "DEBUG: 2023-04-03 18:37:34,726: Searching <ConfigDictEnv: {}> for COMET_MESSAGE_BATCH_PARAMETERS_INTERVAL\n",
            "DEBUG: 2023-04-03 18:37:34,727: Found nothing--returning NO_VALUE\n",
            "DEBUG: 2023-04-03 18:37:35,366: https://www.comet.com:443 \"GET /clientlib/health/ping HTTP/1.1\" 200 67\n",
            "DEBUG: 2023-04-03 18:37:38,052: Looking up key: distributed_node_identifier, namespace: ['comet']\n",
            "DEBUG: 2023-04-03 18:37:38,053: Searching <ConfigOSEnv> for COMET_DISTRIBUTED_NODE_IDENTIFIER\n",
            "DEBUG: 2023-04-03 18:37:38,054: Searching <ConfigEnvFileEnv: None> for COMET_DISTRIBUTED_NODE_IDENTIFIER\n",
            "DEBUG: 2023-04-03 18:37:38,054: Searching <ConfigDictEnv: {'COMET_OVERRIDE_FEATURE_ACADEMIC': True, 'COMET_OVERRIDE_FEATURE_ARTIFACTS': True, 'COMET_OVERRIDE_FEATURE_ASSET-STORAGE': True, 'COMET_OVERRIDE_FEATURE_BILLING-REDESIGN': True, 'COMET_OVERRIDE_FEATURE_BREAK-DOWN-BY': False, 'COMET_OVERRIDE_FEATURE_CLOSEST-HOVER-MODE': True, 'COMET_OVERRIDE_FEATURE_CONFUSION-MATRIX': True, 'COMET_OVERRIDE_FEATURE_CUSTOM-CHARTS': True, 'COMET_OVERRIDE_FEATURE_DASHBOARD-CHARTS': True, 'COMET_OVERRIDE_FEATURE_DASHBOARD_TEMPLATES': True, 'COMET_OVERRIDE_FEATURE_DATA-PANEL': True, 'COMET_OVERRIDE_FEATURE_DBS-MODEL-PRODUCTION-MONITORING': False, 'COMET_OVERRIDE_FEATURE_DISABLE-TABLE-ROW-EXPAND': False, 'COMET_OVERRIDE_FEATURE_GIT-REPRODUCE': True, 'COMET_OVERRIDE_FEATURE_GROUP-BY-ENDPOINT': True, 'COMET_OVERRIDE_FEATURE_GROUPING': True, 'COMET_OVERRIDE_FEATURE_MODEL-APPROVAL-PROCESS': True, 'COMET_OVERRIDE_FEATURE_MODEL-PRODUCTION-MONITORING': False, 'COMET_OVERRIDE_FEATURE_MODEL-PRODUCTION-MONITORING-ACCURACY-METRICS-TAB': True, 'COMET_OVERRIDE_FEATURE_MODEL-PRODUCTION-MONITORING-ALERTS': True, 'COMET_OVERRIDE_FEATURE_MODEL-PRODUCTION-MONITORING-CUSTOM-TRANSFORMATIONS': True, 'COMET_OVERRIDE_FEATURE_MODEL-PRODUCTION-MONITORING-DEBUGGER': True, 'COMET_OVERRIDE_FEATURE_MODEL-PRODUCTION-MONITORING-INTERNAL': False, 'COMET_OVERRIDE_FEATURE_MODEL-PRODUCTION-MONITORING-MODELS-PIPELINE': False, 'COMET_OVERRIDE_FEATURE_MODEL-PRODUCTION-MONITORING-SEGMENTS': True, 'COMET_OVERRIDE_FEATURE_MODEL-PRODUCTION-MONITORING-SEGMENTS-NEW-PANEL': False, 'COMET_OVERRIDE_FEATURE_MODEL-REGISTRY-CARD-DETAILS-V2': True, 'COMET_OVERRIDE_FEATURE_MODEL-REGISTRY-STAGES-TO-TAGS': True, 'COMET_OVERRIDE_FEATURE_MODEL-REGISTRY-STREAMLINE': True, 'COMET_OVERRIDE_FEATURE_NEW-ONBOARDING': True, 'COMET_OVERRIDE_FEATURE_NEW-WORDPRESS-SITE': True, 'COMET_OVERRIDE_FEATURE_NIMROD-TEST': True, 'COMET_OVERRIDE_FEATURE_OLD_TEAMS': True, 'COMET_OVERRIDE_FEATURE_PAYMENTS': True, 'COMET_OVERRIDE_FEATURE_PLOTLY-CHARTS': True, 'COMET_OVERRIDE_FEATURE_PUBLIC-PANELS': True, 'COMET_OVERRIDE_FEATURE_PYTHON-PANELS': True, 'COMET_OVERRIDE_FEATURE_QUERY-FILTER': True, 'COMET_OVERRIDE_FEATURE_QUERY-URL-PARSER': False, 'COMET_OVERRIDE_FEATURE_REACT_HEADER_ICON_OVERRIDE': False, 'COMET_OVERRIDE_FEATURE_REPRODUCE-NOTEBOOKS': True, 'COMET_OVERRIDE_FEATURE_SDK_ANNOUNCEMENT': True, 'COMET_OVERRIDE_FEATURE_SDK_GIT_PATCH': True, 'COMET_OVERRIDE_FEATURE_SDK_GPU_MONITOR': True, 'COMET_OVERRIDE_FEATURE_SDK_HTTP_LOGGING': False, 'COMET_OVERRIDE_FEATURE_SDK_LOG_ENV_VARIABLES': False, 'COMET_OVERRIDE_FEATURE_SDK_METRICS_HTTP_BATCHING': False, 'COMET_OVERRIDE_FEATURE_SDK_USE_HTTP_MESSAGES': True, 'COMET_OVERRIDE_FEATURE_SERVICE-ACCOUNTS': True, 'COMET_OVERRIDE_FEATURE_SYSTEM-METRICS': True, 'COMET_OVERRIDE_FEATURE_SYSTEM-METRICS-GPU': True, 'COMET_OVERRIDE_FEATURE_TAGS': True, 'COMET_OVERRIDE_FEATURE_TEST-FT-ENV-CHECK': True, 'COMET_OVERRIDE_FEATURE_TEXT-TAB': True, 'COMET_OVERRIDE_FEATURE_USE_HTTP_MESSAGES': True}> for COMET_DISTRIBUTED_NODE_IDENTIFIER\n",
            "DEBUG: 2023-04-03 18:37:38,056: Found nothing--returning NO_VALUE\n",
            "DEBUG: 2023-04-03 18:37:38,206: https://www.comet.com:443 \"POST /clientlib/batch/logger/experiment/metric HTTP/1.1\" 200 55\n",
            "DEBUG: 2023-04-03 18:37:44,903: https://www.comet.com:443 \"POST /clientlib/status-report/update HTTP/1.1\" 200 159\n",
            "DEBUG: 2023-04-03 18:37:44,914: Looking up key: parameters_interval, namespace: ['comet', 'message_batch']\n",
            "DEBUG: 2023-04-03 18:37:44,918: Searching <ConfigOSEnv> for COMET_MESSAGE_BATCH_PARAMETERS_INTERVAL\n",
            "DEBUG: 2023-04-03 18:37:44,922: Searching <ConfigEnvFileEnv: None> for COMET_MESSAGE_BATCH_PARAMETERS_INTERVAL\n",
            "DEBUG: 2023-04-03 18:37:44,927: Searching <ConfigDictEnv: {}> for COMET_MESSAGE_BATCH_PARAMETERS_INTERVAL\n",
            "DEBUG: 2023-04-03 18:37:44,932: Found nothing--returning NO_VALUE\n",
            "DEBUG: 2023-04-03 18:37:48,363: https://www.comet.com:443 \"POST /clientlib/batch/logger/experiment/metric HTTP/1.1\" 200 55\n",
            "DEBUG: 2023-04-03 18:37:50,633: https://www.comet.com:443 \"GET /clientlib/health/ping HTTP/1.1\" 200 67\n",
            "DEBUG: 2023-04-03 18:37:55,116: https://www.comet.com:443 \"POST /clientlib/status-report/update HTTP/1.1\" 200 159\n",
            "DEBUG: 2023-04-03 18:37:55,119: Looking up key: parameters_interval, namespace: ['comet', 'message_batch']\n",
            "DEBUG: 2023-04-03 18:37:55,120: Searching <ConfigOSEnv> for COMET_MESSAGE_BATCH_PARAMETERS_INTERVAL\n",
            "DEBUG: 2023-04-03 18:37:55,123: Searching <ConfigEnvFileEnv: None> for COMET_MESSAGE_BATCH_PARAMETERS_INTERVAL\n",
            "DEBUG: 2023-04-03 18:37:55,124: Searching <ConfigDictEnv: {}> for COMET_MESSAGE_BATCH_PARAMETERS_INTERVAL\n",
            "DEBUG: 2023-04-03 18:37:55,125: Found nothing--returning NO_VALUE\n",
            "DEBUG: 2023-04-03 18:38:05,298: https://www.comet.com:443 \"POST /clientlib/status-report/update HTTP/1.1\" 200 159\n",
            "DEBUG: 2023-04-03 18:38:05,302: Looking up key: parameters_interval, namespace: ['comet', 'message_batch']\n",
            "DEBUG: 2023-04-03 18:38:05,303: Searching <ConfigOSEnv> for COMET_MESSAGE_BATCH_PARAMETERS_INTERVAL\n",
            "DEBUG: 2023-04-03 18:38:05,304: Searching <ConfigEnvFileEnv: None> for COMET_MESSAGE_BATCH_PARAMETERS_INTERVAL\n",
            "DEBUG: 2023-04-03 18:38:05,305: Searching <ConfigDictEnv: {}> for COMET_MESSAGE_BATCH_PARAMETERS_INTERVAL\n",
            "DEBUG: 2023-04-03 18:38:05,307: Found nothing--returning NO_VALUE\n",
            "DEBUG: 2023-04-03 18:38:05,897: https://www.comet.com:443 \"GET /clientlib/health/ping HTTP/1.1\" 200 67\n",
            "DEBUG: 2023-04-03 18:38:15,479: https://www.comet.com:443 \"POST /clientlib/status-report/update HTTP/1.1\" 200 159\n",
            "DEBUG: 2023-04-03 18:38:15,483: Looking up key: parameters_interval, namespace: ['comet', 'message_batch']\n",
            "DEBUG: 2023-04-03 18:38:15,485: Searching <ConfigOSEnv> for COMET_MESSAGE_BATCH_PARAMETERS_INTERVAL\n",
            "DEBUG: 2023-04-03 18:38:15,487: Searching <ConfigEnvFileEnv: None> for COMET_MESSAGE_BATCH_PARAMETERS_INTERVAL\n",
            "DEBUG: 2023-04-03 18:38:15,489: Searching <ConfigDictEnv: {}> for COMET_MESSAGE_BATCH_PARAMETERS_INTERVAL\n",
            "DEBUG: 2023-04-03 18:38:15,490: Found nothing--returning NO_VALUE\n",
            "DEBUG: 2023-04-03 18:38:21,207: https://www.comet.com:443 \"GET /clientlib/health/ping HTTP/1.1\" 200 67\n",
            "DEBUG: 2023-04-03 18:38:25,680: https://www.comet.com:443 \"POST /clientlib/status-report/update HTTP/1.1\" 200 159\n",
            "DEBUG: 2023-04-03 18:38:25,690: Looking up key: parameters_interval, namespace: ['comet', 'message_batch']\n",
            "DEBUG: 2023-04-03 18:38:25,695: Searching <ConfigOSEnv> for COMET_MESSAGE_BATCH_PARAMETERS_INTERVAL\n",
            "DEBUG: 2023-04-03 18:38:25,697: Searching <ConfigEnvFileEnv: None> for COMET_MESSAGE_BATCH_PARAMETERS_INTERVAL\n",
            "DEBUG: 2023-04-03 18:38:25,701: Searching <ConfigDictEnv: {}> for COMET_MESSAGE_BATCH_PARAMETERS_INTERVAL\n",
            "DEBUG: 2023-04-03 18:38:25,705: Found nothing--returning NO_VALUE\n",
            "DEBUG: 2023-04-03 18:38:35,878: https://www.comet.com:443 \"POST /clientlib/status-report/update HTTP/1.1\" 200 159\n",
            "DEBUG: 2023-04-03 18:38:35,887: Looking up key: parameters_interval, namespace: ['comet', 'message_batch']\n",
            "DEBUG: 2023-04-03 18:38:35,892: Searching <ConfigOSEnv> for COMET_MESSAGE_BATCH_PARAMETERS_INTERVAL\n",
            "DEBUG: 2023-04-03 18:38:35,894: Searching <ConfigEnvFileEnv: None> for COMET_MESSAGE_BATCH_PARAMETERS_INTERVAL\n",
            "DEBUG: 2023-04-03 18:38:35,897: Searching <ConfigDictEnv: {}> for COMET_MESSAGE_BATCH_PARAMETERS_INTERVAL\n",
            "DEBUG: 2023-04-03 18:38:35,899: Found nothing--returning NO_VALUE\n",
            "DEBUG: 2023-04-03 18:38:36,496: https://www.comet.com:443 \"GET /clientlib/health/ping HTTP/1.1\" 200 67\n",
            "DEBUG: 2023-04-03 18:38:39,018: Looking up key: distributed_node_identifier, namespace: ['comet']\n",
            "DEBUG: 2023-04-03 18:38:39,019: Searching <ConfigOSEnv> for COMET_DISTRIBUTED_NODE_IDENTIFIER\n",
            "DEBUG: 2023-04-03 18:38:39,020: Searching <ConfigEnvFileEnv: None> for COMET_DISTRIBUTED_NODE_IDENTIFIER\n",
            "DEBUG: 2023-04-03 18:38:39,020: Searching <ConfigDictEnv: {'COMET_OVERRIDE_FEATURE_ACADEMIC': True, 'COMET_OVERRIDE_FEATURE_ARTIFACTS': True, 'COMET_OVERRIDE_FEATURE_ASSET-STORAGE': True, 'COMET_OVERRIDE_FEATURE_BILLING-REDESIGN': True, 'COMET_OVERRIDE_FEATURE_BREAK-DOWN-BY': False, 'COMET_OVERRIDE_FEATURE_CLOSEST-HOVER-MODE': True, 'COMET_OVERRIDE_FEATURE_CONFUSION-MATRIX': True, 'COMET_OVERRIDE_FEATURE_CUSTOM-CHARTS': True, 'COMET_OVERRIDE_FEATURE_DASHBOARD-CHARTS': True, 'COMET_OVERRIDE_FEATURE_DASHBOARD_TEMPLATES': True, 'COMET_OVERRIDE_FEATURE_DATA-PANEL': True, 'COMET_OVERRIDE_FEATURE_DBS-MODEL-PRODUCTION-MONITORING': False, 'COMET_OVERRIDE_FEATURE_DISABLE-TABLE-ROW-EXPAND': False, 'COMET_OVERRIDE_FEATURE_GIT-REPRODUCE': True, 'COMET_OVERRIDE_FEATURE_GROUP-BY-ENDPOINT': True, 'COMET_OVERRIDE_FEATURE_GROUPING': True, 'COMET_OVERRIDE_FEATURE_MODEL-APPROVAL-PROCESS': True, 'COMET_OVERRIDE_FEATURE_MODEL-PRODUCTION-MONITORING': False, 'COMET_OVERRIDE_FEATURE_MODEL-PRODUCTION-MONITORING-ACCURACY-METRICS-TAB': True, 'COMET_OVERRIDE_FEATURE_MODEL-PRODUCTION-MONITORING-ALERTS': True, 'COMET_OVERRIDE_FEATURE_MODEL-PRODUCTION-MONITORING-CUSTOM-TRANSFORMATIONS': True, 'COMET_OVERRIDE_FEATURE_MODEL-PRODUCTION-MONITORING-DEBUGGER': True, 'COMET_OVERRIDE_FEATURE_MODEL-PRODUCTION-MONITORING-INTERNAL': False, 'COMET_OVERRIDE_FEATURE_MODEL-PRODUCTION-MONITORING-MODELS-PIPELINE': False, 'COMET_OVERRIDE_FEATURE_MODEL-PRODUCTION-MONITORING-SEGMENTS': True, 'COMET_OVERRIDE_FEATURE_MODEL-PRODUCTION-MONITORING-SEGMENTS-NEW-PANEL': False, 'COMET_OVERRIDE_FEATURE_MODEL-REGISTRY-CARD-DETAILS-V2': True, 'COMET_OVERRIDE_FEATURE_MODEL-REGISTRY-STAGES-TO-TAGS': True, 'COMET_OVERRIDE_FEATURE_MODEL-REGISTRY-STREAMLINE': True, 'COMET_OVERRIDE_FEATURE_NEW-ONBOARDING': True, 'COMET_OVERRIDE_FEATURE_NEW-WORDPRESS-SITE': True, 'COMET_OVERRIDE_FEATURE_NIMROD-TEST': True, 'COMET_OVERRIDE_FEATURE_OLD_TEAMS': True, 'COMET_OVERRIDE_FEATURE_PAYMENTS': True, 'COMET_OVERRIDE_FEATURE_PLOTLY-CHARTS': True, 'COMET_OVERRIDE_FEATURE_PUBLIC-PANELS': True, 'COMET_OVERRIDE_FEATURE_PYTHON-PANELS': True, 'COMET_OVERRIDE_FEATURE_QUERY-FILTER': True, 'COMET_OVERRIDE_FEATURE_QUERY-URL-PARSER': False, 'COMET_OVERRIDE_FEATURE_REACT_HEADER_ICON_OVERRIDE': False, 'COMET_OVERRIDE_FEATURE_REPRODUCE-NOTEBOOKS': True, 'COMET_OVERRIDE_FEATURE_SDK_ANNOUNCEMENT': True, 'COMET_OVERRIDE_FEATURE_SDK_GIT_PATCH': True, 'COMET_OVERRIDE_FEATURE_SDK_GPU_MONITOR': True, 'COMET_OVERRIDE_FEATURE_SDK_HTTP_LOGGING': False, 'COMET_OVERRIDE_FEATURE_SDK_LOG_ENV_VARIABLES': False, 'COMET_OVERRIDE_FEATURE_SDK_METRICS_HTTP_BATCHING': False, 'COMET_OVERRIDE_FEATURE_SDK_USE_HTTP_MESSAGES': True, 'COMET_OVERRIDE_FEATURE_SERVICE-ACCOUNTS': True, 'COMET_OVERRIDE_FEATURE_SYSTEM-METRICS': True, 'COMET_OVERRIDE_FEATURE_SYSTEM-METRICS-GPU': True, 'COMET_OVERRIDE_FEATURE_TAGS': True, 'COMET_OVERRIDE_FEATURE_TEST-FT-ENV-CHECK': True, 'COMET_OVERRIDE_FEATURE_TEXT-TAB': True, 'COMET_OVERRIDE_FEATURE_USE_HTTP_MESSAGES': True}> for COMET_DISTRIBUTED_NODE_IDENTIFIER\n",
            "DEBUG: 2023-04-03 18:38:39,022: Found nothing--returning NO_VALUE\n",
            "DEBUG: 2023-04-03 18:38:39,174: https://www.comet.com:443 \"POST /clientlib/batch/logger/experiment/metric HTTP/1.1\" 200 55\n",
            "DEBUG: 2023-04-03 18:38:46,078: https://www.comet.com:443 \"POST /clientlib/status-report/update HTTP/1.1\" 200 159\n",
            "DEBUG: 2023-04-03 18:38:46,091: Looking up key: parameters_interval, namespace: ['comet', 'message_batch']\n",
            "DEBUG: 2023-04-03 18:38:46,094: Searching <ConfigOSEnv> for COMET_MESSAGE_BATCH_PARAMETERS_INTERVAL\n",
            "DEBUG: 2023-04-03 18:38:46,099: Searching <ConfigEnvFileEnv: None> for COMET_MESSAGE_BATCH_PARAMETERS_INTERVAL\n",
            "DEBUG: 2023-04-03 18:38:46,103: Searching <ConfigDictEnv: {}> for COMET_MESSAGE_BATCH_PARAMETERS_INTERVAL\n",
            "DEBUG: 2023-04-03 18:38:46,107: Found nothing--returning NO_VALUE\n",
            "DEBUG: 2023-04-03 18:38:49,338: https://www.comet.com:443 \"POST /clientlib/batch/logger/experiment/metric HTTP/1.1\" 200 55\n",
            "DEBUG: 2023-04-03 18:38:51,788: https://www.comet.com:443 \"GET /clientlib/health/ping HTTP/1.1\" 200 67\n",
            "DEBUG: 2023-04-03 18:38:56,290: https://www.comet.com:443 \"POST /clientlib/status-report/update HTTP/1.1\" 200 159\n",
            "DEBUG: 2023-04-03 18:38:56,297: Looking up key: parameters_interval, namespace: ['comet', 'message_batch']\n",
            "DEBUG: 2023-04-03 18:38:56,300: Searching <ConfigOSEnv> for COMET_MESSAGE_BATCH_PARAMETERS_INTERVAL\n",
            "DEBUG: 2023-04-03 18:38:56,304: Searching <ConfigEnvFileEnv: None> for COMET_MESSAGE_BATCH_PARAMETERS_INTERVAL\n",
            "DEBUG: 2023-04-03 18:38:56,306: Searching <ConfigDictEnv: {}> for COMET_MESSAGE_BATCH_PARAMETERS_INTERVAL\n",
            "DEBUG: 2023-04-03 18:38:56,309: Found nothing--returning NO_VALUE\n",
            "DEBUG: 2023-04-03 18:39:06,485: https://www.comet.com:443 \"POST /clientlib/status-report/update HTTP/1.1\" 200 159\n",
            "DEBUG: 2023-04-03 18:39:06,491: Looking up key: parameters_interval, namespace: ['comet', 'message_batch']\n",
            "DEBUG: 2023-04-03 18:39:06,494: Searching <ConfigOSEnv> for COMET_MESSAGE_BATCH_PARAMETERS_INTERVAL\n",
            "DEBUG: 2023-04-03 18:39:06,497: Searching <ConfigEnvFileEnv: None> for COMET_MESSAGE_BATCH_PARAMETERS_INTERVAL\n",
            "DEBUG: 2023-04-03 18:39:06,500: Searching <ConfigDictEnv: {}> for COMET_MESSAGE_BATCH_PARAMETERS_INTERVAL\n",
            "DEBUG: 2023-04-03 18:39:06,501: Found nothing--returning NO_VALUE\n",
            "DEBUG: 2023-04-03 18:39:07,070: https://www.comet.com:443 \"GET /clientlib/health/ping HTTP/1.1\" 200 67\n",
            "DEBUG: 2023-04-03 18:39:16,671: https://www.comet.com:443 \"POST /clientlib/status-report/update HTTP/1.1\" 200 159\n",
            "DEBUG: 2023-04-03 18:39:16,677: Looking up key: parameters_interval, namespace: ['comet', 'message_batch']\n",
            "DEBUG: 2023-04-03 18:39:16,682: Searching <ConfigOSEnv> for COMET_MESSAGE_BATCH_PARAMETERS_INTERVAL\n",
            "DEBUG: 2023-04-03 18:39:16,686: Searching <ConfigEnvFileEnv: None> for COMET_MESSAGE_BATCH_PARAMETERS_INTERVAL\n",
            "DEBUG: 2023-04-03 18:39:16,689: Searching <ConfigDictEnv: {}> for COMET_MESSAGE_BATCH_PARAMETERS_INTERVAL\n",
            "DEBUG: 2023-04-03 18:39:16,691: Found nothing--returning NO_VALUE\n",
            "DEBUG: 2023-04-03 18:39:22,313: https://www.comet.com:443 \"GET /clientlib/health/ping HTTP/1.1\" 200 67\n",
            "DEBUG: 2023-04-03 18:39:26,854: https://www.comet.com:443 \"POST /clientlib/status-report/update HTTP/1.1\" 200 159\n",
            "DEBUG: 2023-04-03 18:39:26,856: Looking up key: parameters_interval, namespace: ['comet', 'message_batch']\n",
            "DEBUG: 2023-04-03 18:39:26,857: Searching <ConfigOSEnv> for COMET_MESSAGE_BATCH_PARAMETERS_INTERVAL\n",
            "DEBUG: 2023-04-03 18:39:26,857: Searching <ConfigEnvFileEnv: None> for COMET_MESSAGE_BATCH_PARAMETERS_INTERVAL\n",
            "DEBUG: 2023-04-03 18:39:26,858: Searching <ConfigDictEnv: {}> for COMET_MESSAGE_BATCH_PARAMETERS_INTERVAL\n",
            "DEBUG: 2023-04-03 18:39:26,859: Found nothing--returning NO_VALUE\n",
            "DEBUG: 2023-04-03 18:39:37,030: https://www.comet.com:443 \"POST /clientlib/status-report/update HTTP/1.1\" 200 159\n",
            "DEBUG: 2023-04-03 18:39:37,040: Looking up key: parameters_interval, namespace: ['comet', 'message_batch']\n",
            "DEBUG: 2023-04-03 18:39:37,043: Searching <ConfigOSEnv> for COMET_MESSAGE_BATCH_PARAMETERS_INTERVAL\n",
            "DEBUG: 2023-04-03 18:39:37,045: Searching <ConfigEnvFileEnv: None> for COMET_MESSAGE_BATCH_PARAMETERS_INTERVAL\n",
            "DEBUG: 2023-04-03 18:39:37,048: Searching <ConfigDictEnv: {}> for COMET_MESSAGE_BATCH_PARAMETERS_INTERVAL\n",
            "DEBUG: 2023-04-03 18:39:37,049: Found nothing--returning NO_VALUE\n",
            "DEBUG: 2023-04-03 18:39:37,573: https://www.comet.com:443 \"GET /clientlib/health/ping HTTP/1.1\" 200 67\n",
            "DEBUG: 2023-04-03 18:39:39,857: Looking up key: distributed_node_identifier, namespace: ['comet']\n",
            "DEBUG: 2023-04-03 18:39:39,858: Searching <ConfigOSEnv> for COMET_DISTRIBUTED_NODE_IDENTIFIER\n",
            "DEBUG: 2023-04-03 18:39:39,858: Searching <ConfigEnvFileEnv: None> for COMET_DISTRIBUTED_NODE_IDENTIFIER\n",
            "DEBUG: 2023-04-03 18:39:39,859: Searching <ConfigDictEnv: {'COMET_OVERRIDE_FEATURE_ACADEMIC': True, 'COMET_OVERRIDE_FEATURE_ARTIFACTS': True, 'COMET_OVERRIDE_FEATURE_ASSET-STORAGE': True, 'COMET_OVERRIDE_FEATURE_BILLING-REDESIGN': True, 'COMET_OVERRIDE_FEATURE_BREAK-DOWN-BY': False, 'COMET_OVERRIDE_FEATURE_CLOSEST-HOVER-MODE': True, 'COMET_OVERRIDE_FEATURE_CONFUSION-MATRIX': True, 'COMET_OVERRIDE_FEATURE_CUSTOM-CHARTS': True, 'COMET_OVERRIDE_FEATURE_DASHBOARD-CHARTS': True, 'COMET_OVERRIDE_FEATURE_DASHBOARD_TEMPLATES': True, 'COMET_OVERRIDE_FEATURE_DATA-PANEL': True, 'COMET_OVERRIDE_FEATURE_DBS-MODEL-PRODUCTION-MONITORING': False, 'COMET_OVERRIDE_FEATURE_DISABLE-TABLE-ROW-EXPAND': False, 'COMET_OVERRIDE_FEATURE_GIT-REPRODUCE': True, 'COMET_OVERRIDE_FEATURE_GROUP-BY-ENDPOINT': True, 'COMET_OVERRIDE_FEATURE_GROUPING': True, 'COMET_OVERRIDE_FEATURE_MODEL-APPROVAL-PROCESS': True, 'COMET_OVERRIDE_FEATURE_MODEL-PRODUCTION-MONITORING': False, 'COMET_OVERRIDE_FEATURE_MODEL-PRODUCTION-MONITORING-ACCURACY-METRICS-TAB': True, 'COMET_OVERRIDE_FEATURE_MODEL-PRODUCTION-MONITORING-ALERTS': True, 'COMET_OVERRIDE_FEATURE_MODEL-PRODUCTION-MONITORING-CUSTOM-TRANSFORMATIONS': True, 'COMET_OVERRIDE_FEATURE_MODEL-PRODUCTION-MONITORING-DEBUGGER': True, 'COMET_OVERRIDE_FEATURE_MODEL-PRODUCTION-MONITORING-INTERNAL': False, 'COMET_OVERRIDE_FEATURE_MODEL-PRODUCTION-MONITORING-MODELS-PIPELINE': False, 'COMET_OVERRIDE_FEATURE_MODEL-PRODUCTION-MONITORING-SEGMENTS': True, 'COMET_OVERRIDE_FEATURE_MODEL-PRODUCTION-MONITORING-SEGMENTS-NEW-PANEL': False, 'COMET_OVERRIDE_FEATURE_MODEL-REGISTRY-CARD-DETAILS-V2': True, 'COMET_OVERRIDE_FEATURE_MODEL-REGISTRY-STAGES-TO-TAGS': True, 'COMET_OVERRIDE_FEATURE_MODEL-REGISTRY-STREAMLINE': True, 'COMET_OVERRIDE_FEATURE_NEW-ONBOARDING': True, 'COMET_OVERRIDE_FEATURE_NEW-WORDPRESS-SITE': True, 'COMET_OVERRIDE_FEATURE_NIMROD-TEST': True, 'COMET_OVERRIDE_FEATURE_OLD_TEAMS': True, 'COMET_OVERRIDE_FEATURE_PAYMENTS': True, 'COMET_OVERRIDE_FEATURE_PLOTLY-CHARTS': True, 'COMET_OVERRIDE_FEATURE_PUBLIC-PANELS': True, 'COMET_OVERRIDE_FEATURE_PYTHON-PANELS': True, 'COMET_OVERRIDE_FEATURE_QUERY-FILTER': True, 'COMET_OVERRIDE_FEATURE_QUERY-URL-PARSER': False, 'COMET_OVERRIDE_FEATURE_REACT_HEADER_ICON_OVERRIDE': False, 'COMET_OVERRIDE_FEATURE_REPRODUCE-NOTEBOOKS': True, 'COMET_OVERRIDE_FEATURE_SDK_ANNOUNCEMENT': True, 'COMET_OVERRIDE_FEATURE_SDK_GIT_PATCH': True, 'COMET_OVERRIDE_FEATURE_SDK_GPU_MONITOR': True, 'COMET_OVERRIDE_FEATURE_SDK_HTTP_LOGGING': False, 'COMET_OVERRIDE_FEATURE_SDK_LOG_ENV_VARIABLES': False, 'COMET_OVERRIDE_FEATURE_SDK_METRICS_HTTP_BATCHING': False, 'COMET_OVERRIDE_FEATURE_SDK_USE_HTTP_MESSAGES': True, 'COMET_OVERRIDE_FEATURE_SERVICE-ACCOUNTS': True, 'COMET_OVERRIDE_FEATURE_SYSTEM-METRICS': True, 'COMET_OVERRIDE_FEATURE_SYSTEM-METRICS-GPU': True, 'COMET_OVERRIDE_FEATURE_TAGS': True, 'COMET_OVERRIDE_FEATURE_TEST-FT-ENV-CHECK': True, 'COMET_OVERRIDE_FEATURE_TEXT-TAB': True, 'COMET_OVERRIDE_FEATURE_USE_HTTP_MESSAGES': True}> for COMET_DISTRIBUTED_NODE_IDENTIFIER\n",
            "DEBUG: 2023-04-03 18:39:39,860: Found nothing--returning NO_VALUE\n",
            "DEBUG: 2023-04-03 18:39:40,021: https://www.comet.com:443 \"POST /clientlib/batch/logger/experiment/metric HTTP/1.1\" 200 55\n",
            "DEBUG: 2023-04-03 18:39:47,212: https://www.comet.com:443 \"POST /clientlib/status-report/update HTTP/1.1\" 200 159\n",
            "DEBUG: 2023-04-03 18:39:47,213: Looking up key: parameters_interval, namespace: ['comet', 'message_batch']\n",
            "DEBUG: 2023-04-03 18:39:47,213: Searching <ConfigOSEnv> for COMET_MESSAGE_BATCH_PARAMETERS_INTERVAL\n",
            "DEBUG: 2023-04-03 18:39:47,214: Searching <ConfigEnvFileEnv: None> for COMET_MESSAGE_BATCH_PARAMETERS_INTERVAL\n",
            "DEBUG: 2023-04-03 18:39:47,216: Searching <ConfigDictEnv: {}> for COMET_MESSAGE_BATCH_PARAMETERS_INTERVAL\n",
            "DEBUG: 2023-04-03 18:39:47,217: Found nothing--returning NO_VALUE\n",
            "DEBUG: 2023-04-03 18:39:50,194: https://www.comet.com:443 \"POST /clientlib/batch/logger/experiment/metric HTTP/1.1\" 200 55\n",
            "DEBUG: 2023-04-03 18:39:52,861: https://www.comet.com:443 \"GET /clientlib/health/ping HTTP/1.1\" 200 67\n",
            "DEBUG: 2023-04-03 18:39:57,392: https://www.comet.com:443 \"POST /clientlib/status-report/update HTTP/1.1\" 200 159\n",
            "DEBUG: 2023-04-03 18:39:57,396: Looking up key: parameters_interval, namespace: ['comet', 'message_batch']\n",
            "DEBUG: 2023-04-03 18:39:57,398: Searching <ConfigOSEnv> for COMET_MESSAGE_BATCH_PARAMETERS_INTERVAL\n",
            "DEBUG: 2023-04-03 18:39:57,401: Searching <ConfigEnvFileEnv: None> for COMET_MESSAGE_BATCH_PARAMETERS_INTERVAL\n",
            "DEBUG: 2023-04-03 18:39:57,403: Searching <ConfigDictEnv: {}> for COMET_MESSAGE_BATCH_PARAMETERS_INTERVAL\n",
            "DEBUG: 2023-04-03 18:39:57,405: Found nothing--returning NO_VALUE\n",
            "DEBUG: 2023-04-03 18:40:07,573: https://www.comet.com:443 \"POST /clientlib/status-report/update HTTP/1.1\" 200 159\n",
            "DEBUG: 2023-04-03 18:40:07,575: Looking up key: parameters_interval, namespace: ['comet', 'message_batch']\n",
            "DEBUG: 2023-04-03 18:40:07,577: Searching <ConfigOSEnv> for COMET_MESSAGE_BATCH_PARAMETERS_INTERVAL\n",
            "DEBUG: 2023-04-03 18:40:07,578: Searching <ConfigEnvFileEnv: None> for COMET_MESSAGE_BATCH_PARAMETERS_INTERVAL\n",
            "DEBUG: 2023-04-03 18:40:07,578: Searching <ConfigDictEnv: {}> for COMET_MESSAGE_BATCH_PARAMETERS_INTERVAL\n",
            "DEBUG: 2023-04-03 18:40:07,579: Found nothing--returning NO_VALUE\n",
            "DEBUG: 2023-04-03 18:40:08,125: https://www.comet.com:443 \"GET /clientlib/health/ping HTTP/1.1\" 200 67\n",
            "DEBUG: 2023-04-03 18:40:17,745: https://www.comet.com:443 \"POST /clientlib/status-report/update HTTP/1.1\" 200 159\n",
            "DEBUG: 2023-04-03 18:40:17,748: Looking up key: parameters_interval, namespace: ['comet', 'message_batch']\n",
            "DEBUG: 2023-04-03 18:40:17,749: Searching <ConfigOSEnv> for COMET_MESSAGE_BATCH_PARAMETERS_INTERVAL\n",
            "DEBUG: 2023-04-03 18:40:17,750: Searching <ConfigEnvFileEnv: None> for COMET_MESSAGE_BATCH_PARAMETERS_INTERVAL\n",
            "DEBUG: 2023-04-03 18:40:17,751: Searching <ConfigDictEnv: {}> for COMET_MESSAGE_BATCH_PARAMETERS_INTERVAL\n",
            "DEBUG: 2023-04-03 18:40:17,752: Found nothing--returning NO_VALUE\n",
            "DEBUG: 2023-04-03 18:40:23,387: https://www.comet.com:443 \"GET /clientlib/health/ping HTTP/1.1\" 200 67\n",
            "DEBUG: 2023-04-03 18:40:27,933: https://www.comet.com:443 \"POST /clientlib/status-report/update HTTP/1.1\" 200 159\n",
            "DEBUG: 2023-04-03 18:40:27,944: Looking up key: parameters_interval, namespace: ['comet', 'message_batch']\n",
            "DEBUG: 2023-04-03 18:40:27,950: Searching <ConfigOSEnv> for COMET_MESSAGE_BATCH_PARAMETERS_INTERVAL\n",
            "DEBUG: 2023-04-03 18:40:27,955: Searching <ConfigEnvFileEnv: None> for COMET_MESSAGE_BATCH_PARAMETERS_INTERVAL\n",
            "DEBUG: 2023-04-03 18:40:27,958: Searching <ConfigDictEnv: {}> for COMET_MESSAGE_BATCH_PARAMETERS_INTERVAL\n",
            "DEBUG: 2023-04-03 18:40:27,960: Found nothing--returning NO_VALUE\n",
            "DEBUG: 2023-04-03 18:40:38,144: https://www.comet.com:443 \"POST /clientlib/status-report/update HTTP/1.1\" 200 159\n",
            "DEBUG: 2023-04-03 18:40:38,147: Looking up key: parameters_interval, namespace: ['comet', 'message_batch']\n",
            "DEBUG: 2023-04-03 18:40:38,149: Searching <ConfigOSEnv> for COMET_MESSAGE_BATCH_PARAMETERS_INTERVAL\n",
            "DEBUG: 2023-04-03 18:40:38,150: Searching <ConfigEnvFileEnv: None> for COMET_MESSAGE_BATCH_PARAMETERS_INTERVAL\n",
            "DEBUG: 2023-04-03 18:40:38,151: Searching <ConfigDictEnv: {}> for COMET_MESSAGE_BATCH_PARAMETERS_INTERVAL\n",
            "DEBUG: 2023-04-03 18:40:38,152: Found nothing--returning NO_VALUE\n",
            "DEBUG: 2023-04-03 18:40:38,636: https://www.comet.com:443 \"GET /clientlib/health/ping HTTP/1.1\" 200 67\n",
            "DEBUG: 2023-04-03 18:40:40,746: Looking up key: distributed_node_identifier, namespace: ['comet']\n",
            "DEBUG: 2023-04-03 18:40:40,747: Searching <ConfigOSEnv> for COMET_DISTRIBUTED_NODE_IDENTIFIER\n",
            "DEBUG: 2023-04-03 18:40:40,748: Searching <ConfigEnvFileEnv: None> for COMET_DISTRIBUTED_NODE_IDENTIFIER\n",
            "DEBUG: 2023-04-03 18:40:40,749: Searching <ConfigDictEnv: {'COMET_OVERRIDE_FEATURE_ACADEMIC': True, 'COMET_OVERRIDE_FEATURE_ARTIFACTS': True, 'COMET_OVERRIDE_FEATURE_ASSET-STORAGE': True, 'COMET_OVERRIDE_FEATURE_BILLING-REDESIGN': True, 'COMET_OVERRIDE_FEATURE_BREAK-DOWN-BY': False, 'COMET_OVERRIDE_FEATURE_CLOSEST-HOVER-MODE': True, 'COMET_OVERRIDE_FEATURE_CONFUSION-MATRIX': True, 'COMET_OVERRIDE_FEATURE_CUSTOM-CHARTS': True, 'COMET_OVERRIDE_FEATURE_DASHBOARD-CHARTS': True, 'COMET_OVERRIDE_FEATURE_DASHBOARD_TEMPLATES': True, 'COMET_OVERRIDE_FEATURE_DATA-PANEL': True, 'COMET_OVERRIDE_FEATURE_DBS-MODEL-PRODUCTION-MONITORING': False, 'COMET_OVERRIDE_FEATURE_DISABLE-TABLE-ROW-EXPAND': False, 'COMET_OVERRIDE_FEATURE_GIT-REPRODUCE': True, 'COMET_OVERRIDE_FEATURE_GROUP-BY-ENDPOINT': True, 'COMET_OVERRIDE_FEATURE_GROUPING': True, 'COMET_OVERRIDE_FEATURE_MODEL-APPROVAL-PROCESS': True, 'COMET_OVERRIDE_FEATURE_MODEL-PRODUCTION-MONITORING': False, 'COMET_OVERRIDE_FEATURE_MODEL-PRODUCTION-MONITORING-ACCURACY-METRICS-TAB': True, 'COMET_OVERRIDE_FEATURE_MODEL-PRODUCTION-MONITORING-ALERTS': True, 'COMET_OVERRIDE_FEATURE_MODEL-PRODUCTION-MONITORING-CUSTOM-TRANSFORMATIONS': True, 'COMET_OVERRIDE_FEATURE_MODEL-PRODUCTION-MONITORING-DEBUGGER': True, 'COMET_OVERRIDE_FEATURE_MODEL-PRODUCTION-MONITORING-INTERNAL': False, 'COMET_OVERRIDE_FEATURE_MODEL-PRODUCTION-MONITORING-MODELS-PIPELINE': False, 'COMET_OVERRIDE_FEATURE_MODEL-PRODUCTION-MONITORING-SEGMENTS': True, 'COMET_OVERRIDE_FEATURE_MODEL-PRODUCTION-MONITORING-SEGMENTS-NEW-PANEL': False, 'COMET_OVERRIDE_FEATURE_MODEL-REGISTRY-CARD-DETAILS-V2': True, 'COMET_OVERRIDE_FEATURE_MODEL-REGISTRY-STAGES-TO-TAGS': True, 'COMET_OVERRIDE_FEATURE_MODEL-REGISTRY-STREAMLINE': True, 'COMET_OVERRIDE_FEATURE_NEW-ONBOARDING': True, 'COMET_OVERRIDE_FEATURE_NEW-WORDPRESS-SITE': True, 'COMET_OVERRIDE_FEATURE_NIMROD-TEST': True, 'COMET_OVERRIDE_FEATURE_OLD_TEAMS': True, 'COMET_OVERRIDE_FEATURE_PAYMENTS': True, 'COMET_OVERRIDE_FEATURE_PLOTLY-CHARTS': True, 'COMET_OVERRIDE_FEATURE_PUBLIC-PANELS': True, 'COMET_OVERRIDE_FEATURE_PYTHON-PANELS': True, 'COMET_OVERRIDE_FEATURE_QUERY-FILTER': True, 'COMET_OVERRIDE_FEATURE_QUERY-URL-PARSER': False, 'COMET_OVERRIDE_FEATURE_REACT_HEADER_ICON_OVERRIDE': False, 'COMET_OVERRIDE_FEATURE_REPRODUCE-NOTEBOOKS': True, 'COMET_OVERRIDE_FEATURE_SDK_ANNOUNCEMENT': True, 'COMET_OVERRIDE_FEATURE_SDK_GIT_PATCH': True, 'COMET_OVERRIDE_FEATURE_SDK_GPU_MONITOR': True, 'COMET_OVERRIDE_FEATURE_SDK_HTTP_LOGGING': False, 'COMET_OVERRIDE_FEATURE_SDK_LOG_ENV_VARIABLES': False, 'COMET_OVERRIDE_FEATURE_SDK_METRICS_HTTP_BATCHING': False, 'COMET_OVERRIDE_FEATURE_SDK_USE_HTTP_MESSAGES': True, 'COMET_OVERRIDE_FEATURE_SERVICE-ACCOUNTS': True, 'COMET_OVERRIDE_FEATURE_SYSTEM-METRICS': True, 'COMET_OVERRIDE_FEATURE_SYSTEM-METRICS-GPU': True, 'COMET_OVERRIDE_FEATURE_TAGS': True, 'COMET_OVERRIDE_FEATURE_TEST-FT-ENV-CHECK': True, 'COMET_OVERRIDE_FEATURE_TEXT-TAB': True, 'COMET_OVERRIDE_FEATURE_USE_HTTP_MESSAGES': True}> for COMET_DISTRIBUTED_NODE_IDENTIFIER\n",
            "DEBUG: 2023-04-03 18:40:40,751: Found nothing--returning NO_VALUE\n",
            "DEBUG: 2023-04-03 18:40:40,905: https://www.comet.com:443 \"POST /clientlib/batch/logger/experiment/metric HTTP/1.1\" 200 55\n",
            "DEBUG: 2023-04-03 18:40:48,331: https://www.comet.com:443 \"POST /clientlib/status-report/update HTTP/1.1\" 200 159\n",
            "DEBUG: 2023-04-03 18:40:48,334: Looking up key: parameters_interval, namespace: ['comet', 'message_batch']\n",
            "DEBUG: 2023-04-03 18:40:48,335: Searching <ConfigOSEnv> for COMET_MESSAGE_BATCH_PARAMETERS_INTERVAL\n",
            "DEBUG: 2023-04-03 18:40:48,336: Searching <ConfigEnvFileEnv: None> for COMET_MESSAGE_BATCH_PARAMETERS_INTERVAL\n",
            "DEBUG: 2023-04-03 18:40:48,337: Searching <ConfigDictEnv: {}> for COMET_MESSAGE_BATCH_PARAMETERS_INTERVAL\n",
            "DEBUG: 2023-04-03 18:40:48,338: Found nothing--returning NO_VALUE\n",
            "DEBUG: 2023-04-03 18:40:51,079: https://www.comet.com:443 \"POST /clientlib/batch/logger/experiment/metric HTTP/1.1\" 200 55\n",
            "DEBUG: 2023-04-03 18:40:53,904: https://www.comet.com:443 \"GET /clientlib/health/ping HTTP/1.1\" 200 67\n",
            "DEBUG: 2023-04-03 18:40:58,512: https://www.comet.com:443 \"POST /clientlib/status-report/update HTTP/1.1\" 200 159\n",
            "DEBUG: 2023-04-03 18:40:58,521: Looking up key: parameters_interval, namespace: ['comet', 'message_batch']\n",
            "DEBUG: 2023-04-03 18:40:58,528: Searching <ConfigOSEnv> for COMET_MESSAGE_BATCH_PARAMETERS_INTERVAL\n",
            "DEBUG: 2023-04-03 18:40:58,532: Searching <ConfigEnvFileEnv: None> for COMET_MESSAGE_BATCH_PARAMETERS_INTERVAL\n",
            "DEBUG: 2023-04-03 18:40:58,536: Searching <ConfigDictEnv: {}> for COMET_MESSAGE_BATCH_PARAMETERS_INTERVAL\n",
            "DEBUG: 2023-04-03 18:40:58,540: Found nothing--returning NO_VALUE\n",
            "DEBUG: 2023-04-03 18:41:08,725: https://www.comet.com:443 \"POST /clientlib/status-report/update HTTP/1.1\" 200 159\n",
            "DEBUG: 2023-04-03 18:41:08,726: Looking up key: parameters_interval, namespace: ['comet', 'message_batch']\n",
            "DEBUG: 2023-04-03 18:41:08,727: Searching <ConfigOSEnv> for COMET_MESSAGE_BATCH_PARAMETERS_INTERVAL\n",
            "DEBUG: 2023-04-03 18:41:08,728: Searching <ConfigEnvFileEnv: None> for COMET_MESSAGE_BATCH_PARAMETERS_INTERVAL\n",
            "DEBUG: 2023-04-03 18:41:08,729: Searching <ConfigDictEnv: {}> for COMET_MESSAGE_BATCH_PARAMETERS_INTERVAL\n",
            "DEBUG: 2023-04-03 18:41:08,730: Found nothing--returning NO_VALUE\n",
            "DEBUG: 2023-04-03 18:41:09,153: https://www.comet.com:443 \"GET /clientlib/health/ping HTTP/1.1\" 200 67\n",
            "DEBUG: 2023-04-03 18:41:18,911: https://www.comet.com:443 \"POST /clientlib/status-report/update HTTP/1.1\" 200 159\n",
            "DEBUG: 2023-04-03 18:41:18,918: Looking up key: parameters_interval, namespace: ['comet', 'message_batch']\n",
            "DEBUG: 2023-04-03 18:41:18,920: Searching <ConfigOSEnv> for COMET_MESSAGE_BATCH_PARAMETERS_INTERVAL\n",
            "DEBUG: 2023-04-03 18:41:18,921: Searching <ConfigEnvFileEnv: None> for COMET_MESSAGE_BATCH_PARAMETERS_INTERVAL\n",
            "DEBUG: 2023-04-03 18:41:18,923: Searching <ConfigDictEnv: {}> for COMET_MESSAGE_BATCH_PARAMETERS_INTERVAL\n",
            "DEBUG: 2023-04-03 18:41:18,925: Found nothing--returning NO_VALUE\n",
            "DEBUG: 2023-04-03 18:41:24,412: https://www.comet.com:443 \"GET /clientlib/health/ping HTTP/1.1\" 200 67\n",
            "DEBUG: 2023-04-03 18:41:29,100: https://www.comet.com:443 \"POST /clientlib/status-report/update HTTP/1.1\" 200 159\n",
            "DEBUG: 2023-04-03 18:41:29,109: Looking up key: parameters_interval, namespace: ['comet', 'message_batch']\n",
            "DEBUG: 2023-04-03 18:41:29,112: Searching <ConfigOSEnv> for COMET_MESSAGE_BATCH_PARAMETERS_INTERVAL\n",
            "DEBUG: 2023-04-03 18:41:29,117: Searching <ConfigEnvFileEnv: None> for COMET_MESSAGE_BATCH_PARAMETERS_INTERVAL\n",
            "DEBUG: 2023-04-03 18:41:29,121: Searching <ConfigDictEnv: {}> for COMET_MESSAGE_BATCH_PARAMETERS_INTERVAL\n",
            "DEBUG: 2023-04-03 18:41:29,126: Found nothing--returning NO_VALUE\n",
            "DEBUG: 2023-04-03 18:41:39,299: https://www.comet.com:443 \"POST /clientlib/status-report/update HTTP/1.1\" 200 159\n",
            "DEBUG: 2023-04-03 18:41:39,301: Looking up key: parameters_interval, namespace: ['comet', 'message_batch']\n",
            "DEBUG: 2023-04-03 18:41:39,303: Searching <ConfigOSEnv> for COMET_MESSAGE_BATCH_PARAMETERS_INTERVAL\n",
            "DEBUG: 2023-04-03 18:41:39,310: Searching <ConfigEnvFileEnv: None> for COMET_MESSAGE_BATCH_PARAMETERS_INTERVAL\n",
            "DEBUG: 2023-04-03 18:41:39,311: Searching <ConfigDictEnv: {}> for COMET_MESSAGE_BATCH_PARAMETERS_INTERVAL\n",
            "DEBUG: 2023-04-03 18:41:39,316: Found nothing--returning NO_VALUE\n",
            "DEBUG: 2023-04-03 18:41:39,682: https://www.comet.com:443 \"GET /clientlib/health/ping HTTP/1.1\" 200 67\n",
            "DEBUG: 2023-04-03 18:41:41,641: Looking up key: distributed_node_identifier, namespace: ['comet']\n",
            "DEBUG: 2023-04-03 18:41:41,646: Searching <ConfigOSEnv> for COMET_DISTRIBUTED_NODE_IDENTIFIER\n",
            "DEBUG: 2023-04-03 18:41:41,650: Searching <ConfigEnvFileEnv: None> for COMET_DISTRIBUTED_NODE_IDENTIFIER\n",
            "DEBUG: 2023-04-03 18:41:41,653: Searching <ConfigDictEnv: {'COMET_OVERRIDE_FEATURE_ACADEMIC': True, 'COMET_OVERRIDE_FEATURE_ARTIFACTS': True, 'COMET_OVERRIDE_FEATURE_ASSET-STORAGE': True, 'COMET_OVERRIDE_FEATURE_BILLING-REDESIGN': True, 'COMET_OVERRIDE_FEATURE_BREAK-DOWN-BY': False, 'COMET_OVERRIDE_FEATURE_CLOSEST-HOVER-MODE': True, 'COMET_OVERRIDE_FEATURE_CONFUSION-MATRIX': True, 'COMET_OVERRIDE_FEATURE_CUSTOM-CHARTS': True, 'COMET_OVERRIDE_FEATURE_DASHBOARD-CHARTS': True, 'COMET_OVERRIDE_FEATURE_DASHBOARD_TEMPLATES': True, 'COMET_OVERRIDE_FEATURE_DATA-PANEL': True, 'COMET_OVERRIDE_FEATURE_DBS-MODEL-PRODUCTION-MONITORING': False, 'COMET_OVERRIDE_FEATURE_DISABLE-TABLE-ROW-EXPAND': False, 'COMET_OVERRIDE_FEATURE_GIT-REPRODUCE': True, 'COMET_OVERRIDE_FEATURE_GROUP-BY-ENDPOINT': True, 'COMET_OVERRIDE_FEATURE_GROUPING': True, 'COMET_OVERRIDE_FEATURE_MODEL-APPROVAL-PROCESS': True, 'COMET_OVERRIDE_FEATURE_MODEL-PRODUCTION-MONITORING': False, 'COMET_OVERRIDE_FEATURE_MODEL-PRODUCTION-MONITORING-ACCURACY-METRICS-TAB': True, 'COMET_OVERRIDE_FEATURE_MODEL-PRODUCTION-MONITORING-ALERTS': True, 'COMET_OVERRIDE_FEATURE_MODEL-PRODUCTION-MONITORING-CUSTOM-TRANSFORMATIONS': True, 'COMET_OVERRIDE_FEATURE_MODEL-PRODUCTION-MONITORING-DEBUGGER': True, 'COMET_OVERRIDE_FEATURE_MODEL-PRODUCTION-MONITORING-INTERNAL': False, 'COMET_OVERRIDE_FEATURE_MODEL-PRODUCTION-MONITORING-MODELS-PIPELINE': False, 'COMET_OVERRIDE_FEATURE_MODEL-PRODUCTION-MONITORING-SEGMENTS': True, 'COMET_OVERRIDE_FEATURE_MODEL-PRODUCTION-MONITORING-SEGMENTS-NEW-PANEL': False, 'COMET_OVERRIDE_FEATURE_MODEL-REGISTRY-CARD-DETAILS-V2': True, 'COMET_OVERRIDE_FEATURE_MODEL-REGISTRY-STAGES-TO-TAGS': True, 'COMET_OVERRIDE_FEATURE_MODEL-REGISTRY-STREAMLINE': True, 'COMET_OVERRIDE_FEATURE_NEW-ONBOARDING': True, 'COMET_OVERRIDE_FEATURE_NEW-WORDPRESS-SITE': True, 'COMET_OVERRIDE_FEATURE_NIMROD-TEST': True, 'COMET_OVERRIDE_FEATURE_OLD_TEAMS': True, 'COMET_OVERRIDE_FEATURE_PAYMENTS': True, 'COMET_OVERRIDE_FEATURE_PLOTLY-CHARTS': True, 'COMET_OVERRIDE_FEATURE_PUBLIC-PANELS': True, 'COMET_OVERRIDE_FEATURE_PYTHON-PANELS': True, 'COMET_OVERRIDE_FEATURE_QUERY-FILTER': True, 'COMET_OVERRIDE_FEATURE_QUERY-URL-PARSER': False, 'COMET_OVERRIDE_FEATURE_REACT_HEADER_ICON_OVERRIDE': False, 'COMET_OVERRIDE_FEATURE_REPRODUCE-NOTEBOOKS': True, 'COMET_OVERRIDE_FEATURE_SDK_ANNOUNCEMENT': True, 'COMET_OVERRIDE_FEATURE_SDK_GIT_PATCH': True, 'COMET_OVERRIDE_FEATURE_SDK_GPU_MONITOR': True, 'COMET_OVERRIDE_FEATURE_SDK_HTTP_LOGGING': False, 'COMET_OVERRIDE_FEATURE_SDK_LOG_ENV_VARIABLES': False, 'COMET_OVERRIDE_FEATURE_SDK_METRICS_HTTP_BATCHING': False, 'COMET_OVERRIDE_FEATURE_SDK_USE_HTTP_MESSAGES': True, 'COMET_OVERRIDE_FEATURE_SERVICE-ACCOUNTS': True, 'COMET_OVERRIDE_FEATURE_SYSTEM-METRICS': True, 'COMET_OVERRIDE_FEATURE_SYSTEM-METRICS-GPU': True, 'COMET_OVERRIDE_FEATURE_TAGS': True, 'COMET_OVERRIDE_FEATURE_TEST-FT-ENV-CHECK': True, 'COMET_OVERRIDE_FEATURE_TEXT-TAB': True, 'COMET_OVERRIDE_FEATURE_USE_HTTP_MESSAGES': True}> for COMET_DISTRIBUTED_NODE_IDENTIFIER\n",
            "DEBUG: 2023-04-03 18:41:41,657: Found nothing--returning NO_VALUE\n",
            "DEBUG: 2023-04-03 18:41:41,832: https://www.comet.com:443 \"POST /clientlib/batch/logger/experiment/metric HTTP/1.1\" 200 55\n",
            "DEBUG: 2023-04-03 18:41:49,495: https://www.comet.com:443 \"POST /clientlib/status-report/update HTTP/1.1\" 200 159\n",
            "DEBUG: 2023-04-03 18:41:49,508: Looking up key: parameters_interval, namespace: ['comet', 'message_batch']\n",
            "DEBUG: 2023-04-03 18:41:49,513: Searching <ConfigOSEnv> for COMET_MESSAGE_BATCH_PARAMETERS_INTERVAL\n",
            "DEBUG: 2023-04-03 18:41:49,517: Searching <ConfigEnvFileEnv: None> for COMET_MESSAGE_BATCH_PARAMETERS_INTERVAL\n",
            "DEBUG: 2023-04-03 18:41:49,523: Searching <ConfigDictEnv: {}> for COMET_MESSAGE_BATCH_PARAMETERS_INTERVAL\n",
            "DEBUG: 2023-04-03 18:41:49,527: Found nothing--returning NO_VALUE\n",
            "DEBUG: 2023-04-03 18:41:51,993: https://www.comet.com:443 \"POST /clientlib/batch/logger/experiment/metric HTTP/1.1\" 200 55\n",
            "DEBUG: 2023-04-03 18:41:54,959: https://www.comet.com:443 \"GET /clientlib/health/ping HTTP/1.1\" 200 67\n",
            "DEBUG: 2023-04-03 18:41:59,697: https://www.comet.com:443 \"POST /clientlib/status-report/update HTTP/1.1\" 200 159\n",
            "DEBUG: 2023-04-03 18:41:59,701: Looking up key: parameters_interval, namespace: ['comet', 'message_batch']\n",
            "DEBUG: 2023-04-03 18:41:59,704: Searching <ConfigOSEnv> for COMET_MESSAGE_BATCH_PARAMETERS_INTERVAL\n",
            "DEBUG: 2023-04-03 18:41:59,706: Searching <ConfigEnvFileEnv: None> for COMET_MESSAGE_BATCH_PARAMETERS_INTERVAL\n",
            "DEBUG: 2023-04-03 18:41:59,710: Searching <ConfigDictEnv: {}> for COMET_MESSAGE_BATCH_PARAMETERS_INTERVAL\n",
            "DEBUG: 2023-04-03 18:41:59,713: Found nothing--returning NO_VALUE\n",
            "DEBUG: 2023-04-03 18:42:09,892: https://www.comet.com:443 \"POST /clientlib/status-report/update HTTP/1.1\" 200 159\n",
            "DEBUG: 2023-04-03 18:42:09,899: Looking up key: parameters_interval, namespace: ['comet', 'message_batch']\n",
            "DEBUG: 2023-04-03 18:42:09,905: Searching <ConfigOSEnv> for COMET_MESSAGE_BATCH_PARAMETERS_INTERVAL\n",
            "DEBUG: 2023-04-03 18:42:09,909: Searching <ConfigEnvFileEnv: None> for COMET_MESSAGE_BATCH_PARAMETERS_INTERVAL\n",
            "DEBUG: 2023-04-03 18:42:09,910: Searching <ConfigDictEnv: {}> for COMET_MESSAGE_BATCH_PARAMETERS_INTERVAL\n",
            "DEBUG: 2023-04-03 18:42:09,913: Found nothing--returning NO_VALUE\n",
            "DEBUG: 2023-04-03 18:42:10,266: https://www.comet.com:443 \"GET /clientlib/health/ping HTTP/1.1\" 200 67\n",
            "DEBUG: 2023-04-03 18:42:20,088: https://www.comet.com:443 \"POST /clientlib/status-report/update HTTP/1.1\" 200 159\n",
            "DEBUG: 2023-04-03 18:42:20,095: Looking up key: parameters_interval, namespace: ['comet', 'message_batch']\n",
            "DEBUG: 2023-04-03 18:42:20,097: Searching <ConfigOSEnv> for COMET_MESSAGE_BATCH_PARAMETERS_INTERVAL\n",
            "DEBUG: 2023-04-03 18:42:20,102: Searching <ConfigEnvFileEnv: None> for COMET_MESSAGE_BATCH_PARAMETERS_INTERVAL\n",
            "DEBUG: 2023-04-03 18:42:20,104: Searching <ConfigDictEnv: {}> for COMET_MESSAGE_BATCH_PARAMETERS_INTERVAL\n",
            "DEBUG: 2023-04-03 18:42:20,106: Found nothing--returning NO_VALUE\n",
            "DEBUG: 2023-04-03 18:42:25,535: https://www.comet.com:443 \"GET /clientlib/health/ping HTTP/1.1\" 200 67\n"
          ]
        }
      ],
      "source": [
        "experiment.log_text('Проверка связи N 1')"
      ]
    },
    {
      "cell_type": "code",
      "execution_count": 27,
      "metadata": {},
      "outputs": [
        {
          "name": "stderr",
          "output_type": "stream",
          "text": [
            "COMET INFO: ---------------------------------------------------------------------------------------\n",
            "COMET INFO: Comet.ml Experiment Summary\n",
            "COMET INFO: ---------------------------------------------------------------------------------------\n",
            "COMET INFO:   Data:\n",
            "COMET INFO:     display_summary_level : 1\n",
            "COMET INFO:     url                   : https://www.comet.com/gldmitri/med-appointment/eac118f9e6e3428b9aaf7e7734b867b3\n",
            "COMET INFO:   Uploads:\n",
            "COMET INFO:     environment details : 1\n",
            "COMET INFO:     filename            : 1\n",
            "DEBUG: 2023-04-03 18:42:52,428: No INI file found: []\n",
            "COMET INFO:     git metadata        : 1\n",
            "DEBUG: 2023-04-03 18:42:52,433: No INI file found: ['./.comet.config']\n",
            "COMET INFO:     installed packages  : 1\n",
            "DEBUG: 2023-04-03 18:42:52,434: No INI file found: ['/content/drive/MyDrive/.comet.config']\n",
            "COMET INFO:     notebook            : 1\n",
            "DEBUG: 2023-04-03 18:42:52,437: No INI file found: ['~/.comet.config']\n",
            "COMET INFO:     source_code         : 1\n",
            "DEBUG: 2023-04-03 18:42:52,440: Looking up key: name, namespace: ['comet', 'allow_header']\n",
            "COMET INFO:     text-sample         : 1\n",
            "DEBUG: 2023-04-03 18:42:52,442: Searching <ConfigOSEnv> for COMET_ALLOW_HEADER_NAME\n",
            "COMET INFO: \n",
            "DEBUG: 2023-04-03 18:42:52,445: Searching <ConfigEnvFileEnv: None> for COMET_ALLOW_HEADER_NAME\n",
            "DEBUG: 2023-04-03 18:42:52,450: Searching <ConfigDictEnv: {}> for COMET_ALLOW_HEADER_NAME\n",
            "DEBUG: 2023-04-03 18:42:52,454: Found nothing--returning NO_VALUE\n",
            "DEBUG: 2023-04-03 18:42:52,459: Looking up key: value, namespace: ['comet', 'allow_header']\n",
            "DEBUG: 2023-04-03 18:42:52,461: Searching <ConfigOSEnv> for COMET_ALLOW_HEADER_VALUE\n",
            "DEBUG: 2023-04-03 18:42:52,463: Searching <ConfigEnvFileEnv: None> for COMET_ALLOW_HEADER_VALUE\n",
            "DEBUG: 2023-04-03 18:42:52,465: Searching <ConfigDictEnv: {}> for COMET_ALLOW_HEADER_VALUE\n",
            "DEBUG: 2023-04-03 18:42:52,466: Found nothing--returning NO_VALUE\n",
            "DEBUG: 2023-04-03 18:42:52,474: Starting new HTTPS connection (1): www.comet.com:443\n",
            "DEBUG: 2023-04-03 18:42:52,564: https://www.comet.com:443 \"POST /clientlib/batch/logger/experiment/metric HTTP/1.1\" 200 55\n",
            "DEBUG: 2023-04-03 18:42:52,572: Resetting dropped connection: www.comet.com\n",
            "DEBUG: 2023-04-03 18:42:52,575: No INI file found: []\n",
            "DEBUG: 2023-04-03 18:42:52,579: No INI file found: ['./.comet.config']\n",
            "DEBUG: 2023-04-03 18:42:52,580: No INI file found: ['/content/drive/MyDrive/.comet.config']\n",
            "DEBUG: 2023-04-03 18:42:52,581: No INI file found: ['~/.comet.config']\n",
            "DEBUG: 2023-04-03 18:42:52,583: Looking up key: name, namespace: ['comet', 'allow_header']\n",
            "DEBUG: 2023-04-03 18:42:52,583: Searching <ConfigOSEnv> for COMET_ALLOW_HEADER_NAME\n",
            "DEBUG: 2023-04-03 18:42:52,583: Searching <ConfigEnvFileEnv: None> for COMET_ALLOW_HEADER_NAME\n",
            "DEBUG: 2023-04-03 18:42:52,584: Searching <ConfigDictEnv: {}> for COMET_ALLOW_HEADER_NAME\n",
            "DEBUG: 2023-04-03 18:42:52,588: Found nothing--returning NO_VALUE\n",
            "DEBUG: 2023-04-03 18:42:52,592: Looking up key: value, namespace: ['comet', 'allow_header']\n",
            "DEBUG: 2023-04-03 18:42:52,598: Searching <ConfigOSEnv> for COMET_ALLOW_HEADER_VALUE\n",
            "DEBUG: 2023-04-03 18:42:52,598: Searching <ConfigEnvFileEnv: None> for COMET_ALLOW_HEADER_VALUE\n",
            "DEBUG: 2023-04-03 18:42:52,599: Searching <ConfigDictEnv: {}> for COMET_ALLOW_HEADER_VALUE\n",
            "DEBUG: 2023-04-03 18:42:52,600: https://www.comet.com:443 \"POST /clientlib/notification/experiment HTTP/1.1\" 200 74\n",
            "DEBUG: 2023-04-03 18:42:52,602: Found nothing--returning NO_VALUE\n",
            "DEBUG: 2023-04-03 18:42:52,609: Looking up key: sdk_announcement, namespace: ['comet', 'override_feature']\n",
            "DEBUG: 2023-04-03 18:42:52,616: Searching <ConfigOSEnv> for COMET_OVERRIDE_FEATURE_SDK_ANNOUNCEMENT\n",
            "DEBUG: 2023-04-03 18:42:52,620: Searching <ConfigEnvFileEnv: None> for COMET_OVERRIDE_FEATURE_SDK_ANNOUNCEMENT\n",
            "DEBUG: 2023-04-03 18:42:52,622: Starting new HTTPS connection (1): www.comet.com:443\n",
            "DEBUG: 2023-04-03 18:42:52,626: Searching <ConfigDictEnv: {'COMET_OVERRIDE_FEATURE_ACADEMIC': True, 'COMET_OVERRIDE_FEATURE_ARTIFACTS': True, 'COMET_OVERRIDE_FEATURE_ASSET-STORAGE': True, 'COMET_OVERRIDE_FEATURE_BILLING-REDESIGN': True, 'COMET_OVERRIDE_FEATURE_BREAK-DOWN-BY': False, 'COMET_OVERRIDE_FEATURE_CLOSEST-HOVER-MODE': True, 'COMET_OVERRIDE_FEATURE_CONFUSION-MATRIX': True, 'COMET_OVERRIDE_FEATURE_CUSTOM-CHARTS': True, 'COMET_OVERRIDE_FEATURE_DASHBOARD-CHARTS': True, 'COMET_OVERRIDE_FEATURE_DASHBOARD_TEMPLATES': True, 'COMET_OVERRIDE_FEATURE_DATA-PANEL': True, 'COMET_OVERRIDE_FEATURE_DBS-MODEL-PRODUCTION-MONITORING': False, 'COMET_OVERRIDE_FEATURE_DISABLE-TABLE-ROW-EXPAND': False, 'COMET_OVERRIDE_FEATURE_GIT-REPRODUCE': True, 'COMET_OVERRIDE_FEATURE_GROUP-BY-ENDPOINT': True, 'COMET_OVERRIDE_FEATURE_GROUPING': True, 'COMET_OVERRIDE_FEATURE_MODEL-APPROVAL-PROCESS': True, 'COMET_OVERRIDE_FEATURE_MODEL-PRODUCTION-MONITORING': False, 'COMET_OVERRIDE_FEATURE_MODEL-PRODUCTION-MONITORING-ACCURACY-METRICS-TAB': True, 'COMET_OVERRIDE_FEATURE_MODEL-PRODUCTION-MONITORING-ALERTS': True, 'COMET_OVERRIDE_FEATURE_MODEL-PRODUCTION-MONITORING-CUSTOM-TRANSFORMATIONS': True, 'COMET_OVERRIDE_FEATURE_MODEL-PRODUCTION-MONITORING-DEBUGGER': True, 'COMET_OVERRIDE_FEATURE_MODEL-PRODUCTION-MONITORING-INTERNAL': False, 'COMET_OVERRIDE_FEATURE_MODEL-PRODUCTION-MONITORING-MODELS-PIPELINE': False, 'COMET_OVERRIDE_FEATURE_MODEL-PRODUCTION-MONITORING-SEGMENTS': True, 'COMET_OVERRIDE_FEATURE_MODEL-PRODUCTION-MONITORING-SEGMENTS-NEW-PANEL': False, 'COMET_OVERRIDE_FEATURE_MODEL-REGISTRY-CARD-DETAILS-V2': True, 'COMET_OVERRIDE_FEATURE_MODEL-REGISTRY-STAGES-TO-TAGS': True, 'COMET_OVERRIDE_FEATURE_MODEL-REGISTRY-STREAMLINE': True, 'COMET_OVERRIDE_FEATURE_NEW-ONBOARDING': True, 'COMET_OVERRIDE_FEATURE_NEW-WORDPRESS-SITE': True, 'COMET_OVERRIDE_FEATURE_NIMROD-TEST': True, 'COMET_OVERRIDE_FEATURE_OLD_TEAMS': True, 'COMET_OVERRIDE_FEATURE_PAYMENTS': True, 'COMET_OVERRIDE_FEATURE_PLOTLY-CHARTS': True, 'COMET_OVERRIDE_FEATURE_PUBLIC-PANELS': True, 'COMET_OVERRIDE_FEATURE_PYTHON-PANELS': True, 'COMET_OVERRIDE_FEATURE_QUERY-FILTER': True, 'COMET_OVERRIDE_FEATURE_QUERY-URL-PARSER': False, 'COMET_OVERRIDE_FEATURE_REACT_HEADER_ICON_OVERRIDE': False, 'COMET_OVERRIDE_FEATURE_REPRODUCE-NOTEBOOKS': True, 'COMET_OVERRIDE_FEATURE_SDK_ANNOUNCEMENT': True, 'COMET_OVERRIDE_FEATURE_SDK_GIT_PATCH': True, 'COMET_OVERRIDE_FEATURE_SDK_GPU_MONITOR': True, 'COMET_OVERRIDE_FEATURE_SDK_HTTP_LOGGING': False, 'COMET_OVERRIDE_FEATURE_SDK_LOG_ENV_VARIABLES': False, 'COMET_OVERRIDE_FEATURE_SDK_METRICS_HTTP_BATCHING': False, 'COMET_OVERRIDE_FEATURE_SDK_USE_HTTP_MESSAGES': True, 'COMET_OVERRIDE_FEATURE_SERVICE-ACCOUNTS': True, 'COMET_OVERRIDE_FEATURE_SYSTEM-METRICS': True, 'COMET_OVERRIDE_FEATURE_SYSTEM-METRICS-GPU': True, 'COMET_OVERRIDE_FEATURE_TAGS': True, 'COMET_OVERRIDE_FEATURE_TEST-FT-ENV-CHECK': True, 'COMET_OVERRIDE_FEATURE_TEXT-TAB': True, 'COMET_OVERRIDE_FEATURE_USE_HTTP_MESSAGES': True}> for COMET_OVERRIDE_FEATURE_SDK_ANNOUNCEMENT\n",
            "DEBUG: 2023-04-03 18:42:52,631: Returning raw: True, parsed: True\n",
            "DEBUG: 2023-04-03 18:42:52,633: No INI file found: []\n",
            "DEBUG: 2023-04-03 18:42:52,636: No INI file found: ['./.comet.config']\n",
            "DEBUG: 2023-04-03 18:42:52,641: No INI file found: ['/content/drive/MyDrive/.comet.config']\n",
            "DEBUG: 2023-04-03 18:42:52,644: No INI file found: ['~/.comet.config']\n",
            "DEBUG: 2023-04-03 18:42:52,645: Looking up key: disable_announcement, namespace: ['comet']\n",
            "DEBUG: 2023-04-03 18:42:52,646: Searching <ConfigOSEnv> for COMET_DISABLE_ANNOUNCEMENT\n",
            "DEBUG: 2023-04-03 18:42:52,647: Searching <ConfigEnvFileEnv: None> for COMET_DISABLE_ANNOUNCEMENT\n",
            "DEBUG: 2023-04-03 18:42:52,650: Searching <ConfigDictEnv: {}> for COMET_DISABLE_ANNOUNCEMENT\n",
            "DEBUG: 2023-04-03 18:42:52,659: Found nothing--returning NO_VALUE\n",
            "DEBUG: 2023-04-03 18:42:52,675: Starting new HTTPS connection (2): www.comet.com:443\n",
            "DEBUG: 2023-04-03 18:42:53,099: https://www.comet.com:443 \"POST /clientlib/asset/upload?experimentId=eac118f9e6e3428b9aaf7e7734b867b3&projectId=1aa199d7c0f04f45913c4af969e98d1d&apiKey=rRoIUGaiEg75BUbtQgThgxhNJ&assetId=1247b8acf3b14ad5821334fbcde2937b&fileName=Jupyter+interactive&overwrite=False&runId=M26notsJesd4GFZXcPbQsKBaw&type=source_code HTTP/1.1\" 200 208\n",
            "DEBUG: 2023-04-03 18:42:53,120: https://www.comet.com:443 \"POST /clientlib/rest/v2/write/experiment/output HTTP/1.1\" 200 55\n",
            "DEBUG: 2023-04-03 18:42:53,248: https://www.comet.com:443 \"GET /api/rest/v2/experiment/metadata?experimentKey=eac118f9e6e3428b9aaf7e7734b867b3 HTTP/1.1\" 200 315\n",
            "DEBUG: 2023-04-03 18:42:53,252: https://www.comet.com:443 \"POST /clientlib/asset/upload?experimentId=eac118f9e6e3428b9aaf7e7734b867b3&projectId=1aa199d7c0f04f45913c4af969e98d1d&apiKey=rRoIUGaiEg75BUbtQgThgxhNJ&assetId=73cec811b13149988fbef3b617df97ca&fileName=Code.ipynb&overwrite=True&runId=M26notsJesd4GFZXcPbQsKBaw&type=notebook&extension=ipynb HTTP/1.1\" 200 208\n",
            "COMET INFO: Uploading metrics, params, and assets to Comet before program termination (may take several seconds)\n",
            "COMET INFO: The Python SDK has 3600 seconds to finish uploading collected data\n",
            "DEBUG: 2023-04-03 18:42:53,905: https://www.comet.com:443 \"POST /clientlib/rest/v2/write/experiment/output HTTP/1.1\" 200 55\n",
            "DEBUG: 2023-04-03 18:42:54,098: https://www.comet.com:443 \"POST /clientlib/status-report/update HTTP/1.1\" 200 159\n",
            "DEBUG: 2023-04-03 18:42:54,101: Looking up key: parameters_interval, namespace: ['comet', 'message_batch']\n",
            "DEBUG: 2023-04-03 18:42:54,103: Searching <ConfigOSEnv> for COMET_MESSAGE_BATCH_PARAMETERS_INTERVAL\n",
            "DEBUG: 2023-04-03 18:42:54,104: Searching <ConfigEnvFileEnv: None> for COMET_MESSAGE_BATCH_PARAMETERS_INTERVAL\n",
            "DEBUG: 2023-04-03 18:42:54,106: Searching <ConfigDictEnv: {}> for COMET_MESSAGE_BATCH_PARAMETERS_INTERVAL\n",
            "DEBUG: 2023-04-03 18:42:54,106: Found nothing--returning NO_VALUE\n"
          ]
        }
      ],
      "source": [
        "experiment.end()"
      ]
    }
  ],
  "metadata": {
    "colab": {
      "collapsed_sections": [],
      "name": "noshowappointments.ipynb",
      "provenance": []
    },
    "kernelspec": {
      "display_name": "Python 3",
      "language": "python",
      "name": "python3"
    },
    "language_info": {
      "codemirror_mode": {
        "name": "ipython",
        "version": 3
      },
      "file_extension": ".py",
      "mimetype": "text/x-python",
      "name": "python",
      "nbconvert_exporter": "python",
      "pygments_lexer": "ipython3",
      "version": "3.10.9"
    },
    "vscode": {
      "interpreter": {
        "hash": "544ef55cbae247fe215e64f9cfe0f4708a4e9722047e80ed7391f05f82c111df"
      }
    }
  },
  "nbformat": 4,
  "nbformat_minor": 0
}
