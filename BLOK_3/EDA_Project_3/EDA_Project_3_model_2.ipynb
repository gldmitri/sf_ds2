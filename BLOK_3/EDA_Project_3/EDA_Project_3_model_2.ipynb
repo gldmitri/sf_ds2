{
 "cells": [
  {
   "cell_type": "code",
   "execution_count": 1,
   "metadata": {},
   "outputs": [],
   "source": [
    "import pandas as pd\n",
    "import numpy as np"
   ]
  },
  {
   "cell_type": "code",
   "execution_count": 2,
   "metadata": {},
   "outputs": [
    {
     "data": {
      "text/html": [
       "<div>\n",
       "<style scoped>\n",
       "    .dataframe tbody tr th:only-of-type {\n",
       "        vertical-align: middle;\n",
       "    }\n",
       "\n",
       "    .dataframe tbody tr th {\n",
       "        vertical-align: top;\n",
       "    }\n",
       "\n",
       "    .dataframe thead th {\n",
       "        text-align: right;\n",
       "    }\n",
       "</style>\n",
       "<table border=\"1\" class=\"dataframe\">\n",
       "  <thead>\n",
       "    <tr style=\"text-align: right;\">\n",
       "      <th></th>\n",
       "      <th>hotel_address</th>\n",
       "      <th>additional_number_of_scoring</th>\n",
       "      <th>review_date</th>\n",
       "      <th>average_score</th>\n",
       "      <th>hotel_name</th>\n",
       "      <th>reviewer_nationality</th>\n",
       "      <th>negative_review</th>\n",
       "      <th>review_total_negative_word_counts</th>\n",
       "      <th>total_number_of_reviews</th>\n",
       "      <th>positive_review</th>\n",
       "      <th>review_total_positive_word_counts</th>\n",
       "      <th>total_number_of_reviews_reviewer_has_given</th>\n",
       "      <th>reviewer_score</th>\n",
       "      <th>tags</th>\n",
       "      <th>days_since_review</th>\n",
       "      <th>lat</th>\n",
       "      <th>lng</th>\n",
       "    </tr>\n",
       "  </thead>\n",
       "  <tbody>\n",
       "    <tr>\n",
       "      <th>0</th>\n",
       "      <td>Stratton Street Mayfair Westminster Borough Lo...</td>\n",
       "      <td>581</td>\n",
       "      <td>2/19/2016</td>\n",
       "      <td>8.4</td>\n",
       "      <td>The May Fair Hotel</td>\n",
       "      <td>United Kingdom</td>\n",
       "      <td>Leaving</td>\n",
       "      <td>3</td>\n",
       "      <td>1994</td>\n",
       "      <td>Staff were amazing</td>\n",
       "      <td>4</td>\n",
       "      <td>7</td>\n",
       "      <td>10.0</td>\n",
       "      <td>[' Leisure trip ', ' Couple ', ' Studio Suite ...</td>\n",
       "      <td>531 day</td>\n",
       "      <td>51.507894</td>\n",
       "      <td>-0.143671</td>\n",
       "    </tr>\n",
       "    <tr>\n",
       "      <th>1</th>\n",
       "      <td>130 134 Southampton Row Camden London WC1B 5AF...</td>\n",
       "      <td>299</td>\n",
       "      <td>1/12/2017</td>\n",
       "      <td>8.3</td>\n",
       "      <td>Mercure London Bloomsbury Hotel</td>\n",
       "      <td>United Kingdom</td>\n",
       "      <td>poor breakfast</td>\n",
       "      <td>3</td>\n",
       "      <td>1361</td>\n",
       "      <td>location</td>\n",
       "      <td>2</td>\n",
       "      <td>14</td>\n",
       "      <td>6.3</td>\n",
       "      <td>[' Business trip ', ' Couple ', ' Standard Dou...</td>\n",
       "      <td>203 day</td>\n",
       "      <td>51.521009</td>\n",
       "      <td>-0.123097</td>\n",
       "    </tr>\n",
       "    <tr>\n",
       "      <th>2</th>\n",
       "      <td>151 bis Rue de Rennes 6th arr 75006 Paris France</td>\n",
       "      <td>32</td>\n",
       "      <td>10/18/2016</td>\n",
       "      <td>8.9</td>\n",
       "      <td>Legend Saint Germain by Elegancia</td>\n",
       "      <td>China</td>\n",
       "      <td>No kettle in room</td>\n",
       "      <td>6</td>\n",
       "      <td>406</td>\n",
       "      <td>No Positive</td>\n",
       "      <td>0</td>\n",
       "      <td>14</td>\n",
       "      <td>7.5</td>\n",
       "      <td>[' Leisure trip ', ' Solo traveler ', ' Modern...</td>\n",
       "      <td>289 day</td>\n",
       "      <td>48.845377</td>\n",
       "      <td>2.325643</td>\n",
       "    </tr>\n",
       "  </tbody>\n",
       "</table>\n",
       "</div>"
      ],
      "text/plain": [
       "                                       hotel_address  \\\n",
       "0  Stratton Street Mayfair Westminster Borough Lo...   \n",
       "1  130 134 Southampton Row Camden London WC1B 5AF...   \n",
       "2   151 bis Rue de Rennes 6th arr 75006 Paris France   \n",
       "\n",
       "   additional_number_of_scoring review_date  average_score  \\\n",
       "0                           581   2/19/2016            8.4   \n",
       "1                           299   1/12/2017            8.3   \n",
       "2                            32  10/18/2016            8.9   \n",
       "\n",
       "                          hotel_name reviewer_nationality  \\\n",
       "0                 The May Fair Hotel      United Kingdom    \n",
       "1    Mercure London Bloomsbury Hotel      United Kingdom    \n",
       "2  Legend Saint Germain by Elegancia               China    \n",
       "\n",
       "       negative_review  review_total_negative_word_counts  \\\n",
       "0             Leaving                                   3   \n",
       "1       poor breakfast                                  3   \n",
       "2   No kettle in room                                   6   \n",
       "\n",
       "   total_number_of_reviews      positive_review  \\\n",
       "0                     1994   Staff were amazing   \n",
       "1                     1361             location   \n",
       "2                      406          No Positive   \n",
       "\n",
       "   review_total_positive_word_counts  \\\n",
       "0                                  4   \n",
       "1                                  2   \n",
       "2                                  0   \n",
       "\n",
       "   total_number_of_reviews_reviewer_has_given  reviewer_score  \\\n",
       "0                                           7            10.0   \n",
       "1                                          14             6.3   \n",
       "2                                          14             7.5   \n",
       "\n",
       "                                                tags days_since_review  \\\n",
       "0  [' Leisure trip ', ' Couple ', ' Studio Suite ...           531 day   \n",
       "1  [' Business trip ', ' Couple ', ' Standard Dou...           203 day   \n",
       "2  [' Leisure trip ', ' Solo traveler ', ' Modern...           289 day   \n",
       "\n",
       "         lat       lng  \n",
       "0  51.507894 -0.143671  \n",
       "1  51.521009 -0.123097  \n",
       "2  48.845377  2.325643  "
      ]
     },
     "execution_count": 2,
     "metadata": {},
     "output_type": "execute_result"
    }
   ],
   "source": [
    "h1 = pd.read_csv('C:\\\\Users\\\\Glavatskih-DE\\\\Downloads\\\\PY_kurs\\\\CSV\\\\hotels.csv')\n",
    "h1.head(3)"
   ]
  },
  {
   "cell_type": "code",
   "execution_count": 3,
   "metadata": {},
   "outputs": [
    {
     "name": "stdout",
     "output_type": "stream",
     "text": [
      "<class 'pandas.core.frame.DataFrame'>\n",
      "RangeIndex: 386803 entries, 0 to 386802\n",
      "Data columns (total 17 columns):\n",
      " #   Column                                      Non-Null Count   Dtype  \n",
      "---  ------                                      --------------   -----  \n",
      " 0   hotel_address                               386803 non-null  object \n",
      " 1   additional_number_of_scoring                386803 non-null  int64  \n",
      " 2   review_date                                 386803 non-null  object \n",
      " 3   average_score                               386803 non-null  float64\n",
      " 4   hotel_name                                  386803 non-null  object \n",
      " 5   reviewer_nationality                        386803 non-null  object \n",
      " 6   negative_review                             386803 non-null  object \n",
      " 7   review_total_negative_word_counts           386803 non-null  int64  \n",
      " 8   total_number_of_reviews                     386803 non-null  int64  \n",
      " 9   positive_review                             386803 non-null  object \n",
      " 10  review_total_positive_word_counts           386803 non-null  int64  \n",
      " 11  total_number_of_reviews_reviewer_has_given  386803 non-null  int64  \n",
      " 12  reviewer_score                              386803 non-null  float64\n",
      " 13  tags                                        386803 non-null  object \n",
      " 14  days_since_review                           386803 non-null  object \n",
      " 15  lat                                         384355 non-null  float64\n",
      " 16  lng                                         384355 non-null  float64\n",
      "dtypes: float64(4), int64(5), object(8)\n",
      "memory usage: 50.2+ MB\n"
     ]
    }
   ],
   "source": [
    "h1.info()"
   ]
  },
  {
   "cell_type": "code",
   "execution_count": 4,
   "metadata": {},
   "outputs": [
    {
     "data": {
      "text/plain": [
       "307"
      ]
     },
     "execution_count": 4,
     "metadata": {},
     "output_type": "execute_result"
    }
   ],
   "source": [
    "h1[h1.duplicated(subset=h1.columns)].shape[0]\n",
    "\n"
   ]
  },
  {
   "attachments": {},
   "cell_type": "markdown",
   "metadata": {},
   "source": [
    "Дубликаты найдены, удаляем их"
   ]
  },
  {
   "cell_type": "code",
   "execution_count": 5,
   "metadata": {},
   "outputs": [],
   "source": [
    "h1 = h1.drop_duplicates()"
   ]
  },
  {
   "attachments": {},
   "cell_type": "markdown",
   "metadata": {},
   "source": [
    "удаляем также строки с пропусками в полях lat и lng. В других полях нет пустых значений"
   ]
  },
  {
   "cell_type": "code",
   "execution_count": 6,
   "metadata": {},
   "outputs": [],
   "source": [
    "h1 = h1.dropna(axis=0, how='all', subset=['lat','lng'])"
   ]
  },
  {
   "attachments": {},
   "cell_type": "markdown",
   "metadata": {},
   "source": [
    "преобразуем строковую дату к типу datetime"
   ]
  },
  {
   "cell_type": "code",
   "execution_count": 7,
   "metadata": {},
   "outputs": [],
   "source": [
    "h1['review_date'] =  pd.to_datetime(h1['review_date'], format='%m/%d/%Y')"
   ]
  },
  {
   "cell_type": "code",
   "execution_count": 176,
   "metadata": {},
   "outputs": [],
   "source": [
    "#h1[h1.hotel_name == '11 Cadogan Gardens'].sort_values(by = ['review_date'])"
   ]
  },
  {
   "cell_type": "code",
   "execution_count": 177,
   "metadata": {},
   "outputs": [],
   "source": [
    "#from geopy.geocoders import Nominatim\n",
    "\n",
    "#geoloc = Nominatim(user_agent=\"geoapiExercises\")\n",
    "\n",
    "#def get_country(lat1, lon1):\n",
    "#    if lat1:\n",
    "#        loc1 = geoloc.reverse(str(lat1)+\",\"+str(lon1))\n",
    "#        return loc1.raw['address']['country']\n",
    "#    return ''\n",
    "\n"
   ]
  },
  {
   "cell_type": "code",
   "execution_count": 178,
   "metadata": {},
   "outputs": [],
   "source": [
    "#h1['country'] = h1.apply(lambda x: get_country(x['lat'], x['lng']), axis=1)"
   ]
  },
  {
   "cell_type": "code",
   "execution_count": 179,
   "metadata": {},
   "outputs": [],
   "source": [
    "#h1[h1.hotel_name == '45 Park Lane Dorchester Collection'].sort_values(by = ['review_date'])[['review_date','days_since_review','reviewer_score']]"
   ]
  },
  {
   "attachments": {},
   "cell_type": "markdown",
   "metadata": {},
   "source": [
    "пишем функцию, которая находит в заданной строке тэг с кол-вом ночей и возвращает это кол-во"
   ]
  },
  {
   "cell_type": "code",
   "execution_count": 8,
   "metadata": {},
   "outputs": [],
   "source": [
    "import re\n",
    "\n",
    "def get_nights( s1 ):\n",
    "    mt1 = re.search(r'Stayed \\d+ night', s1)\n",
    "    if mt1:\n",
    "        return int(mt1[0].split()[1])\n",
    "    return np.NAN\n"
   ]
  },
  {
   "attachments": {},
   "cell_type": "markdown",
   "metadata": {},
   "source": [
    "создали новое поле Nights с кол-вом проведенных ночей, используя только что созданную функцию"
   ]
  },
  {
   "cell_type": "code",
   "execution_count": 9,
   "metadata": {},
   "outputs": [],
   "source": [
    "#h1 = h1.drop('Nights', axis=1)\n",
    "\n",
    "h1['Nights'] = h1.tags.apply(get_nights)\n",
    "\n",
    "#get_nday(' Stayed  nights ')\n",
    "\n"
   ]
  },
  {
   "cell_type": "code",
   "execution_count": 10,
   "metadata": {},
   "outputs": [
    {
     "data": {
      "text/plain": [
       "145"
      ]
     },
     "execution_count": 10,
     "metadata": {},
     "output_type": "execute_result"
    }
   ],
   "source": [
    "h1[h1['Nights'].isnull()].shape[0]"
   ]
  },
  {
   "attachments": {},
   "cell_type": "markdown",
   "metadata": {},
   "source": [
    "удаляем строки с пустыми значениями в поле Nights"
   ]
  },
  {
   "cell_type": "code",
   "execution_count": 11,
   "metadata": {},
   "outputs": [],
   "source": [
    "h1.dropna(axis=0, how='all', subset=['Nights'], inplace=True)"
   ]
  },
  {
   "cell_type": "code",
   "execution_count": 12,
   "metadata": {},
   "outputs": [
    {
     "data": {
      "text/html": [
       "<div>\n",
       "<style scoped>\n",
       "    .dataframe tbody tr th:only-of-type {\n",
       "        vertical-align: middle;\n",
       "    }\n",
       "\n",
       "    .dataframe tbody tr th {\n",
       "        vertical-align: top;\n",
       "    }\n",
       "\n",
       "    .dataframe thead th {\n",
       "        text-align: right;\n",
       "    }\n",
       "</style>\n",
       "<table border=\"1\" class=\"dataframe\">\n",
       "  <thead>\n",
       "    <tr style=\"text-align: right;\">\n",
       "      <th></th>\n",
       "      <th>hotel_address</th>\n",
       "      <th>additional_number_of_scoring</th>\n",
       "      <th>review_date</th>\n",
       "      <th>average_score</th>\n",
       "      <th>hotel_name</th>\n",
       "      <th>reviewer_nationality</th>\n",
       "      <th>negative_review</th>\n",
       "      <th>review_total_negative_word_counts</th>\n",
       "      <th>total_number_of_reviews</th>\n",
       "      <th>positive_review</th>\n",
       "      <th>review_total_positive_word_counts</th>\n",
       "      <th>total_number_of_reviews_reviewer_has_given</th>\n",
       "      <th>reviewer_score</th>\n",
       "      <th>tags</th>\n",
       "      <th>days_since_review</th>\n",
       "      <th>lat</th>\n",
       "      <th>lng</th>\n",
       "      <th>Nights</th>\n",
       "    </tr>\n",
       "  </thead>\n",
       "  <tbody>\n",
       "  </tbody>\n",
       "</table>\n",
       "</div>"
      ],
      "text/plain": [
       "Empty DataFrame\n",
       "Columns: [hotel_address, additional_number_of_scoring, review_date, average_score, hotel_name, reviewer_nationality, negative_review, review_total_negative_word_counts, total_number_of_reviews, positive_review, review_total_positive_word_counts, total_number_of_reviews_reviewer_has_given, reviewer_score, tags, days_since_review, lat, lng, Nights]\n",
       "Index: []"
      ]
     },
     "execution_count": 12,
     "metadata": {},
     "output_type": "execute_result"
    }
   ],
   "source": [
    "h1[pd.isna(h1.tags)]"
   ]
  },
  {
   "attachments": {},
   "cell_type": "markdown",
   "metadata": {},
   "source": [
    "создали поле month, выделив месяц из поля review_date. Предполагаем, что на оценку отеля может повлиять сезон, а месяц этот сезон и определяет"
   ]
  },
  {
   "cell_type": "code",
   "execution_count": 13,
   "metadata": {},
   "outputs": [],
   "source": [
    "h1['month'] = h1.review_date.dt.month\n",
    "\n",
    "#h1[['tags','Nights']].head(20)"
   ]
  },
  {
   "cell_type": "code",
   "execution_count": 14,
   "metadata": {},
   "outputs": [
    {
     "name": "stdout",
     "output_type": "stream",
     "text": [
      "<class 'pandas.core.frame.DataFrame'>\n",
      "Int64Index: 383903 entries, 0 to 386802\n",
      "Data columns (total 19 columns):\n",
      " #   Column                                      Non-Null Count   Dtype         \n",
      "---  ------                                      --------------   -----         \n",
      " 0   hotel_address                               383903 non-null  object        \n",
      " 1   additional_number_of_scoring                383903 non-null  int64         \n",
      " 2   review_date                                 383903 non-null  datetime64[ns]\n",
      " 3   average_score                               383903 non-null  float64       \n",
      " 4   hotel_name                                  383903 non-null  object        \n",
      " 5   reviewer_nationality                        383903 non-null  object        \n",
      " 6   negative_review                             383903 non-null  object        \n",
      " 7   review_total_negative_word_counts           383903 non-null  int64         \n",
      " 8   total_number_of_reviews                     383903 non-null  int64         \n",
      " 9   positive_review                             383903 non-null  object        \n",
      " 10  review_total_positive_word_counts           383903 non-null  int64         \n",
      " 11  total_number_of_reviews_reviewer_has_given  383903 non-null  int64         \n",
      " 12  reviewer_score                              383903 non-null  float64       \n",
      " 13  tags                                        383903 non-null  object        \n",
      " 14  days_since_review                           383903 non-null  object        \n",
      " 15  lat                                         383903 non-null  float64       \n",
      " 16  lng                                         383903 non-null  float64       \n",
      " 17  Nights                                      383903 non-null  float64       \n",
      " 18  month                                       383903 non-null  int64         \n",
      "dtypes: datetime64[ns](1), float64(5), int64(6), object(7)\n",
      "memory usage: 58.6+ MB\n"
     ]
    }
   ],
   "source": [
    "h1.info()\n",
    "#h1.shape[0]"
   ]
  },
  {
   "cell_type": "code",
   "execution_count": 15,
   "metadata": {},
   "outputs": [],
   "source": [
    "h1 = h1.reindex(index=range(0,h1.shape[0]), method='pad')"
   ]
  },
  {
   "attachments": {},
   "cell_type": "markdown",
   "metadata": {},
   "source": [
    "смотрим распределение поля страна рецензента"
   ]
  },
  {
   "cell_type": "code",
   "execution_count": 16,
   "metadata": {},
   "outputs": [
    {
     "data": {
      "text/plain": [
       " United Kingdom                    0.477248\n",
       " United States of America          0.068496\n",
       " Australia                         0.042039\n",
       " Ireland                           0.028854\n",
       " United Arab Emirates              0.019711\n",
       "                                     ...   \n",
       " Tuvalu                            0.000003\n",
       " Bonaire St Eustatius and Saba     0.000003\n",
       " Guinea                            0.000003\n",
       " Cook Islands                      0.000003\n",
       " Grenada                           0.000003\n",
       "Name: reviewer_nationality, Length: 225, dtype: float64"
      ]
     },
     "execution_count": 16,
     "metadata": {},
     "output_type": "execute_result"
    }
   ],
   "source": [
    "h1.reviewer_nationality.value_counts(True)"
   ]
  },
  {
   "cell_type": "code",
   "execution_count": 189,
   "metadata": {},
   "outputs": [],
   "source": [
    "#nat1 = h1.reviewer_nationality.value_counts(True).head(15)"
   ]
  },
  {
   "cell_type": "code",
   "execution_count": 190,
   "metadata": {},
   "outputs": [],
   "source": [
    "# h1.reviewer_nationality = h1.reviewer_nationality.apply(lambda x: x if x in nat1.index else 'other')"
   ]
  },
  {
   "cell_type": "code",
   "execution_count": 192,
   "metadata": {},
   "outputs": [],
   "source": [
    "#h1 = pd.get_dummies(h1, columns=['reviewer_nationality'])"
   ]
  },
  {
   "attachments": {},
   "cell_type": "markdown",
   "metadata": {},
   "source": [
    "У нас 225 стран, поэтому новые признаки для них попробуем создать с помощью бинарного кодировщика"
   ]
  },
  {
   "cell_type": "code",
   "execution_count": null,
   "metadata": {},
   "outputs": [],
   "source": [
    "import category_encoders as ce # импорт для работы с кодировщиком\n",
    "\n",
    "bin_encoder = ce.BinaryEncoder(cols=['reviewer_nationality']) # указываем столбец для кодирования\n",
    "\n",
    "nationals = bin_encoder.fit_transform( h1['reviewer_nationality'] )\n",
    "h1 = pd.concat([h1, nationals], axis=1)\n",
    "\n",
    "\n",
    "#h1.reviewer_nationality.value_counts(True).head(20)"
   ]
  },
  {
   "attachments": {},
   "cell_type": "markdown",
   "metadata": {},
   "source": [
    "ДОБАВЛЕНИЕ НОВЫХ ПРИЗНАКОВ НА ОСНОВЕ ТЭГОВ"
   ]
  },
  {
   "cell_type": "code",
   "execution_count": 19,
   "metadata": {},
   "outputs": [],
   "source": [
    "from ast import literal_eval\n",
    "\n",
    "#  Функция возвращает кол-во тэгов в строке t1\n",
    "def get_tags_cnt( t1 ):\n",
    "    m2 = literal_eval( t1 )\n",
    "    return len(m2)\n"
   ]
  },
  {
   "cell_type": "code",
   "execution_count": 195,
   "metadata": {},
   "outputs": [],
   "source": [
    "#h1.tags.apply( get_tags_cnt )"
   ]
  },
  {
   "attachments": {},
   "cell_type": "markdown",
   "metadata": {},
   "source": [
    "создаем поле tags_cnt с кол-вом тэгов в текущей строке"
   ]
  },
  {
   "cell_type": "code",
   "execution_count": 20,
   "metadata": {},
   "outputs": [],
   "source": [
    "h1['tags_cnt'] = h1.tags.apply( get_tags_cnt )\n"
   ]
  },
  {
   "attachments": {},
   "cell_type": "markdown",
   "metadata": {},
   "source": [
    "Формируем массив m1, содержащий все тэги из набора данных"
   ]
  },
  {
   "cell_type": "code",
   "execution_count": 21,
   "metadata": {},
   "outputs": [
    {
     "data": {
      "text/plain": [
       "[' Leisure trip ',\n",
       " ' Couple ',\n",
       " ' Studio Suite ',\n",
       " ' Stayed 2 nights ',\n",
       " ' Submitted from a mobile device ',\n",
       " ' Business trip ',\n",
       " ' Couple ',\n",
       " ' Standard Double Room ',\n",
       " ' Stayed 1 night ',\n",
       " ' Leisure trip ',\n",
       " ' Solo traveler ',\n",
       " ' Modern Double Room Echo ',\n",
       " ' Stayed 3 nights ',\n",
       " ' Submitted from a mobile device ',\n",
       " ' Leisure trip ',\n",
       " ' Solo traveler ',\n",
       " ' Standard Room with 1 Double Bed ',\n",
       " ' Stayed 1 night ',\n",
       " ' Business trip ',\n",
       " ' Couple ',\n",
       " ' Standard Double or Twin Room ',\n",
       " ' Stayed 6 nights ',\n",
       " ' Business trip ',\n",
       " ' Solo traveler ',\n",
       " ' Superior Twin Room ',\n",
       " ' Stayed 1 night ',\n",
       " ' Submitted from a mobile device ',\n",
       " ' Leisure trip ',\n",
       " ' Couple ',\n",
       " ' Double Room Non Smoking ',\n",
       " ' Stayed 1 night ',\n",
       " ' Submitted from a mobile device ',\n",
       " ' Leisure trip ',\n",
       " ' Couple ',\n",
       " ' Superior Double Room ',\n",
       " ' Stayed 4 nights ',\n",
       " ' Leisure trip ',\n",
       " ' Couple ',\n",
       " ' Double Room ',\n",
       " ' Stayed 1 night ',\n",
       " ' Leisure trip ',\n",
       " ' Couple ',\n",
       " ' Twin Hilton Guest Room ',\n",
       " ' Stayed 1 night ',\n",
       " ' Submitted from a mobile device ',\n",
       " ' Business trip ',\n",
       " ' Solo traveler ',\n",
       " ' Standard Double or Twin Room ',\n",
       " ' Stayed 1 night ',\n",
       " ' Leisure trip ',\n",
       " ' Couple ',\n",
       " ' Standard Double Room ',\n",
       " ' Stayed 1 night ',\n",
       " ' Business trip ',\n",
       " ' Family with young children ',\n",
       " ' Luxury Room ',\n",
       " ' Stayed 1 night ',\n",
       " ' Leisure trip ',\n",
       " ' Couple ',\n",
       " ' Double or Twin Room Non Smoking ',\n",
       " ' Stayed 1 night ',\n",
       " ' Submitted from a mobile device ',\n",
       " ' Leisure trip ',\n",
       " ' Couple ',\n",
       " ' Double or Twin Room ',\n",
       " ' Stayed 4 nights ',\n",
       " ' Submitted from a mobile device ',\n",
       " ' Leisure trip ',\n",
       " ' Couple ',\n",
       " ' Double or Twin Room ',\n",
       " ' Stayed 1 night ',\n",
       " ' Business trip ',\n",
       " ' Solo traveler ',\n",
       " ' Standard Room ',\n",
       " ' Stayed 1 night ',\n",
       " ' Submitted from a mobile device ',\n",
       " ' Leisure trip ',\n",
       " ' Group ',\n",
       " ' Standard Room ',\n",
       " ' Stayed 2 nights ',\n",
       " ' Submitted from a mobile device ',\n",
       " ' Leisure trip ',\n",
       " ' Solo traveler ',\n",
       " ' Standard Double Room ',\n",
       " ' Stayed 2 nights ',\n",
       " ' Leisure trip ',\n",
       " ' Couple ',\n",
       " ' Comfort Double or Twin Room ',\n",
       " ' Stayed 4 nights ',\n",
       " ' Leisure trip ',\n",
       " ' Couple ',\n",
       " ' Standard ',\n",
       " ' Stayed 1 night ',\n",
       " ' Submitted from a mobile device ',\n",
       " ' Business trip ',\n",
       " ' Solo traveler ',\n",
       " ' Executive Double Room ',\n",
       " ' Stayed 2 nights ',\n",
       " ' Leisure trip ',\n",
       " ' Couple ',\n",
       " ' Twin Room Non Smoking ',\n",
       " ' Stayed 6 nights ',\n",
       " ' Submitted from a mobile device ',\n",
       " ' Leisure trip ',\n",
       " ' Family with young children ',\n",
       " ' Studio Double Family ',\n",
       " ' Stayed 3 nights ',\n",
       " ' Submitted from a mobile device ',\n",
       " ' Leisure trip ',\n",
       " ' Couple ',\n",
       " ' Double Twin Superior Room ',\n",
       " ' Stayed 4 nights ',\n",
       " ' Leisure trip ',\n",
       " ' Couple ',\n",
       " ' X Ordinary Room ',\n",
       " ' Stayed 2 nights ',\n",
       " ' Leisure trip ',\n",
       " ' Family with young children ',\n",
       " ' Standard Double or Twin Room ',\n",
       " ' Stayed 3 nights ',\n",
       " ' Submitted from a mobile device ',\n",
       " ' Leisure trip ',\n",
       " ' Group ',\n",
       " ' 2 rooms ',\n",
       " ' Stayed 2 nights ',\n",
       " ' Submitted from a mobile device ',\n",
       " ' Leisure trip ',\n",
       " ' Family with young children ',\n",
       " ' King Deluxe Guest Room ',\n",
       " ' Stayed 2 nights ',\n",
       " ' Submitted from a mobile device ',\n",
       " ' Leisure trip ',\n",
       " ' Solo traveler ',\n",
       " ' Double Studio ',\n",
       " ' Stayed 4 nights ',\n",
       " ' Submitted from a mobile device ',\n",
       " ' Leisure trip ',\n",
       " ' Couple ',\n",
       " ' Double Room ',\n",
       " ' Stayed 2 nights ',\n",
       " ' Submitted from a mobile device ',\n",
       " ' Family with older children ',\n",
       " ' Luxury Double Room ',\n",
       " ' Stayed 4 nights ',\n",
       " ' Submitted from a mobile device ',\n",
       " ' Leisure trip ',\n",
       " ' Solo traveler ',\n",
       " ' Standard Double or Twin Room ',\n",
       " ' Stayed 2 nights ',\n",
       " ' Business trip ',\n",
       " ' Couple ',\n",
       " ' Standard Double Room without Window ',\n",
       " ' Stayed 1 night ',\n",
       " ' Submitted from a mobile device ',\n",
       " ' Business trip ',\n",
       " ' Solo traveler ',\n",
       " ' Executive Double Room ',\n",
       " ' Stayed 2 nights ',\n",
       " ' Leisure trip ',\n",
       " ' Solo traveler ',\n",
       " ' Hypoallergenic Double or Twin Room ',\n",
       " ' Stayed 2 nights ',\n",
       " ' Submitted from a mobile device ',\n",
       " ' Leisure trip ',\n",
       " ' Couple ',\n",
       " ' Standard Double or Twin Room ',\n",
       " ' Stayed 1 night ',\n",
       " ' Submitted from a mobile device ',\n",
       " ' Leisure trip ',\n",
       " ' Couple ',\n",
       " ' Premier Double Room ',\n",
       " ' Stayed 1 night ',\n",
       " ' Submitted from a mobile device ',\n",
       " ' Leisure trip ',\n",
       " ' Family with older children ',\n",
       " ' Standard Room with Double Bed and Sofa Bed ',\n",
       " ' Stayed 3 nights ',\n",
       " ' Submitted from a mobile device ',\n",
       " ' Leisure trip ',\n",
       " ' Solo traveler ',\n",
       " ' Double Room ',\n",
       " ' Stayed 1 night ',\n",
       " ' Leisure trip ',\n",
       " ' Group ',\n",
       " ' Double Room ',\n",
       " ' Stayed 1 night ',\n",
       " ' Submitted from a mobile device ',\n",
       " ' Leisure trip ',\n",
       " ' Group ',\n",
       " ' Basic Double Room ',\n",
       " ' Stayed 3 nights ',\n",
       " ' Leisure trip ',\n",
       " ' Couple ',\n",
       " ' Classic Double Room ',\n",
       " ' Stayed 3 nights ',\n",
       " ' Leisure trip ',\n",
       " ' Couple ',\n",
       " ' Deluxe King Room ',\n",
       " ' Stayed 1 night ',\n",
       " ' Submitted from a mobile device ',\n",
       " ' Leisure trip ',\n",
       " ' Family with young children ',\n",
       " ' Superior Family Room ',\n",
       " ' Stayed 5 nights ',\n",
       " ' Submitted from a mobile device ',\n",
       " ' Business trip ',\n",
       " ' Couple ',\n",
       " ' Superior Double Room ',\n",
       " ' Stayed 1 night ',\n",
       " ' Submitted from a mobile device ',\n",
       " ' Leisure trip ',\n",
       " ' Couple ',\n",
       " ' Double Guest Room ',\n",
       " ' Stayed 2 nights ',\n",
       " ' Submitted from a mobile device ',\n",
       " ' Leisure trip ',\n",
       " ' Solo traveler ',\n",
       " ' Standard Double or Twin Room ',\n",
       " ' Stayed 3 nights ',\n",
       " ' Leisure trip ',\n",
       " ' Family with older children ',\n",
       " ' Double or Twin Room ',\n",
       " ' Stayed 3 nights ',\n",
       " ' Submitted from a mobile device ',\n",
       " ' Leisure trip ',\n",
       " ' Group ',\n",
       " ' Standard Twin Room ',\n",
       " ' Stayed 3 nights ',\n",
       " ' Leisure trip ',\n",
       " ' Family with young children ',\n",
       " ' Deluxe One Bedroom Apartment ',\n",
       " ' Stayed 2 nights ',\n",
       " ' Submitted from a mobile device ',\n",
       " ' Business trip ',\n",
       " ' Solo traveler ',\n",
       " ' Standard Double Room ',\n",
       " ' Stayed 2 nights ',\n",
       " ' Submitted from a mobile device ',\n",
       " ' Leisure trip ',\n",
       " ' Travelers with friends ',\n",
       " ' Twin Room ',\n",
       " ' Stayed 1 night ',\n",
       " ' Submitted from a mobile device ',\n",
       " ' Leisure trip ',\n",
       " ' Solo traveler ',\n",
       " ' Double Room ',\n",
       " ' Stayed 3 nights ',\n",
       " ' Leisure trip ',\n",
       " ' Solo traveler ',\n",
       " ' Deluxe Double Room with Eiffel Tower view ',\n",
       " ' Stayed 3 nights ',\n",
       " ' Submitted from a mobile device ',\n",
       " ' Leisure trip ',\n",
       " ' Couple ',\n",
       " ' Double Room ',\n",
       " ' Stayed 1 night ',\n",
       " ' Leisure trip ',\n",
       " ' Couple ',\n",
       " ' Standard King Room ',\n",
       " ' Stayed 2 nights ',\n",
       " ' Submitted from a mobile device ',\n",
       " ' Leisure trip ',\n",
       " ' Family with young children ',\n",
       " ' Studio ',\n",
       " ' Stayed 1 night ',\n",
       " ' Leisure trip ',\n",
       " ' Family with older children ',\n",
       " ' Standard Double or Twin Room with Extra bed 2 Adults 1 Child ',\n",
       " ' Stayed 4 nights ',\n",
       " ' Submitted from a mobile device ',\n",
       " ' Business trip ',\n",
       " ' Solo traveler ',\n",
       " ' Small Queen Room ',\n",
       " ' Stayed 3 nights ',\n",
       " ' Submitted from a mobile device ',\n",
       " ' Leisure trip ',\n",
       " ' Couple ',\n",
       " ' Art King Room ',\n",
       " ' Stayed 2 nights ',\n",
       " ' Submitted from a mobile device ',\n",
       " ' Leisure trip ',\n",
       " ' Solo traveler ',\n",
       " ' Superior Double Room ',\n",
       " ' Stayed 3 nights ',\n",
       " ' Submitted from a mobile device ',\n",
       " ' Leisure trip ',\n",
       " ' Couple ',\n",
       " ' Superior Double Room ',\n",
       " ' Stayed 3 nights ',\n",
       " ' Submitted from a mobile device ',\n",
       " ' Leisure trip ',\n",
       " ' Family with young children ',\n",
       " ' Standard Double Room ',\n",
       " ' Stayed 3 nights ',\n",
       " ' Business trip ',\n",
       " ' Solo traveler ',\n",
       " ' Standard Double or Twin Room ',\n",
       " ' Stayed 1 night ',\n",
       " ' Submitted from a mobile device ',\n",
       " ' Leisure trip ',\n",
       " ' Family with young children ',\n",
       " ' Triple Room ',\n",
       " ' Stayed 1 night ',\n",
       " ' Submitted from a mobile device ',\n",
       " ' Leisure trip ',\n",
       " ' Couple ',\n",
       " ' Executive Double Room ',\n",
       " ' Stayed 2 nights ',\n",
       " ' Leisure trip ',\n",
       " ' Couple ',\n",
       " ' Standard Double Room ',\n",
       " ' Stayed 4 nights ',\n",
       " ' Leisure trip ',\n",
       " ' Couple ',\n",
       " ' Standard Double Room ',\n",
       " ' Stayed 1 night ',\n",
       " ' Leisure trip ',\n",
       " ' Couple ',\n",
       " ' Superior Room ',\n",
       " ' Stayed 1 night ',\n",
       " ' Submitted from a mobile device ',\n",
       " ' Leisure trip ',\n",
       " ' Couple ',\n",
       " ' Twin Room Non Smoking ',\n",
       " ' Stayed 3 nights ',\n",
       " ' Submitted from a mobile device ',\n",
       " ' Solo traveler ',\n",
       " ' Superior Twin Room with Internal View ',\n",
       " ' Stayed 2 nights ',\n",
       " ' Leisure trip ',\n",
       " ' Family with older children ',\n",
       " ' Twin Room ',\n",
       " ' Stayed 1 night ',\n",
       " ' Business trip ',\n",
       " ' Couple ',\n",
       " ' Superior Double Room ',\n",
       " ' Stayed 2 nights ',\n",
       " ' Couple ',\n",
       " ' Classic Double Room ',\n",
       " ' Stayed 4 nights ',\n",
       " ' Leisure trip ',\n",
       " ' Group ',\n",
       " ' Standard Double or Twin Room ',\n",
       " ' Stayed 2 nights ',\n",
       " ' Family with young children ',\n",
       " ' Deluxe Twin Room ',\n",
       " ' Stayed 2 nights ',\n",
       " ' Submitted from a mobile device ',\n",
       " ' Leisure trip ',\n",
       " ' Couple ',\n",
       " ' Executive Queen Room with Lounge Access ',\n",
       " ' Stayed 1 night ',\n",
       " ' Submitted from a mobile device ',\n",
       " ' Leisure trip ',\n",
       " ' Family with young children ',\n",
       " ' Standard Double or Twin Room ',\n",
       " ' Stayed 5 nights ',\n",
       " ' Leisure trip ',\n",
       " ' Group ',\n",
       " ' Deluxe Double Room ',\n",
       " ' Stayed 1 night ',\n",
       " ' Submitted from a mobile device ',\n",
       " ' Leisure trip ',\n",
       " ' Solo traveler ',\n",
       " ' Deluxe Twin Room ',\n",
       " ' Stayed 1 night ',\n",
       " ' Submitted from a mobile device ',\n",
       " ' Leisure trip ',\n",
       " ' Family with young children ',\n",
       " ' 2 rooms ',\n",
       " ' Stayed 6 nights ',\n",
       " ' Leisure trip ',\n",
       " ' Group ',\n",
       " ' Large Twin Room ',\n",
       " ' Stayed 5 nights ',\n",
       " ' Leisure trip ',\n",
       " ' Group ',\n",
       " ' 2 rooms ',\n",
       " ' Stayed 1 night ',\n",
       " ' Business trip ',\n",
       " ' Group ',\n",
       " ' Double or Twin Room ',\n",
       " ' Stayed 2 nights ',\n",
       " ' Submitted from a mobile device ',\n",
       " ' Solo traveler ',\n",
       " ' Double Room ',\n",
       " ' Stayed 3 nights ',\n",
       " ' Leisure trip ',\n",
       " ' Family with older children ',\n",
       " ' Executive King Room ',\n",
       " ' Stayed 5 nights ',\n",
       " ' Leisure trip ',\n",
       " ' Couple ',\n",
       " ' Standard Double or Twin Room ',\n",
       " ' Stayed 2 nights ',\n",
       " ' Submitted from a mobile device ',\n",
       " ' Leisure trip ',\n",
       " ' Couple ',\n",
       " ' Classic Double or Twin Room ',\n",
       " ' Stayed 3 nights ',\n",
       " ' Leisure trip ',\n",
       " ' Couple ',\n",
       " ' Standard Double or Twin Room ',\n",
       " ' Stayed 2 nights ',\n",
       " ' Leisure trip ',\n",
       " ' Couple ',\n",
       " ' Standard Room ',\n",
       " ' Stayed 1 night ',\n",
       " ' Submitted from a mobile device ',\n",
       " ' Leisure trip ',\n",
       " ' Couple ',\n",
       " ' Standard Double Room ',\n",
       " ' Stayed 3 nights ',\n",
       " ' Submitted from a mobile device ',\n",
       " ' Leisure trip ',\n",
       " ' Solo traveler ',\n",
       " ' Single Room ',\n",
       " ' Stayed 1 night ',\n",
       " ' Leisure trip ',\n",
       " ' Couple ',\n",
       " ' Superior Room with Spa access ',\n",
       " ' Stayed 3 nights ',\n",
       " ' Submitted from a mobile device ',\n",
       " ' Couple ',\n",
       " ' Luxury Suite Patio ',\n",
       " ' Stayed 1 night ',\n",
       " ' Leisure trip ',\n",
       " ' Solo traveler ',\n",
       " ' Standard Double Room ',\n",
       " ' Stayed 2 nights ',\n",
       " ' Submitted from a mobile device ',\n",
       " ' Business trip ',\n",
       " ' Solo traveler ',\n",
       " ' Double or Twin Room ',\n",
       " ' Stayed 1 night ',\n",
       " ' Submitted from a mobile device ',\n",
       " ' Business trip ',\n",
       " ' Group ',\n",
       " ' Premium Double or Twin Room with View ',\n",
       " ' Stayed 2 nights ',\n",
       " ' Leisure trip ',\n",
       " ' Couple ',\n",
       " ' Queen Guest Room ',\n",
       " ' Stayed 3 nights ',\n",
       " ' Leisure trip ',\n",
       " ' Group ',\n",
       " ' Chelsea Twin Suite ',\n",
       " ' Stayed 1 night ',\n",
       " ' Submitted from a mobile device ',\n",
       " ' Leisure trip ',\n",
       " ' Solo traveler ',\n",
       " ' Deluxe King Room ',\n",
       " ' Stayed 5 nights ',\n",
       " ' Submitted from a mobile device ',\n",
       " ' Leisure trip ',\n",
       " ' Group ',\n",
       " ' Executive Suite ',\n",
       " ' Stayed 1 night ',\n",
       " ' Submitted from a mobile device ',\n",
       " ' Business trip ',\n",
       " ' Solo traveler ',\n",
       " ' Standard Room with 1 Single Bed ',\n",
       " ' Stayed 1 night ',\n",
       " ' Submitted from a mobile device ',\n",
       " ' Leisure trip ',\n",
       " ' Couple ',\n",
       " ' Superior Double Room ',\n",
       " ' Stayed 2 nights ',\n",
       " ' Submitted from a mobile device ',\n",
       " ' Leisure trip ',\n",
       " ' Couple ',\n",
       " ' Deluxe Twin Room ',\n",
       " ' Stayed 1 night ',\n",
       " ' Leisure trip ',\n",
       " ' Couple ',\n",
       " ' Double Hilton Deluxe Room ',\n",
       " ' Stayed 4 nights ',\n",
       " ' Submitted from a mobile device ',\n",
       " ' Leisure trip ',\n",
       " ' Couple ',\n",
       " ' Deluxe Double Room ',\n",
       " ' Stayed 2 nights ',\n",
       " ' Submitted from a mobile device ',\n",
       " ' Leisure trip ',\n",
       " ' Couple ',\n",
       " ' Superior Double Room ',\n",
       " ' Stayed 1 night ',\n",
       " ' Submitted from a mobile device ',\n",
       " ' Leisure trip ',\n",
       " ' Couple ',\n",
       " ' Superior Double or Twin Room with Parking ',\n",
       " ' Stayed 1 night ',\n",
       " ' Submitted from a mobile device ',\n",
       " ' Leisure trip ',\n",
       " ' Couple ',\n",
       " ' Standard Queen Room ',\n",
       " ' Stayed 1 night ',\n",
       " ' Submitted from a mobile device ',\n",
       " ' Leisure trip ',\n",
       " ' Couple ',\n",
       " ' Double or Twin Room ',\n",
       " ' Stayed 1 night ',\n",
       " ' Leisure trip ',\n",
       " ' Couple ',\n",
       " ' King Guest Room ',\n",
       " ' Stayed 1 night ',\n",
       " ' Submitted from a mobile device ',\n",
       " ' Leisure trip ',\n",
       " ' Solo traveler ',\n",
       " ' Double Room ',\n",
       " ' Stayed 1 night ',\n",
       " ' Submitted from a mobile device ',\n",
       " ' Leisure trip ',\n",
       " ' Couple ',\n",
       " ' Standard Double or Twin Room ',\n",
       " ' Stayed 5 nights ',\n",
       " ' Leisure trip ',\n",
       " ' Group ',\n",
       " ' Standard Twin Room ',\n",
       " ' Stayed 1 night ',\n",
       " ' Submitted from a mobile device ',\n",
       " ' Family with young children ',\n",
       " ' Double or Twin Room ',\n",
       " ' Stayed 2 nights ',\n",
       " ' Submitted from a mobile device ',\n",
       " ' Leisure trip ',\n",
       " ' Couple ',\n",
       " ' Queen Hilton Guest Room ',\n",
       " ' Stayed 1 night ',\n",
       " ' Leisure trip ',\n",
       " ' Solo traveler ',\n",
       " ' Standard Double or Twin Room ',\n",
       " ' Stayed 2 nights ',\n",
       " ' Submitted from a mobile device ',\n",
       " ' Leisure trip ',\n",
       " ' Solo traveler ',\n",
       " ' Standard Double Room with Park View ',\n",
       " ' Stayed 1 night ',\n",
       " ' Submitted from a mobile device ',\n",
       " ' Business trip ',\n",
       " ' Couple ',\n",
       " ' Double Room ',\n",
       " ' Stayed 3 nights ',\n",
       " ' Business trip ',\n",
       " ' Group ',\n",
       " ' Deluxe Twin Room ',\n",
       " ' Stayed 4 nights ',\n",
       " ' Submitted from a mobile device ',\n",
       " ' Leisure trip ',\n",
       " ' Group ',\n",
       " ' Executive Double Room ',\n",
       " ' Stayed 3 nights ',\n",
       " ' Submitted from a mobile device ',\n",
       " ' Leisure trip ',\n",
       " ' Group ',\n",
       " ' Executive Double Room ',\n",
       " ' Stayed 3 nights ',\n",
       " ' Submitted from a mobile device ',\n",
       " ' Leisure trip ',\n",
       " ' Couple ',\n",
       " ' Double Room ',\n",
       " ' Stayed 4 nights ',\n",
       " ' Leisure trip ',\n",
       " ' Couple ',\n",
       " ' Executive Studio City View Family ',\n",
       " ' Stayed 2 nights ',\n",
       " ' Leisure trip ',\n",
       " ' Family with older children ',\n",
       " ' Deluxe Family Room ',\n",
       " ' Stayed 4 nights ',\n",
       " ' Submitted from a mobile device ',\n",
       " ' Leisure trip ',\n",
       " ' Group ',\n",
       " ' Superior Twin Room ',\n",
       " ' Stayed 1 night ',\n",
       " ' Submitted from a mobile device ',\n",
       " ' Leisure trip ',\n",
       " ' Family with young children ',\n",
       " ' Twin Room Non Smoking ',\n",
       " ' Stayed 4 nights ',\n",
       " ' Leisure trip ',\n",
       " ' Couple ',\n",
       " ' Queen Room ',\n",
       " ' Stayed 3 nights ',\n",
       " ' Submitted from a mobile device ',\n",
       " ' Leisure trip ',\n",
       " ' Solo traveler ',\n",
       " ' Twin Room ',\n",
       " ' Stayed 1 night ',\n",
       " ' Submitted from a mobile device ',\n",
       " ' Leisure trip ',\n",
       " ' Couple ',\n",
       " ' City Twin Room ',\n",
       " ' Stayed 3 nights ',\n",
       " ' Leisure trip ',\n",
       " ' Couple ',\n",
       " ' Comfort Double or Twin Room ',\n",
       " ' Stayed 5 nights ',\n",
       " ' Submitted from a mobile device ',\n",
       " ' Leisure trip ',\n",
       " ' Family with young children ',\n",
       " ' Double Family Guestroom ',\n",
       " ' Stayed 2 nights ',\n",
       " ' Leisure trip ',\n",
       " ' Couple ',\n",
       " ' Classic Room ',\n",
       " ' Stayed 2 nights ',\n",
       " ' Submitted from a mobile device ',\n",
       " ' Leisure trip ',\n",
       " ' Solo traveler ',\n",
       " ' Executive Double Room ',\n",
       " ' Stayed 8 nights ',\n",
       " ' Submitted from a mobile device ',\n",
       " ' Leisure trip ',\n",
       " ' Couple ',\n",
       " ' Deluxe Double with Terrace ',\n",
       " ' Stayed 1 night ',\n",
       " ' Submitted from a mobile device ',\n",
       " ' Leisure trip ',\n",
       " ' Couple ',\n",
       " ' Queen Guestroom ',\n",
       " ' Stayed 1 night ',\n",
       " ' Submitted from a mobile device ',\n",
       " ' Business trip ',\n",
       " ' Solo traveler ',\n",
       " ' Club Double Room ',\n",
       " ' Stayed 2 nights ',\n",
       " ' Submitted from a mobile device ',\n",
       " ' Leisure trip ',\n",
       " ' Couple ',\n",
       " ' Superior Double Room ',\n",
       " ' Stayed 2 nights ',\n",
       " ' Submitted from a mobile device ',\n",
       " ' Leisure trip ',\n",
       " ' Couple ',\n",
       " ' Basic Double Room ',\n",
       " ' Stayed 4 nights ',\n",
       " ' Submitted from a mobile device ',\n",
       " ' Leisure trip ',\n",
       " ' Couple ',\n",
       " ' Classic Double Room ',\n",
       " ' Stayed 1 night ',\n",
       " ' Leisure trip ',\n",
       " ' Couple ',\n",
       " ' Superior Double Room ',\n",
       " ' Stayed 1 night ',\n",
       " ' Submitted from a mobile device ',\n",
       " ' Leisure trip ',\n",
       " ' Group ',\n",
       " ' Large Double Room ',\n",
       " ' Stayed 2 nights ',\n",
       " ' Submitted from a mobile device ',\n",
       " ' Leisure trip ',\n",
       " ' Couple ',\n",
       " ' Double or Twin Room ',\n",
       " ' Stayed 3 nights ',\n",
       " ' Submitted from a mobile device ',\n",
       " ' Leisure trip ',\n",
       " ' Solo traveler ',\n",
       " ' Double or Twin Room ',\n",
       " ' Stayed 3 nights ',\n",
       " ' Submitted from a mobile device ',\n",
       " ' Leisure trip ',\n",
       " ' Couple ',\n",
       " ' River View Deluxe ',\n",
       " ' Stayed 1 night ',\n",
       " ' Leisure trip ',\n",
       " ' Couple ',\n",
       " ' Standard Double Room without Window ',\n",
       " ' Stayed 1 night ',\n",
       " ' Submitted from a mobile device ',\n",
       " ' Leisure trip ',\n",
       " ' Couple ',\n",
       " ' Standard Double Room ',\n",
       " ' Stayed 4 nights ',\n",
       " ' Submitted from a mobile device ',\n",
       " ' Couple ',\n",
       " ' Deluxe Double Room ',\n",
       " ' Stayed 2 nights ',\n",
       " ' Business trip ',\n",
       " ' Solo traveler ',\n",
       " ' Superior Double Room Single use ',\n",
       " ' Stayed 2 nights ',\n",
       " ' Business trip ',\n",
       " ' Solo traveler ',\n",
       " ' Deluxe Single Room ',\n",
       " ' Stayed 1 night ',\n",
       " ' Submitted from a mobile device ',\n",
       " ' Leisure trip ',\n",
       " ' Couple ',\n",
       " ' Double Room Non Smoking ',\n",
       " ' Stayed 2 nights ',\n",
       " ' Submitted from a mobile device ',\n",
       " ' Leisure trip ',\n",
       " ' Family with young children ',\n",
       " ' Club Double Room ',\n",
       " ' Stayed 1 night ',\n",
       " ' Submitted from a mobile device ',\n",
       " ' Leisure trip ',\n",
       " ' Couple ',\n",
       " ' Standard Double Room with View Terrace ',\n",
       " ' Stayed 3 nights ',\n",
       " ' Submitted from a mobile device ',\n",
       " ' Leisure trip ',\n",
       " ' Couple ',\n",
       " ' Standard Double or Twin Room ',\n",
       " ' Stayed 2 nights ',\n",
       " ' Leisure trip ',\n",
       " ' Solo traveler ',\n",
       " ' Standard Single Room ',\n",
       " ' Stayed 5 nights ',\n",
       " ' Leisure trip ',\n",
       " ' Solo traveler ',\n",
       " ' Queen Room ',\n",
       " ' Stayed 2 nights ',\n",
       " ' Business trip ',\n",
       " ' Solo traveler ',\n",
       " ' Single Room ',\n",
       " ' Stayed 1 night ',\n",
       " ' Leisure trip ',\n",
       " ' Family with young children ',\n",
       " ' Apartment for 3 to 4 People with Kitchenette ',\n",
       " ' Stayed 2 nights ',\n",
       " ' Submitted from a mobile device ',\n",
       " ' Leisure trip ',\n",
       " ' Couple ',\n",
       " ' Standard Triple Room ',\n",
       " ' Stayed 1 night ',\n",
       " ' Business trip ',\n",
       " ' Group ',\n",
       " ' Deluxe Double Room ',\n",
       " ' Stayed 3 nights ',\n",
       " ' Submitted from a mobile device ',\n",
       " ' Leisure trip ',\n",
       " ' Couple ',\n",
       " ' Standard Twin Room ',\n",
       " ' Stayed 3 nights ',\n",
       " ' Submitted from a mobile device ',\n",
       " ' Leisure trip ',\n",
       " ' Couple ',\n",
       " ' Deluxe Double or Twin Room ',\n",
       " ' Stayed 1 night ',\n",
       " ' Submitted from a mobile device ',\n",
       " ' Leisure trip ',\n",
       " ' Group ',\n",
       " ' Queen Room ',\n",
       " ' Stayed 6 nights ',\n",
       " ' Submitted from a mobile device ',\n",
       " ' Leisure trip ',\n",
       " ' Couple ',\n",
       " ' Standard Double Room without Window ',\n",
       " ' Stayed 2 nights ',\n",
       " ' Submitted from a mobile device ',\n",
       " ' Leisure trip ',\n",
       " ' Solo traveler ',\n",
       " ' Deluxe Single Room ',\n",
       " ' Stayed 1 night ',\n",
       " ' Submitted from a mobile device ',\n",
       " ' Leisure trip ',\n",
       " ' Couple ',\n",
       " ' Standard Room with 1 Double Bed ',\n",
       " ' Stayed 4 nights ',\n",
       " ' Leisure trip ',\n",
       " ' Couple ',\n",
       " ' Double Room with Courtyard View ',\n",
       " ' Stayed 4 nights ',\n",
       " ' Business trip ',\n",
       " ' Solo traveler ',\n",
       " ' Classic Single Room ',\n",
       " ' Stayed 1 night ',\n",
       " ' Leisure trip ',\n",
       " ' Couple ',\n",
       " ' Superior Room ',\n",
       " ' Stayed 1 night ',\n",
       " ' Submitted from a mobile device ',\n",
       " ' Leisure trip ',\n",
       " ' Group ',\n",
       " ' Classic Double Room ',\n",
       " ' Stayed 2 nights ',\n",
       " ' Business trip ',\n",
       " ' Couple ',\n",
       " ' Deluxe Double or Twin Room ',\n",
       " ' Stayed 1 night ',\n",
       " ' Submitted from a mobile device ',\n",
       " ' Leisure trip ',\n",
       " ' Couple ',\n",
       " ' Superior Room with 1 Queen Bed ',\n",
       " ' Stayed 1 night ',\n",
       " ' Leisure trip ',\n",
       " ' Couple ',\n",
       " ' Deluxe King or Twin Room ',\n",
       " ' Stayed 4 nights ',\n",
       " ' Leisure trip ',\n",
       " ' Family with young children ',\n",
       " ' Queen Guest Room ',\n",
       " ' Stayed 2 nights ',\n",
       " ' Leisure trip ',\n",
       " ' Solo traveler ',\n",
       " ' Twin Hilton Guest Room ',\n",
       " ' Stayed 6 nights ',\n",
       " ' Submitted from a mobile device ',\n",
       " ' Leisure trip ',\n",
       " ' Family with older children ',\n",
       " ' Standard Twin Room ',\n",
       " ' Stayed 2 nights ',\n",
       " ' Leisure trip ',\n",
       " ' Group ',\n",
       " ' Deluxe Double Room ',\n",
       " ' Stayed 4 nights ',\n",
       " ' Leisure trip ',\n",
       " ' Couple ',\n",
       " ' Queen Guest Room ',\n",
       " ' Stayed 3 nights ',\n",
       " ' Submitted from a mobile device ',\n",
       " ' Leisure trip ',\n",
       " ' Couple ',\n",
       " ' Deluxe King Room ',\n",
       " ' Stayed 1 night ',\n",
       " ' Submitted from a mobile device ',\n",
       " ' Leisure trip ',\n",
       " ' Couple ',\n",
       " ' Deluxe Double Room ',\n",
       " ' Stayed 1 night ',\n",
       " ' Leisure trip ',\n",
       " ' Couple ',\n",
       " ' Executive King Room ',\n",
       " ' Stayed 7 nights ',\n",
       " ' Submitted from a mobile device ',\n",
       " ' Leisure trip ',\n",
       " ' Family with older children ',\n",
       " ' Club Double Room ',\n",
       " ' Stayed 2 nights ',\n",
       " ' Submitted from a mobile device ',\n",
       " ' Leisure trip ',\n",
       " ' Couple ',\n",
       " ' Superior King Room ',\n",
       " ' Stayed 3 nights ',\n",
       " ' Leisure trip ',\n",
       " ' Couple ',\n",
       " ' Deluxe Double Room ',\n",
       " ' Stayed 1 night ',\n",
       " ' Submitted from a mobile device ',\n",
       " ' Leisure trip ',\n",
       " ' Family with young children ',\n",
       " ' Studio King ',\n",
       " ' Stayed 5 nights ',\n",
       " ' Leisure trip ',\n",
       " ' Group ',\n",
       " ' Club Twin Room ',\n",
       " ' Stayed 1 night ',\n",
       " ' Submitted from a mobile device ',\n",
       " ' Leisure trip ',\n",
       " ' Family with young children ',\n",
       " ' Standard Double Room ',\n",
       " ' Stayed 2 nights ',\n",
       " ' Submitted from a mobile device ',\n",
       " ' Leisure trip ',\n",
       " ' Family with young children ',\n",
       " ' Standard Double Room ',\n",
       " ' Stayed 1 night ',\n",
       " ' Submitted from a mobile device ',\n",
       " ' Leisure trip ',\n",
       " ' Couple ',\n",
       " ' Double Room ',\n",
       " ' Stayed 1 night ',\n",
       " ' Leisure trip ',\n",
       " ' Family with young children ',\n",
       " ' Double Room ',\n",
       " ' Stayed 1 night ',\n",
       " ' Submitted from a mobile device ',\n",
       " ' Business trip ',\n",
       " ' Solo traveler ',\n",
       " ' Standard Single Room ',\n",
       " ' Stayed 3 nights ',\n",
       " ' Submitted from a mobile device ',\n",
       " ' Leisure trip ',\n",
       " ' Couple ',\n",
       " ' Cosy Double Room ',\n",
       " ' Stayed 2 nights ',\n",
       " ' Leisure trip ',\n",
       " ' Family with young children ',\n",
       " ' Double Room with Spa Bath ',\n",
       " ' Stayed 5 nights ',\n",
       " ' Submitted from a mobile device ',\n",
       " ' Leisure trip ',\n",
       " ' Family with older children ',\n",
       " ' Double Family Guestroom ',\n",
       " ' Stayed 2 nights ',\n",
       " ' Leisure trip ',\n",
       " ' Family with young children ',\n",
       " ' Deluxe Double or Twin Room ',\n",
       " ' Stayed 6 nights ',\n",
       " ' Leisure trip ',\n",
       " ' Couple ',\n",
       " ' Deluxe Double Room ',\n",
       " ' Stayed 8 nights ',\n",
       " ' Submitted from a mobile device ',\n",
       " ' Leisure trip ',\n",
       " ' Family with young children ',\n",
       " ' Double Room with River View ',\n",
       " ' Stayed 7 nights ',\n",
       " ' Leisure trip ',\n",
       " ' Couple ',\n",
       " ' Superior Double Room ',\n",
       " ' Stayed 1 night ',\n",
       " ' Submitted from a mobile device ',\n",
       " ' Business trip ',\n",
       " ' Family with older children ',\n",
       " ' Deluxe Double Room with Two Double Beds ',\n",
       " ' Stayed 10 nights ',\n",
       " ' Submitted from a mobile device ',\n",
       " ' Leisure trip ',\n",
       " ' Couple ',\n",
       " ' Classic Double Room ',\n",
       " ' Stayed 4 nights ',\n",
       " ' Leisure trip ',\n",
       " ' Family with young children ',\n",
       " ' 2 rooms ',\n",
       " ' Stayed 14 nights ',\n",
       " ' Submitted from a mobile device ',\n",
       " ' Leisure trip ',\n",
       " ' Couple ',\n",
       " ' Standard Queen Room ',\n",
       " ' Stayed 2 nights ',\n",
       " ' Submitted from a mobile device ',\n",
       " ' Business trip ',\n",
       " ' Solo traveler ',\n",
       " ' King Room with River View ',\n",
       " ' Stayed 2 nights ',\n",
       " ' Submitted from a mobile device ',\n",
       " ' Leisure trip ',\n",
       " ' Couple ',\n",
       " ' Deluxe Double Room ',\n",
       " ' Stayed 4 nights ',\n",
       " ' Submitted from a mobile device ',\n",
       " ' Leisure trip ',\n",
       " ' Couple ',\n",
       " ' Deluxe Double Room ',\n",
       " ' Stayed 2 nights ',\n",
       " ' Submitted from a mobile device ',\n",
       " ' Leisure trip ',\n",
       " ' Couple ',\n",
       " ' Superior Double Room ',\n",
       " ' Stayed 1 night ',\n",
       " ' Submitted from a mobile device ',\n",
       " ' Leisure trip ',\n",
       " ' Group ',\n",
       " ' Comfort Double or Twin Room ',\n",
       " ' Stayed 3 nights ',\n",
       " ' Submitted from a mobile device ',\n",
       " ' Leisure trip ',\n",
       " ' Group ',\n",
       " ' Double Room ',\n",
       " ' Stayed 2 nights ',\n",
       " ' Submitted from a mobile device ',\n",
       " ' Leisure trip ',\n",
       " ' Couple ',\n",
       " ' Standard Double or Twin Room ',\n",
       " ' Stayed 2 nights ',\n",
       " ' Submitted from a mobile device ',\n",
       " ' Leisure trip ',\n",
       " ' Family with young children ',\n",
       " ' Triple Room ',\n",
       " ' Stayed 6 nights ',\n",
       " ' Submitted from a mobile device ',\n",
       " ' Leisure trip ',\n",
       " ' Family with young children ',\n",
       " ' Garden Twin Room ',\n",
       " ' Stayed 14 nights ',\n",
       " ' Submitted from a mobile device ',\n",
       " ' Leisure trip ',\n",
       " ' Solo traveler ',\n",
       " ' Standard Double Room ',\n",
       " ' Stayed 3 nights ',\n",
       " ' Submitted from a mobile device ',\n",
       " ' Business trip ',\n",
       " ' Solo traveler ',\n",
       " ' Classic Single Room ',\n",
       " ' Stayed 1 night ',\n",
       " ' Business trip ',\n",
       " ' Solo traveler ',\n",
       " ' Classic Double Room ',\n",
       " ' Stayed 5 nights ',\n",
       " ' Submitted from a mobile device ',\n",
       " ' Business trip ',\n",
       " ' Solo traveler ',\n",
       " ' Standard Twin Room ',\n",
       " ' Stayed 1 night ',\n",
       " ' Submitted from a mobile device ',\n",
       " ' Leisure trip ',\n",
       " ' Couple ',\n",
       " ' Double Room ',\n",
       " ' Stayed 1 night ',\n",
       " ' Submitted from a mobile device ',\n",
       " ' Leisure trip ',\n",
       " ' Group ',\n",
       " ' Superior Double Room ',\n",
       " ' Stayed 3 nights ',\n",
       " ' Submitted from a mobile device ',\n",
       " ' Business trip ',\n",
       " ...]"
      ]
     },
     "execution_count": 21,
     "metadata": {},
     "output_type": "execute_result"
    }
   ],
   "source": [
    "from ast import literal_eval\n",
    "# m0 = []\n",
    "m1 = []\n",
    "\n",
    "for i1 in range(0, h1.shape[0]):\n",
    "    m2 = literal_eval(h1.loc[i1,'tags'])\n",
    "    \n",
    "    m1.extend(m2)\n",
    "    # m0.extend([m2])\n",
    "    #print(m2)\n",
    "m1"
   ]
  },
  {
   "attachments": {},
   "cell_type": "markdown",
   "metadata": {},
   "source": [
    "преобразуем массив m1 в датафрэйм df1"
   ]
  },
  {
   "cell_type": "code",
   "execution_count": 22,
   "metadata": {},
   "outputs": [],
   "source": [
    "df1 = pd.DataFrame(m1, columns=['tag'])"
   ]
  },
  {
   "attachments": {},
   "cell_type": "markdown",
   "metadata": {},
   "source": [
    "удаляем из df1 элементы с информацией о кол-ве ночей (для них у нас уже есть ранее заполненное поле Nights)"
   ]
  },
  {
   "cell_type": "code",
   "execution_count": 23,
   "metadata": {},
   "outputs": [],
   "source": [
    "df1 = df1[df1.tag.str.count(' Stayed ') == 0]"
   ]
  },
  {
   "attachments": {},
   "cell_type": "markdown",
   "metadata": {},
   "source": [
    "Группируем датафрэйм по названию тэгов и выделяем из них 15 наиболее часто используемых"
   ]
  },
  {
   "cell_type": "code",
   "execution_count": 24,
   "metadata": {},
   "outputs": [
    {
     "data": {
      "text/plain": [
       "2314"
      ]
     },
     "execution_count": 24,
     "metadata": {},
     "output_type": "execute_result"
    }
   ],
   "source": [
    "#df1.groupby('tag')['tag'].agg(['count'])\n",
    "df2 = df1.groupby('tag')['tag'].count()\n",
    "df2.shape[0]"
   ]
  },
  {
   "cell_type": "code",
   "execution_count": 25,
   "metadata": {},
   "outputs": [
    {
     "data": {
      "text/plain": [
       "tag\n",
       " Classic Double Room                 12607\n",
       " Standard Double or Twin Room        13071\n",
       " Double or Twin Room                 16627\n",
       " Deluxe Double Room                  18585\n",
       " Family with older children          19648\n",
       " Superior Double Room                23357\n",
       " Standard Double Room                23825\n",
       " Double Room                         26336\n",
       " Family with young children          45523\n",
       " Group                               48667\n",
       " Business trip                       61515\n",
       " Solo traveler                       80607\n",
       " Couple                             187845\n",
       " Submitted from a mobile device     229263\n",
       " Leisure trip                       311247\n",
       "Name: tag, dtype: int64"
      ]
     },
     "execution_count": 25,
     "metadata": {},
     "output_type": "execute_result"
    }
   ],
   "source": [
    "df2 = df2.sort_values().tail(15)\n",
    "df2"
   ]
  },
  {
   "attachments": {},
   "cell_type": "markdown",
   "metadata": {},
   "source": [
    "Создаем бинарные поля для 15-и наиболее часто используемых тэгов"
   ]
  },
  {
   "cell_type": "code",
   "execution_count": 26,
   "metadata": {},
   "outputs": [],
   "source": [
    "for in1 in df2.index:\n",
    "    col1 = in1.strip()\n",
    "    str1 = \"'\" + in1 + \"'\"\n",
    "    h1[col1] = h1.tags.str.count(str1)\n",
    "    #print(str1)"
   ]
  },
  {
   "attachments": {},
   "cell_type": "markdown",
   "metadata": {},
   "source": [
    "анализируем все небинарные числовые поля (вкл.целевое поле reviewer_score)"
   ]
  },
  {
   "cell_type": "code",
   "execution_count": 27,
   "metadata": {},
   "outputs": [
    {
     "data": {
      "image/png": "[encoded data removed]",
      "text/plain": [
       "<Figure size 2000x1100 with 12 Axes>"
      ]
     },
     "metadata": {},
     "output_type": "display_data"
    }
   ],
   "source": [
    "cols = ['average_score','review_total_negative_word_counts','review_total_positive_word_counts', 'total_number_of_reviews_reviewer_has_given','total_number_of_reviews', 'additional_number_of_scoring',\n",
    "        'Nights','month', 'tags_cnt', 'reviewer_score' ]\n",
    "h1[cols].hist(figsize=(20, 11));\n",
    "\n",
    "\n",
    "#h1 = h1.drop_duplicates()\n",
    "#h1[h1.duplicated(subset=h1.columns)]"
   ]
  },
  {
   "attachments": {},
   "cell_type": "markdown",
   "metadata": {},
   "source": [
    "Видим, что близко к нормальному распределено только поле average_score. Также видно что почти все поля имеют довольно длинные \"хвосты\""
   ]
  },
  {
   "attachments": {},
   "cell_type": "markdown",
   "metadata": {},
   "source": [
    "Далее анализируем поле Nights "
   ]
  },
  {
   "cell_type": "code",
   "execution_count": 28,
   "metadata": {},
   "outputs": [
    {
     "data": {
      "text/plain": [
       "<AxesSubplot: >"
      ]
     },
     "execution_count": 28,
     "metadata": {},
     "output_type": "execute_result"
    },
    {
     "data": {
      "image/png": "[encoded data removed]",
      "text/plain": [
       "<Figure size 640x480 with 1 Axes>"
      ]
     },
     "metadata": {},
     "output_type": "display_data"
    }
   ],
   "source": [
    "h1['Nights'].plot(kind=\"box\", vert=False)"
   ]
  },
  {
   "attachments": {},
   "cell_type": "markdown",
   "metadata": {},
   "source": [
    "принимаем решение считать выбросами все значения > 10"
   ]
  },
  {
   "cell_type": "code",
   "execution_count": 29,
   "metadata": {},
   "outputs": [],
   "source": [
    "h1 = h1.drop( h1[h1['Nights'] > 10].index )\n",
    "#h10 = pd.get_dummies(h1, columns=['reviewer_nationality'])\n"
   ]
  },
  {
   "attachments": {},
   "cell_type": "markdown",
   "metadata": {},
   "source": [
    "Данные в поле average_score распределены более-менее нормально, поэтому для определения выбросов можем использовать метод межквартильного размаха"
   ]
  },
  {
   "cell_type": "code",
   "execution_count": 30,
   "metadata": {},
   "outputs": [],
   "source": [
    "def outliers_iqr(data, feature, left=1.5, right=1.5, log_scale=False):\n",
    "    if log_scale:\n",
    "        x = np.log(data[feature])\n",
    "    else:\n",
    "        x = data[feature]\n",
    "    # x = data[feature]\n",
    "    quartile_1, quartile_3 = x.quantile(0.25), x.quantile(0.75),\n",
    "    iqr = quartile_3 - quartile_1\n",
    "    lower_bound = quartile_1 - (iqr * left)\n",
    "    upper_bound = quartile_3 + (iqr * right)\n",
    "    \n",
    "    print(f'Границы диапазона: {lower_bound}, {upper_bound}')\n",
    "    \n",
    "    outliers = data[(x<lower_bound) | (x > upper_bound)]\n",
    "    cleaned = data[(x>lower_bound) & (x < upper_bound)]\n",
    "    return outliers, cleaned"
   ]
  },
  {
   "attachments": {},
   "cell_type": "markdown",
   "metadata": {},
   "source": [
    "Левую границу берем чуть больше стандарта (2 вместо 1.5) т.к. слева распределение имеет более длинный хвост"
   ]
  },
  {
   "cell_type": "code",
   "execution_count": 31,
   "metadata": {},
   "outputs": [
    {
     "name": "stdout",
     "output_type": "stream",
     "text": [
      "Границы диапазона: 6.6999999999999975, 9.850000000000001\n"
     ]
    }
   ],
   "source": [
    "out1, h1 = outliers_iqr(h1, 'average_score', left=2.0, right=1.5)"
   ]
  },
  {
   "attachments": {},
   "cell_type": "markdown",
   "metadata": {},
   "source": [
    "Определяем границы выбросов по всем числовым полям"
   ]
  },
  {
   "cell_type": "code",
   "execution_count": 32,
   "metadata": {},
   "outputs": [
    {
     "data": {
      "text/html": [
       "<div>\n",
       "<style scoped>\n",
       "    .dataframe tbody tr th:only-of-type {\n",
       "        vertical-align: middle;\n",
       "    }\n",
       "\n",
       "    .dataframe tbody tr th {\n",
       "        vertical-align: top;\n",
       "    }\n",
       "\n",
       "    .dataframe thead th {\n",
       "        text-align: right;\n",
       "    }\n",
       "</style>\n",
       "<table border=\"1\" class=\"dataframe\">\n",
       "  <thead>\n",
       "    <tr style=\"text-align: right;\">\n",
       "      <th></th>\n",
       "      <th>additional_number_of_scoring</th>\n",
       "      <th>average_score</th>\n",
       "      <th>review_total_negative_word_counts</th>\n",
       "      <th>total_number_of_reviews</th>\n",
       "      <th>review_total_positive_word_counts</th>\n",
       "      <th>total_number_of_reviews_reviewer_has_given</th>\n",
       "      <th>reviewer_score</th>\n",
       "      <th>lat</th>\n",
       "      <th>lng</th>\n",
       "      <th>Nights</th>\n",
       "      <th>...</th>\n",
       "      <th>Superior Double Room</th>\n",
       "      <th>Standard Double Room</th>\n",
       "      <th>Double Room</th>\n",
       "      <th>Family with young children</th>\n",
       "      <th>Group</th>\n",
       "      <th>Business trip</th>\n",
       "      <th>Solo traveler</th>\n",
       "      <th>Couple</th>\n",
       "      <th>Submitted from a mobile device</th>\n",
       "      <th>Leisure trip</th>\n",
       "    </tr>\n",
       "  </thead>\n",
       "  <tbody>\n",
       "    <tr>\n",
       "      <th>count</th>\n",
       "      <td>381538.000000</td>\n",
       "      <td>381538.000000</td>\n",
       "      <td>381538.000000</td>\n",
       "      <td>381538.000000</td>\n",
       "      <td>381538.000000</td>\n",
       "      <td>381538.000000</td>\n",
       "      <td>381538.000000</td>\n",
       "      <td>381538.000000</td>\n",
       "      <td>381538.000000</td>\n",
       "      <td>381538.000000</td>\n",
       "      <td>...</td>\n",
       "      <td>381538.000000</td>\n",
       "      <td>381538.000000</td>\n",
       "      <td>381538.000000</td>\n",
       "      <td>381538.000000</td>\n",
       "      <td>381538.000000</td>\n",
       "      <td>381538.000000</td>\n",
       "      <td>381538.000000</td>\n",
       "      <td>381538.000000</td>\n",
       "      <td>381538.000000</td>\n",
       "      <td>381538.000000</td>\n",
       "    </tr>\n",
       "    <tr>\n",
       "      <th>mean</th>\n",
       "      <td>501.184600</td>\n",
       "      <td>8.404651</td>\n",
       "      <td>18.481111</td>\n",
       "      <td>2751.973644</td>\n",
       "      <td>17.795349</td>\n",
       "      <td>7.167435</td>\n",
       "      <td>8.406403</td>\n",
       "      <td>49.436443</td>\n",
       "      <td>2.830905</td>\n",
       "      <td>2.323818</td>\n",
       "      <td>...</td>\n",
       "      <td>0.061056</td>\n",
       "      <td>0.061871</td>\n",
       "      <td>0.067907</td>\n",
       "      <td>0.118389</td>\n",
       "      <td>0.126949</td>\n",
       "      <td>0.159504</td>\n",
       "      <td>0.208957</td>\n",
       "      <td>0.490449</td>\n",
       "      <td>0.597285</td>\n",
       "      <td>0.811749</td>\n",
       "    </tr>\n",
       "    <tr>\n",
       "      <th>std</th>\n",
       "      <td>501.544937</td>\n",
       "      <td>0.538043</td>\n",
       "      <td>29.606363</td>\n",
       "      <td>2324.037825</td>\n",
       "      <td>21.724633</td>\n",
       "      <td>11.045948</td>\n",
       "      <td>1.628062</td>\n",
       "      <td>3.471908</td>\n",
       "      <td>4.583484</td>\n",
       "      <td>1.506805</td>\n",
       "      <td>...</td>\n",
       "      <td>0.239432</td>\n",
       "      <td>0.240921</td>\n",
       "      <td>0.251586</td>\n",
       "      <td>0.323069</td>\n",
       "      <td>0.332917</td>\n",
       "      <td>0.366146</td>\n",
       "      <td>0.406564</td>\n",
       "      <td>0.499909</td>\n",
       "      <td>0.490445</td>\n",
       "      <td>0.390913</td>\n",
       "    </tr>\n",
       "    <tr>\n",
       "      <th>min</th>\n",
       "      <td>1.000000</td>\n",
       "      <td>6.700000</td>\n",
       "      <td>0.000000</td>\n",
       "      <td>43.000000</td>\n",
       "      <td>0.000000</td>\n",
       "      <td>1.000000</td>\n",
       "      <td>2.500000</td>\n",
       "      <td>41.328376</td>\n",
       "      <td>-0.369758</td>\n",
       "      <td>1.000000</td>\n",
       "      <td>...</td>\n",
       "      <td>0.000000</td>\n",
       "      <td>0.000000</td>\n",
       "      <td>0.000000</td>\n",
       "      <td>0.000000</td>\n",
       "      <td>0.000000</td>\n",
       "      <td>0.000000</td>\n",
       "      <td>0.000000</td>\n",
       "      <td>0.000000</td>\n",
       "      <td>0.000000</td>\n",
       "      <td>0.000000</td>\n",
       "    </tr>\n",
       "    <tr>\n",
       "      <th>25%</th>\n",
       "      <td>170.000000</td>\n",
       "      <td>8.100000</td>\n",
       "      <td>2.000000</td>\n",
       "      <td>1161.000000</td>\n",
       "      <td>5.000000</td>\n",
       "      <td>1.000000</td>\n",
       "      <td>7.500000</td>\n",
       "      <td>48.214277</td>\n",
       "      <td>-0.143372</td>\n",
       "      <td>1.000000</td>\n",
       "      <td>...</td>\n",
       "      <td>0.000000</td>\n",
       "      <td>0.000000</td>\n",
       "      <td>0.000000</td>\n",
       "      <td>0.000000</td>\n",
       "      <td>0.000000</td>\n",
       "      <td>0.000000</td>\n",
       "      <td>0.000000</td>\n",
       "      <td>0.000000</td>\n",
       "      <td>0.000000</td>\n",
       "      <td>1.000000</td>\n",
       "    </tr>\n",
       "    <tr>\n",
       "      <th>50%</th>\n",
       "      <td>345.000000</td>\n",
       "      <td>8.400000</td>\n",
       "      <td>9.000000</td>\n",
       "      <td>2134.000000</td>\n",
       "      <td>11.000000</td>\n",
       "      <td>3.000000</td>\n",
       "      <td>8.800000</td>\n",
       "      <td>51.499981</td>\n",
       "      <td>0.019886</td>\n",
       "      <td>2.000000</td>\n",
       "      <td>...</td>\n",
       "      <td>0.000000</td>\n",
       "      <td>0.000000</td>\n",
       "      <td>0.000000</td>\n",
       "      <td>0.000000</td>\n",
       "      <td>0.000000</td>\n",
       "      <td>0.000000</td>\n",
       "      <td>0.000000</td>\n",
       "      <td>0.000000</td>\n",
       "      <td>1.000000</td>\n",
       "      <td>1.000000</td>\n",
       "    </tr>\n",
       "    <tr>\n",
       "      <th>75%</th>\n",
       "      <td>666.000000</td>\n",
       "      <td>8.800000</td>\n",
       "      <td>23.000000</td>\n",
       "      <td>3633.000000</td>\n",
       "      <td>22.000000</td>\n",
       "      <td>8.000000</td>\n",
       "      <td>9.600000</td>\n",
       "      <td>51.516288</td>\n",
       "      <td>4.834443</td>\n",
       "      <td>3.000000</td>\n",
       "      <td>...</td>\n",
       "      <td>0.000000</td>\n",
       "      <td>0.000000</td>\n",
       "      <td>0.000000</td>\n",
       "      <td>0.000000</td>\n",
       "      <td>0.000000</td>\n",
       "      <td>0.000000</td>\n",
       "      <td>0.000000</td>\n",
       "      <td>1.000000</td>\n",
       "      <td>1.000000</td>\n",
       "      <td>1.000000</td>\n",
       "    </tr>\n",
       "    <tr>\n",
       "      <th>max</th>\n",
       "      <td>2682.000000</td>\n",
       "      <td>9.800000</td>\n",
       "      <td>408.000000</td>\n",
       "      <td>16670.000000</td>\n",
       "      <td>386.000000</td>\n",
       "      <td>355.000000</td>\n",
       "      <td>10.000000</td>\n",
       "      <td>52.400181</td>\n",
       "      <td>16.429233</td>\n",
       "      <td>10.000000</td>\n",
       "      <td>...</td>\n",
       "      <td>1.000000</td>\n",
       "      <td>1.000000</td>\n",
       "      <td>1.000000</td>\n",
       "      <td>1.000000</td>\n",
       "      <td>1.000000</td>\n",
       "      <td>1.000000</td>\n",
       "      <td>1.000000</td>\n",
       "      <td>1.000000</td>\n",
       "      <td>1.000000</td>\n",
       "      <td>1.000000</td>\n",
       "    </tr>\n",
       "  </tbody>\n",
       "</table>\n",
       "<p>8 rows × 35 columns</p>\n",
       "</div>"
      ],
      "text/plain": [
       "       additional_number_of_scoring  average_score  \\\n",
       "count                 381538.000000  381538.000000   \n",
       "mean                     501.184600       8.404651   \n",
       "std                      501.544937       0.538043   \n",
       "min                        1.000000       6.700000   \n",
       "25%                      170.000000       8.100000   \n",
       "50%                      345.000000       8.400000   \n",
       "75%                      666.000000       8.800000   \n",
       "max                     2682.000000       9.800000   \n",
       "\n",
       "       review_total_negative_word_counts  total_number_of_reviews  \\\n",
       "count                      381538.000000            381538.000000   \n",
       "mean                           18.481111              2751.973644   \n",
       "std                            29.606363              2324.037825   \n",
       "min                             0.000000                43.000000   \n",
       "25%                             2.000000              1161.000000   \n",
       "50%                             9.000000              2134.000000   \n",
       "75%                            23.000000              3633.000000   \n",
       "max                           408.000000             16670.000000   \n",
       "\n",
       "       review_total_positive_word_counts  \\\n",
       "count                      381538.000000   \n",
       "mean                           17.795349   \n",
       "std                            21.724633   \n",
       "min                             0.000000   \n",
       "25%                             5.000000   \n",
       "50%                            11.000000   \n",
       "75%                            22.000000   \n",
       "max                           386.000000   \n",
       "\n",
       "       total_number_of_reviews_reviewer_has_given  reviewer_score  \\\n",
       "count                               381538.000000   381538.000000   \n",
       "mean                                     7.167435        8.406403   \n",
       "std                                     11.045948        1.628062   \n",
       "min                                      1.000000        2.500000   \n",
       "25%                                      1.000000        7.500000   \n",
       "50%                                      3.000000        8.800000   \n",
       "75%                                      8.000000        9.600000   \n",
       "max                                    355.000000       10.000000   \n",
       "\n",
       "                 lat            lng         Nights  ...  Superior Double Room  \\\n",
       "count  381538.000000  381538.000000  381538.000000  ...         381538.000000   \n",
       "mean       49.436443       2.830905       2.323818  ...              0.061056   \n",
       "std         3.471908       4.583484       1.506805  ...              0.239432   \n",
       "min        41.328376      -0.369758       1.000000  ...              0.000000   \n",
       "25%        48.214277      -0.143372       1.000000  ...              0.000000   \n",
       "50%        51.499981       0.019886       2.000000  ...              0.000000   \n",
       "75%        51.516288       4.834443       3.000000  ...              0.000000   \n",
       "max        52.400181      16.429233      10.000000  ...              1.000000   \n",
       "\n",
       "       Standard Double Room    Double Room  Family with young children  \\\n",
       "count         381538.000000  381538.000000               381538.000000   \n",
       "mean               0.061871       0.067907                    0.118389   \n",
       "std                0.240921       0.251586                    0.323069   \n",
       "min                0.000000       0.000000                    0.000000   \n",
       "25%                0.000000       0.000000                    0.000000   \n",
       "50%                0.000000       0.000000                    0.000000   \n",
       "75%                0.000000       0.000000                    0.000000   \n",
       "max                1.000000       1.000000                    1.000000   \n",
       "\n",
       "               Group  Business trip  Solo traveler         Couple  \\\n",
       "count  381538.000000  381538.000000  381538.000000  381538.000000   \n",
       "mean        0.126949       0.159504       0.208957       0.490449   \n",
       "std         0.332917       0.366146       0.406564       0.499909   \n",
       "min         0.000000       0.000000       0.000000       0.000000   \n",
       "25%         0.000000       0.000000       0.000000       0.000000   \n",
       "50%         0.000000       0.000000       0.000000       0.000000   \n",
       "75%         0.000000       0.000000       0.000000       1.000000   \n",
       "max         1.000000       1.000000       1.000000       1.000000   \n",
       "\n",
       "       Submitted from a mobile device   Leisure trip  \n",
       "count                   381538.000000  381538.000000  \n",
       "mean                         0.597285       0.811749  \n",
       "std                          0.490445       0.390913  \n",
       "min                          0.000000       0.000000  \n",
       "25%                          0.000000       1.000000  \n",
       "50%                          1.000000       1.000000  \n",
       "75%                          1.000000       1.000000  \n",
       "max                          1.000000       1.000000  \n",
       "\n",
       "[8 rows x 35 columns]"
      ]
     },
     "execution_count": 32,
     "metadata": {},
     "output_type": "execute_result"
    }
   ],
   "source": [
    "h1.describe()"
   ]
  },
  {
   "attachments": {},
   "cell_type": "markdown",
   "metadata": {},
   "source": [
    "Удаляем выбросы"
   ]
  },
  {
   "cell_type": "code",
   "execution_count": 34,
   "metadata": {},
   "outputs": [],
   "source": [
    "#h1[h1['review_total_negative_word_counts'] > 150].count()  # - 3252\n",
    "\n",
    "h1 = h1.drop( h1[h1['review_total_negative_word_counts'] > 150].index )\n"
   ]
  },
  {
   "cell_type": "code",
   "execution_count": 35,
   "metadata": {},
   "outputs": [],
   "source": [
    "#h1[h1['review_total_positive_word_counts'] > 150].count()  # - 1210\n",
    "\n",
    "h1 = h1.drop( h1[h1['review_total_positive_word_counts'] > 150].index )\n"
   ]
  },
  {
   "cell_type": "code",
   "execution_count": 36,
   "metadata": {},
   "outputs": [],
   "source": [
    "#h1[h1['total_number_of_reviews_reviewer_has_given'] > 50].count()  # - 4181\n",
    "\n",
    "h1 = h1.drop( h1[h1['total_number_of_reviews_reviewer_has_given'] > 50].index )"
   ]
  },
  {
   "cell_type": "code",
   "execution_count": 37,
   "metadata": {},
   "outputs": [],
   "source": [
    "#h1[h1['total_number_of_reviews'] > 10000].count()  # - 5181\n",
    "\n",
    "h1 = h1.drop( h1[h1['total_number_of_reviews'] > 10000].index )"
   ]
  },
  {
   "cell_type": "code",
   "execution_count": 38,
   "metadata": {},
   "outputs": [],
   "source": [
    "#h1[h1['additional_number_of_scoring'] > 2000].count()  # - 6643\n",
    "\n",
    "h1 = h1.drop( h1[h1['additional_number_of_scoring'] > 2000].index )"
   ]
  },
  {
   "cell_type": "code",
   "execution_count": 39,
   "metadata": {},
   "outputs": [],
   "source": [
    "# h1[h1.tags_cnt > 5].count()\n",
    "\n",
    "h1 = h1.drop( h1[h1.tags_cnt > 5].index )"
   ]
  },
  {
   "attachments": {},
   "cell_type": "markdown",
   "metadata": {},
   "source": [
    "Смотрим что получилось после удаления выбросов"
   ]
  },
  {
   "cell_type": "code",
   "execution_count": 40,
   "metadata": {},
   "outputs": [
    {
     "data": {
      "text/html": [
       "<div>\n",
       "<style scoped>\n",
       "    .dataframe tbody tr th:only-of-type {\n",
       "        vertical-align: middle;\n",
       "    }\n",
       "\n",
       "    .dataframe tbody tr th {\n",
       "        vertical-align: top;\n",
       "    }\n",
       "\n",
       "    .dataframe thead th {\n",
       "        text-align: right;\n",
       "    }\n",
       "</style>\n",
       "<table border=\"1\" class=\"dataframe\">\n",
       "  <thead>\n",
       "    <tr style=\"text-align: right;\">\n",
       "      <th></th>\n",
       "      <th>additional_number_of_scoring</th>\n",
       "      <th>average_score</th>\n",
       "      <th>review_total_negative_word_counts</th>\n",
       "      <th>total_number_of_reviews</th>\n",
       "      <th>review_total_positive_word_counts</th>\n",
       "      <th>total_number_of_reviews_reviewer_has_given</th>\n",
       "      <th>reviewer_score</th>\n",
       "      <th>lat</th>\n",
       "      <th>lng</th>\n",
       "      <th>Nights</th>\n",
       "      <th>...</th>\n",
       "      <th>Superior Double Room</th>\n",
       "      <th>Standard Double Room</th>\n",
       "      <th>Double Room</th>\n",
       "      <th>Family with young children</th>\n",
       "      <th>Group</th>\n",
       "      <th>Business trip</th>\n",
       "      <th>Solo traveler</th>\n",
       "      <th>Couple</th>\n",
       "      <th>Submitted from a mobile device</th>\n",
       "      <th>Leisure trip</th>\n",
       "    </tr>\n",
       "  </thead>\n",
       "  <tbody>\n",
       "    <tr>\n",
       "      <th>count</th>\n",
       "      <td>360661.000000</td>\n",
       "      <td>360661.000000</td>\n",
       "      <td>360661.000000</td>\n",
       "      <td>360661.000000</td>\n",
       "      <td>360661.000000</td>\n",
       "      <td>360661.000000</td>\n",
       "      <td>360661.000000</td>\n",
       "      <td>360661.000000</td>\n",
       "      <td>360661.000000</td>\n",
       "      <td>360661.000000</td>\n",
       "      <td>...</td>\n",
       "      <td>360661.000000</td>\n",
       "      <td>360661.000000</td>\n",
       "      <td>360661.000000</td>\n",
       "      <td>360661.000000</td>\n",
       "      <td>360661.000000</td>\n",
       "      <td>360661.000000</td>\n",
       "      <td>360661.000000</td>\n",
       "      <td>360661.000000</td>\n",
       "      <td>360661.000000</td>\n",
       "      <td>360661.000000</td>\n",
       "    </tr>\n",
       "    <tr>\n",
       "      <th>mean</th>\n",
       "      <td>446.650012</td>\n",
       "      <td>8.419136</td>\n",
       "      <td>16.622887</td>\n",
       "      <td>2484.649715</td>\n",
       "      <td>17.196664</td>\n",
       "      <td>6.437499</td>\n",
       "      <td>8.443696</td>\n",
       "      <td>49.412109</td>\n",
       "      <td>2.852517</td>\n",
       "      <td>2.335234</td>\n",
       "      <td>...</td>\n",
       "      <td>0.062078</td>\n",
       "      <td>0.060348</td>\n",
       "      <td>0.066117</td>\n",
       "      <td>0.118019</td>\n",
       "      <td>0.127990</td>\n",
       "      <td>0.156183</td>\n",
       "      <td>0.205470</td>\n",
       "      <td>0.492917</td>\n",
       "      <td>0.601446</td>\n",
       "      <td>0.815062</td>\n",
       "    </tr>\n",
       "    <tr>\n",
       "      <th>std</th>\n",
       "      <td>381.534058</td>\n",
       "      <td>0.529439</td>\n",
       "      <td>22.351425</td>\n",
       "      <td>1759.575798</td>\n",
       "      <td>18.706578</td>\n",
       "      <td>8.041168</td>\n",
       "      <td>1.600957</td>\n",
       "      <td>3.497777</td>\n",
       "      <td>4.593787</td>\n",
       "      <td>1.509649</td>\n",
       "      <td>...</td>\n",
       "      <td>0.241297</td>\n",
       "      <td>0.238130</td>\n",
       "      <td>0.248488</td>\n",
       "      <td>0.322632</td>\n",
       "      <td>0.334079</td>\n",
       "      <td>0.363029</td>\n",
       "      <td>0.404045</td>\n",
       "      <td>0.499951</td>\n",
       "      <td>0.489601</td>\n",
       "      <td>0.388248</td>\n",
       "    </tr>\n",
       "    <tr>\n",
       "      <th>min</th>\n",
       "      <td>1.000000</td>\n",
       "      <td>6.700000</td>\n",
       "      <td>0.000000</td>\n",
       "      <td>43.000000</td>\n",
       "      <td>0.000000</td>\n",
       "      <td>1.000000</td>\n",
       "      <td>2.500000</td>\n",
       "      <td>41.328376</td>\n",
       "      <td>-0.369758</td>\n",
       "      <td>1.000000</td>\n",
       "      <td>...</td>\n",
       "      <td>0.000000</td>\n",
       "      <td>0.000000</td>\n",
       "      <td>0.000000</td>\n",
       "      <td>0.000000</td>\n",
       "      <td>0.000000</td>\n",
       "      <td>0.000000</td>\n",
       "      <td>0.000000</td>\n",
       "      <td>0.000000</td>\n",
       "      <td>0.000000</td>\n",
       "      <td>0.000000</td>\n",
       "    </tr>\n",
       "    <tr>\n",
       "      <th>25%</th>\n",
       "      <td>166.000000</td>\n",
       "      <td>8.100000</td>\n",
       "      <td>0.000000</td>\n",
       "      <td>1131.000000</td>\n",
       "      <td>5.000000</td>\n",
       "      <td>1.000000</td>\n",
       "      <td>7.500000</td>\n",
       "      <td>48.214066</td>\n",
       "      <td>-0.145279</td>\n",
       "      <td>1.000000</td>\n",
       "      <td>...</td>\n",
       "      <td>0.000000</td>\n",
       "      <td>0.000000</td>\n",
       "      <td>0.000000</td>\n",
       "      <td>0.000000</td>\n",
       "      <td>0.000000</td>\n",
       "      <td>0.000000</td>\n",
       "      <td>0.000000</td>\n",
       "      <td>0.000000</td>\n",
       "      <td>0.000000</td>\n",
       "      <td>1.000000</td>\n",
       "    </tr>\n",
       "    <tr>\n",
       "      <th>50%</th>\n",
       "      <td>333.000000</td>\n",
       "      <td>8.400000</td>\n",
       "      <td>9.000000</td>\n",
       "      <td>2037.000000</td>\n",
       "      <td>11.000000</td>\n",
       "      <td>3.000000</td>\n",
       "      <td>8.800000</td>\n",
       "      <td>51.499279</td>\n",
       "      <td>0.038657</td>\n",
       "      <td>2.000000</td>\n",
       "      <td>...</td>\n",
       "      <td>0.000000</td>\n",
       "      <td>0.000000</td>\n",
       "      <td>0.000000</td>\n",
       "      <td>0.000000</td>\n",
       "      <td>0.000000</td>\n",
       "      <td>0.000000</td>\n",
       "      <td>0.000000</td>\n",
       "      <td>0.000000</td>\n",
       "      <td>1.000000</td>\n",
       "      <td>1.000000</td>\n",
       "    </tr>\n",
       "    <tr>\n",
       "      <th>75%</th>\n",
       "      <td>620.000000</td>\n",
       "      <td>8.800000</td>\n",
       "      <td>23.000000</td>\n",
       "      <td>3469.000000</td>\n",
       "      <td>22.000000</td>\n",
       "      <td>8.000000</td>\n",
       "      <td>9.600000</td>\n",
       "      <td>51.516843</td>\n",
       "      <td>4.834443</td>\n",
       "      <td>3.000000</td>\n",
       "      <td>...</td>\n",
       "      <td>0.000000</td>\n",
       "      <td>0.000000</td>\n",
       "      <td>0.000000</td>\n",
       "      <td>0.000000</td>\n",
       "      <td>0.000000</td>\n",
       "      <td>0.000000</td>\n",
       "      <td>0.000000</td>\n",
       "      <td>1.000000</td>\n",
       "      <td>1.000000</td>\n",
       "      <td>1.000000</td>\n",
       "    </tr>\n",
       "    <tr>\n",
       "      <th>max</th>\n",
       "      <td>1936.000000</td>\n",
       "      <td>9.800000</td>\n",
       "      <td>150.000000</td>\n",
       "      <td>8177.000000</td>\n",
       "      <td>150.000000</td>\n",
       "      <td>50.000000</td>\n",
       "      <td>10.000000</td>\n",
       "      <td>52.400181</td>\n",
       "      <td>16.429233</td>\n",
       "      <td>10.000000</td>\n",
       "      <td>...</td>\n",
       "      <td>1.000000</td>\n",
       "      <td>1.000000</td>\n",
       "      <td>1.000000</td>\n",
       "      <td>1.000000</td>\n",
       "      <td>1.000000</td>\n",
       "      <td>1.000000</td>\n",
       "      <td>1.000000</td>\n",
       "      <td>1.000000</td>\n",
       "      <td>1.000000</td>\n",
       "      <td>1.000000</td>\n",
       "    </tr>\n",
       "  </tbody>\n",
       "</table>\n",
       "<p>8 rows × 35 columns</p>\n",
       "</div>"
      ],
      "text/plain": [
       "       additional_number_of_scoring  average_score  \\\n",
       "count                 360661.000000  360661.000000   \n",
       "mean                     446.650012       8.419136   \n",
       "std                      381.534058       0.529439   \n",
       "min                        1.000000       6.700000   \n",
       "25%                      166.000000       8.100000   \n",
       "50%                      333.000000       8.400000   \n",
       "75%                      620.000000       8.800000   \n",
       "max                     1936.000000       9.800000   \n",
       "\n",
       "       review_total_negative_word_counts  total_number_of_reviews  \\\n",
       "count                      360661.000000            360661.000000   \n",
       "mean                           16.622887              2484.649715   \n",
       "std                            22.351425              1759.575798   \n",
       "min                             0.000000                43.000000   \n",
       "25%                             0.000000              1131.000000   \n",
       "50%                             9.000000              2037.000000   \n",
       "75%                            23.000000              3469.000000   \n",
       "max                           150.000000              8177.000000   \n",
       "\n",
       "       review_total_positive_word_counts  \\\n",
       "count                      360661.000000   \n",
       "mean                           17.196664   \n",
       "std                            18.706578   \n",
       "min                             0.000000   \n",
       "25%                             5.000000   \n",
       "50%                            11.000000   \n",
       "75%                            22.000000   \n",
       "max                           150.000000   \n",
       "\n",
       "       total_number_of_reviews_reviewer_has_given  reviewer_score  \\\n",
       "count                               360661.000000   360661.000000   \n",
       "mean                                     6.437499        8.443696   \n",
       "std                                      8.041168        1.600957   \n",
       "min                                      1.000000        2.500000   \n",
       "25%                                      1.000000        7.500000   \n",
       "50%                                      3.000000        8.800000   \n",
       "75%                                      8.000000        9.600000   \n",
       "max                                     50.000000       10.000000   \n",
       "\n",
       "                 lat            lng         Nights  ...  Superior Double Room  \\\n",
       "count  360661.000000  360661.000000  360661.000000  ...         360661.000000   \n",
       "mean       49.412109       2.852517       2.335234  ...              0.062078   \n",
       "std         3.497777       4.593787       1.509649  ...              0.241297   \n",
       "min        41.328376      -0.369758       1.000000  ...              0.000000   \n",
       "25%        48.214066      -0.145279       1.000000  ...              0.000000   \n",
       "50%        51.499279       0.038657       2.000000  ...              0.000000   \n",
       "75%        51.516843       4.834443       3.000000  ...              0.000000   \n",
       "max        52.400181      16.429233      10.000000  ...              1.000000   \n",
       "\n",
       "       Standard Double Room    Double Room  Family with young children  \\\n",
       "count         360661.000000  360661.000000               360661.000000   \n",
       "mean               0.060348       0.066117                    0.118019   \n",
       "std                0.238130       0.248488                    0.322632   \n",
       "min                0.000000       0.000000                    0.000000   \n",
       "25%                0.000000       0.000000                    0.000000   \n",
       "50%                0.000000       0.000000                    0.000000   \n",
       "75%                0.000000       0.000000                    0.000000   \n",
       "max                1.000000       1.000000                    1.000000   \n",
       "\n",
       "               Group  Business trip  Solo traveler         Couple  \\\n",
       "count  360661.000000  360661.000000  360661.000000  360661.000000   \n",
       "mean        0.127990       0.156183       0.205470       0.492917   \n",
       "std         0.334079       0.363029       0.404045       0.499951   \n",
       "min         0.000000       0.000000       0.000000       0.000000   \n",
       "25%         0.000000       0.000000       0.000000       0.000000   \n",
       "50%         0.000000       0.000000       0.000000       0.000000   \n",
       "75%         0.000000       0.000000       0.000000       1.000000   \n",
       "max         1.000000       1.000000       1.000000       1.000000   \n",
       "\n",
       "       Submitted from a mobile device   Leisure trip  \n",
       "count                   360661.000000  360661.000000  \n",
       "mean                         0.601446       0.815062  \n",
       "std                          0.489601       0.388248  \n",
       "min                          0.000000       0.000000  \n",
       "25%                          0.000000       1.000000  \n",
       "50%                          1.000000       1.000000  \n",
       "75%                          1.000000       1.000000  \n",
       "max                          1.000000       1.000000  \n",
       "\n",
       "[8 rows x 35 columns]"
      ]
     },
     "execution_count": 40,
     "metadata": {},
     "output_type": "execute_result"
    }
   ],
   "source": [
    "h1.describe()"
   ]
  },
  {
   "cell_type": "code",
   "execution_count": 41,
   "metadata": {},
   "outputs": [],
   "source": [
    "h1 = h1.reindex(index=range(0,h1.shape[0]), method='pad')"
   ]
  },
  {
   "attachments": {},
   "cell_type": "markdown",
   "metadata": {},
   "source": [
    "ПРЕОБРАЗОВАНИЕ ПРИЗНАКОВ"
   ]
  },
  {
   "cell_type": "code",
   "execution_count": 42,
   "metadata": {},
   "outputs": [],
   "source": [
    "from sklearn import preprocessing\n",
    "s_scaler = preprocessing.StandardScaler()"
   ]
  },
  {
   "attachments": {},
   "cell_type": "markdown",
   "metadata": {},
   "source": [
    "Поле average_score распределено более-менее нормально, поэтому для него выполняем стандартитзацию, а не нормализацию"
   ]
  },
  {
   "cell_type": "code",
   "execution_count": 43,
   "metadata": {},
   "outputs": [],
   "source": [
    "as1 = s_scaler.fit_transform( h1[['average_score']] )\n",
    "as1 = pd.DataFrame(as1, columns=['average_score'] )"
   ]
  },
  {
   "cell_type": "code",
   "execution_count": 44,
   "metadata": {},
   "outputs": [],
   "source": [
    "h1 = h1.drop('average_score', axis=1)\n",
    "h1 = pd.concat([h1, as1], axis=1)"
   ]
  },
  {
   "attachments": {},
   "cell_type": "markdown",
   "metadata": {},
   "source": [
    "Для всех прочих числовых (но не бинарных) признаков выполняем нормализацию, причем используем метод RobustScaler, т.к. он менее чувствителен к выбросам"
   ]
  },
  {
   "cell_type": "code",
   "execution_count": 45,
   "metadata": {},
   "outputs": [],
   "source": [
    "r_scaler = preprocessing.RobustScaler()\n",
    "col_names = ['review_total_negative_word_counts','review_total_positive_word_counts', 'total_number_of_reviews_reviewer_has_given','total_number_of_reviews', 'additional_number_of_scoring',\n",
    "        'Nights','month', 'tags_cnt' ]\n",
    "\n",
    "h2 = r_scaler.fit_transform(h1[col_names])\n",
    "\n",
    "# Преобразуем промежуточный датасет в полноценный датафрейм для визуализации\n",
    "h2 = pd.DataFrame(h2, columns=col_names)\n"
   ]
  },
  {
   "cell_type": "code",
   "execution_count": 46,
   "metadata": {},
   "outputs": [],
   "source": [
    "h1 = h1.drop(col_names, axis=1)\n",
    "\n",
    "h1 = pd.concat([h1, h2], axis=1)"
   ]
  },
  {
   "attachments": {},
   "cell_type": "markdown",
   "metadata": {},
   "source": [
    "Смотрим что получилось после преобразования признаков."
   ]
  },
  {
   "cell_type": "code",
   "execution_count": 47,
   "metadata": {},
   "outputs": [
    {
     "data": {
      "image/png": "[encoded data removed]",
      "text/plain": [
       "<Figure size 2000x1100 with 12 Axes>"
      ]
     },
     "metadata": {},
     "output_type": "display_data"
    }
   ],
   "source": [
    "cols = ['average_score','review_total_negative_word_counts','review_total_positive_word_counts', 'total_number_of_reviews_reviewer_has_given','total_number_of_reviews', 'additional_number_of_scoring',\n",
    "        'Nights','month', 'tags_cnt', 'reviewer_score' ]\n",
    "h1[cols].hist(figsize=(20, 11));"
   ]
  },
  {
   "cell_type": "code",
   "execution_count": 48,
   "metadata": {},
   "outputs": [
    {
     "data": {
      "text/html": [
       "<div>\n",
       "<style scoped>\n",
       "    .dataframe tbody tr th:only-of-type {\n",
       "        vertical-align: middle;\n",
       "    }\n",
       "\n",
       "    .dataframe tbody tr th {\n",
       "        vertical-align: top;\n",
       "    }\n",
       "\n",
       "    .dataframe thead th {\n",
       "        text-align: right;\n",
       "    }\n",
       "</style>\n",
       "<table border=\"1\" class=\"dataframe\">\n",
       "  <thead>\n",
       "    <tr style=\"text-align: right;\">\n",
       "      <th></th>\n",
       "      <th>hotel_address</th>\n",
       "      <th>review_date</th>\n",
       "      <th>hotel_name</th>\n",
       "      <th>reviewer_nationality</th>\n",
       "      <th>negative_review</th>\n",
       "      <th>positive_review</th>\n",
       "      <th>reviewer_score</th>\n",
       "      <th>tags</th>\n",
       "      <th>days_since_review</th>\n",
       "      <th>lat</th>\n",
       "      <th>...</th>\n",
       "      <th>Leisure trip</th>\n",
       "      <th>average_score</th>\n",
       "      <th>review_total_negative_word_counts</th>\n",
       "      <th>review_total_positive_word_counts</th>\n",
       "      <th>total_number_of_reviews_reviewer_has_given</th>\n",
       "      <th>total_number_of_reviews</th>\n",
       "      <th>additional_number_of_scoring</th>\n",
       "      <th>Nights</th>\n",
       "      <th>month</th>\n",
       "      <th>tags_cnt</th>\n",
       "    </tr>\n",
       "  </thead>\n",
       "  <tbody>\n",
       "  </tbody>\n",
       "</table>\n",
       "<p>0 rows × 43 columns</p>\n",
       "</div>"
      ],
      "text/plain": [
       "Empty DataFrame\n",
       "Columns: [hotel_address, review_date, hotel_name, reviewer_nationality, negative_review, positive_review, reviewer_score, tags, days_since_review, lat, lng, reviewer_nationality_0, reviewer_nationality_1, reviewer_nationality_2, reviewer_nationality_3, reviewer_nationality_4, reviewer_nationality_5, reviewer_nationality_6, reviewer_nationality_7, Classic Double Room, Standard Double or Twin Room, Double or Twin Room, Deluxe Double Room, Family with older children, Superior Double Room, Standard Double Room, Double Room, Family with young children, Group, Business trip, Solo traveler, Couple, Submitted from a mobile device, Leisure trip, average_score, review_total_negative_word_counts, review_total_positive_word_counts, total_number_of_reviews_reviewer_has_given, total_number_of_reviews, additional_number_of_scoring, Nights, month, tags_cnt]\n",
       "Index: []\n",
       "\n",
       "[0 rows x 43 columns]"
      ]
     },
     "execution_count": 48,
     "metadata": {},
     "output_type": "execute_result"
    }
   ],
   "source": [
    "h1[pd.isna(h1.tags)]"
   ]
  },
  {
   "cell_type": "code",
   "execution_count": 49,
   "metadata": {},
   "outputs": [
    {
     "data": {
      "text/plain": [
       "Index(['hotel_address', 'review_date', 'hotel_name', 'reviewer_nationality',\n",
       "       'negative_review', 'positive_review', 'reviewer_score', 'tags',\n",
       "       'days_since_review', 'lat', 'lng', 'reviewer_nationality_0',\n",
       "       'reviewer_nationality_1', 'reviewer_nationality_2',\n",
       "       'reviewer_nationality_3', 'reviewer_nationality_4',\n",
       "       'reviewer_nationality_5', 'reviewer_nationality_6',\n",
       "       'reviewer_nationality_7', 'Classic Double Room',\n",
       "       'Standard Double or Twin Room', 'Double or Twin Room',\n",
       "       'Deluxe Double Room', 'Family with older children',\n",
       "       'Superior Double Room', 'Standard Double Room', 'Double Room',\n",
       "       'Family with young children', 'Group', 'Business trip', 'Solo traveler',\n",
       "       'Couple', 'Submitted from a mobile device', 'Leisure trip',\n",
       "       'average_score', 'review_total_negative_word_counts',\n",
       "       'review_total_positive_word_counts',\n",
       "       'total_number_of_reviews_reviewer_has_given', 'total_number_of_reviews',\n",
       "       'additional_number_of_scoring', 'Nights', 'month', 'tags_cnt'],\n",
       "      dtype='object')"
      ]
     },
     "execution_count": 49,
     "metadata": {},
     "output_type": "execute_result"
    }
   ],
   "source": [
    "h1.columns"
   ]
  },
  {
   "cell_type": "code",
   "execution_count": 226,
   "metadata": {},
   "outputs": [],
   "source": [
    "#h1[['tags','Solo traveler']]"
   ]
  },
  {
   "attachments": {},
   "cell_type": "markdown",
   "metadata": {},
   "source": [
    "Формируем тепловую карту для выявления мультиколлинеарных признаков"
   ]
  },
  {
   "cell_type": "code",
   "execution_count": 50,
   "metadata": {},
   "outputs": [
    {
     "name": "stderr",
     "output_type": "stream",
     "text": [
      "C:\\Users\\Glavatskih-DE\\AppData\\Local\\Temp\\ipykernel_9276\\2598296963.py:3: FutureWarning: The default value of numeric_only in DataFrame.corr is deprecated. In a future version, it will default to False. Select only valid columns or specify the value of numeric_only to silence this warning.\n",
      "  px.imshow(h1.corr(), text_auto=True, width = 1400, height=1400)  # , aspect=\"auto\"\n"
     ]
    },
    {
     "data": {
      "application/vnd.plotly.v1+json": {
       "config": {
        "plotlyServerURL": "https://plot.ly"
       },
       "data": [
        {
         "coloraxis": "coloraxis",
         "hovertemplate": "x: %{x}<br>y: %{y}<br>color: %{z}<extra></extra>",
         "name": "0",
         "texttemplate": "%{z}",
         "type": "heatmap",
         "x": [
          "reviewer_score",
          "lat",
          "lng",
          "reviewer_nationality_0",
          "reviewer_nationality_1",
          "reviewer_nationality_2",
          "reviewer_nationality_3",
          "reviewer_nationality_4",
          "reviewer_nationality_5",
          "reviewer_nationality_6",
          "reviewer_nationality_7",
          "Classic Double Room",
          "Standard Double or Twin Room",
          "Double or Twin Room",
          "Deluxe Double Room",
          "Family with older children",
          "Superior Double Room",
          "Standard Double Room",
          "Double Room",
          "Family with young children",
          "Group",
          "Business trip",
          "Solo traveler",
          "Couple",
          "Submitted from a mobile device",
          "Leisure trip",
          "average_score",
          "review_total_negative_word_counts",
          "review_total_positive_word_counts",
          "total_number_of_reviews_reviewer_has_given",
          "total_number_of_reviews",
          "additional_number_of_scoring",
          "Nights",
          "month",
          "tags_cnt"
         ],
         "xaxis": "x",
         "y": [
          "reviewer_score",
          "lat",
          "lng",
          "reviewer_nationality_0",
          "reviewer_nationality_1",
          "reviewer_nationality_2",
          "reviewer_nationality_3",
          "reviewer_nationality_4",
          "reviewer_nationality_5",
          "reviewer_nationality_6",
          "reviewer_nationality_7",
          "Classic Double Room",
          "Standard Double or Twin Room",
          "Double or Twin Room",
          "Deluxe Double Room",
          "Family with older children",
          "Superior Double Room",
          "Standard Double Room",
          "Double Room",
          "Family with young children",
          "Group",
          "Business trip",
          "Solo traveler",
          "Couple",
          "Submitted from a mobile device",
          "Leisure trip",
          "average_score",
          "review_total_negative_word_counts",
          "review_total_positive_word_counts",
          "total_number_of_reviews_reviewer_has_given",
          "total_number_of_reviews",
          "additional_number_of_scoring",
          "Nights",
          "month",
          "tags_cnt"
         ],
         "yaxis": "y",
         "z": [
          [
           1,
           -0.03171391793169177,
           0.03196255007132865,
           -0.008219775777015745,
           -0.027458157643803157,
           -0.03658702151848448,
           -0.05431309195578314,
           -0.014026442849696577,
           -0.015472646295454045,
           -0.06381972938005534,
           0.0075793433767034095,
           0.014231792676918788,
           -0.015882435179774987,
           0.0021955934336914213,
           -0.006727244848565173,
           0.005091530188995707,
           0.013213307680950649,
           -0.01746619440038622,
           -0.015908500247655943,
           -0.021296614294899,
           0.009578832747360341,
           -0.10885761255937763,
           -0.07977533779446917,
           0.06910775955080234,
           0.012247555476657514,
           0.11310161087409829,
           0.3533987927470975,
           -0.39570443870444766,
           0.24716877562505513,
           -0.0007291482551298914,
           -0.056559583121306135,
           -0.03180178099403459,
           -0.014413211780581033,
           -0.03344199176824816,
           0.020016310687718017
          ],
          [
           -0.03171391793169177,
           1,
           -0.29066271489268913,
           -0.011712501570130178,
           -0.05725025631606141,
           -0.12231225975906361,
           -0.08972071633548204,
           -0.13697547479737002,
           -0.15132588598098687,
           -0.10237095788328475,
           0.15386964279014803,
           0.00807208378031601,
           0.029628046032812144,
           -0.3634447333025418,
           0.09651159977037141,
           -0.024206689212787843,
           0.04718960849913343,
           0.06164688952167006,
           0.04956701904408153,
           -0.04880284094418464,
           -0.011389582102394607,
           0.03734287935252819,
           0.03531292714599845,
           0.02271976013046557,
           0.02461881864793986,
           -0.043052643595852806,
           -0.09703897686384244,
           0.023643320265655465,
           -0.037168991368027864,
           -0.06715500036616141,
           0.11509045270452165,
           0.37543855830188616,
           -0.19513649428717103,
           -0.027101329128591645,
           0.0166916063082991
          ],
          [
           0.03196255007132865,
           -0.29066271489268913,
           1,
           0.00922127118980199,
           0.1044018500310839,
           0.16635115731676475,
           0.16110348274051178,
           0.19354260692574182,
           0.15490369027804443,
           0.1609748919171755,
           -0.20134143761440704,
           0.024810033610001704,
           0.07345399319284024,
           0.026909483538094015,
           -0.07869539316431035,
           0.0029063116033521976,
           0.00920899441289788,
           0.01184211300552484,
           0.0084696108273842,
           0.027574591814599123,
           0.02226543029723095,
           -0.0007434106267861594,
           -0.011342802276501461,
           -0.026927405750625032,
           -0.059528900421020936,
           0.006171698589163523,
           0.09783161833851076,
           -0.025433647368395918,
           0.035453582866638286,
           0.12099213213296059,
           -0.002831656128228561,
           -0.31639002257645144,
           0.12073321111777689,
           0.024646753318913552,
           -0.051280476530865975
          ],
          [
           -0.008219775777015745,
           -0.011712501570130178,
           0.00922127118980199,
           1,
           0.00950441295814973,
           0.008707064531270051,
           0.032846016221451314,
           0.030975441779504786,
           0.017515441140134584,
           0.039203471417232016,
           -0.020702788016345782,
           -0.0007802376025451733,
           0.0006877259210434893,
           0.0015481685952566532,
           -0.003634315948450067,
           -0.00008663024099852255,
           -0.005848230850458406,
           -0.001960971370683263,
           -0.0009251625262528608,
           0.006839462052376645,
           -0.0015373056451113108,
           0.016334490830138385,
           0.020891313421539756,
           -0.019964899635698943,
           -0.0012409403873726438,
           -0.01926935455025519,
           -0.005232454397100152,
           -0.0082977497703263,
           -0.006613890290179175,
           0.0008826117937548262,
           -0.004090424526364606,
           -0.011447346883498064,
           0.02127771583765993,
           0.0035702258500927768,
           -0.004124129336528289
          ],
          [
           -0.027458157643803157,
           -0.05725025631606141,
           0.1044018500310839,
           0.00950441295814973,
           1,
           -0.03633290645584983,
           0.045703602963499824,
           0.05989157471602678,
           0.05713170819520219,
           0.29232678599360007,
           -0.07359303512597165,
           0.0031432947332259977,
           0.011063222920355791,
           0.011873232861640187,
           -0.01404404260620334,
           0.006338796570932723,
           -0.005884950600603907,
           0.00074899273577005,
           -0.009781024289702706,
           0.03704151935520983,
           -0.002172657426952332,
           0.04945625617907265,
           0.03604611876103788,
           -0.05506561455560793,
           -0.023459327701113378,
           -0.04822366685554415,
           -0.014444405783166492,
           -0.011613098966770836,
           -0.013260176842820418,
           0.04484696321121634,
           -0.004827500785277699,
           -0.054386916255829636,
           0.07555537495316522,
           0.003099048708371684,
           -0.023754135033026973
          ],
          [
           -0.03658702151848448,
           -0.12231225975906361,
           0.16635115731676475,
           0.008707064531270051,
           -0.03633290645584983,
           1,
           0.21525647403153167,
           0.10048799639822581,
           0.28854955972097873,
           0.14784080420995468,
           -0.3321134871410384,
           0.011661256064895046,
           0.00646077992711231,
           0.03438035159192111,
           -0.017305345820109994,
           0.004857572447142205,
           -0.0076214072722920485,
           -0.002587042297199308,
           -0.013759660675189696,
           0.04033419274131716,
           -0.017731223359779565,
           0.027319625992718553,
           0.03219552623568216,
           -0.04330902282455059,
           -0.030489266518670677,
           -0.030370263029055114,
           -0.002802070103710178,
           -0.020159568296695345,
           -0.01947124078762738,
           0.12865435795267985,
           -0.022995346717362176,
           -0.10984684251127222,
           0.1671033850248458,
           0.03339831156506126,
           -0.03265902579948395
          ],
          [
           -0.05431309195578314,
           -0.08972071633548204,
           0.16110348274051178,
           0.032846016221451314,
           0.045703602963499824,
           0.21525647403153167,
           1,
           0.14310118451479562,
           0.21800521501366424,
           0.28012536267127164,
           -0.1822443964046103,
           0.008924088716688301,
           0.01617223729913247,
           0.025860451626476693,
           -0.017375598943926995,
           0.008264182971600363,
           -0.011194700954720796,
           -0.0026368860097727696,
           -0.005386934732436389,
           0.05145438140690245,
           -0.0038884120628302713,
           0.05836840731033582,
           0.05164855926367249,
           -0.07675949832741523,
           -0.051020309902243134,
           -0.06113429344222442,
           -0.025581720614481322,
           -0.0010595361706488894,
           -0.018744406408622086,
           0.11465130476346207,
           0.0018265051963467737,
           -0.084672844895329,
           0.13415649736524088,
           0.009085860149092052,
           -0.05275329494152769
          ],
          [
           -0.014026442849696577,
           -0.13697547479737002,
           0.19354260692574182,
           0.030975441779504786,
           0.05989157471602678,
           0.10048799639822581,
           0.14310118451479562,
           1,
           0.275525619727525,
           0.2906706171341238,
           -0.4353526457517244,
           0.018608212438065902,
           0.009768396863423167,
           0.029670487041963595,
           -0.02351303431505101,
           0.02434155556348603,
           -0.009172078024282687,
           -0.019126004279520867,
           -0.019049471878758113,
           0.05636159782282216,
           -0.010967687349121803,
           0.04859231869459345,
           0.07205818203758188,
           -0.0979745457354858,
           -0.08402199841776042,
           -0.046882516378857896,
           0.03844841140214129,
           -0.003961297515694687,
           0.026559878170370498,
           0.07871508225326532,
           -0.050736682326304516,
           -0.14795678168311902,
           0.19754963803213765,
           0.033417988386619704,
           -0.0802606582472784
          ],
          [
           -0.015472646295454045,
           -0.15132588598098687,
           0.15490369027804443,
           0.017515441140134584,
           0.05713170819520219,
           0.28854955972097873,
           0.21800521501366424,
           0.275525619727525,
           1,
           0.1425156180102842,
           -0.4536747575217865,
           0.024725160964687867,
           0.002247671111835017,
           0.03412432105517471,
           -0.021478266220008778,
           0.024915743042527447,
           -0.008134603414448903,
           -0.018004630359608313,
           -0.02607972093722969,
           0.04980793090440901,
           -0.017888943089249654,
           0.011847666859239337,
           0.06397733027162944,
           -0.08338126278028597,
           -0.031205696649748944,
           -0.011958175677451877,
           0.026103438701237453,
           -0.014697090557281342,
           0.01906680756649784,
           0.09576123704156027,
           -0.047907102556093116,
           -0.14111234145364923,
           0.2057016233733573,
           0.038721545787636556,
           -0.02975105821331487
          ],
          [
           -0.06381972938005534,
           -0.10237095788328475,
           0.1609748919171755,
           0.039203471417232016,
           0.29232678599360007,
           0.14784080420995468,
           0.28012536267127164,
           0.2906706171341238,
           0.1425156180102842,
           1,
           -0.13487670394467532,
           0.012823942253288059,
           0.015399727751116532,
           0.029946220766848122,
           -0.013678300088699866,
           0.007482678625722794,
           -0.00971921113034393,
           -0.0015410102541360262,
           -0.009735626864332545,
           0.05176061904995565,
           -0.003497428524308735,
           0.09869115458742117,
           0.0823633713522101,
           -0.10259481883619265,
           -0.07112937042490203,
           -0.10036924319981196,
           -0.023002567007201196,
           -0.007500199365639597,
           -0.024159231227807457,
           0.14443572626027676,
           -0.015410135238122402,
           -0.10440982635369064,
           0.13410453739851128,
           0.007156537362492566,
           -0.07280825247213248
          ],
          [
           0.0075793433767034095,
           0.15386964279014803,
           -0.20134143761440704,
           -0.020702788016345782,
           -0.07359303512597165,
           -0.3321134871410384,
           -0.1822443964046103,
           -0.4353526457517244,
           -0.4536747575217865,
           -0.13487670394467532,
           1,
           -0.024635664366376996,
           0.0005593280379517157,
           -0.030267970853194097,
           0.0223734702004562,
           -0.02586185686562787,
           0.008490819498491063,
           0.016242656492115114,
           0.02756438128041471,
           -0.06255891997999938,
           0.020519885658747097,
           -0.006571729557799161,
           -0.05681731511292292,
           0.08561095183177132,
           0.03520493882562205,
           0.006605875546687764,
           -0.039547028604809006,
           0.017689283194930898,
           -0.020413366436543016,
           -0.10721030354803002,
           0.0590489172130355,
           0.15798560895518313,
           -0.2437114800430241,
           -0.04587082793459855,
           0.033444450077037016
          ],
          [
           0.014231792676918788,
           0.00807208378031601,
           0.024810033610001704,
           -0.0007802376025451733,
           0.0031432947332259977,
           0.011661256064895046,
           0.008924088716688301,
           0.018608212438065902,
           0.024725160964687867,
           0.012823942253288059,
           -0.024635664366376996,
           1,
           -0.03592621097931373,
           -0.04047582547570409,
           -0.04308350682192983,
           -0.01654266554344667,
           -0.04827397327813855,
           -0.047560686521893276,
           -0.04986588592512591,
           -0.023599481361759905,
           -0.018120148943854584,
           0.003385989698418436,
           0.0007619730782340979,
           0.03408328548606706,
           -0.009804063585046872,
           0.00004381119992407068,
           0.03514059843015618,
           -0.016078311061826618,
           0.007453410648737944,
           0.016399033647778966,
           -0.07477217175824066,
           -0.07761666866802457,
           0.011440521350651149,
           -0.0020157467522616403,
           -0.006644658875943779
          ],
          [
           -0.015882435179774987,
           0.029628046032812144,
           0.07345399319284024,
           0.0006877259210434893,
           0.011063222920355791,
           0.00646077992711231,
           0.01617223729913247,
           0.009768396863423167,
           0.002247671111835017,
           0.015399727751116532,
           0.0005593280379517157,
           -0.03592621097931373,
           1,
           -0.04136880828695897,
           -0.044034020630811146,
           -0.011876608377229071,
           -0.04933899981834419,
           -0.04860997643893491,
           -0.050966033444680967,
           -0.016499242159410538,
           0.028792802745291956,
           -0.008056394160598238,
           -0.012740306387564517,
           0.00628541618249639,
           -0.0015800591532736054,
           0.006900703605800825,
           -0.05172693692870752,
           0.002709022645271413,
           -0.002946669546284779,
           -0.003906619631981632,
           0.10181731587839549,
           0.0277219273082401,
           0.020714447014492536,
           -0.008208065455119292,
           -0.001923820314816522
          ],
          [
           0.0021955934336914213,
           -0.3634447333025418,
           0.026909483538094015,
           0.0015481685952566532,
           0.011873232861640187,
           0.03438035159192111,
           0.025860451626476693,
           0.029670487041963595,
           0.03412432105517471,
           0.029946220766848122,
           -0.030267970853194097,
           -0.04047582547570409,
           -0.04136880828695897,
           1,
           -0.04961038989256519,
           -0.011391188342557425,
           -0.055587179704061795,
           -0.05476583444475324,
           -0.057420257206743736,
           -0.01815005957842746,
           0.01489496032077843,
           -0.015143338194975455,
           -0.010810134786876088,
           0.014096285799492637,
           -0.007055021587415608,
           0.015371243097286295,
           -0.0049956520724646365,
           -0.0063301315768753245,
           0.010706215710580272,
           0.018578078850963624,
           -0.010260324233684438,
           -0.10328388817535418,
           0.06523434275409212,
           0.002914212617826543,
           -0.005820351617267165
          ],
          [
           -0.006727244848565173,
           0.09651159977037141,
           -0.07869539316431035,
           -0.003634315948450067,
           -0.01404404260620334,
           -0.017305345820109994,
           -0.017375598943926995,
           -0.02351303431505101,
           -0.021478266220008778,
           -0.013678300088699866,
           0.0223734702004562,
           -0.04308350682192983,
           -0.044034020630811146,
           -0.04961038989256519,
           1,
           -0.02556447692155158,
           -0.05916841986161137,
           -0.05829415890049177,
           -0.06111959457302904,
           -0.03457812729397543,
           -0.033807190958155486,
           0.01386190299167613,
           0.005778620701845107,
           0.05223516792449693,
           0.005667875173228095,
           -0.014497466138697807,
           -0.019478770858283374,
           0.00830654925373256,
           0.0014004573751347866,
           -0.002007783279996413,
           -0.01002668464682915,
           0.02890359819880678,
           -0.02172241676356957,
           -0.008309201473072764,
           0.004298657350129838
          ],
          [
           0.005091530188995707,
           -0.024206689212787843,
           0.0029063116033521976,
           -0.00008663024099852255,
           0.006338796570932723,
           0.004857572447142205,
           0.008264182971600363,
           0.02434155556348603,
           0.024915743042527447,
           0.007482678625722794,
           -0.02586185686562787,
           -0.01654266554344667,
           -0.011876608377229071,
           -0.011391188342557425,
           -0.02556447692155158,
           1,
           -0.02660152099229496,
           -0.027696809215732726,
           -0.03254173877738547,
           -0.08536426324392297,
           -0.08916936021170489,
           -0.08294487275950953,
           -0.11855366221141561,
           -0.22961965344486548,
           0.002738241047676066,
           0.07415697253717861,
           -0.005576574765502808,
           -0.0036512965254807406,
           0.005330754024035689,
           -0.008428104726900542,
           0.002224144660542476,
           -0.0059185799445739,
           0.04485804464535477,
           0.021547625544561008,
           0.0002707840302642102
          ],
          [
           0.013213307680950649,
           0.04718960849913343,
           0.00920899441289788,
           -0.005848230850458406,
           -0.005884950600603907,
           -0.0076214072722920485,
           -0.011194700954720796,
           -0.009172078024282687,
           -0.008134603414448903,
           -0.00971921113034393,
           0.008490819498491063,
           -0.04827397327813855,
           -0.04933899981834419,
           -0.055587179704061795,
           -0.05916841986161137,
           -0.02660152099229496,
           1,
           -0.06531712194796349,
           -0.06848295073527111,
           -0.0375390401504561,
           -0.030988676549964202,
           0.004693299996003602,
           -0.004182135648460723,
           0.060745154571327835,
           -0.0004878952352203368,
           -0.0031327910955663055,
           0.036952607977692474,
           -0.0033203136162626374,
           0.0032623314504418802,
           0.00877578812042114,
           0.042242753744180316,
           0.036044779716518295,
           -0.01315930882016704,
           0.00017499579515674595,
           0.0005191438355619171
          ],
          [
           -0.01746619440038622,
           0.06164688952167006,
           0.01184211300552484,
           -0.001960971370683263,
           0.00074899273577005,
           -0.002587042297199308,
           -0.0026368860097727696,
           -0.019126004279520867,
           -0.018004630359608313,
           -0.0015410102541360262,
           0.016242656492115114,
           -0.047560686521893276,
           -0.04860997643893491,
           -0.05476583444475324,
           -0.05829415890049177,
           -0.027696809215732726,
           -0.06531712194796349,
           1,
           -0.06747106009377425,
           -0.03946928824897068,
           -0.02557793805901617,
           0.006922062750215275,
           0.005062345368739218,
           0.05140831592575003,
           -0.001402605114358548,
           -0.0068701788435992645,
           -0.058932967693878346,
           0.002511331189791692,
           -0.00908808511664674,
           0.0037027741519425096,
           0.018994378822061942,
           0.03215500441329238,
           -0.027056134824090715,
           -0.00244444596741255,
           -0.0019191121690438676
          ],
          [
           -0.015908500247655943,
           0.04956701904408153,
           0.0084696108273842,
           -0.0009251625262528608,
           -0.009781024289702706,
           -0.013759660675189696,
           -0.005386934732436389,
           -0.019049471878758113,
           -0.02607972093722969,
           -0.009735626864332545,
           0.02756438128041471,
           -0.04986588592512591,
           -0.050966033444680967,
           -0.057420257206743736,
           -0.06111959457302904,
           -0.03254173877738547,
           -0.06848295073527111,
           -0.06747106009377425,
           1,
           -0.04779708356314534,
           -0.03013463498312506,
           0.01794125284002102,
           0.010057966225978479,
           0.05758605960049138,
           -0.012002255237847195,
           -0.018768737372782063,
           -0.042650472675134554,
           0.005044586909183516,
           0.002310299292856045,
           0.01323623074722135,
           -0.04753685365880127,
           -0.04068326657264956,
           -0.043913235041668205,
           -0.003467298969593481,
           -0.012999242211978488
          ],
          [
           -0.021296614294899,
           -0.04880284094418464,
           0.027574591814599123,
           0.006839462052376645,
           0.03704151935520983,
           0.04033419274131716,
           0.05145438140690245,
           0.05636159782282216,
           0.04980793090440901,
           0.05176061904995565,
           -0.06255891997999938,
           -0.023599481361759905,
           -0.016499242159410538,
           -0.01815005957842746,
           -0.03457812729397543,
           -0.08536426324392297,
           -0.0375390401504561,
           -0.03946928824897068,
           -0.04779708356314534,
           1,
           -0.14016006191750913,
           -0.11994266612562916,
           -0.186347514400113,
           -0.3609256000929269,
           0.03559457261378521,
           0.10516002565213915,
           -0.015912801643958693,
           0.006978218735220388,
           -0.0011418638517432952,
           -0.02660690443956431,
           0.0003376443612794516,
           -0.020117166574151208,
           0.07439986024593818,
           -0.010052693065588173,
           0.02879204104057115
          ],
          [
           0.009578832747360341,
           -0.011389582102394607,
           0.02226543029723095,
           -0.0015373056451113108,
           -0.002172657426952332,
           -0.017731223359779565,
           -0.0038884120628302713,
           -0.010967687349121803,
           -0.017888943089249654,
           -0.003497428524308735,
           0.020519885658747097,
           -0.018120148943854584,
           0.028792802745291956,
           0.01489496032077843,
           -0.033807190958155486,
           -0.08916936021170489,
           -0.030988676549964202,
           -0.02557793805901617,
           -0.03013463498312506,
           -0.14016006191750913,
           1,
           -0.05117274622070041,
           -0.194653921965195,
           -0.37701379501570714,
           0.017431315152712873,
           0.05211249833196358,
           -0.03613741431827112,
           -0.003919689516654898,
           -0.00637966945765844,
           -0.03629859615423684,
           0.03621736524244123,
           0.01387812775728939,
           -0.009845832684302168,
           0.0013727991973047297,
           0.019565222320752446
          ],
          [
           -0.10885761255937763,
           0.03734287935252819,
           -0.0007434106267861594,
           0.016334490830138385,
           0.04945625617907265,
           0.027319625992718553,
           0.05836840731033582,
           0.04859231869459345,
           0.011847666859239337,
           0.09869115458742117,
           -0.006571729557799161,
           0.003385989698418436,
           -0.008056394160598238,
           -0.015143338194975455,
           0.01386190299167613,
           -0.08294487275950953,
           0.004693299996003602,
           0.006922062750215275,
           0.01794125284002102,
           -0.11994266612562916,
           -0.05117274622070041,
           1,
           0.5255513763974967,
           -0.2748436702241061,
           -0.14176124965611103,
           -0.9034553563432541,
           -0.06255416866356062,
           0.005807787970496747,
           -0.0785955223253753,
           0.1167310781890662,
           -0.026905664224319174,
           -0.023047380820665212,
           -0.04203988561182377,
           -0.006902724244730228,
           -0.11077086738062866
          ],
          [
           -0.07977533779446917,
           0.03531292714599845,
           -0.011342802276501461,
           0.020891313421539756,
           0.03604611876103788,
           0.03219552623568216,
           0.05164855926367249,
           0.07205818203758188,
           0.06397733027162944,
           0.0823633713522101,
           -0.05681731511292292,
           0.0007619730782340979,
           -0.012740306387564517,
           -0.010810134786876088,
           0.005778620701845107,
           -0.11855366221141561,
           -0.004182135648460723,
           0.005062345368739218,
           0.010057966225978479,
           -0.186347514400113,
           -0.194653921965195,
           0.5255513763974967,
           1,
           -0.5012525154068262,
           -0.10358310497351797,
           -0.5054730210739867,
           -0.07240692824971347,
           0.0036511867550451504,
           -0.0452304645173739,
           0.10382603009634546,
           -0.02660633191197537,
           -0.02687694126490141,
           -0.04403014995367029,
           -0.010361247374952939,
           -0.10911749335289911
          ],
          [
           0.06910775955080234,
           0.02271976013046557,
           -0.026927405750625032,
           -0.019964899635698943,
           -0.05506561455560793,
           -0.04330902282455059,
           -0.07675949832741523,
           -0.0979745457354858,
           -0.08338126278028597,
           -0.10259481883619265,
           0.08561095183177132,
           0.03408328548606706,
           0.00628541618249639,
           0.014096285799492637,
           0.05223516792449693,
           -0.22961965344486548,
           0.060745154571327835,
           0.05140831592575003,
           0.05758605960049138,
           -0.3609256000929269,
           -0.37701379501570714,
           -0.2748436702241061,
           -0.5012525154068262,
           1,
           0.04092551100046098,
           0.27151067714883975,
           0.09630502200777752,
           -0.002680688840604801,
           0.03941928026223998,
           -0.03985774209979944,
           -0.004519346879490702,
           0.029137791188807945,
           -0.026006910401049386,
           0.005109405797279848,
           0.049809040557848905
          ],
          [
           0.012247555476657514,
           0.02461881864793986,
           -0.059528900421020936,
           -0.0012409403873726438,
           -0.023459327701113378,
           -0.030489266518670677,
           -0.051020309902243134,
           -0.08402199841776042,
           -0.031205696649748944,
           -0.07112937042490203,
           0.03520493882562205,
           -0.009804063585046872,
           -0.0015800591532736054,
           -0.007055021587415608,
           0.005667875173228095,
           0.002738241047676066,
           -0.0004878952352203368,
           -0.001402605114358548,
           -0.012002255237847195,
           0.03559457261378521,
           0.017431315152712873,
           -0.14176124965611103,
           -0.10358310497351797,
           0.04092551100046098,
           1,
           0.12712205523554398,
           0.006789832435552023,
           -0.08176607312094628,
           -0.109657585535046,
           -0.13310280351103898,
           0.022635361092626084,
           0.05151469132625183,
           -0.013601939679727258,
           -0.003709817539221863,
           0.9443073005386813
          ],
          [
           0.11310161087409829,
           -0.043052643595852806,
           0.006171698589163523,
           -0.01926935455025519,
           -0.04822366685554415,
           -0.030370263029055114,
           -0.06113429344222442,
           -0.046882516378857896,
           -0.011958175677451877,
           -0.10036924319981196,
           0.006605875546687764,
           0.00004381119992407068,
           0.006900703605800825,
           0.015371243097286295,
           -0.014497466138697807,
           0.07415697253717861,
           -0.0031327910955663055,
           -0.0068701788435992645,
           -0.018768737372782063,
           0.10516002565213915,
           0.05211249833196358,
           -0.9034553563432541,
           -0.5054730210739867,
           0.27151067714883975,
           0.12712205523554398,
           1,
           0.07269209981537177,
           -0.0080188046753782,
           0.08133951551152335,
           -0.10322814559626133,
           0.026238976831912335,
           0.018881691406994423,
           0.04139649245332362,
           0.009033869132244545,
           0.2369594858159075
          ],
          [
           0.3533987927470975,
           -0.09703897686384244,
           0.09783161833851076,
           -0.005232454397100152,
           -0.014444405783166492,
           -0.002802070103710178,
           -0.025581720614481322,
           0.03844841140214129,
           0.026103438701237453,
           -0.023002567007201196,
           -0.039547028604809006,
           0.03514059843015618,
           -0.05172693692870752,
           -0.0049956520724646365,
           -0.019478770858283374,
           -0.005576574765502808,
           0.036952607977692474,
           -0.058932967693878346,
           -0.042650472675134554,
           -0.015912801643958693,
           -0.03613741431827112,
           -0.06255416866356062,
           -0.07240692824971347,
           0.09630502200777752,
           0.006789832435552023,
           0.07269209981537177,
           1,
           -0.12343150028339331,
           0.11083299602356929,
           0.03444642422414844,
           -0.16057764125649596,
           -0.08500818765851004,
           0.008386027285167212,
           -0.01030141798369757,
           0.017027097118908926
          ],
          [
           -0.39570443870444766,
           0.023643320265655465,
           -0.025433647368395918,
           -0.0082977497703263,
           -0.011613098966770836,
           -0.020159568296695345,
           -0.0010595361706488894,
           -0.003961297515694687,
           -0.014697090557281342,
           -0.007500199365639597,
           0.017689283194930898,
           -0.016078311061826618,
           0.002709022645271413,
           -0.0063301315768753245,
           0.00830654925373256,
           -0.0036512965254807406,
           -0.0033203136162626374,
           0.002511331189791692,
           0.005044586909183516,
           0.006978218735220388,
           -0.003919689516654898,
           0.005807787970496747,
           0.0036511867550451504,
           -0.002680688840604801,
           -0.08176607312094628,
           -0.0080188046753782,
           -0.12343150028339331,
           1,
           0.107845448123433,
           0.003709438076566847,
           0.034574487954216325,
           0.030135836950328936,
           0.03742791669435511,
           -0.008951044449377384,
           -0.07947515579975423
          ],
          [
           0.24716877562505513,
           -0.037168991368027864,
           0.035453582866638286,
           -0.006613890290179175,
           -0.013260176842820418,
           -0.01947124078762738,
           -0.018744406408622086,
           0.026559878170370498,
           0.01906680756649784,
           -0.024159231227807457,
           -0.020413366436543016,
           0.007453410648737944,
           -0.002946669546284779,
           0.010706215710580272,
           0.0014004573751347866,
           0.005330754024035689,
           0.0032623314504418802,
           -0.00908808511664674,
           0.002310299292856045,
           -0.0011418638517432952,
           -0.00637966945765844,
           -0.0785955223253753,
           -0.0452304645173739,
           0.03941928026223998,
           -0.109657585535046,
           0.08133951551152335,
           0.11083299602356929,
           0.107845448123433,
           1,
           0.03104429253582177,
           -0.023103283113205378,
           -0.046450408903319106,
           0.054111193301286574,
           -0.027133131254599555,
           -0.09829963166129843
          ],
          [
           -0.0007291482551298914,
           -0.06715500036616141,
           0.12099213213296059,
           0.0008826117937548262,
           0.04484696321121634,
           0.12865435795267985,
           0.11465130476346207,
           0.07871508225326532,
           0.09576123704156027,
           0.14443572626027676,
           -0.10721030354803002,
           0.016399033647778966,
           -0.003906619631981632,
           0.018578078850963624,
           -0.002007783279996413,
           -0.008428104726900542,
           0.00877578812042114,
           0.0037027741519425096,
           0.01323623074722135,
           -0.02660690443956431,
           -0.03629859615423684,
           0.1167310781890662,
           0.10382603009634546,
           -0.03985774209979944,
           -0.13310280351103898,
           -0.10322814559626133,
           0.03444642422414844,
           0.003709438076566847,
           0.03104429253582177,
           1,
           -0.03716580589611764,
           -0.09028379449768581,
           0.005715348281231236,
           0.01561364269251012,
           -0.12107778124139232
          ],
          [
           -0.056559583121306135,
           0.11509045270452165,
           -0.002831656128228561,
           -0.004090424526364606,
           -0.004827500785277699,
           -0.022995346717362176,
           0.0018265051963467737,
           -0.050736682326304516,
           -0.047907102556093116,
           -0.015410135238122402,
           0.0590489172130355,
           -0.07477217175824066,
           0.10181731587839549,
           -0.010260324233684438,
           -0.01002668464682915,
           0.002224144660542476,
           0.042242753744180316,
           0.018994378822061942,
           -0.04753685365880127,
           0.0003376443612794516,
           0.03621736524244123,
           -0.026905664224319174,
           -0.02660633191197537,
           -0.004519346879490702,
           0.022635361092626084,
           0.026238976831912335,
           -0.16057764125649596,
           0.034574487954216325,
           -0.023103283113205378,
           -0.03716580589611764,
           1,
           0.8217391841788125,
           -0.018307093249354287,
           -0.0015962303918078352,
           0.021752374922818438
          ],
          [
           -0.03180178099403459,
           0.37543855830188616,
           -0.31639002257645144,
           -0.011447346883498064,
           -0.054386916255829636,
           -0.10984684251127222,
           -0.084672844895329,
           -0.14795678168311902,
           -0.14111234145364923,
           -0.10440982635369064,
           0.15798560895518313,
           -0.07761666866802457,
           0.0277219273082401,
           -0.10328388817535418,
           0.02890359819880678,
           -0.0059185799445739,
           0.036044779716518295,
           0.03215500441329238,
           -0.04068326657264956,
           -0.020117166574151208,
           0.01387812775728939,
           -0.023047380820665212,
           -0.02687694126490141,
           0.029137791188807945,
           0.05151469132625183,
           0.018881691406994423,
           -0.08500818765851004,
           0.030135836950328936,
           -0.046450408903319106,
           -0.09028379449768581,
           0.8217391841788125,
           1,
           -0.1233012185261439,
           -0.012021386797510837,
           0.045976462509852795
          ],
          [
           -0.014413211780581033,
           -0.19513649428717103,
           0.12073321111777689,
           0.02127771583765993,
           0.07555537495316522,
           0.1671033850248458,
           0.13415649736524088,
           0.19754963803213765,
           0.2057016233733573,
           0.13410453739851128,
           -0.2437114800430241,
           0.011440521350651149,
           0.020714447014492536,
           0.06523434275409212,
           -0.02172241676356957,
           0.04485804464535477,
           -0.01315930882016704,
           -0.027056134824090715,
           -0.043913235041668205,
           0.07439986024593818,
           -0.009845832684302168,
           -0.04203988561182377,
           -0.04403014995367029,
           -0.026006910401049386,
           -0.013601939679727258,
           0.04139649245332362,
           0.008386027285167212,
           0.03742791669435511,
           0.054111193301286574,
           0.005715348281231236,
           -0.018307093249354287,
           -0.1233012185261439,
           1,
           0.022497128947281276,
           -0.011747375000716013
          ],
          [
           -0.03344199176824816,
           -0.027101329128591645,
           0.024646753318913552,
           0.0035702258500927768,
           0.003099048708371684,
           0.03339831156506126,
           0.009085860149092052,
           0.033417988386619704,
           0.038721545787636556,
           0.007156537362492566,
           -0.04587082793459855,
           -0.0020157467522616403,
           -0.008208065455119292,
           0.002914212617826543,
           -0.008309201473072764,
           0.021547625544561008,
           0.00017499579515674595,
           -0.00244444596741255,
           -0.003467298969593481,
           -0.010052693065588173,
           0.0013727991973047297,
           -0.006902724244730228,
           -0.010361247374952939,
           0.005109405797279848,
           -0.003709817539221863,
           0.009033869132244545,
           -0.01030141798369757,
           -0.008951044449377384,
           -0.027133131254599555,
           0.01561364269251012,
           -0.0015962303918078352,
           -0.012021386797510837,
           0.022497128947281276,
           1,
           -0.0014263768563222946
          ],
          [
           0.020016310687718017,
           0.0166916063082991,
           -0.051280476530865975,
           -0.004124129336528289,
           -0.023754135033026973,
           -0.03265902579948395,
           -0.05275329494152769,
           -0.0802606582472784,
           -0.02975105821331487,
           -0.07280825247213248,
           0.033444450077037016,
           -0.006644658875943779,
           -0.001923820314816522,
           -0.005820351617267165,
           0.004298657350129838,
           0.0002707840302642102,
           0.0005191438355619171,
           -0.0019191121690438676,
           -0.012999242211978488,
           0.02879204104057115,
           0.019565222320752446,
           -0.11077086738062866,
           -0.10911749335289911,
           0.049809040557848905,
           0.9443073005386813,
           0.2369594858159075,
           0.017027097118908926,
           -0.07947515579975423,
           -0.09829963166129843,
           -0.12107778124139232,
           0.021752374922818438,
           0.045976462509852795,
           -0.011747375000716013,
           -0.0014263768563222946,
           1
          ]
         ]
        }
       ],
       "layout": {
        "coloraxis": {
         "colorscale": [
          [
           0,
           "#0d0887"
          ],
          [
           0.1111111111111111,
           "#46039f"
          ],
          [
           0.2222222222222222,
           "#7201a8"
          ],
          [
           0.3333333333333333,
           "#9c179e"
          ],
          [
           0.4444444444444444,
           "#bd3786"
          ],
          [
           0.5555555555555556,
           "#d8576b"
          ],
          [
           0.6666666666666666,
           "#ed7953"
          ],
          [
           0.7777777777777778,
           "#fb9f3a"
          ],
          [
           0.8888888888888888,
           "#fdca26"
          ],
          [
           1,
           "#f0f921"
          ]
         ]
        },
        "height": 1400,
        "margin": {
         "t": 60
        },
        "template": {
         "data": {
          "bar": [
           {
            "error_x": {
             "color": "#2a3f5f"
            },
            "error_y": {
             "color": "#2a3f5f"
            },
            "marker": {
             "line": {
              "color": "#E5ECF6",
              "width": 0.5
             },
             "pattern": {
              "fillmode": "overlay",
              "size": 10,
              "solidity": 0.2
             }
            },
            "type": "bar"
           }
          ],
          "barpolar": [
           {
            "marker": {
             "line": {
              "color": "#E5ECF6",
              "width": 0.5
             },
             "pattern": {
              "fillmode": "overlay",
              "size": 10,
              "solidity": 0.2
             }
            },
            "type": "barpolar"
           }
          ],
          "carpet": [
           {
            "aaxis": {
             "endlinecolor": "#2a3f5f",
             "gridcolor": "white",
             "linecolor": "white",
             "minorgridcolor": "white",
             "startlinecolor": "#2a3f5f"
            },
            "baxis": {
             "endlinecolor": "#2a3f5f",
             "gridcolor": "white",
             "linecolor": "white",
             "minorgridcolor": "white",
             "startlinecolor": "#2a3f5f"
            },
            "type": "carpet"
           }
          ],
          "choropleth": [
           {
            "colorbar": {
             "outlinewidth": 0,
             "ticks": ""
            },
            "type": "choropleth"
           }
          ],
          "contour": [
           {
            "colorbar": {
             "outlinewidth": 0,
             "ticks": ""
            },
            "colorscale": [
             [
              0,
              "#0d0887"
             ],
             [
              0.1111111111111111,
              "#46039f"
             ],
             [
              0.2222222222222222,
              "#7201a8"
             ],
             [
              0.3333333333333333,
              "#9c179e"
             ],
             [
              0.4444444444444444,
              "#bd3786"
             ],
             [
              0.5555555555555556,
              "#d8576b"
             ],
             [
              0.6666666666666666,
              "#ed7953"
             ],
             [
              0.7777777777777778,
              "#fb9f3a"
             ],
             [
              0.8888888888888888,
              "#fdca26"
             ],
             [
              1,
              "#f0f921"
             ]
            ],
            "type": "contour"
           }
          ],
          "contourcarpet": [
           {
            "colorbar": {
             "outlinewidth": 0,
             "ticks": ""
            },
            "type": "contourcarpet"
           }
          ],
          "heatmap": [
           {
            "colorbar": {
             "outlinewidth": 0,
             "ticks": ""
            },
            "colorscale": [
             [
              0,
              "#0d0887"
             ],
             [
              0.1111111111111111,
              "#46039f"
             ],
             [
              0.2222222222222222,
              "#7201a8"
             ],
             [
              0.3333333333333333,
              "#9c179e"
             ],
             [
              0.4444444444444444,
              "#bd3786"
             ],
             [
              0.5555555555555556,
              "#d8576b"
             ],
             [
              0.6666666666666666,
              "#ed7953"
             ],
             [
              0.7777777777777778,
              "#fb9f3a"
             ],
             [
              0.8888888888888888,
              "#fdca26"
             ],
             [
              1,
              "#f0f921"
             ]
            ],
            "type": "heatmap"
           }
          ],
          "heatmapgl": [
           {
            "colorbar": {
             "outlinewidth": 0,
             "ticks": ""
            },
            "colorscale": [
             [
              0,
              "#0d0887"
             ],
             [
              0.1111111111111111,
              "#46039f"
             ],
             [
              0.2222222222222222,
              "#7201a8"
             ],
             [
              0.3333333333333333,
              "#9c179e"
             ],
             [
              0.4444444444444444,
              "#bd3786"
             ],
             [
              0.5555555555555556,
              "#d8576b"
             ],
             [
              0.6666666666666666,
              "#ed7953"
             ],
             [
              0.7777777777777778,
              "#fb9f3a"
             ],
             [
              0.8888888888888888,
              "#fdca26"
             ],
             [
              1,
              "#f0f921"
             ]
            ],
            "type": "heatmapgl"
           }
          ],
          "histogram": [
           {
            "marker": {
             "pattern": {
              "fillmode": "overlay",
              "size": 10,
              "solidity": 0.2
             }
            },
            "type": "histogram"
           }
          ],
          "histogram2d": [
           {
            "colorbar": {
             "outlinewidth": 0,
             "ticks": ""
            },
            "colorscale": [
             [
              0,
              "#0d0887"
             ],
             [
              0.1111111111111111,
              "#46039f"
             ],
             [
              0.2222222222222222,
              "#7201a8"
             ],
             [
              0.3333333333333333,
              "#9c179e"
             ],
             [
              0.4444444444444444,
              "#bd3786"
             ],
             [
              0.5555555555555556,
              "#d8576b"
             ],
             [
              0.6666666666666666,
              "#ed7953"
             ],
             [
              0.7777777777777778,
              "#fb9f3a"
             ],
             [
              0.8888888888888888,
              "#fdca26"
             ],
             [
              1,
              "#f0f921"
             ]
            ],
            "type": "histogram2d"
           }
          ],
          "histogram2dcontour": [
           {
            "colorbar": {
             "outlinewidth": 0,
             "ticks": ""
            },
            "colorscale": [
             [
              0,
              "#0d0887"
             ],
             [
              0.1111111111111111,
              "#46039f"
             ],
             [
              0.2222222222222222,
              "#7201a8"
             ],
             [
              0.3333333333333333,
              "#9c179e"
             ],
             [
              0.4444444444444444,
              "#bd3786"
             ],
             [
              0.5555555555555556,
              "#d8576b"
             ],
             [
              0.6666666666666666,
              "#ed7953"
             ],
             [
              0.7777777777777778,
              "#fb9f3a"
             ],
             [
              0.8888888888888888,
              "#fdca26"
             ],
             [
              1,
              "#f0f921"
             ]
            ],
            "type": "histogram2dcontour"
           }
          ],
          "mesh3d": [
           {
            "colorbar": {
             "outlinewidth": 0,
             "ticks": ""
            },
            "type": "mesh3d"
           }
          ],
          "parcoords": [
           {
            "line": {
             "colorbar": {
              "outlinewidth": 0,
              "ticks": ""
             }
            },
            "type": "parcoords"
           }
          ],
          "pie": [
           {
            "automargin": true,
            "type": "pie"
           }
          ],
          "scatter": [
           {
            "fillpattern": {
             "fillmode": "overlay",
             "size": 10,
             "solidity": 0.2
            },
            "type": "scatter"
           }
          ],
          "scatter3d": [
           {
            "line": {
             "colorbar": {
              "outlinewidth": 0,
              "ticks": ""
             }
            },
            "marker": {
             "colorbar": {
              "outlinewidth": 0,
              "ticks": ""
             }
            },
            "type": "scatter3d"
           }
          ],
          "scattercarpet": [
           {
            "marker": {
             "colorbar": {
              "outlinewidth": 0,
              "ticks": ""
             }
            },
            "type": "scattercarpet"
           }
          ],
          "scattergeo": [
           {
            "marker": {
             "colorbar": {
              "outlinewidth": 0,
              "ticks": ""
             }
            },
            "type": "scattergeo"
           }
          ],
          "scattergl": [
           {
            "marker": {
             "colorbar": {
              "outlinewidth": 0,
              "ticks": ""
             }
            },
            "type": "scattergl"
           }
          ],
          "scattermapbox": [
           {
            "marker": {
             "colorbar": {
              "outlinewidth": 0,
              "ticks": ""
             }
            },
            "type": "scattermapbox"
           }
          ],
          "scatterpolar": [
           {
            "marker": {
             "colorbar": {
              "outlinewidth": 0,
              "ticks": ""
             }
            },
            "type": "scatterpolar"
           }
          ],
          "scatterpolargl": [
           {
            "marker": {
             "colorbar": {
              "outlinewidth": 0,
              "ticks": ""
             }
            },
            "type": "scatterpolargl"
           }
          ],
          "scatterternary": [
           {
            "marker": {
             "colorbar": {
              "outlinewidth": 0,
              "ticks": ""
             }
            },
            "type": "scatterternary"
           }
          ],
          "surface": [
           {
            "colorbar": {
             "outlinewidth": 0,
             "ticks": ""
            },
            "colorscale": [
             [
              0,
              "#0d0887"
             ],
             [
              0.1111111111111111,
              "#46039f"
             ],
             [
              0.2222222222222222,
              "#7201a8"
             ],
             [
              0.3333333333333333,
              "#9c179e"
             ],
             [
              0.4444444444444444,
              "#bd3786"
             ],
             [
              0.5555555555555556,
              "#d8576b"
             ],
             [
              0.6666666666666666,
              "#ed7953"
             ],
             [
              0.7777777777777778,
              "#fb9f3a"
             ],
             [
              0.8888888888888888,
              "#fdca26"
             ],
             [
              1,
              "#f0f921"
             ]
            ],
            "type": "surface"
           }
          ],
          "table": [
           {
            "cells": {
             "fill": {
              "color": "#EBF0F8"
             },
             "line": {
              "color": "white"
             }
            },
            "header": {
             "fill": {
              "color": "#C8D4E3"
             },
             "line": {
              "color": "white"
             }
            },
            "type": "table"
           }
          ]
         },
         "layout": {
          "annotationdefaults": {
           "arrowcolor": "#2a3f5f",
           "arrowhead": 0,
           "arrowwidth": 1
          },
          "autotypenumbers": "strict",
          "coloraxis": {
           "colorbar": {
            "outlinewidth": 0,
            "ticks": ""
           }
          },
          "colorscale": {
           "diverging": [
            [
             0,
             "#8e0152"
            ],
            [
             0.1,
             "#c51b7d"
            ],
            [
             0.2,
             "#de77ae"
            ],
            [
             0.3,
             "#f1b6da"
            ],
            [
             0.4,
             "#fde0ef"
            ],
            [
             0.5,
             "#f7f7f7"
            ],
            [
             0.6,
             "#e6f5d0"
            ],
            [
             0.7,
             "#b8e186"
            ],
            [
             0.8,
             "#7fbc41"
            ],
            [
             0.9,
             "#4d9221"
            ],
            [
             1,
             "#276419"
            ]
           ],
           "sequential": [
            [
             0,
             "#0d0887"
            ],
            [
             0.1111111111111111,
             "#46039f"
            ],
            [
             0.2222222222222222,
             "#7201a8"
            ],
            [
             0.3333333333333333,
             "#9c179e"
            ],
            [
             0.4444444444444444,
             "#bd3786"
            ],
            [
             0.5555555555555556,
             "#d8576b"
            ],
            [
             0.6666666666666666,
             "#ed7953"
            ],
            [
             0.7777777777777778,
             "#fb9f3a"
            ],
            [
             0.8888888888888888,
             "#fdca26"
            ],
            [
             1,
             "#f0f921"
            ]
           ],
           "sequentialminus": [
            [
             0,
             "#0d0887"
            ],
            [
             0.1111111111111111,
             "#46039f"
            ],
            [
             0.2222222222222222,
             "#7201a8"
            ],
            [
             0.3333333333333333,
             "#9c179e"
            ],
            [
             0.4444444444444444,
             "#bd3786"
            ],
            [
             0.5555555555555556,
             "#d8576b"
            ],
            [
             0.6666666666666666,
             "#ed7953"
            ],
            [
             0.7777777777777778,
             "#fb9f3a"
            ],
            [
             0.8888888888888888,
             "#fdca26"
            ],
            [
             1,
             "#f0f921"
            ]
           ]
          },
          "colorway": [
           "#636efa",
           "#EF553B",
           "#00cc96",
           "#ab63fa",
           "#FFA15A",
           "#19d3f3",
           "#FF6692",
           "#B6E880",
           "#FF97FF",
           "#FECB52"
          ],
          "font": {
           "color": "#2a3f5f"
          },
          "geo": {
           "bgcolor": "white",
           "lakecolor": "white",
           "landcolor": "#E5ECF6",
           "showlakes": true,
           "showland": true,
           "subunitcolor": "white"
          },
          "hoverlabel": {
           "align": "left"
          },
          "hovermode": "closest",
          "mapbox": {
           "style": "light"
          },
          "paper_bgcolor": "white",
          "plot_bgcolor": "#E5ECF6",
          "polar": {
           "angularaxis": {
            "gridcolor": "white",
            "linecolor": "white",
            "ticks": ""
           },
           "bgcolor": "#E5ECF6",
           "radialaxis": {
            "gridcolor": "white",
            "linecolor": "white",
            "ticks": ""
           }
          },
          "scene": {
           "xaxis": {
            "backgroundcolor": "#E5ECF6",
            "gridcolor": "white",
            "gridwidth": 2,
            "linecolor": "white",
            "showbackground": true,
            "ticks": "",
            "zerolinecolor": "white"
           },
           "yaxis": {
            "backgroundcolor": "#E5ECF6",
            "gridcolor": "white",
            "gridwidth": 2,
            "linecolor": "white",
            "showbackground": true,
            "ticks": "",
            "zerolinecolor": "white"
           },
           "zaxis": {
            "backgroundcolor": "#E5ECF6",
            "gridcolor": "white",
            "gridwidth": 2,
            "linecolor": "white",
            "showbackground": true,
            "ticks": "",
            "zerolinecolor": "white"
           }
          },
          "shapedefaults": {
           "line": {
            "color": "#2a3f5f"
           }
          },
          "ternary": {
           "aaxis": {
            "gridcolor": "white",
            "linecolor": "white",
            "ticks": ""
           },
           "baxis": {
            "gridcolor": "white",
            "linecolor": "white",
            "ticks": ""
           },
           "bgcolor": "#E5ECF6",
           "caxis": {
            "gridcolor": "white",
            "linecolor": "white",
            "ticks": ""
           }
          },
          "title": {
           "x": 0.05
          },
          "xaxis": {
           "automargin": true,
           "gridcolor": "white",
           "linecolor": "white",
           "ticks": "",
           "title": {
            "standoff": 15
           },
           "zerolinecolor": "white",
           "zerolinewidth": 2
          },
          "yaxis": {
           "automargin": true,
           "gridcolor": "white",
           "linecolor": "white",
           "ticks": "",
           "title": {
            "standoff": 15
           },
           "zerolinecolor": "white",
           "zerolinewidth": 2
          }
         }
        },
        "width": 1400,
        "xaxis": {
         "anchor": "y",
         "constrain": "domain",
         "domain": [
          0,
          1
         ],
         "scaleanchor": "y"
        },
        "yaxis": {
         "anchor": "x",
         "autorange": "reversed",
         "constrain": "domain",
         "domain": [
          0,
          1
         ]
        }
       }
      }
     },
     "metadata": {},
     "output_type": "display_data"
    }
   ],
   "source": [
    "import plotly.express as px\n",
    "\n",
    "px.imshow(h1.corr(), text_auto=True, width = 1400, height=1400)  # , aspect=\"auto\"\n",
    "\n",
    "#import seaborn as sns\n",
    "#sns.heatmap(h1.corr(), annot = False)"
   ]
  },
  {
   "attachments": {},
   "cell_type": "markdown",
   "metadata": {},
   "source": [
    "Очевидно есть только две пары сильно коррелирующих признаков - Business trip + Leisure trip (коэф.кор.~-0.9) и tags_cnt + Submitted from a mobile device ((коэф.кор.~0.94))\n",
    "По одному признаку из каждой пары имеет смысл удалить, но какие именно - выясним дальше когда сравним их значимость"
   ]
  },
  {
   "cell_type": "code",
   "execution_count": 51,
   "metadata": {},
   "outputs": [],
   "source": [
    "# непрерывные признаки\n",
    "num_cols = ['average_score','review_total_negative_word_counts','review_total_positive_word_counts', 'total_number_of_reviews_reviewer_has_given','total_number_of_reviews', 'additional_number_of_scoring',\n",
    "        'Nights','month', 'tags_cnt', 'lat', 'lng' ]   # , 'reviewer_score'\n",
    "# категориальные и бинарные признаки \n",
    "cat_cols = ['Classic Double Room', 'Standard Double or Twin Room',\n",
    "       'Double or Twin Room', 'Deluxe Double Room',\n",
    "       'Family with older children', 'Standard Double Room',\n",
    "       'Superior Double Room', 'Double Room', 'Family with young children',\n",
    "       'Group', 'Business trip', 'Solo traveler', 'Couple',\n",
    "       'Submitted from a mobile device', 'Leisure trip', 'reviewer_nationality_0',\n",
    "       'reviewer_nationality_1', 'reviewer_nationality_2',\n",
    "       'reviewer_nationality_3', 'reviewer_nationality_4',\n",
    "       'reviewer_nationality_5', 'reviewer_nationality_6',\n",
    "       'reviewer_nationality_7' ]"
   ]
  },
  {
   "cell_type": "code",
   "execution_count": 52,
   "metadata": {},
   "outputs": [],
   "source": [
    "# Разбиваем датафрейм на части, необходимые для обучения и тестирования модели  \n",
    "# Х - данные с информацией об отелях, у - целевая переменная (рейтинги отелей)  \n",
    "X = h1.drop(['reviewer_score'], axis = 1)  \n",
    "y = h1['reviewer_score'] "
   ]
  },
  {
   "attachments": {},
   "cell_type": "markdown",
   "metadata": {},
   "source": [
    "Для оценки значимость категориальных и бинарных признаков используем метод хи-квадрат"
   ]
  },
  {
   "cell_type": "code",
   "execution_count": 53,
   "metadata": {},
   "outputs": [
    {
     "data": {
      "text/plain": [
       "<AxesSubplot: >"
      ]
     },
     "execution_count": 53,
     "metadata": {},
     "output_type": "execute_result"
    },
    {
     "data": {
      "image/png": "[encoded data removed]",
      "text/plain": [
       "<Figure size 640x480 with 1 Axes>"
      ]
     },
     "metadata": {},
     "output_type": "display_data"
    }
   ],
   "source": [
    "y=y.astype('int')\n",
    "from sklearn.feature_selection import chi2 # хи-квадрат\n",
    "\n",
    "imp_cat = pd.Series(chi2(X[cat_cols], y)[0], index=cat_cols)\n",
    "imp_cat.sort_values(inplace = True)\n",
    "imp_cat.plot(kind = 'barh')"
   ]
  },
  {
   "attachments": {},
   "cell_type": "markdown",
   "metadata": {},
   "source": [
    "Удаляем признаки со значимостью менее 200"
   ]
  },
  {
   "cell_type": "code",
   "execution_count": 55,
   "metadata": {},
   "outputs": [],
   "source": [
    "h1.drop(imp_cat[imp_cat < 200].index, axis=1, inplace=True)"
   ]
  },
  {
   "attachments": {},
   "cell_type": "markdown",
   "metadata": {},
   "source": [
    "Удаляем признак Leisure trip т.к. он менее значим, чем Business trip и сильно с ним коррелирует."
   ]
  },
  {
   "cell_type": "code",
   "execution_count": 56,
   "metadata": {},
   "outputs": [],
   "source": [
    "h1.drop(['Leisure trip'], axis=1, inplace=True)"
   ]
  },
  {
   "attachments": {},
   "cell_type": "markdown",
   "metadata": {},
   "source": [
    "Для оценки значимость непрерывных признаков используем тест ANOVA"
   ]
  },
  {
   "cell_type": "code",
   "execution_count": 57,
   "metadata": {},
   "outputs": [
    {
     "data": {
      "text/plain": [
       "<AxesSubplot: >"
      ]
     },
     "execution_count": 57,
     "metadata": {},
     "output_type": "execute_result"
    },
    {
     "data": {
      "image/png": "[encoded data removed]",
      "text/plain": [
       "<Figure size 640x480 with 1 Axes>"
      ]
     },
     "metadata": {},
     "output_type": "display_data"
    }
   ],
   "source": [
    "from sklearn.feature_selection import f_classif # anova\n",
    "\n",
    "imp_num = pd.Series(f_classif(X[num_cols], y)[0], index = num_cols)\n",
    "imp_num.sort_values(inplace = True)\n",
    "imp_num.plot(kind = 'barh')"
   ]
  },
  {
   "cell_type": "code",
   "execution_count": 58,
   "metadata": {},
   "outputs": [
    {
     "data": {
      "text/plain": [
       "month                                           52.415426\n",
       "Nights                                          54.754426\n",
       "lat                                             54.976104\n",
       "additional_number_of_scoring                    75.035894\n",
       "lng                                             80.127997\n",
       "total_number_of_reviews                        167.933559\n",
       "tags_cnt                                       172.085083\n",
       "total_number_of_reviews_reviewer_has_given     275.957418\n",
       "review_total_positive_word_counts             3009.314375\n",
       "average_score                                 6717.495961\n",
       "review_total_negative_word_counts             8642.348293\n",
       "dtype: float64"
      ]
     },
     "execution_count": 58,
     "metadata": {},
     "output_type": "execute_result"
    }
   ],
   "source": [
    "imp_num"
   ]
  },
  {
   "attachments": {},
   "cell_type": "markdown",
   "metadata": {},
   "source": [
    "Удаляем признаки со значимостью менее 200"
   ]
  },
  {
   "cell_type": "code",
   "execution_count": 59,
   "metadata": {},
   "outputs": [],
   "source": [
    "h1.drop(imp_num[imp_num < 200].index, axis=1, inplace=True)\n",
    "#imp_num[imp_num < 200].index"
   ]
  },
  {
   "attachments": {},
   "cell_type": "markdown",
   "metadata": {},
   "source": [
    "Удаляем из набора данных все объектные типы и дату"
   ]
  },
  {
   "cell_type": "code",
   "execution_count": 60,
   "metadata": {},
   "outputs": [],
   "source": [
    "object_columns = [s for s in h1.columns if h1[s].dtypes in ['object','datetime64[ns]'] ]\n",
    "h1.drop(object_columns, axis = 1, inplace=True)\n",
    "#h1.info()\n",
    "#object_columns"
   ]
  },
  {
   "cell_type": "code",
   "execution_count": 61,
   "metadata": {},
   "outputs": [],
   "source": [
    "X = h1.drop(['reviewer_score'], axis = 1)  \n",
    "y = h1['reviewer_score'] "
   ]
  },
  {
   "cell_type": "code",
   "execution_count": 62,
   "metadata": {},
   "outputs": [],
   "source": [
    "# Загружаем специальный инструмент для разбивки:  \n",
    "from sklearn.model_selection import train_test_split  "
   ]
  },
  {
   "cell_type": "code",
   "execution_count": 63,
   "metadata": {},
   "outputs": [],
   "source": [
    "# Наборы данных с меткой \"train\" будут использоваться для обучения модели, \"test\" - для тестирования.  \n",
    "# Для тестирования мы будем использовать 25% от исходного датасета.  \n",
    "X_train, X_test, y_train, y_test = train_test_split(X, y, test_size=0.25, random_state=42)"
   ]
  },
  {
   "cell_type": "code",
   "execution_count": 64,
   "metadata": {},
   "outputs": [],
   "source": [
    "# Импортируем необходимые библиотеки:  \n",
    "from sklearn.ensemble import RandomForestRegressor # инструмент для создания и обучения модели  \n",
    "from sklearn import metrics # инструменты для оценки точности модели  \n",
    "  \n",
    "# Создаём модель  \n",
    "regr = RandomForestRegressor(n_estimators=100)  \n",
    "      \n",
    "# Обучаем модель на тестовом наборе данных  \n",
    "regr.fit(X_train, y_train)  \n",
    "      \n",
    "# Используем обученную модель для предсказания рейтинга отелей в тестовой выборке.  \n",
    "# Предсказанные значения записываем в переменную y_pred  \n",
    "y_pred = regr.predict(X_test)  \n"
   ]
  },
  {
   "cell_type": "code",
   "execution_count": 65,
   "metadata": {},
   "outputs": [
    {
     "name": "stdout",
     "output_type": "stream",
     "text": [
      "MAPE: 0.1302311377509378\n"
     ]
    }
   ],
   "source": [
    "# Сравниваем предсказанные значения (y_pred) с реальными (y_test), и смотрим насколько они отличаются  \n",
    "# Метрика называется Mean Absolute Percentage Error (MAPE) и показывает среднюю абсолютную процентную ошибку предсказанных значений от фактических.  \n",
    "print('MAPE:', metrics.mean_absolute_percentage_error(y_test, y_pred))"
   ]
  }
 ],
 "metadata": {
  "kernelspec": {
   "display_name": "Python 3",
   "language": "python",
   "name": "python3"
  },
  "language_info": {
   "codemirror_mode": {
    "name": "ipython",
    "version": 3
   },
   "file_extension": ".py",
   "mimetype": "text/x-python",
   "name": "python",
   "nbconvert_exporter": "python",
   "pygments_lexer": "ipython3",
   "version": "3.10.9"
  },
  "vscode": {
   "interpreter": {
    "hash": "544ef55cbae247fe215e64f9cfe0f4708a4e9722047e80ed7391f05f82c111df"
   }
  }
 },
 "nbformat": 4,
 "nbformat_minor": 2
}
